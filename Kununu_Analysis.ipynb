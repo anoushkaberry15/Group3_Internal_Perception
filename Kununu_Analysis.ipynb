{
 "cells": [
  {
   "cell_type": "code",
   "execution_count": 1,
   "metadata": {},
   "outputs": [],
   "source": [
    "#pip install wordcloud"
   ]
  },
  {
   "cell_type": "code",
   "execution_count": 2,
   "metadata": {},
   "outputs": [],
   "source": [
    "import pandas as pd\n",
    "import numpy as np\n",
    "from textblob import TextBlob\n",
    "import plotly.express as px\n",
    "import plotly.graph_objects as go\n",
    "from wordcloud import WordCloud\n",
    "import matplotlib.pyplot as plt"
   ]
  },
  {
   "cell_type": "markdown",
   "metadata": {},
   "source": [
    "# Kununu Data\n",
    "\n",
    "**Content of the File:**\n",
    "Analysing kununu values of all completed responses of current employeesat Hugo Boss or any of its affiliates.\n",
    "\n",
    "**Description of the data:**\n",
    "The dataset contains user-generated reviews related to HUGO BOSS from the website Kununu, which is a platform for employer reviews and workplace insights. Each row is a single user review containing the responses and characteristics of the user.\n",
    "\n"
   ]
  },
  {
   "cell_type": "markdown",
   "metadata": {},
   "source": [
    "### Load and Preprocess the Data"
   ]
  },
  {
   "cell_type": "code",
   "execution_count": 3,
   "metadata": {},
   "outputs": [
    {
     "data": {
      "text/html": [
       "<div>\n",
       "<style scoped>\n",
       "    .dataframe tbody tr th:only-of-type {\n",
       "        vertical-align: middle;\n",
       "    }\n",
       "\n",
       "    .dataframe tbody tr th {\n",
       "        vertical-align: top;\n",
       "    }\n",
       "\n",
       "    .dataframe thead th {\n",
       "        text-align: right;\n",
       "    }\n",
       "</style>\n",
       "<table border=\"1\" class=\"dataframe\">\n",
       "  <thead>\n",
       "    <tr style=\"text-align: right;\">\n",
       "      <th></th>\n",
       "      <th>user_uuid</th>\n",
       "      <th>company_name</th>\n",
       "      <th>profile_uuid</th>\n",
       "      <th>profile_name</th>\n",
       "      <th>profile_city</th>\n",
       "      <th>profile_industry_name_en</th>\n",
       "      <th>company_uuid</th>\n",
       "      <th>company_city</th>\n",
       "      <th>company_industry_name</th>\n",
       "      <th>review_created_at</th>\n",
       "      <th>...</th>\n",
       "      <th>meals</th>\n",
       "      <th>pension_plan</th>\n",
       "      <th>clothes</th>\n",
       "      <th>daycare</th>\n",
       "      <th>reachability</th>\n",
       "      <th>coaching</th>\n",
       "      <th>feedback_suggestion_text</th>\n",
       "      <th>feedback_positive_text</th>\n",
       "      <th>feedback_negative_text</th>\n",
       "      <th>profile_url</th>\n",
       "    </tr>\n",
       "  </thead>\n",
       "  <tbody>\n",
       "    <tr>\n",
       "      <th>0</th>\n",
       "      <td>f3521258-c82f-45a3-816b-644c9b4e56db</td>\n",
       "      <td>Schüco International KG</td>\n",
       "      <td>3b42dda1-4273-4170-ac6e-1d0de2f61986</td>\n",
       "      <td>Schüco International KG</td>\n",
       "      <td>Bielefeld</td>\n",
       "      <td>Construction &amp; Architecture</td>\n",
       "      <td>7a996ddb-0ad7-4b6c-953a-d1f782a1b451</td>\n",
       "      <td>Weißenfels</td>\n",
       "      <td>Retail &amp; Consumer Goods</td>\n",
       "      <td>2023-11-15 15:46:00 UTC</td>\n",
       "      <td>...</td>\n",
       "      <td>True</td>\n",
       "      <td>True</td>\n",
       "      <td>NaN</td>\n",
       "      <td>NaN</td>\n",
       "      <td>NaN</td>\n",
       "      <td>True</td>\n",
       "      <td>NaN</td>\n",
       "      <td>NaN</td>\n",
       "      <td>NaN</td>\n",
       "      <td>https://www.kununu.com/de/schueco-international</td>\n",
       "    </tr>\n",
       "    <tr>\n",
       "      <th>1</th>\n",
       "      <td>37599113-66f5-496f-842c-708991c503ef</td>\n",
       "      <td>iSi Automotive Austria GmbH</td>\n",
       "      <td>08a13af9-32f2-4200-a0f3-c6e086f3bbb4</td>\n",
       "      <td>iSi Automotive Austria GmbH</td>\n",
       "      <td>Wien</td>\n",
       "      <td>Manufacturing</td>\n",
       "      <td>946e5a83-a152-413e-8d94-ff42147feb34</td>\n",
       "      <td>Vienna</td>\n",
       "      <td>Manufacturing</td>\n",
       "      <td>2018-04-12 08:24:35 UTC</td>\n",
       "      <td>...</td>\n",
       "      <td>NaN</td>\n",
       "      <td>NaN</td>\n",
       "      <td>NaN</td>\n",
       "      <td>NaN</td>\n",
       "      <td>True</td>\n",
       "      <td>NaN</td>\n",
       "      <td>NaN</td>\n",
       "      <td>NaN</td>\n",
       "      <td>NaN</td>\n",
       "      <td>https://www.kununu.com/at/isi-automotive</td>\n",
       "    </tr>\n",
       "    <tr>\n",
       "      <th>2</th>\n",
       "      <td>62fa8e9f-d77c-4fe3-abe2-7732ae73de67</td>\n",
       "      <td>Heinrich Huhn GmbH &amp; Co. KG</td>\n",
       "      <td>df80615f-4272-458a-9dfc-6409feec335a</td>\n",
       "      <td>Heinrich Huhn GmbH &amp; Co. KG</td>\n",
       "      <td>Drolshagen</td>\n",
       "      <td>Manufacturing</td>\n",
       "      <td>9bf9ef63-e14c-4aec-9f59-9e822bc4074b</td>\n",
       "      <td>Drolshagen</td>\n",
       "      <td>Manufacturing</td>\n",
       "      <td>2019-11-07 10:23:12 UTC</td>\n",
       "      <td>...</td>\n",
       "      <td>NaN</td>\n",
       "      <td>NaN</td>\n",
       "      <td>NaN</td>\n",
       "      <td>NaN</td>\n",
       "      <td>True</td>\n",
       "      <td>NaN</td>\n",
       "      <td>Er sollte endlich mal mit dem Gejammer aufhöre...</td>\n",
       "      <td>Keine!</td>\n",
       "      <td>Wochenendarbeit, immer wieder wechselnde Schic...</td>\n",
       "      <td>https://www.kununu.com/de/heinrich-huhn</td>\n",
       "    </tr>\n",
       "    <tr>\n",
       "      <th>3</th>\n",
       "      <td>3755ac75-c33f-4a12-a7cf-c9ba04577f24</td>\n",
       "      <td>Komatsu Mining Germany GmbH</td>\n",
       "      <td>131ecf5e-1435-4c21-97bb-c6e1f4bdba9e</td>\n",
       "      <td>Komatsu Mining Germany GmbH, Düsseldorf</td>\n",
       "      <td>Leverkusen</td>\n",
       "      <td>Mechanical &amp; Industrial Engineering</td>\n",
       "      <td>9448ed39-9ffe-4fd7-b783-c773314bb37f</td>\n",
       "      <td>Düsseldorf</td>\n",
       "      <td>Manufacturing</td>\n",
       "      <td>2020-04-20 14:25:08 UTC</td>\n",
       "      <td>...</td>\n",
       "      <td>NaN</td>\n",
       "      <td>NaN</td>\n",
       "      <td>NaN</td>\n",
       "      <td>NaN</td>\n",
       "      <td>NaN</td>\n",
       "      <td>NaN</td>\n",
       "      <td>Wen sie überhaupt was machen würden .da reicht...</td>\n",
       "      <td>Für nix machen ja nic</td>\n",
       "      <td>Zur Zeit alles falsch trotz vieler alten Kolle...</td>\n",
       "      <td>https://www.kununu.com/de/komatsu-mining-germa...</td>\n",
       "    </tr>\n",
       "    <tr>\n",
       "      <th>4</th>\n",
       "      <td>1e66365d-51ff-4735-b428-4b092f31cf83</td>\n",
       "      <td>Gabler Werbeagentur GmbH</td>\n",
       "      <td>c7e107e6-10f0-47b3-9092-3d740a92b011</td>\n",
       "      <td>Gabler Werbeagentur GmbH</td>\n",
       "      <td>Stuttgart</td>\n",
       "      <td>Marketing, Advertising &amp; PR</td>\n",
       "      <td>4e057fb8-ef91-4204-bc84-a88e4fb18d4e</td>\n",
       "      <td>Stuttgart</td>\n",
       "      <td>Marketing, Advertising &amp; PR</td>\n",
       "      <td>2020-10-02 09:52:52 UTC</td>\n",
       "      <td>...</td>\n",
       "      <td>NaN</td>\n",
       "      <td>NaN</td>\n",
       "      <td>NaN</td>\n",
       "      <td>NaN</td>\n",
       "      <td>True</td>\n",
       "      <td>NaN</td>\n",
       "      <td>NaN</td>\n",
       "      <td>NaN</td>\n",
       "      <td>NaN</td>\n",
       "      <td>https://www.kununu.com/de/gabler-werbeagentur1</td>\n",
       "    </tr>\n",
       "  </tbody>\n",
       "</table>\n",
       "<p>5 rows × 69 columns</p>\n",
       "</div>"
      ],
      "text/plain": [
       "                              user_uuid                 company_name  \\\n",
       "0  f3521258-c82f-45a3-816b-644c9b4e56db      Schüco International KG   \n",
       "1  37599113-66f5-496f-842c-708991c503ef  iSi Automotive Austria GmbH   \n",
       "2  62fa8e9f-d77c-4fe3-abe2-7732ae73de67  Heinrich Huhn GmbH & Co. KG   \n",
       "3  3755ac75-c33f-4a12-a7cf-c9ba04577f24  Komatsu Mining Germany GmbH   \n",
       "4  1e66365d-51ff-4735-b428-4b092f31cf83     Gabler Werbeagentur GmbH   \n",
       "\n",
       "                           profile_uuid  \\\n",
       "0  3b42dda1-4273-4170-ac6e-1d0de2f61986   \n",
       "1  08a13af9-32f2-4200-a0f3-c6e086f3bbb4   \n",
       "2  df80615f-4272-458a-9dfc-6409feec335a   \n",
       "3  131ecf5e-1435-4c21-97bb-c6e1f4bdba9e   \n",
       "4  c7e107e6-10f0-47b3-9092-3d740a92b011   \n",
       "\n",
       "                              profile_name profile_city  \\\n",
       "0                  Schüco International KG    Bielefeld   \n",
       "1              iSi Automotive Austria GmbH         Wien   \n",
       "2              Heinrich Huhn GmbH & Co. KG   Drolshagen   \n",
       "3  Komatsu Mining Germany GmbH, Düsseldorf   Leverkusen   \n",
       "4                 Gabler Werbeagentur GmbH    Stuttgart   \n",
       "\n",
       "              profile_industry_name_en                          company_uuid  \\\n",
       "0          Construction & Architecture  7a996ddb-0ad7-4b6c-953a-d1f782a1b451   \n",
       "1                        Manufacturing  946e5a83-a152-413e-8d94-ff42147feb34   \n",
       "2                        Manufacturing  9bf9ef63-e14c-4aec-9f59-9e822bc4074b   \n",
       "3  Mechanical & Industrial Engineering  9448ed39-9ffe-4fd7-b783-c773314bb37f   \n",
       "4          Marketing, Advertising & PR  4e057fb8-ef91-4204-bc84-a88e4fb18d4e   \n",
       "\n",
       "  company_city        company_industry_name        review_created_at  ...  \\\n",
       "0   Weißenfels      Retail & Consumer Goods  2023-11-15 15:46:00 UTC  ...   \n",
       "1       Vienna                Manufacturing  2018-04-12 08:24:35 UTC  ...   \n",
       "2   Drolshagen                Manufacturing  2019-11-07 10:23:12 UTC  ...   \n",
       "3   Düsseldorf                Manufacturing  2020-04-20 14:25:08 UTC  ...   \n",
       "4    Stuttgart  Marketing, Advertising & PR  2020-10-02 09:52:52 UTC  ...   \n",
       "\n",
       "  meals  pension_plan  clothes  daycare  reachability  coaching  \\\n",
       "0  True          True      NaN      NaN           NaN      True   \n",
       "1   NaN           NaN      NaN      NaN          True       NaN   \n",
       "2   NaN           NaN      NaN      NaN          True       NaN   \n",
       "3   NaN           NaN      NaN      NaN           NaN       NaN   \n",
       "4   NaN           NaN      NaN      NaN          True       NaN   \n",
       "\n",
       "                            feedback_suggestion_text  feedback_positive_text  \\\n",
       "0                                                NaN                     NaN   \n",
       "1                                                NaN                     NaN   \n",
       "2  Er sollte endlich mal mit dem Gejammer aufhöre...                  Keine!   \n",
       "3  Wen sie überhaupt was machen würden .da reicht...   Für nix machen ja nic   \n",
       "4                                                NaN                     NaN   \n",
       "\n",
       "                              feedback_negative_text  \\\n",
       "0                                                NaN   \n",
       "1                                                NaN   \n",
       "2  Wochenendarbeit, immer wieder wechselnde Schic...   \n",
       "3  Zur Zeit alles falsch trotz vieler alten Kolle...   \n",
       "4                                                NaN   \n",
       "\n",
       "                                         profile_url  \n",
       "0    https://www.kununu.com/de/schueco-international  \n",
       "1           https://www.kununu.com/at/isi-automotive  \n",
       "2            https://www.kununu.com/de/heinrich-huhn  \n",
       "3  https://www.kununu.com/de/komatsu-mining-germa...  \n",
       "4     https://www.kununu.com/de/gabler-werbeagentur1  \n",
       "\n",
       "[5 rows x 69 columns]"
      ]
     },
     "execution_count": 3,
     "metadata": {},
     "output_type": "execute_result"
    }
   ],
   "source": [
    "data = pd.read_csv('Kununu_Fashion_and_Retail.csv', index_col=0)\n",
    "data.head()"
   ]
  },
  {
   "cell_type": "code",
   "execution_count": 4,
   "metadata": {},
   "outputs": [
    {
     "name": "stdout",
     "output_type": "stream",
     "text": [
      "(365406, 69)\n",
      "52929\n"
     ]
    }
   ],
   "source": [
    "print(data.shape)\n",
    "print(data['company_name'].nunique())"
   ]
  },
  {
   "cell_type": "code",
   "execution_count": 5,
   "metadata": {},
   "outputs": [
    {
     "data": {
      "text/plain": [
       "array(['HUGO BOSS AG', 'HUGO BOSS', 'HUGO BOSS Ticino SA',\n",
       "       'HUGO BOSS International Markets AG'], dtype=object)"
      ]
     },
     "execution_count": 5,
     "metadata": {},
     "output_type": "execute_result"
    }
   ],
   "source": [
    "#Taking only employees of Hugo boss and affiliated companies\n",
    "\n",
    "#check if company_name contains a string\n",
    "df = data[data['company_name'].str.contains('HUGO BOSS')].reset_index(drop=True)\n",
    "\n",
    "#only taking rows where company_name is HUGO BOSS \n",
    "df['company_name'].unique()\n"
   ]
  },
  {
   "cell_type": "code",
   "execution_count": 6,
   "metadata": {},
   "outputs": [
    {
     "data": {
      "text/plain": [
       "(361, 69)"
      ]
     },
     "execution_count": 6,
     "metadata": {},
     "output_type": "execute_result"
    }
   ],
   "source": [
    "df.shape"
   ]
  },
  {
   "cell_type": "code",
   "execution_count": 7,
   "metadata": {},
   "outputs": [],
   "source": [
    "#creating a subset for existing employees at the time of the review\n",
    "df = df[df['employment_status'] == 'current'].reset_index(drop=True)"
   ]
  },
  {
   "cell_type": "code",
   "execution_count": 8,
   "metadata": {},
   "outputs": [
    {
     "data": {
      "text/plain": [
       "(262, 69)"
      ]
     },
     "execution_count": 8,
     "metadata": {},
     "output_type": "execute_result"
    }
   ],
   "source": [
    "df.shape"
   ]
  },
  {
   "cell_type": "markdown",
   "metadata": {},
   "source": [
    "We now have 262 reviews that can be used for our analysis"
   ]
  },
  {
   "cell_type": "code",
   "execution_count": 9,
   "metadata": {},
   "outputs": [
    {
     "data": {
      "text/plain": [
       "Index(['user_uuid', 'company_name', 'profile_uuid', 'profile_name',\n",
       "       'profile_city', 'profile_industry_name_en', 'company_uuid',\n",
       "       'company_city', 'company_industry_name', 'review_created_at',\n",
       "       'review_last_updated_at', 'review_score', 'employer_atmosphere_score',\n",
       "       'employer_communication_score', 'employer_teamwork_score',\n",
       "       'employer_work_life_score', 'employer_leadership_score',\n",
       "       'employer_tasks_score', 'employer_equality_score',\n",
       "       'employer_old_colleagues_score', 'employer_work_conditions_score',\n",
       "       'employer_environment_score', 'employer_salary_score',\n",
       "       'employer_image_score', 'employer_career_score',\n",
       "       'employer_atmosphere_score_text', 'employer_communication_score_text',\n",
       "       'employer_teamwork_score_text', 'employer_work_life_score_text',\n",
       "       'employer_leadership_score_text', 'employer_tasks_score_text',\n",
       "       'employer_equality_score_text', 'employer_old_colleagues_score_text',\n",
       "       'employer_work_conditions_score_text',\n",
       "       'employer_environment_score_text', 'employer_salary_score_text',\n",
       "       'employer_image_score_text', 'employer_career_score_text',\n",
       "       'review_user_gender', 'employment_status', 'employment_position_type',\n",
       "       'employment_department', 'employment_is_recommended', 'internet',\n",
       "       'stock_options', 'health_program', 'flex_working_hours', 'material',\n",
       "       'parking', 'accessibility', 'mobile_phone', 'transportation',\n",
       "       'discounts', 'home_office', 'doctor', 'events', 'cantine', 'dogs',\n",
       "       'car', 'meals', 'pension_plan', 'clothes', 'daycare', 'reachability',\n",
       "       'coaching', 'feedback_suggestion_text', 'feedback_positive_text',\n",
       "       'feedback_negative_text', 'profile_url'],\n",
       "      dtype='object')"
      ]
     },
     "execution_count": 9,
     "metadata": {},
     "output_type": "execute_result"
    }
   ],
   "source": [
    "df.columns"
   ]
  },
  {
   "cell_type": "code",
   "execution_count": 10,
   "metadata": {},
   "outputs": [
    {
     "data": {
      "text/html": [
       "<div>\n",
       "<style scoped>\n",
       "    .dataframe tbody tr th:only-of-type {\n",
       "        vertical-align: middle;\n",
       "    }\n",
       "\n",
       "    .dataframe tbody tr th {\n",
       "        vertical-align: top;\n",
       "    }\n",
       "\n",
       "    .dataframe thead th {\n",
       "        text-align: right;\n",
       "    }\n",
       "</style>\n",
       "<table border=\"1\" class=\"dataframe\">\n",
       "  <thead>\n",
       "    <tr style=\"text-align: right;\">\n",
       "      <th></th>\n",
       "      <th>company_name</th>\n",
       "      <th>review_created_at</th>\n",
       "      <th>review_last_updated_at</th>\n",
       "      <th>review_score</th>\n",
       "      <th>employer_atmosphere_score</th>\n",
       "      <th>employer_communication_score</th>\n",
       "      <th>employer_teamwork_score</th>\n",
       "      <th>employer_work_life_score</th>\n",
       "      <th>employer_leadership_score</th>\n",
       "      <th>employer_tasks_score</th>\n",
       "      <th>...</th>\n",
       "      <th>car</th>\n",
       "      <th>meals</th>\n",
       "      <th>pension_plan</th>\n",
       "      <th>clothes</th>\n",
       "      <th>daycare</th>\n",
       "      <th>reachability</th>\n",
       "      <th>coaching</th>\n",
       "      <th>feedback_suggestion_text</th>\n",
       "      <th>feedback_positive_text</th>\n",
       "      <th>feedback_negative_text</th>\n",
       "    </tr>\n",
       "  </thead>\n",
       "  <tbody>\n",
       "    <tr>\n",
       "      <th>0</th>\n",
       "      <td>HUGO BOSS AG</td>\n",
       "      <td>2019-04-25 07:57:50 UTC</td>\n",
       "      <td>2019-04-25 08:02:18 UTC</td>\n",
       "      <td>4.5385</td>\n",
       "      <td>5.0</td>\n",
       "      <td>5.0</td>\n",
       "      <td>4.0</td>\n",
       "      <td>5.0</td>\n",
       "      <td>5.0</td>\n",
       "      <td>4.0</td>\n",
       "      <td>...</td>\n",
       "      <td>True</td>\n",
       "      <td>NaN</td>\n",
       "      <td>True</td>\n",
       "      <td>NaN</td>\n",
       "      <td>True</td>\n",
       "      <td>True</td>\n",
       "      <td>True</td>\n",
       "      <td>NaN</td>\n",
       "      <td>Sehr angenehmes Arbeitsklima, sehr gute Firmen...</td>\n",
       "      <td>NaN</td>\n",
       "    </tr>\n",
       "    <tr>\n",
       "      <th>1</th>\n",
       "      <td>HUGO BOSS AG</td>\n",
       "      <td>2019-05-15 11:21:31 UTC</td>\n",
       "      <td>2019-05-15 11:21:31 UTC</td>\n",
       "      <td>4.0769</td>\n",
       "      <td>4.0</td>\n",
       "      <td>3.0</td>\n",
       "      <td>4.0</td>\n",
       "      <td>4.0</td>\n",
       "      <td>5.0</td>\n",
       "      <td>4.0</td>\n",
       "      <td>...</td>\n",
       "      <td>NaN</td>\n",
       "      <td>True</td>\n",
       "      <td>True</td>\n",
       "      <td>NaN</td>\n",
       "      <td>NaN</td>\n",
       "      <td>NaN</td>\n",
       "      <td>True</td>\n",
       "      <td>Prozesse unter den einzelnen Brand Gender Line...</td>\n",
       "      <td>New Work Methodik wird eingeführt</td>\n",
       "      <td>NaN</td>\n",
       "    </tr>\n",
       "    <tr>\n",
       "      <th>2</th>\n",
       "      <td>HUGO BOSS AG</td>\n",
       "      <td>2023-05-02 12:10:49 UTC</td>\n",
       "      <td>2023-05-02 12:10:49 UTC</td>\n",
       "      <td>4.8462</td>\n",
       "      <td>5.0</td>\n",
       "      <td>4.0</td>\n",
       "      <td>5.0</td>\n",
       "      <td>5.0</td>\n",
       "      <td>5.0</td>\n",
       "      <td>5.0</td>\n",
       "      <td>...</td>\n",
       "      <td>True</td>\n",
       "      <td>True</td>\n",
       "      <td>True</td>\n",
       "      <td>NaN</td>\n",
       "      <td>True</td>\n",
       "      <td>NaN</td>\n",
       "      <td>True</td>\n",
       "      <td>Bessere ÖPNV Anbindung gerade im Hinblick auf ...</td>\n",
       "      <td>NaN</td>\n",
       "      <td>NaN</td>\n",
       "    </tr>\n",
       "    <tr>\n",
       "      <th>3</th>\n",
       "      <td>HUGO BOSS AG</td>\n",
       "      <td>2019-04-25 08:13:39 UTC</td>\n",
       "      <td>2019-04-25 08:13:39 UTC</td>\n",
       "      <td>4.3077</td>\n",
       "      <td>4.0</td>\n",
       "      <td>4.0</td>\n",
       "      <td>4.0</td>\n",
       "      <td>4.0</td>\n",
       "      <td>5.0</td>\n",
       "      <td>4.0</td>\n",
       "      <td>...</td>\n",
       "      <td>NaN</td>\n",
       "      <td>NaN</td>\n",
       "      <td>True</td>\n",
       "      <td>NaN</td>\n",
       "      <td>NaN</td>\n",
       "      <td>NaN</td>\n",
       "      <td>True</td>\n",
       "      <td>NaN</td>\n",
       "      <td>NaN</td>\n",
       "      <td>NaN</td>\n",
       "    </tr>\n",
       "    <tr>\n",
       "      <th>4</th>\n",
       "      <td>HUGO BOSS AG</td>\n",
       "      <td>2023-04-17 12:58:50 UTC</td>\n",
       "      <td>2023-04-17 12:58:50 UTC</td>\n",
       "      <td>4.6923</td>\n",
       "      <td>5.0</td>\n",
       "      <td>5.0</td>\n",
       "      <td>5.0</td>\n",
       "      <td>4.0</td>\n",
       "      <td>4.0</td>\n",
       "      <td>5.0</td>\n",
       "      <td>...</td>\n",
       "      <td>True</td>\n",
       "      <td>NaN</td>\n",
       "      <td>True</td>\n",
       "      <td>NaN</td>\n",
       "      <td>True</td>\n",
       "      <td>NaN</td>\n",
       "      <td>True</td>\n",
       "      <td>NaN</td>\n",
       "      <td>NaN</td>\n",
       "      <td>NaN</td>\n",
       "    </tr>\n",
       "    <tr>\n",
       "      <th>...</th>\n",
       "      <td>...</td>\n",
       "      <td>...</td>\n",
       "      <td>...</td>\n",
       "      <td>...</td>\n",
       "      <td>...</td>\n",
       "      <td>...</td>\n",
       "      <td>...</td>\n",
       "      <td>...</td>\n",
       "      <td>...</td>\n",
       "      <td>...</td>\n",
       "      <td>...</td>\n",
       "      <td>...</td>\n",
       "      <td>...</td>\n",
       "      <td>...</td>\n",
       "      <td>...</td>\n",
       "      <td>...</td>\n",
       "      <td>...</td>\n",
       "      <td>...</td>\n",
       "      <td>...</td>\n",
       "      <td>...</td>\n",
       "      <td>...</td>\n",
       "    </tr>\n",
       "    <tr>\n",
       "      <th>257</th>\n",
       "      <td>HUGO BOSS AG</td>\n",
       "      <td>2023-02-23 19:55:28 UTC</td>\n",
       "      <td>2023-02-23 19:55:28 UTC</td>\n",
       "      <td>4.3077</td>\n",
       "      <td>4.0</td>\n",
       "      <td>4.0</td>\n",
       "      <td>4.0</td>\n",
       "      <td>4.0</td>\n",
       "      <td>4.0</td>\n",
       "      <td>4.0</td>\n",
       "      <td>...</td>\n",
       "      <td>NaN</td>\n",
       "      <td>True</td>\n",
       "      <td>True</td>\n",
       "      <td>NaN</td>\n",
       "      <td>True</td>\n",
       "      <td>NaN</td>\n",
       "      <td>NaN</td>\n",
       "      <td>NaN</td>\n",
       "      <td>NaN</td>\n",
       "      <td>NaN</td>\n",
       "    </tr>\n",
       "    <tr>\n",
       "      <th>258</th>\n",
       "      <td>HUGO BOSS</td>\n",
       "      <td>2018-04-18 15:40:42 UTC</td>\n",
       "      <td>2018-04-18 15:40:42 UTC</td>\n",
       "      <td>4.4615</td>\n",
       "      <td>4.0</td>\n",
       "      <td>3.0</td>\n",
       "      <td>3.0</td>\n",
       "      <td>5.0</td>\n",
       "      <td>5.0</td>\n",
       "      <td>5.0</td>\n",
       "      <td>...</td>\n",
       "      <td>NaN</td>\n",
       "      <td>NaN</td>\n",
       "      <td>True</td>\n",
       "      <td>NaN</td>\n",
       "      <td>True</td>\n",
       "      <td>NaN</td>\n",
       "      <td>True</td>\n",
       "      <td>NaN</td>\n",
       "      <td>NaN</td>\n",
       "      <td>NaN</td>\n",
       "    </tr>\n",
       "    <tr>\n",
       "      <th>259</th>\n",
       "      <td>HUGO BOSS AG</td>\n",
       "      <td>2019-04-25 09:12:46 UTC</td>\n",
       "      <td>2019-04-25 09:12:46 UTC</td>\n",
       "      <td>5.0000</td>\n",
       "      <td>5.0</td>\n",
       "      <td>5.0</td>\n",
       "      <td>5.0</td>\n",
       "      <td>5.0</td>\n",
       "      <td>5.0</td>\n",
       "      <td>5.0</td>\n",
       "      <td>...</td>\n",
       "      <td>NaN</td>\n",
       "      <td>NaN</td>\n",
       "      <td>True</td>\n",
       "      <td>NaN</td>\n",
       "      <td>NaN</td>\n",
       "      <td>NaN</td>\n",
       "      <td>True</td>\n",
       "      <td>NaN</td>\n",
       "      <td>NaN</td>\n",
       "      <td>NaN</td>\n",
       "    </tr>\n",
       "    <tr>\n",
       "      <th>260</th>\n",
       "      <td>HUGO BOSS AG</td>\n",
       "      <td>2022-04-28 06:52:21 UTC</td>\n",
       "      <td>2022-04-28 06:52:21 UTC</td>\n",
       "      <td>4.8462</td>\n",
       "      <td>5.0</td>\n",
       "      <td>5.0</td>\n",
       "      <td>5.0</td>\n",
       "      <td>5.0</td>\n",
       "      <td>5.0</td>\n",
       "      <td>5.0</td>\n",
       "      <td>...</td>\n",
       "      <td>NaN</td>\n",
       "      <td>True</td>\n",
       "      <td>True</td>\n",
       "      <td>NaN</td>\n",
       "      <td>True</td>\n",
       "      <td>NaN</td>\n",
       "      <td>True</td>\n",
       "      <td>NaN</td>\n",
       "      <td>NaN</td>\n",
       "      <td>NaN</td>\n",
       "    </tr>\n",
       "    <tr>\n",
       "      <th>261</th>\n",
       "      <td>HUGO BOSS AG</td>\n",
       "      <td>2023-04-12 12:48:16 UTC</td>\n",
       "      <td>2023-04-12 12:48:16 UTC</td>\n",
       "      <td>4.9231</td>\n",
       "      <td>5.0</td>\n",
       "      <td>5.0</td>\n",
       "      <td>5.0</td>\n",
       "      <td>5.0</td>\n",
       "      <td>5.0</td>\n",
       "      <td>5.0</td>\n",
       "      <td>...</td>\n",
       "      <td>NaN</td>\n",
       "      <td>NaN</td>\n",
       "      <td>NaN</td>\n",
       "      <td>NaN</td>\n",
       "      <td>NaN</td>\n",
       "      <td>NaN</td>\n",
       "      <td>NaN</td>\n",
       "      <td>NaN</td>\n",
       "      <td>NaN</td>\n",
       "      <td>NaN</td>\n",
       "    </tr>\n",
       "  </tbody>\n",
       "</table>\n",
       "<p>262 rows × 59 columns</p>\n",
       "</div>"
      ],
      "text/plain": [
       "     company_name        review_created_at   review_last_updated_at  \\\n",
       "0    HUGO BOSS AG  2019-04-25 07:57:50 UTC  2019-04-25 08:02:18 UTC   \n",
       "1    HUGO BOSS AG  2019-05-15 11:21:31 UTC  2019-05-15 11:21:31 UTC   \n",
       "2    HUGO BOSS AG  2023-05-02 12:10:49 UTC  2023-05-02 12:10:49 UTC   \n",
       "3    HUGO BOSS AG  2019-04-25 08:13:39 UTC  2019-04-25 08:13:39 UTC   \n",
       "4    HUGO BOSS AG  2023-04-17 12:58:50 UTC  2023-04-17 12:58:50 UTC   \n",
       "..            ...                      ...                      ...   \n",
       "257  HUGO BOSS AG  2023-02-23 19:55:28 UTC  2023-02-23 19:55:28 UTC   \n",
       "258     HUGO BOSS  2018-04-18 15:40:42 UTC  2018-04-18 15:40:42 UTC   \n",
       "259  HUGO BOSS AG  2019-04-25 09:12:46 UTC  2019-04-25 09:12:46 UTC   \n",
       "260  HUGO BOSS AG  2022-04-28 06:52:21 UTC  2022-04-28 06:52:21 UTC   \n",
       "261  HUGO BOSS AG  2023-04-12 12:48:16 UTC  2023-04-12 12:48:16 UTC   \n",
       "\n",
       "     review_score  employer_atmosphere_score  employer_communication_score  \\\n",
       "0          4.5385                        5.0                           5.0   \n",
       "1          4.0769                        4.0                           3.0   \n",
       "2          4.8462                        5.0                           4.0   \n",
       "3          4.3077                        4.0                           4.0   \n",
       "4          4.6923                        5.0                           5.0   \n",
       "..            ...                        ...                           ...   \n",
       "257        4.3077                        4.0                           4.0   \n",
       "258        4.4615                        4.0                           3.0   \n",
       "259        5.0000                        5.0                           5.0   \n",
       "260        4.8462                        5.0                           5.0   \n",
       "261        4.9231                        5.0                           5.0   \n",
       "\n",
       "     employer_teamwork_score  employer_work_life_score  \\\n",
       "0                        4.0                       5.0   \n",
       "1                        4.0                       4.0   \n",
       "2                        5.0                       5.0   \n",
       "3                        4.0                       4.0   \n",
       "4                        5.0                       4.0   \n",
       "..                       ...                       ...   \n",
       "257                      4.0                       4.0   \n",
       "258                      3.0                       5.0   \n",
       "259                      5.0                       5.0   \n",
       "260                      5.0                       5.0   \n",
       "261                      5.0                       5.0   \n",
       "\n",
       "     employer_leadership_score  employer_tasks_score  ...   car  meals  \\\n",
       "0                          5.0                   4.0  ...  True    NaN   \n",
       "1                          5.0                   4.0  ...   NaN   True   \n",
       "2                          5.0                   5.0  ...  True   True   \n",
       "3                          5.0                   4.0  ...   NaN    NaN   \n",
       "4                          4.0                   5.0  ...  True    NaN   \n",
       "..                         ...                   ...  ...   ...    ...   \n",
       "257                        4.0                   4.0  ...   NaN   True   \n",
       "258                        5.0                   5.0  ...   NaN    NaN   \n",
       "259                        5.0                   5.0  ...   NaN    NaN   \n",
       "260                        5.0                   5.0  ...   NaN   True   \n",
       "261                        5.0                   5.0  ...   NaN    NaN   \n",
       "\n",
       "     pension_plan  clothes  daycare  reachability  coaching  \\\n",
       "0            True      NaN     True          True      True   \n",
       "1            True      NaN      NaN           NaN      True   \n",
       "2            True      NaN     True           NaN      True   \n",
       "3            True      NaN      NaN           NaN      True   \n",
       "4            True      NaN     True           NaN      True   \n",
       "..            ...      ...      ...           ...       ...   \n",
       "257          True      NaN     True           NaN       NaN   \n",
       "258          True      NaN     True           NaN      True   \n",
       "259          True      NaN      NaN           NaN      True   \n",
       "260          True      NaN     True           NaN      True   \n",
       "261           NaN      NaN      NaN           NaN       NaN   \n",
       "\n",
       "                              feedback_suggestion_text  \\\n",
       "0                                                  NaN   \n",
       "1    Prozesse unter den einzelnen Brand Gender Line...   \n",
       "2    Bessere ÖPNV Anbindung gerade im Hinblick auf ...   \n",
       "3                                                  NaN   \n",
       "4                                                  NaN   \n",
       "..                                                 ...   \n",
       "257                                                NaN   \n",
       "258                                                NaN   \n",
       "259                                                NaN   \n",
       "260                                                NaN   \n",
       "261                                                NaN   \n",
       "\n",
       "                                feedback_positive_text feedback_negative_text  \n",
       "0    Sehr angenehmes Arbeitsklima, sehr gute Firmen...                    NaN  \n",
       "1                    New Work Methodik wird eingeführt                    NaN  \n",
       "2                                                  NaN                    NaN  \n",
       "3                                                  NaN                    NaN  \n",
       "4                                                  NaN                    NaN  \n",
       "..                                                 ...                    ...  \n",
       "257                                                NaN                    NaN  \n",
       "258                                                NaN                    NaN  \n",
       "259                                                NaN                    NaN  \n",
       "260                                                NaN                    NaN  \n",
       "261                                                NaN                    NaN  \n",
       "\n",
       "[262 rows x 59 columns]"
      ]
     },
     "execution_count": 10,
     "metadata": {},
     "output_type": "execute_result"
    }
   ],
   "source": [
    "#drop columns that are not needed\n",
    "df = df.drop(columns=['user_uuid', 'profile_uuid','company_uuid', 'profile_url', 'profile_industry_name_en', 'company_city','company_industry_name', 'profile_city', 'profile_name', 'employment_status'])\n",
    "df"
   ]
  },
  {
   "cell_type": "code",
   "execution_count": 11,
   "metadata": {},
   "outputs": [],
   "source": [
    "#replace NaN in certain columns with unkwown\n",
    "df[['employment_department', 'employment_position_type', 'review_user_gender']] = df[['employment_department', 'employment_position_type', 'review_user_gender']].fillna('Unknown')\n"
   ]
  },
  {
   "cell_type": "code",
   "execution_count": 12,
   "metadata": {},
   "outputs": [],
   "source": [
    "#save the data\n",
    "df.to_excel('Hugo_Boss_Kununu.xlsx')"
   ]
  },
  {
   "cell_type": "code",
   "execution_count": 13,
   "metadata": {},
   "outputs": [
    {
     "data": {
      "text/plain": [
       "(262, 56)"
      ]
     },
     "execution_count": 13,
     "metadata": {},
     "output_type": "execute_result"
    }
   ],
   "source": [
    "#any columns that are all NaN are dropped\n",
    "df = df.dropna(axis=1, how='all')\n",
    "df.shape"
   ]
  },
  {
   "cell_type": "code",
   "execution_count": 14,
   "metadata": {},
   "outputs": [
    {
     "data": {
      "text/plain": [
       "company_name                            object\n",
       "review_created_at                       object\n",
       "review_last_updated_at                  object\n",
       "review_score                           float64\n",
       "employer_atmosphere_score              float64\n",
       "employer_communication_score           float64\n",
       "employer_teamwork_score                float64\n",
       "employer_work_life_score               float64\n",
       "employer_leadership_score              float64\n",
       "employer_tasks_score                   float64\n",
       "employer_equality_score                float64\n",
       "employer_old_colleagues_score          float64\n",
       "employer_work_conditions_score         float64\n",
       "employer_environment_score             float64\n",
       "employer_salary_score                  float64\n",
       "employer_image_score                   float64\n",
       "employer_career_score                  float64\n",
       "employer_atmosphere_score_text          object\n",
       "employer_communication_score_text       object\n",
       "employer_teamwork_score_text            object\n",
       "employer_work_life_score_text           object\n",
       "employer_leadership_score_text          object\n",
       "employer_tasks_score_text               object\n",
       "employer_equality_score_text            object\n",
       "employer_old_colleagues_score_text      object\n",
       "employer_work_conditions_score_text     object\n",
       "employer_environment_score_text         object\n",
       "employer_salary_score_text              object\n",
       "employer_image_score_text               object\n",
       "employer_career_score_text              object\n",
       "review_user_gender                      object\n",
       "employment_position_type                object\n",
       "employment_department                   object\n",
       "employment_is_recommended               object\n",
       "internet                                object\n",
       "stock_options                           object\n",
       "health_program                          object\n",
       "flex_working_hours                      object\n",
       "parking                                 object\n",
       "accessibility                           object\n",
       "mobile_phone                            object\n",
       "discounts                               object\n",
       "home_office                             object\n",
       "doctor                                  object\n",
       "events                                  object\n",
       "cantine                                 object\n",
       "dogs                                    object\n",
       "car                                     object\n",
       "meals                                   object\n",
       "pension_plan                            object\n",
       "daycare                                 object\n",
       "reachability                            object\n",
       "coaching                                object\n",
       "feedback_suggestion_text                object\n",
       "feedback_positive_text                  object\n",
       "feedback_negative_text                  object\n",
       "dtype: object"
      ]
     },
     "execution_count": 14,
     "metadata": {},
     "output_type": "execute_result"
    }
   ],
   "source": [
    "df.dtypes"
   ]
  },
  {
   "cell_type": "code",
   "execution_count": 15,
   "metadata": {},
   "outputs": [
    {
     "name": "stderr",
     "output_type": "stream",
     "text": [
      "/var/folders/h_/t7j5x_l10kg4zbr6vvxlqx5h0000gn/T/ipykernel_25405/3628980635.py:6: FutureWarning: Downcasting behavior in `replace` is deprecated and will be removed in a future version. To retain the old behavior, explicitly call `result.infer_objects(copy=False)`. To opt-in to the future behavior, set `pd.set_option('future.no_silent_downcasting', True)`\n",
      "  return col.replace({'True': True, 'False': False}).astype('boolean')  # Correct conversion and keep NaNs as pd.NA\n"
     ]
    }
   ],
   "source": [
    "def convert_column_to_bool(col):\n",
    "    \"\"\"\n",
    "    converting yes/no columns to boolean\n",
    "    \"\"\"\n",
    "    if col.isin([True, False, 'True', 'False', np.nan]).all():  # Check for only valid boolean-like values\n",
    "        return col.replace({'True': True, 'False': False}).astype('boolean')  # Correct conversion and keep NaNs as pd.NA\n",
    "    return col\n",
    "\n",
    "\n",
    "df = df.apply(convert_column_to_bool)\n"
   ]
  },
  {
   "cell_type": "code",
   "execution_count": 16,
   "metadata": {},
   "outputs": [
    {
     "data": {
      "text/plain": [
       "company_name                            object\n",
       "review_created_at                       object\n",
       "review_last_updated_at                  object\n",
       "review_score                           float64\n",
       "employer_atmosphere_score              float64\n",
       "employer_communication_score           float64\n",
       "employer_teamwork_score                float64\n",
       "employer_work_life_score               float64\n",
       "employer_leadership_score              float64\n",
       "employer_tasks_score                   float64\n",
       "employer_equality_score                float64\n",
       "employer_old_colleagues_score          float64\n",
       "employer_work_conditions_score         float64\n",
       "employer_environment_score             float64\n",
       "employer_salary_score                  float64\n",
       "employer_image_score                   float64\n",
       "employer_career_score                  float64\n",
       "employer_atmosphere_score_text          object\n",
       "employer_communication_score_text       object\n",
       "employer_teamwork_score_text            object\n",
       "employer_work_life_score_text           object\n",
       "employer_leadership_score_text          object\n",
       "employer_tasks_score_text               object\n",
       "employer_equality_score_text            object\n",
       "employer_old_colleagues_score_text      object\n",
       "employer_work_conditions_score_text     object\n",
       "employer_environment_score_text         object\n",
       "employer_salary_score_text              object\n",
       "employer_image_score_text               object\n",
       "employer_career_score_text              object\n",
       "review_user_gender                      object\n",
       "employment_position_type                object\n",
       "employment_department                   object\n",
       "employment_is_recommended              boolean\n",
       "internet                               boolean\n",
       "stock_options                          boolean\n",
       "health_program                         boolean\n",
       "flex_working_hours                     boolean\n",
       "parking                                boolean\n",
       "accessibility                          boolean\n",
       "mobile_phone                           boolean\n",
       "discounts                              boolean\n",
       "home_office                            boolean\n",
       "doctor                                 boolean\n",
       "events                                 boolean\n",
       "cantine                                boolean\n",
       "dogs                                   boolean\n",
       "car                                    boolean\n",
       "meals                                  boolean\n",
       "pension_plan                           boolean\n",
       "daycare                                boolean\n",
       "reachability                           boolean\n",
       "coaching                               boolean\n",
       "feedback_suggestion_text                object\n",
       "feedback_positive_text                  object\n",
       "feedback_negative_text                  object\n",
       "dtype: object"
      ]
     },
     "execution_count": 16,
     "metadata": {},
     "output_type": "execute_result"
    }
   ],
   "source": [
    "df.dtypes"
   ]
  },
  {
   "cell_type": "code",
   "execution_count": 17,
   "metadata": {},
   "outputs": [
    {
     "data": {
      "text/html": [
       "<div>\n",
       "<style scoped>\n",
       "    .dataframe tbody tr th:only-of-type {\n",
       "        vertical-align: middle;\n",
       "    }\n",
       "\n",
       "    .dataframe tbody tr th {\n",
       "        vertical-align: top;\n",
       "    }\n",
       "\n",
       "    .dataframe thead th {\n",
       "        text-align: right;\n",
       "    }\n",
       "</style>\n",
       "<table border=\"1\" class=\"dataframe\">\n",
       "  <thead>\n",
       "    <tr style=\"text-align: right;\">\n",
       "      <th></th>\n",
       "      <th>company_name</th>\n",
       "      <th>review_created_at</th>\n",
       "      <th>review_last_updated_at</th>\n",
       "      <th>review_score</th>\n",
       "      <th>employer_atmosphere_score</th>\n",
       "      <th>employer_communication_score</th>\n",
       "      <th>employer_teamwork_score</th>\n",
       "      <th>employer_work_life_score</th>\n",
       "      <th>employer_leadership_score</th>\n",
       "      <th>employer_tasks_score</th>\n",
       "      <th>...</th>\n",
       "      <th>dogs</th>\n",
       "      <th>car</th>\n",
       "      <th>meals</th>\n",
       "      <th>pension_plan</th>\n",
       "      <th>daycare</th>\n",
       "      <th>reachability</th>\n",
       "      <th>coaching</th>\n",
       "      <th>feedback_suggestion_text</th>\n",
       "      <th>feedback_positive_text</th>\n",
       "      <th>feedback_negative_text</th>\n",
       "    </tr>\n",
       "  </thead>\n",
       "  <tbody>\n",
       "    <tr>\n",
       "      <th>0</th>\n",
       "      <td>HUGO BOSS AG</td>\n",
       "      <td>2019-04-25 07:57:50 UTC</td>\n",
       "      <td>2019-04-25 08:02:18 UTC</td>\n",
       "      <td>4.5385</td>\n",
       "      <td>5.0</td>\n",
       "      <td>5.0</td>\n",
       "      <td>4.0</td>\n",
       "      <td>5.0</td>\n",
       "      <td>5.0</td>\n",
       "      <td>4.0</td>\n",
       "      <td>...</td>\n",
       "      <td>&lt;NA&gt;</td>\n",
       "      <td>True</td>\n",
       "      <td>&lt;NA&gt;</td>\n",
       "      <td>True</td>\n",
       "      <td>True</td>\n",
       "      <td>True</td>\n",
       "      <td>True</td>\n",
       "      <td>NaN</td>\n",
       "      <td>Sehr angenehmes Arbeitsklima, sehr gute Firmen...</td>\n",
       "      <td>NaN</td>\n",
       "    </tr>\n",
       "    <tr>\n",
       "      <th>1</th>\n",
       "      <td>HUGO BOSS AG</td>\n",
       "      <td>2019-05-15 11:21:31 UTC</td>\n",
       "      <td>2019-05-15 11:21:31 UTC</td>\n",
       "      <td>4.0769</td>\n",
       "      <td>4.0</td>\n",
       "      <td>3.0</td>\n",
       "      <td>4.0</td>\n",
       "      <td>4.0</td>\n",
       "      <td>5.0</td>\n",
       "      <td>4.0</td>\n",
       "      <td>...</td>\n",
       "      <td>&lt;NA&gt;</td>\n",
       "      <td>&lt;NA&gt;</td>\n",
       "      <td>True</td>\n",
       "      <td>True</td>\n",
       "      <td>&lt;NA&gt;</td>\n",
       "      <td>&lt;NA&gt;</td>\n",
       "      <td>True</td>\n",
       "      <td>Prozesse unter den einzelnen Brand Gender Line...</td>\n",
       "      <td>New Work Methodik wird eingeführt</td>\n",
       "      <td>NaN</td>\n",
       "    </tr>\n",
       "    <tr>\n",
       "      <th>2</th>\n",
       "      <td>HUGO BOSS AG</td>\n",
       "      <td>2023-05-02 12:10:49 UTC</td>\n",
       "      <td>2023-05-02 12:10:49 UTC</td>\n",
       "      <td>4.8462</td>\n",
       "      <td>5.0</td>\n",
       "      <td>4.0</td>\n",
       "      <td>5.0</td>\n",
       "      <td>5.0</td>\n",
       "      <td>5.0</td>\n",
       "      <td>5.0</td>\n",
       "      <td>...</td>\n",
       "      <td>True</td>\n",
       "      <td>True</td>\n",
       "      <td>True</td>\n",
       "      <td>True</td>\n",
       "      <td>True</td>\n",
       "      <td>&lt;NA&gt;</td>\n",
       "      <td>True</td>\n",
       "      <td>Bessere ÖPNV Anbindung gerade im Hinblick auf ...</td>\n",
       "      <td>NaN</td>\n",
       "      <td>NaN</td>\n",
       "    </tr>\n",
       "    <tr>\n",
       "      <th>3</th>\n",
       "      <td>HUGO BOSS AG</td>\n",
       "      <td>2019-04-25 08:13:39 UTC</td>\n",
       "      <td>2019-04-25 08:13:39 UTC</td>\n",
       "      <td>4.3077</td>\n",
       "      <td>4.0</td>\n",
       "      <td>4.0</td>\n",
       "      <td>4.0</td>\n",
       "      <td>4.0</td>\n",
       "      <td>5.0</td>\n",
       "      <td>4.0</td>\n",
       "      <td>...</td>\n",
       "      <td>&lt;NA&gt;</td>\n",
       "      <td>&lt;NA&gt;</td>\n",
       "      <td>&lt;NA&gt;</td>\n",
       "      <td>True</td>\n",
       "      <td>&lt;NA&gt;</td>\n",
       "      <td>&lt;NA&gt;</td>\n",
       "      <td>True</td>\n",
       "      <td>NaN</td>\n",
       "      <td>NaN</td>\n",
       "      <td>NaN</td>\n",
       "    </tr>\n",
       "    <tr>\n",
       "      <th>4</th>\n",
       "      <td>HUGO BOSS AG</td>\n",
       "      <td>2023-04-17 12:58:50 UTC</td>\n",
       "      <td>2023-04-17 12:58:50 UTC</td>\n",
       "      <td>4.6923</td>\n",
       "      <td>5.0</td>\n",
       "      <td>5.0</td>\n",
       "      <td>5.0</td>\n",
       "      <td>4.0</td>\n",
       "      <td>4.0</td>\n",
       "      <td>5.0</td>\n",
       "      <td>...</td>\n",
       "      <td>&lt;NA&gt;</td>\n",
       "      <td>True</td>\n",
       "      <td>&lt;NA&gt;</td>\n",
       "      <td>True</td>\n",
       "      <td>True</td>\n",
       "      <td>&lt;NA&gt;</td>\n",
       "      <td>True</td>\n",
       "      <td>NaN</td>\n",
       "      <td>NaN</td>\n",
       "      <td>NaN</td>\n",
       "    </tr>\n",
       "  </tbody>\n",
       "</table>\n",
       "<p>5 rows × 56 columns</p>\n",
       "</div>"
      ],
      "text/plain": [
       "   company_name        review_created_at   review_last_updated_at  \\\n",
       "0  HUGO BOSS AG  2019-04-25 07:57:50 UTC  2019-04-25 08:02:18 UTC   \n",
       "1  HUGO BOSS AG  2019-05-15 11:21:31 UTC  2019-05-15 11:21:31 UTC   \n",
       "2  HUGO BOSS AG  2023-05-02 12:10:49 UTC  2023-05-02 12:10:49 UTC   \n",
       "3  HUGO BOSS AG  2019-04-25 08:13:39 UTC  2019-04-25 08:13:39 UTC   \n",
       "4  HUGO BOSS AG  2023-04-17 12:58:50 UTC  2023-04-17 12:58:50 UTC   \n",
       "\n",
       "   review_score  employer_atmosphere_score  employer_communication_score  \\\n",
       "0        4.5385                        5.0                           5.0   \n",
       "1        4.0769                        4.0                           3.0   \n",
       "2        4.8462                        5.0                           4.0   \n",
       "3        4.3077                        4.0                           4.0   \n",
       "4        4.6923                        5.0                           5.0   \n",
       "\n",
       "   employer_teamwork_score  employer_work_life_score  \\\n",
       "0                      4.0                       5.0   \n",
       "1                      4.0                       4.0   \n",
       "2                      5.0                       5.0   \n",
       "3                      4.0                       4.0   \n",
       "4                      5.0                       4.0   \n",
       "\n",
       "   employer_leadership_score  employer_tasks_score  ...  dogs   car  meals  \\\n",
       "0                        5.0                   4.0  ...  <NA>  True   <NA>   \n",
       "1                        5.0                   4.0  ...  <NA>  <NA>   True   \n",
       "2                        5.0                   5.0  ...  True  True   True   \n",
       "3                        5.0                   4.0  ...  <NA>  <NA>   <NA>   \n",
       "4                        4.0                   5.0  ...  <NA>  True   <NA>   \n",
       "\n",
       "   pension_plan  daycare  reachability  coaching  \\\n",
       "0          True     True          True      True   \n",
       "1          True     <NA>          <NA>      True   \n",
       "2          True     True          <NA>      True   \n",
       "3          True     <NA>          <NA>      True   \n",
       "4          True     True          <NA>      True   \n",
       "\n",
       "                            feedback_suggestion_text  \\\n",
       "0                                                NaN   \n",
       "1  Prozesse unter den einzelnen Brand Gender Line...   \n",
       "2  Bessere ÖPNV Anbindung gerade im Hinblick auf ...   \n",
       "3                                                NaN   \n",
       "4                                                NaN   \n",
       "\n",
       "                              feedback_positive_text feedback_negative_text  \n",
       "0  Sehr angenehmes Arbeitsklima, sehr gute Firmen...                    NaN  \n",
       "1                  New Work Methodik wird eingeführt                    NaN  \n",
       "2                                                NaN                    NaN  \n",
       "3                                                NaN                    NaN  \n",
       "4                                                NaN                    NaN  \n",
       "\n",
       "[5 rows x 56 columns]"
      ]
     },
     "execution_count": 17,
     "metadata": {},
     "output_type": "execute_result"
    }
   ],
   "source": [
    "df.head()"
   ]
  },
  {
   "cell_type": "markdown",
   "metadata": {},
   "source": [
    "### Scores (1 to 5 stars)"
   ]
  },
  {
   "cell_type": "code",
   "execution_count": 18,
   "metadata": {},
   "outputs": [],
   "source": [
    "#see the columns that are float\n",
    "df1 = df.select_dtypes(include=['float64'])"
   ]
  },
  {
   "cell_type": "code",
   "execution_count": 19,
   "metadata": {},
   "outputs": [
    {
     "data": {
      "text/plain": [
       "review_score                      4.090008\n",
       "employer_atmosphere_score         4.237548\n",
       "employer_communication_score      3.742308\n",
       "employer_teamwork_score           4.167939\n",
       "employer_work_life_score          4.226054\n",
       "employer_leadership_score         3.820611\n",
       "employer_tasks_score              4.276923\n",
       "employer_equality_score           4.078125\n",
       "employer_old_colleagues_score     4.260870\n",
       "employer_work_conditions_score    4.384615\n",
       "employer_environment_score        4.096899\n",
       "employer_salary_score             3.704981\n",
       "employer_image_score              4.396947\n",
       "employer_career_score             3.845560\n",
       "dtype: float64"
      ]
     },
     "execution_count": 19,
     "metadata": {},
     "output_type": "execute_result"
    }
   ],
   "source": [
    "#split the data into two dataframes to get the mean values of \n",
    "df1 = df1.mean()\n",
    "\n",
    "df1"
   ]
  },
  {
   "cell_type": "code",
   "execution_count": 20,
   "metadata": {},
   "outputs": [
    {
     "data": {
      "text/plain": [
       "review_score                     -0.004949\n",
       "employer_atmosphere_score         0.142592\n",
       "employer_communication_score     -0.352648\n",
       "employer_teamwork_score           0.072983\n",
       "employer_work_life_score          0.131097\n",
       "employer_leadership_score        -0.274345\n",
       "employer_tasks_score              0.181967\n",
       "employer_equality_score          -0.016831\n",
       "employer_old_colleagues_score     0.165913\n",
       "employer_work_conditions_score    0.289659\n",
       "employer_environment_score        0.001943\n",
       "employer_salary_score            -0.389975\n",
       "employer_image_score              0.301990\n",
       "employer_career_score            -0.249396\n",
       "dtype: float64"
      ]
     },
     "execution_count": 20,
     "metadata": {},
     "output_type": "execute_result"
    }
   ],
   "source": [
    "#calculate distance from the mean\n",
    "df1_2 = df1 - df1.mean()\n",
    "df1_2"
   ]
  },
  {
   "cell_type": "code",
   "execution_count": 21,
   "metadata": {},
   "outputs": [
    {
     "data": {
      "text/plain": [
       "employer_atmosphere_score         0.142592\n",
       "employer_communication_score     -0.352648\n",
       "employer_teamwork_score           0.072983\n",
       "employer_work_life_score          0.131097\n",
       "employer_leadership_score        -0.274345\n",
       "employer_tasks_score              0.181967\n",
       "employer_equality_score          -0.016831\n",
       "employer_old_colleagues_score     0.165913\n",
       "employer_work_conditions_score    0.289659\n",
       "employer_environment_score        0.001943\n",
       "employer_salary_score            -0.389975\n",
       "employer_image_score              0.301990\n",
       "employer_career_score            -0.249396\n",
       "dtype: float64"
      ]
     },
     "execution_count": 21,
     "metadata": {},
     "output_type": "execute_result"
    }
   ],
   "source": [
    "#drop the review score row\n",
    "df1_2 = df1_2.drop('review_score')\n",
    "df1_2"
   ]
  },
  {
   "cell_type": "code",
   "execution_count": 22,
   "metadata": {},
   "outputs": [
    {
     "data": {
      "text/html": [
       "<div>\n",
       "<style scoped>\n",
       "    .dataframe tbody tr th:only-of-type {\n",
       "        vertical-align: middle;\n",
       "    }\n",
       "\n",
       "    .dataframe tbody tr th {\n",
       "        vertical-align: top;\n",
       "    }\n",
       "\n",
       "    .dataframe thead th {\n",
       "        text-align: right;\n",
       "    }\n",
       "</style>\n",
       "<table border=\"1\" class=\"dataframe\">\n",
       "  <thead>\n",
       "    <tr style=\"text-align: right;\">\n",
       "      <th></th>\n",
       "      <th>Distance from Mean</th>\n",
       "    </tr>\n",
       "  </thead>\n",
       "  <tbody>\n",
       "    <tr>\n",
       "      <th>employer_atmosphere_score</th>\n",
       "      <td>0.142592</td>\n",
       "    </tr>\n",
       "    <tr>\n",
       "      <th>employer_communication_score</th>\n",
       "      <td>-0.352648</td>\n",
       "    </tr>\n",
       "    <tr>\n",
       "      <th>employer_teamwork_score</th>\n",
       "      <td>0.072983</td>\n",
       "    </tr>\n",
       "    <tr>\n",
       "      <th>employer_work_life_score</th>\n",
       "      <td>0.131097</td>\n",
       "    </tr>\n",
       "    <tr>\n",
       "      <th>employer_leadership_score</th>\n",
       "      <td>-0.274345</td>\n",
       "    </tr>\n",
       "    <tr>\n",
       "      <th>employer_tasks_score</th>\n",
       "      <td>0.181967</td>\n",
       "    </tr>\n",
       "    <tr>\n",
       "      <th>employer_equality_score</th>\n",
       "      <td>-0.016831</td>\n",
       "    </tr>\n",
       "    <tr>\n",
       "      <th>employer_old_colleagues_score</th>\n",
       "      <td>0.165913</td>\n",
       "    </tr>\n",
       "    <tr>\n",
       "      <th>employer_work_conditions_score</th>\n",
       "      <td>0.289659</td>\n",
       "    </tr>\n",
       "    <tr>\n",
       "      <th>employer_environment_score</th>\n",
       "      <td>0.001943</td>\n",
       "    </tr>\n",
       "    <tr>\n",
       "      <th>employer_salary_score</th>\n",
       "      <td>-0.389975</td>\n",
       "    </tr>\n",
       "    <tr>\n",
       "      <th>employer_image_score</th>\n",
       "      <td>0.301990</td>\n",
       "    </tr>\n",
       "    <tr>\n",
       "      <th>employer_career_score</th>\n",
       "      <td>-0.249396</td>\n",
       "    </tr>\n",
       "  </tbody>\n",
       "</table>\n",
       "</div>"
      ],
      "text/plain": [
       "                                Distance from Mean\n",
       "employer_atmosphere_score                 0.142592\n",
       "employer_communication_score             -0.352648\n",
       "employer_teamwork_score                   0.072983\n",
       "employer_work_life_score                  0.131097\n",
       "employer_leadership_score                -0.274345\n",
       "employer_tasks_score                      0.181967\n",
       "employer_equality_score                  -0.016831\n",
       "employer_old_colleagues_score             0.165913\n",
       "employer_work_conditions_score            0.289659\n",
       "employer_environment_score                0.001943\n",
       "employer_salary_score                    -0.389975\n",
       "employer_image_score                      0.301990\n",
       "employer_career_score                    -0.249396"
      ]
     },
     "execution_count": 22,
     "metadata": {},
     "output_type": "execute_result"
    }
   ],
   "source": [
    "df1_2 = pd.DataFrame(df1_2)\n",
    "df1_2.columns = ['Distance from Mean']\n",
    "df1_2"
   ]
  },
  {
   "cell_type": "code",
   "execution_count": 23,
   "metadata": {},
   "outputs": [
    {
     "data": {
      "application/vnd.plotly.v1+json": {
       "config": {
        "plotlyServerURL": "https://plot.ly"
       },
       "data": [
        {
         "alignmentgroup": "True",
         "hovertemplate": "index=%{x}<br>Difference from Mean=%{marker.color}<extra></extra>",
         "legendgroup": "",
         "marker": {
          "color": [
           0.14259175117013356,
           -0.35264844924248084,
           0.07298278974753636,
           0.1310974982965698,
           -0.27434545452727255,
           0.18196693537290365,
           -0.01683114155017318,
           0.1659134236672184,
           0.28965924306521185,
           0.0019430832560285438,
           -0.3899752986382956,
           0.3019904233353232,
           -0.24939629599032775
          ],
          "coloraxis": "coloraxis",
          "pattern": {
           "shape": ""
          }
         },
         "name": "",
         "offsetgroup": "",
         "orientation": "v",
         "showlegend": false,
         "textposition": "auto",
         "type": "bar",
         "x": [
          "employer_atmosphere_score",
          "employer_communication_score",
          "employer_teamwork_score",
          "employer_work_life_score",
          "employer_leadership_score",
          "employer_tasks_score",
          "employer_equality_score",
          "employer_old_colleagues_score",
          "employer_work_conditions_score",
          "employer_environment_score",
          "employer_salary_score",
          "employer_image_score",
          "employer_career_score"
         ],
         "xaxis": "x",
         "y": [
          0.14259175117013356,
          -0.35264844924248084,
          0.07298278974753636,
          0.1310974982965698,
          -0.27434545452727255,
          0.18196693537290365,
          -0.01683114155017318,
          0.1659134236672184,
          0.28965924306521185,
          0.0019430832560285438,
          -0.3899752986382956,
          0.3019904233353232,
          -0.24939629599032775
         ],
         "yaxis": "y"
        }
       ],
       "layout": {
        "barmode": "relative",
        "coloraxis": {
         "cmax": 0.4,
         "cmin": -0.4,
         "colorbar": {
          "title": {
           "text": "Difference from Mean"
          }
         },
         "colorscale": [
          [
           0,
           "rgb(84, 31, 63)"
          ],
          [
           0.16666666666666666,
           "rgb(129, 55, 83)"
          ],
          [
           0.3333333333333333,
           "rgb(166, 84, 97)"
          ],
          [
           0.5,
           "rgb(193, 118, 111)"
          ],
          [
           0.6666666666666666,
           "rgb(211, 156, 131)"
          ],
          [
           0.8333333333333334,
           "rgb(224, 194, 162)"
          ],
          [
           1,
           "rgb(237, 229, 207)"
          ]
         ]
        },
        "font": {
         "size": 14
        },
        "height": 600,
        "legend": {
         "tracegroupgap": 0
        },
        "paper_bgcolor": "white",
        "plot_bgcolor": "white",
        "template": {
         "data": {
          "bar": [
           {
            "error_x": {
             "color": "#2a3f5f"
            },
            "error_y": {
             "color": "#2a3f5f"
            },
            "marker": {
             "line": {
              "color": "#E5ECF6",
              "width": 0.5
             },
             "pattern": {
              "fillmode": "overlay",
              "size": 10,
              "solidity": 0.2
             }
            },
            "type": "bar"
           }
          ],
          "barpolar": [
           {
            "marker": {
             "line": {
              "color": "#E5ECF6",
              "width": 0.5
             },
             "pattern": {
              "fillmode": "overlay",
              "size": 10,
              "solidity": 0.2
             }
            },
            "type": "barpolar"
           }
          ],
          "carpet": [
           {
            "aaxis": {
             "endlinecolor": "#2a3f5f",
             "gridcolor": "white",
             "linecolor": "white",
             "minorgridcolor": "white",
             "startlinecolor": "#2a3f5f"
            },
            "baxis": {
             "endlinecolor": "#2a3f5f",
             "gridcolor": "white",
             "linecolor": "white",
             "minorgridcolor": "white",
             "startlinecolor": "#2a3f5f"
            },
            "type": "carpet"
           }
          ],
          "choropleth": [
           {
            "colorbar": {
             "outlinewidth": 0,
             "ticks": ""
            },
            "type": "choropleth"
           }
          ],
          "contour": [
           {
            "colorbar": {
             "outlinewidth": 0,
             "ticks": ""
            },
            "colorscale": [
             [
              0,
              "#0d0887"
             ],
             [
              0.1111111111111111,
              "#46039f"
             ],
             [
              0.2222222222222222,
              "#7201a8"
             ],
             [
              0.3333333333333333,
              "#9c179e"
             ],
             [
              0.4444444444444444,
              "#bd3786"
             ],
             [
              0.5555555555555556,
              "#d8576b"
             ],
             [
              0.6666666666666666,
              "#ed7953"
             ],
             [
              0.7777777777777778,
              "#fb9f3a"
             ],
             [
              0.8888888888888888,
              "#fdca26"
             ],
             [
              1,
              "#f0f921"
             ]
            ],
            "type": "contour"
           }
          ],
          "contourcarpet": [
           {
            "colorbar": {
             "outlinewidth": 0,
             "ticks": ""
            },
            "type": "contourcarpet"
           }
          ],
          "heatmap": [
           {
            "colorbar": {
             "outlinewidth": 0,
             "ticks": ""
            },
            "colorscale": [
             [
              0,
              "#0d0887"
             ],
             [
              0.1111111111111111,
              "#46039f"
             ],
             [
              0.2222222222222222,
              "#7201a8"
             ],
             [
              0.3333333333333333,
              "#9c179e"
             ],
             [
              0.4444444444444444,
              "#bd3786"
             ],
             [
              0.5555555555555556,
              "#d8576b"
             ],
             [
              0.6666666666666666,
              "#ed7953"
             ],
             [
              0.7777777777777778,
              "#fb9f3a"
             ],
             [
              0.8888888888888888,
              "#fdca26"
             ],
             [
              1,
              "#f0f921"
             ]
            ],
            "type": "heatmap"
           }
          ],
          "heatmapgl": [
           {
            "colorbar": {
             "outlinewidth": 0,
             "ticks": ""
            },
            "colorscale": [
             [
              0,
              "#0d0887"
             ],
             [
              0.1111111111111111,
              "#46039f"
             ],
             [
              0.2222222222222222,
              "#7201a8"
             ],
             [
              0.3333333333333333,
              "#9c179e"
             ],
             [
              0.4444444444444444,
              "#bd3786"
             ],
             [
              0.5555555555555556,
              "#d8576b"
             ],
             [
              0.6666666666666666,
              "#ed7953"
             ],
             [
              0.7777777777777778,
              "#fb9f3a"
             ],
             [
              0.8888888888888888,
              "#fdca26"
             ],
             [
              1,
              "#f0f921"
             ]
            ],
            "type": "heatmapgl"
           }
          ],
          "histogram": [
           {
            "marker": {
             "pattern": {
              "fillmode": "overlay",
              "size": 10,
              "solidity": 0.2
             }
            },
            "type": "histogram"
           }
          ],
          "histogram2d": [
           {
            "colorbar": {
             "outlinewidth": 0,
             "ticks": ""
            },
            "colorscale": [
             [
              0,
              "#0d0887"
             ],
             [
              0.1111111111111111,
              "#46039f"
             ],
             [
              0.2222222222222222,
              "#7201a8"
             ],
             [
              0.3333333333333333,
              "#9c179e"
             ],
             [
              0.4444444444444444,
              "#bd3786"
             ],
             [
              0.5555555555555556,
              "#d8576b"
             ],
             [
              0.6666666666666666,
              "#ed7953"
             ],
             [
              0.7777777777777778,
              "#fb9f3a"
             ],
             [
              0.8888888888888888,
              "#fdca26"
             ],
             [
              1,
              "#f0f921"
             ]
            ],
            "type": "histogram2d"
           }
          ],
          "histogram2dcontour": [
           {
            "colorbar": {
             "outlinewidth": 0,
             "ticks": ""
            },
            "colorscale": [
             [
              0,
              "#0d0887"
             ],
             [
              0.1111111111111111,
              "#46039f"
             ],
             [
              0.2222222222222222,
              "#7201a8"
             ],
             [
              0.3333333333333333,
              "#9c179e"
             ],
             [
              0.4444444444444444,
              "#bd3786"
             ],
             [
              0.5555555555555556,
              "#d8576b"
             ],
             [
              0.6666666666666666,
              "#ed7953"
             ],
             [
              0.7777777777777778,
              "#fb9f3a"
             ],
             [
              0.8888888888888888,
              "#fdca26"
             ],
             [
              1,
              "#f0f921"
             ]
            ],
            "type": "histogram2dcontour"
           }
          ],
          "mesh3d": [
           {
            "colorbar": {
             "outlinewidth": 0,
             "ticks": ""
            },
            "type": "mesh3d"
           }
          ],
          "parcoords": [
           {
            "line": {
             "colorbar": {
              "outlinewidth": 0,
              "ticks": ""
             }
            },
            "type": "parcoords"
           }
          ],
          "pie": [
           {
            "automargin": true,
            "type": "pie"
           }
          ],
          "scatter": [
           {
            "fillpattern": {
             "fillmode": "overlay",
             "size": 10,
             "solidity": 0.2
            },
            "type": "scatter"
           }
          ],
          "scatter3d": [
           {
            "line": {
             "colorbar": {
              "outlinewidth": 0,
              "ticks": ""
             }
            },
            "marker": {
             "colorbar": {
              "outlinewidth": 0,
              "ticks": ""
             }
            },
            "type": "scatter3d"
           }
          ],
          "scattercarpet": [
           {
            "marker": {
             "colorbar": {
              "outlinewidth": 0,
              "ticks": ""
             }
            },
            "type": "scattercarpet"
           }
          ],
          "scattergeo": [
           {
            "marker": {
             "colorbar": {
              "outlinewidth": 0,
              "ticks": ""
             }
            },
            "type": "scattergeo"
           }
          ],
          "scattergl": [
           {
            "marker": {
             "colorbar": {
              "outlinewidth": 0,
              "ticks": ""
             }
            },
            "type": "scattergl"
           }
          ],
          "scattermapbox": [
           {
            "marker": {
             "colorbar": {
              "outlinewidth": 0,
              "ticks": ""
             }
            },
            "type": "scattermapbox"
           }
          ],
          "scatterpolar": [
           {
            "marker": {
             "colorbar": {
              "outlinewidth": 0,
              "ticks": ""
             }
            },
            "type": "scatterpolar"
           }
          ],
          "scatterpolargl": [
           {
            "marker": {
             "colorbar": {
              "outlinewidth": 0,
              "ticks": ""
             }
            },
            "type": "scatterpolargl"
           }
          ],
          "scatterternary": [
           {
            "marker": {
             "colorbar": {
              "outlinewidth": 0,
              "ticks": ""
             }
            },
            "type": "scatterternary"
           }
          ],
          "surface": [
           {
            "colorbar": {
             "outlinewidth": 0,
             "ticks": ""
            },
            "colorscale": [
             [
              0,
              "#0d0887"
             ],
             [
              0.1111111111111111,
              "#46039f"
             ],
             [
              0.2222222222222222,
              "#7201a8"
             ],
             [
              0.3333333333333333,
              "#9c179e"
             ],
             [
              0.4444444444444444,
              "#bd3786"
             ],
             [
              0.5555555555555556,
              "#d8576b"
             ],
             [
              0.6666666666666666,
              "#ed7953"
             ],
             [
              0.7777777777777778,
              "#fb9f3a"
             ],
             [
              0.8888888888888888,
              "#fdca26"
             ],
             [
              1,
              "#f0f921"
             ]
            ],
            "type": "surface"
           }
          ],
          "table": [
           {
            "cells": {
             "fill": {
              "color": "#EBF0F8"
             },
             "line": {
              "color": "white"
             }
            },
            "header": {
             "fill": {
              "color": "#C8D4E3"
             },
             "line": {
              "color": "white"
             }
            },
            "type": "table"
           }
          ]
         },
         "layout": {
          "annotationdefaults": {
           "arrowcolor": "#2a3f5f",
           "arrowhead": 0,
           "arrowwidth": 1
          },
          "autotypenumbers": "strict",
          "coloraxis": {
           "colorbar": {
            "outlinewidth": 0,
            "ticks": ""
           }
          },
          "colorscale": {
           "diverging": [
            [
             0,
             "#8e0152"
            ],
            [
             0.1,
             "#c51b7d"
            ],
            [
             0.2,
             "#de77ae"
            ],
            [
             0.3,
             "#f1b6da"
            ],
            [
             0.4,
             "#fde0ef"
            ],
            [
             0.5,
             "#f7f7f7"
            ],
            [
             0.6,
             "#e6f5d0"
            ],
            [
             0.7,
             "#b8e186"
            ],
            [
             0.8,
             "#7fbc41"
            ],
            [
             0.9,
             "#4d9221"
            ],
            [
             1,
             "#276419"
            ]
           ],
           "sequential": [
            [
             0,
             "#0d0887"
            ],
            [
             0.1111111111111111,
             "#46039f"
            ],
            [
             0.2222222222222222,
             "#7201a8"
            ],
            [
             0.3333333333333333,
             "#9c179e"
            ],
            [
             0.4444444444444444,
             "#bd3786"
            ],
            [
             0.5555555555555556,
             "#d8576b"
            ],
            [
             0.6666666666666666,
             "#ed7953"
            ],
            [
             0.7777777777777778,
             "#fb9f3a"
            ],
            [
             0.8888888888888888,
             "#fdca26"
            ],
            [
             1,
             "#f0f921"
            ]
           ],
           "sequentialminus": [
            [
             0,
             "#0d0887"
            ],
            [
             0.1111111111111111,
             "#46039f"
            ],
            [
             0.2222222222222222,
             "#7201a8"
            ],
            [
             0.3333333333333333,
             "#9c179e"
            ],
            [
             0.4444444444444444,
             "#bd3786"
            ],
            [
             0.5555555555555556,
             "#d8576b"
            ],
            [
             0.6666666666666666,
             "#ed7953"
            ],
            [
             0.7777777777777778,
             "#fb9f3a"
            ],
            [
             0.8888888888888888,
             "#fdca26"
            ],
            [
             1,
             "#f0f921"
            ]
           ]
          },
          "colorway": [
           "#636efa",
           "#EF553B",
           "#00cc96",
           "#ab63fa",
           "#FFA15A",
           "#19d3f3",
           "#FF6692",
           "#B6E880",
           "#FF97FF",
           "#FECB52"
          ],
          "font": {
           "color": "#2a3f5f"
          },
          "geo": {
           "bgcolor": "white",
           "lakecolor": "white",
           "landcolor": "#E5ECF6",
           "showlakes": true,
           "showland": true,
           "subunitcolor": "white"
          },
          "hoverlabel": {
           "align": "left"
          },
          "hovermode": "closest",
          "mapbox": {
           "style": "light"
          },
          "paper_bgcolor": "white",
          "plot_bgcolor": "#E5ECF6",
          "polar": {
           "angularaxis": {
            "gridcolor": "white",
            "linecolor": "white",
            "ticks": ""
           },
           "bgcolor": "#E5ECF6",
           "radialaxis": {
            "gridcolor": "white",
            "linecolor": "white",
            "ticks": ""
           }
          },
          "scene": {
           "xaxis": {
            "backgroundcolor": "#E5ECF6",
            "gridcolor": "white",
            "gridwidth": 2,
            "linecolor": "white",
            "showbackground": true,
            "ticks": "",
            "zerolinecolor": "white"
           },
           "yaxis": {
            "backgroundcolor": "#E5ECF6",
            "gridcolor": "white",
            "gridwidth": 2,
            "linecolor": "white",
            "showbackground": true,
            "ticks": "",
            "zerolinecolor": "white"
           },
           "zaxis": {
            "backgroundcolor": "#E5ECF6",
            "gridcolor": "white",
            "gridwidth": 2,
            "linecolor": "white",
            "showbackground": true,
            "ticks": "",
            "zerolinecolor": "white"
           }
          },
          "shapedefaults": {
           "line": {
            "color": "#2a3f5f"
           }
          },
          "ternary": {
           "aaxis": {
            "gridcolor": "white",
            "linecolor": "white",
            "ticks": ""
           },
           "baxis": {
            "gridcolor": "white",
            "linecolor": "white",
            "ticks": ""
           },
           "bgcolor": "#E5ECF6",
           "caxis": {
            "gridcolor": "white",
            "linecolor": "white",
            "ticks": ""
           }
          },
          "title": {
           "x": 0.05
          },
          "xaxis": {
           "automargin": true,
           "gridcolor": "white",
           "linecolor": "white",
           "ticks": "",
           "title": {
            "standoff": 15
           },
           "zerolinecolor": "white",
           "zerolinewidth": 2
          },
          "yaxis": {
           "automargin": true,
           "gridcolor": "white",
           "linecolor": "white",
           "ticks": "",
           "title": {
            "standoff": 15
           },
           "zerolinecolor": "white",
           "zerolinewidth": 2
          }
         }
        },
        "title": {
         "text": "Strengths and Weaknesses Relative to Average Score"
        },
        "width": 1000,
        "xaxis": {
         "anchor": "y",
         "domain": [
          0,
          1
         ],
         "tickangle": -45,
         "title": {
          "text": "Focus Areas"
         }
        },
        "yaxis": {
         "anchor": "x",
         "domain": [
          0,
          1
         ],
         "title": {
          "text": "Difference from Mean"
         }
        }
       }
      }
     },
     "metadata": {},
     "output_type": "display_data"
    }
   ],
   "source": [
    "fig = px.bar(df1_2, \n",
    "             x=df1_2.index, \n",
    "             y='Distance from Mean', \n",
    "             color='Distance from Mean', \n",
    "             color_continuous_scale=px.colors.sequential.Brwnyl_r, \n",
    "             range_color=[-0.4, 0.4],  \n",
    "             labels={'Distance from Mean': 'Difference from Mean'},\n",
    "             title='Strengths and Weaknesses Relative to Average Score')\n",
    "\n",
    "\n",
    "fig.update_layout(\n",
    "    xaxis_title=\"Focus Areas\", \n",
    "    yaxis_title=\"Difference from Mean\",\n",
    "    xaxis_tickangle=-45,  \n",
    "    height=600,          \n",
    "    width=1000,          \n",
    "    font=dict(size=14),\n",
    "    coloraxis_colorbar=dict(title=\"Difference from Mean\"), \n",
    "    plot_bgcolor='white',  \n",
    "    paper_bgcolor='white'  \n",
    "\n",
    ")\n",
    "\n",
    "fig.show()\n"
   ]
  },
  {
   "cell_type": "code",
   "execution_count": 24,
   "metadata": {},
   "outputs": [
    {
     "data": {
      "text/plain": [
       "review_score                      77.250191\n",
       "employer_atmosphere_score         80.938697\n",
       "employer_communication_score      68.557692\n",
       "employer_teamwork_score           79.198473\n",
       "employer_work_life_score          80.651341\n",
       "employer_leadership_score         70.515267\n",
       "employer_tasks_score              81.923077\n",
       "employer_equality_score           76.953125\n",
       "employer_old_colleagues_score     81.521739\n",
       "employer_work_conditions_score    84.615385\n",
       "employer_environment_score        77.422481\n",
       "employer_salary_score             67.624521\n",
       "employer_image_score              84.923664\n",
       "employer_career_score             71.138996\n",
       "dtype: float64"
      ]
     },
     "execution_count": 24,
     "metadata": {},
     "output_type": "execute_result"
    }
   ],
   "source": [
    "#converting the above values to percentage using the formula: \n",
    "# (x - min) / (max - min) * 100\n",
    "#we know min_score to be 1 and max_score to be 5\n",
    "min_score = 1\n",
    "max_score = 5\n",
    "\n",
    "df1 = df1.apply(lambda x: ((x - min_score) / (max_score - min_score)) * 100)\n",
    "df1"
   ]
  },
  {
   "cell_type": "code",
   "execution_count": 25,
   "metadata": {},
   "outputs": [
    {
     "data": {
      "application/vnd.plotly.v1+json": {
       "config": {
        "plotlyServerURL": "https://plot.ly"
       },
       "data": [
        {
         "alignmentgroup": "True",
         "bingroup": "x",
         "hovertemplate": "Review Score=%{x}<br>count=%{y}<extra></extra>",
         "legendgroup": "",
         "marker": {
          "color": "rgb(237, 229, 207)",
          "pattern": {
           "shape": ""
          }
         },
         "name": "",
         "nbinsx": 20,
         "offsetgroup": "",
         "orientation": "v",
         "showlegend": false,
         "type": "histogram",
         "x": [
          4.5385,
          4.0769,
          4.8462,
          4.3077,
          4.6923,
          3.9231,
          4,
          3.0769,
          4.6923,
          4.7692,
          4.6364,
          4.7692,
          4.9231,
          4.3077,
          5,
          4.9231,
          1.4615,
          2.5,
          3.6154,
          4,
          1.9231,
          4.3077,
          1.3077,
          4.2308,
          4.6154,
          4.7692,
          3.9231,
          4.1538,
          3.8462,
          4.3077,
          4.2308,
          5,
          4.7692,
          4.6154,
          4.3077,
          3.7692,
          4.1538,
          3.3077,
          5,
          4.3846,
          3.8462,
          3.6154,
          3.6154,
          4,
          4.7692,
          4.1538,
          4.5385,
          3.8462,
          4.4615,
          4.5556,
          4.6154,
          4.5385,
          3.2308,
          4.3846,
          4.4615,
          1.6923,
          4.6923,
          4.6154,
          1.8462,
          4.8462,
          4.5385,
          4.8462,
          4.6154,
          4.5385,
          4.6923,
          2.2308,
          4.6154,
          4.6154,
          2.5385,
          4.3846,
          4.5385,
          4.3846,
          1.9231,
          2.6154,
          1.5385,
          4.1538,
          2.375,
          4.1538,
          4.5385,
          4.8462,
          4.7692,
          4.6154,
          3.6923,
          4.4615,
          5,
          4.6154,
          4.7692,
          4.4615,
          4.9231,
          4.5385,
          5,
          4.6154,
          4.4615,
          3.6154,
          4.8333,
          4.7692,
          4.6154,
          2.4615,
          4.5385,
          4.3846,
          3.4615,
          4.6154,
          4.4615,
          4.4615,
          1.9167,
          4.7692,
          4.8462,
          4.6154,
          4.8182,
          4.4615,
          2.6154,
          4.6154,
          4.8462,
          4.6154,
          4.7692,
          3.3846,
          3.9231,
          3.6154,
          4.6923,
          4.9231,
          4.3846,
          4.4615,
          4.7692,
          4.6154,
          4.9231,
          1,
          4.8462,
          4.2308,
          4.9231,
          4.3077,
          4.7692,
          3.9167,
          4.9231,
          4.6923,
          1.6154,
          5,
          4.3846,
          2.4615,
          4.4615,
          4.3846,
          2.3846,
          5,
          3,
          3.3077,
          4.7692,
          3.3846,
          3.8462,
          3.5385,
          4,
          4.0769,
          4.7692,
          4.3077,
          4.3077,
          4.2308,
          4.7692,
          4.4615,
          4.7692,
          3.8333,
          4.1538,
          2.0769,
          4.0769,
          4.6923,
          4.9231,
          3.8333,
          3.3846,
          4.6154,
          4.7692,
          3.9167,
          4.4615,
          3.8462,
          5,
          4.0769,
          4.7692,
          4.5,
          1.9231,
          4.3846,
          4.4615,
          4,
          1,
          4.6923,
          4.5385,
          3.6154,
          4.6154,
          5,
          4.3846,
          4,
          3.4615,
          3.9231,
          2.9231,
          4.3077,
          3.4615,
          2.6923,
          2.0769,
          4.7692,
          4.9231,
          4.6154,
          4.6154,
          5,
          4.4615,
          3.9231,
          5,
          2.0769,
          3.7692,
          4.9231,
          4,
          4.1538,
          4.8462,
          4.4615,
          3.9231,
          1.8462,
          4.3077,
          4.8462,
          4.3846,
          5,
          4.2308,
          2.3077,
          4.3077,
          4.9231,
          4.5385,
          4.9231,
          4.3846,
          3.2308,
          5,
          4.9231,
          4.3846,
          2.6667,
          2.1538,
          3.3077,
          4.6154,
          3.1538,
          4.9231,
          2.2308,
          3,
          2.0769,
          4.4615,
          3,
          3,
          5,
          1.6923,
          4.2308,
          4.3846,
          4.6154,
          3.8182,
          3.9231,
          4.9231,
          4.8462,
          4.2308,
          4.4615,
          4.2308,
          3.7692,
          2.9231,
          4.3077,
          4.6923,
          5,
          5,
          4.4615,
          5,
          4.3077,
          4.4615,
          5,
          4.8462,
          4.9231
         ],
         "xaxis": "x",
         "yaxis": "y"
        }
       ],
       "layout": {
        "barmode": "relative",
        "legend": {
         "tracegroupgap": 0
        },
        "template": {
         "data": {
          "bar": [
           {
            "error_x": {
             "color": "#2a3f5f"
            },
            "error_y": {
             "color": "#2a3f5f"
            },
            "marker": {
             "line": {
              "color": "white",
              "width": 0.5
             },
             "pattern": {
              "fillmode": "overlay",
              "size": 10,
              "solidity": 0.2
             }
            },
            "type": "bar"
           }
          ],
          "barpolar": [
           {
            "marker": {
             "line": {
              "color": "white",
              "width": 0.5
             },
             "pattern": {
              "fillmode": "overlay",
              "size": 10,
              "solidity": 0.2
             }
            },
            "type": "barpolar"
           }
          ],
          "carpet": [
           {
            "aaxis": {
             "endlinecolor": "#2a3f5f",
             "gridcolor": "#C8D4E3",
             "linecolor": "#C8D4E3",
             "minorgridcolor": "#C8D4E3",
             "startlinecolor": "#2a3f5f"
            },
            "baxis": {
             "endlinecolor": "#2a3f5f",
             "gridcolor": "#C8D4E3",
             "linecolor": "#C8D4E3",
             "minorgridcolor": "#C8D4E3",
             "startlinecolor": "#2a3f5f"
            },
            "type": "carpet"
           }
          ],
          "choropleth": [
           {
            "colorbar": {
             "outlinewidth": 0,
             "ticks": ""
            },
            "type": "choropleth"
           }
          ],
          "contour": [
           {
            "colorbar": {
             "outlinewidth": 0,
             "ticks": ""
            },
            "colorscale": [
             [
              0,
              "#0d0887"
             ],
             [
              0.1111111111111111,
              "#46039f"
             ],
             [
              0.2222222222222222,
              "#7201a8"
             ],
             [
              0.3333333333333333,
              "#9c179e"
             ],
             [
              0.4444444444444444,
              "#bd3786"
             ],
             [
              0.5555555555555556,
              "#d8576b"
             ],
             [
              0.6666666666666666,
              "#ed7953"
             ],
             [
              0.7777777777777778,
              "#fb9f3a"
             ],
             [
              0.8888888888888888,
              "#fdca26"
             ],
             [
              1,
              "#f0f921"
             ]
            ],
            "type": "contour"
           }
          ],
          "contourcarpet": [
           {
            "colorbar": {
             "outlinewidth": 0,
             "ticks": ""
            },
            "type": "contourcarpet"
           }
          ],
          "heatmap": [
           {
            "colorbar": {
             "outlinewidth": 0,
             "ticks": ""
            },
            "colorscale": [
             [
              0,
              "#0d0887"
             ],
             [
              0.1111111111111111,
              "#46039f"
             ],
             [
              0.2222222222222222,
              "#7201a8"
             ],
             [
              0.3333333333333333,
              "#9c179e"
             ],
             [
              0.4444444444444444,
              "#bd3786"
             ],
             [
              0.5555555555555556,
              "#d8576b"
             ],
             [
              0.6666666666666666,
              "#ed7953"
             ],
             [
              0.7777777777777778,
              "#fb9f3a"
             ],
             [
              0.8888888888888888,
              "#fdca26"
             ],
             [
              1,
              "#f0f921"
             ]
            ],
            "type": "heatmap"
           }
          ],
          "heatmapgl": [
           {
            "colorbar": {
             "outlinewidth": 0,
             "ticks": ""
            },
            "colorscale": [
             [
              0,
              "#0d0887"
             ],
             [
              0.1111111111111111,
              "#46039f"
             ],
             [
              0.2222222222222222,
              "#7201a8"
             ],
             [
              0.3333333333333333,
              "#9c179e"
             ],
             [
              0.4444444444444444,
              "#bd3786"
             ],
             [
              0.5555555555555556,
              "#d8576b"
             ],
             [
              0.6666666666666666,
              "#ed7953"
             ],
             [
              0.7777777777777778,
              "#fb9f3a"
             ],
             [
              0.8888888888888888,
              "#fdca26"
             ],
             [
              1,
              "#f0f921"
             ]
            ],
            "type": "heatmapgl"
           }
          ],
          "histogram": [
           {
            "marker": {
             "pattern": {
              "fillmode": "overlay",
              "size": 10,
              "solidity": 0.2
             }
            },
            "type": "histogram"
           }
          ],
          "histogram2d": [
           {
            "colorbar": {
             "outlinewidth": 0,
             "ticks": ""
            },
            "colorscale": [
             [
              0,
              "#0d0887"
             ],
             [
              0.1111111111111111,
              "#46039f"
             ],
             [
              0.2222222222222222,
              "#7201a8"
             ],
             [
              0.3333333333333333,
              "#9c179e"
             ],
             [
              0.4444444444444444,
              "#bd3786"
             ],
             [
              0.5555555555555556,
              "#d8576b"
             ],
             [
              0.6666666666666666,
              "#ed7953"
             ],
             [
              0.7777777777777778,
              "#fb9f3a"
             ],
             [
              0.8888888888888888,
              "#fdca26"
             ],
             [
              1,
              "#f0f921"
             ]
            ],
            "type": "histogram2d"
           }
          ],
          "histogram2dcontour": [
           {
            "colorbar": {
             "outlinewidth": 0,
             "ticks": ""
            },
            "colorscale": [
             [
              0,
              "#0d0887"
             ],
             [
              0.1111111111111111,
              "#46039f"
             ],
             [
              0.2222222222222222,
              "#7201a8"
             ],
             [
              0.3333333333333333,
              "#9c179e"
             ],
             [
              0.4444444444444444,
              "#bd3786"
             ],
             [
              0.5555555555555556,
              "#d8576b"
             ],
             [
              0.6666666666666666,
              "#ed7953"
             ],
             [
              0.7777777777777778,
              "#fb9f3a"
             ],
             [
              0.8888888888888888,
              "#fdca26"
             ],
             [
              1,
              "#f0f921"
             ]
            ],
            "type": "histogram2dcontour"
           }
          ],
          "mesh3d": [
           {
            "colorbar": {
             "outlinewidth": 0,
             "ticks": ""
            },
            "type": "mesh3d"
           }
          ],
          "parcoords": [
           {
            "line": {
             "colorbar": {
              "outlinewidth": 0,
              "ticks": ""
             }
            },
            "type": "parcoords"
           }
          ],
          "pie": [
           {
            "automargin": true,
            "type": "pie"
           }
          ],
          "scatter": [
           {
            "fillpattern": {
             "fillmode": "overlay",
             "size": 10,
             "solidity": 0.2
            },
            "type": "scatter"
           }
          ],
          "scatter3d": [
           {
            "line": {
             "colorbar": {
              "outlinewidth": 0,
              "ticks": ""
             }
            },
            "marker": {
             "colorbar": {
              "outlinewidth": 0,
              "ticks": ""
             }
            },
            "type": "scatter3d"
           }
          ],
          "scattercarpet": [
           {
            "marker": {
             "colorbar": {
              "outlinewidth": 0,
              "ticks": ""
             }
            },
            "type": "scattercarpet"
           }
          ],
          "scattergeo": [
           {
            "marker": {
             "colorbar": {
              "outlinewidth": 0,
              "ticks": ""
             }
            },
            "type": "scattergeo"
           }
          ],
          "scattergl": [
           {
            "marker": {
             "colorbar": {
              "outlinewidth": 0,
              "ticks": ""
             }
            },
            "type": "scattergl"
           }
          ],
          "scattermapbox": [
           {
            "marker": {
             "colorbar": {
              "outlinewidth": 0,
              "ticks": ""
             }
            },
            "type": "scattermapbox"
           }
          ],
          "scatterpolar": [
           {
            "marker": {
             "colorbar": {
              "outlinewidth": 0,
              "ticks": ""
             }
            },
            "type": "scatterpolar"
           }
          ],
          "scatterpolargl": [
           {
            "marker": {
             "colorbar": {
              "outlinewidth": 0,
              "ticks": ""
             }
            },
            "type": "scatterpolargl"
           }
          ],
          "scatterternary": [
           {
            "marker": {
             "colorbar": {
              "outlinewidth": 0,
              "ticks": ""
             }
            },
            "type": "scatterternary"
           }
          ],
          "surface": [
           {
            "colorbar": {
             "outlinewidth": 0,
             "ticks": ""
            },
            "colorscale": [
             [
              0,
              "#0d0887"
             ],
             [
              0.1111111111111111,
              "#46039f"
             ],
             [
              0.2222222222222222,
              "#7201a8"
             ],
             [
              0.3333333333333333,
              "#9c179e"
             ],
             [
              0.4444444444444444,
              "#bd3786"
             ],
             [
              0.5555555555555556,
              "#d8576b"
             ],
             [
              0.6666666666666666,
              "#ed7953"
             ],
             [
              0.7777777777777778,
              "#fb9f3a"
             ],
             [
              0.8888888888888888,
              "#fdca26"
             ],
             [
              1,
              "#f0f921"
             ]
            ],
            "type": "surface"
           }
          ],
          "table": [
           {
            "cells": {
             "fill": {
              "color": "#EBF0F8"
             },
             "line": {
              "color": "white"
             }
            },
            "header": {
             "fill": {
              "color": "#C8D4E3"
             },
             "line": {
              "color": "white"
             }
            },
            "type": "table"
           }
          ]
         },
         "layout": {
          "annotationdefaults": {
           "arrowcolor": "#2a3f5f",
           "arrowhead": 0,
           "arrowwidth": 1
          },
          "autotypenumbers": "strict",
          "coloraxis": {
           "colorbar": {
            "outlinewidth": 0,
            "ticks": ""
           }
          },
          "colorscale": {
           "diverging": [
            [
             0,
             "#8e0152"
            ],
            [
             0.1,
             "#c51b7d"
            ],
            [
             0.2,
             "#de77ae"
            ],
            [
             0.3,
             "#f1b6da"
            ],
            [
             0.4,
             "#fde0ef"
            ],
            [
             0.5,
             "#f7f7f7"
            ],
            [
             0.6,
             "#e6f5d0"
            ],
            [
             0.7,
             "#b8e186"
            ],
            [
             0.8,
             "#7fbc41"
            ],
            [
             0.9,
             "#4d9221"
            ],
            [
             1,
             "#276419"
            ]
           ],
           "sequential": [
            [
             0,
             "#0d0887"
            ],
            [
             0.1111111111111111,
             "#46039f"
            ],
            [
             0.2222222222222222,
             "#7201a8"
            ],
            [
             0.3333333333333333,
             "#9c179e"
            ],
            [
             0.4444444444444444,
             "#bd3786"
            ],
            [
             0.5555555555555556,
             "#d8576b"
            ],
            [
             0.6666666666666666,
             "#ed7953"
            ],
            [
             0.7777777777777778,
             "#fb9f3a"
            ],
            [
             0.8888888888888888,
             "#fdca26"
            ],
            [
             1,
             "#f0f921"
            ]
           ],
           "sequentialminus": [
            [
             0,
             "#0d0887"
            ],
            [
             0.1111111111111111,
             "#46039f"
            ],
            [
             0.2222222222222222,
             "#7201a8"
            ],
            [
             0.3333333333333333,
             "#9c179e"
            ],
            [
             0.4444444444444444,
             "#bd3786"
            ],
            [
             0.5555555555555556,
             "#d8576b"
            ],
            [
             0.6666666666666666,
             "#ed7953"
            ],
            [
             0.7777777777777778,
             "#fb9f3a"
            ],
            [
             0.8888888888888888,
             "#fdca26"
            ],
            [
             1,
             "#f0f921"
            ]
           ]
          },
          "colorway": [
           "#636efa",
           "#EF553B",
           "#00cc96",
           "#ab63fa",
           "#FFA15A",
           "#19d3f3",
           "#FF6692",
           "#B6E880",
           "#FF97FF",
           "#FECB52"
          ],
          "font": {
           "color": "#2a3f5f"
          },
          "geo": {
           "bgcolor": "white",
           "lakecolor": "white",
           "landcolor": "white",
           "showlakes": true,
           "showland": true,
           "subunitcolor": "#C8D4E3"
          },
          "hoverlabel": {
           "align": "left"
          },
          "hovermode": "closest",
          "mapbox": {
           "style": "light"
          },
          "paper_bgcolor": "white",
          "plot_bgcolor": "white",
          "polar": {
           "angularaxis": {
            "gridcolor": "#EBF0F8",
            "linecolor": "#EBF0F8",
            "ticks": ""
           },
           "bgcolor": "white",
           "radialaxis": {
            "gridcolor": "#EBF0F8",
            "linecolor": "#EBF0F8",
            "ticks": ""
           }
          },
          "scene": {
           "xaxis": {
            "backgroundcolor": "white",
            "gridcolor": "#DFE8F3",
            "gridwidth": 2,
            "linecolor": "#EBF0F8",
            "showbackground": true,
            "ticks": "",
            "zerolinecolor": "#EBF0F8"
           },
           "yaxis": {
            "backgroundcolor": "white",
            "gridcolor": "#DFE8F3",
            "gridwidth": 2,
            "linecolor": "#EBF0F8",
            "showbackground": true,
            "ticks": "",
            "zerolinecolor": "#EBF0F8"
           },
           "zaxis": {
            "backgroundcolor": "white",
            "gridcolor": "#DFE8F3",
            "gridwidth": 2,
            "linecolor": "#EBF0F8",
            "showbackground": true,
            "ticks": "",
            "zerolinecolor": "#EBF0F8"
           }
          },
          "shapedefaults": {
           "line": {
            "color": "#2a3f5f"
           }
          },
          "ternary": {
           "aaxis": {
            "gridcolor": "#DFE8F3",
            "linecolor": "#A2B1C6",
            "ticks": ""
           },
           "baxis": {
            "gridcolor": "#DFE8F3",
            "linecolor": "#A2B1C6",
            "ticks": ""
           },
           "bgcolor": "white",
           "caxis": {
            "gridcolor": "#DFE8F3",
            "linecolor": "#A2B1C6",
            "ticks": ""
           }
          },
          "title": {
           "x": 0.05
          },
          "xaxis": {
           "automargin": true,
           "gridcolor": "#EBF0F8",
           "linecolor": "#EBF0F8",
           "ticks": "",
           "title": {
            "standoff": 15
           },
           "zerolinecolor": "#EBF0F8",
           "zerolinewidth": 2
          },
          "yaxis": {
           "automargin": true,
           "gridcolor": "#EBF0F8",
           "linecolor": "#EBF0F8",
           "ticks": "",
           "title": {
            "standoff": 15
           },
           "zerolinecolor": "#EBF0F8",
           "zerolinewidth": 2
          }
         }
        },
        "title": {
         "text": "Distribution of Review Scores"
        },
        "xaxis": {
         "anchor": "y",
         "domain": [
          0,
          1
         ],
         "title": {
          "text": "Review Score"
         }
        },
        "yaxis": {
         "anchor": "x",
         "domain": [
          0,
          1
         ],
         "title": {
          "text": "Count"
         }
        }
       }
      }
     },
     "metadata": {},
     "output_type": "display_data"
    }
   ],
   "source": [
    "fig = px.histogram(df, x='review_score', nbins=20, title='Distribution of Review Scores',\n",
    "                   labels={'review_score': 'Review Score'},\n",
    "                   color_discrete_sequence=px.colors.sequential.Brwnyl)\n",
    "\n",
    "fig.update_layout(\n",
    "    xaxis_title='Review Score',\n",
    "    yaxis_title='Count',\n",
    "    template='plotly_white'\n",
    ")\n",
    "\n",
    "fig.show()\n"
   ]
  },
  {
   "cell_type": "code",
   "execution_count": 26,
   "metadata": {},
   "outputs": [
    {
     "data": {
      "application/vnd.plotly.v1+json": {
       "config": {
        "plotlyServerURL": "https://plot.ly"
       },
       "data": [
        {
         "alignmentgroup": "True",
         "hovertemplate": "Score Type=%{x}<br>Score=%{y}<extra></extra>",
         "legendgroup": "employer_atmosphere_score",
         "marker": {
          "color": "rgb(84, 31, 63)"
         },
         "name": "employer_atmosphere_score",
         "notched": false,
         "offsetgroup": "employer_atmosphere_score",
         "orientation": "v",
         "showlegend": true,
         "type": "box",
         "x": [
          "employer_atmosphere_score",
          "employer_atmosphere_score",
          "employer_atmosphere_score",
          "employer_atmosphere_score",
          "employer_atmosphere_score",
          "employer_atmosphere_score",
          "employer_atmosphere_score",
          "employer_atmosphere_score",
          "employer_atmosphere_score",
          "employer_atmosphere_score",
          "employer_atmosphere_score",
          "employer_atmosphere_score",
          "employer_atmosphere_score",
          "employer_atmosphere_score",
          "employer_atmosphere_score",
          "employer_atmosphere_score",
          "employer_atmosphere_score",
          "employer_atmosphere_score",
          "employer_atmosphere_score",
          "employer_atmosphere_score",
          "employer_atmosphere_score",
          "employer_atmosphere_score",
          "employer_atmosphere_score",
          "employer_atmosphere_score",
          "employer_atmosphere_score",
          "employer_atmosphere_score",
          "employer_atmosphere_score",
          "employer_atmosphere_score",
          "employer_atmosphere_score",
          "employer_atmosphere_score",
          "employer_atmosphere_score",
          "employer_atmosphere_score",
          "employer_atmosphere_score",
          "employer_atmosphere_score",
          "employer_atmosphere_score",
          "employer_atmosphere_score",
          "employer_atmosphere_score",
          "employer_atmosphere_score",
          "employer_atmosphere_score",
          "employer_atmosphere_score",
          "employer_atmosphere_score",
          "employer_atmosphere_score",
          "employer_atmosphere_score",
          "employer_atmosphere_score",
          "employer_atmosphere_score",
          "employer_atmosphere_score",
          "employer_atmosphere_score",
          "employer_atmosphere_score",
          "employer_atmosphere_score",
          "employer_atmosphere_score",
          "employer_atmosphere_score",
          "employer_atmosphere_score",
          "employer_atmosphere_score",
          "employer_atmosphere_score",
          "employer_atmosphere_score",
          "employer_atmosphere_score",
          "employer_atmosphere_score",
          "employer_atmosphere_score",
          "employer_atmosphere_score",
          "employer_atmosphere_score",
          "employer_atmosphere_score",
          "employer_atmosphere_score",
          "employer_atmosphere_score",
          "employer_atmosphere_score",
          "employer_atmosphere_score",
          "employer_atmosphere_score",
          "employer_atmosphere_score",
          "employer_atmosphere_score",
          "employer_atmosphere_score",
          "employer_atmosphere_score",
          "employer_atmosphere_score",
          "employer_atmosphere_score",
          "employer_atmosphere_score",
          "employer_atmosphere_score",
          "employer_atmosphere_score",
          "employer_atmosphere_score",
          "employer_atmosphere_score",
          "employer_atmosphere_score",
          "employer_atmosphere_score",
          "employer_atmosphere_score",
          "employer_atmosphere_score",
          "employer_atmosphere_score",
          "employer_atmosphere_score",
          "employer_atmosphere_score",
          "employer_atmosphere_score",
          "employer_atmosphere_score",
          "employer_atmosphere_score",
          "employer_atmosphere_score",
          "employer_atmosphere_score",
          "employer_atmosphere_score",
          "employer_atmosphere_score",
          "employer_atmosphere_score",
          "employer_atmosphere_score",
          "employer_atmosphere_score",
          "employer_atmosphere_score",
          "employer_atmosphere_score",
          "employer_atmosphere_score",
          "employer_atmosphere_score",
          "employer_atmosphere_score",
          "employer_atmosphere_score",
          "employer_atmosphere_score",
          "employer_atmosphere_score",
          "employer_atmosphere_score",
          "employer_atmosphere_score",
          "employer_atmosphere_score",
          "employer_atmosphere_score",
          "employer_atmosphere_score",
          "employer_atmosphere_score",
          "employer_atmosphere_score",
          "employer_atmosphere_score",
          "employer_atmosphere_score",
          "employer_atmosphere_score",
          "employer_atmosphere_score",
          "employer_atmosphere_score",
          "employer_atmosphere_score",
          "employer_atmosphere_score",
          "employer_atmosphere_score",
          "employer_atmosphere_score",
          "employer_atmosphere_score",
          "employer_atmosphere_score",
          "employer_atmosphere_score",
          "employer_atmosphere_score",
          "employer_atmosphere_score",
          "employer_atmosphere_score",
          "employer_atmosphere_score",
          "employer_atmosphere_score",
          "employer_atmosphere_score",
          "employer_atmosphere_score",
          "employer_atmosphere_score",
          "employer_atmosphere_score",
          "employer_atmosphere_score",
          "employer_atmosphere_score",
          "employer_atmosphere_score",
          "employer_atmosphere_score",
          "employer_atmosphere_score",
          "employer_atmosphere_score",
          "employer_atmosphere_score",
          "employer_atmosphere_score",
          "employer_atmosphere_score",
          "employer_atmosphere_score",
          "employer_atmosphere_score",
          "employer_atmosphere_score",
          "employer_atmosphere_score",
          "employer_atmosphere_score",
          "employer_atmosphere_score",
          "employer_atmosphere_score",
          "employer_atmosphere_score",
          "employer_atmosphere_score",
          "employer_atmosphere_score",
          "employer_atmosphere_score",
          "employer_atmosphere_score",
          "employer_atmosphere_score",
          "employer_atmosphere_score",
          "employer_atmosphere_score",
          "employer_atmosphere_score",
          "employer_atmosphere_score",
          "employer_atmosphere_score",
          "employer_atmosphere_score",
          "employer_atmosphere_score",
          "employer_atmosphere_score",
          "employer_atmosphere_score",
          "employer_atmosphere_score",
          "employer_atmosphere_score",
          "employer_atmosphere_score",
          "employer_atmosphere_score",
          "employer_atmosphere_score",
          "employer_atmosphere_score",
          "employer_atmosphere_score",
          "employer_atmosphere_score",
          "employer_atmosphere_score",
          "employer_atmosphere_score",
          "employer_atmosphere_score",
          "employer_atmosphere_score",
          "employer_atmosphere_score",
          "employer_atmosphere_score",
          "employer_atmosphere_score",
          "employer_atmosphere_score",
          "employer_atmosphere_score",
          "employer_atmosphere_score",
          "employer_atmosphere_score",
          "employer_atmosphere_score",
          "employer_atmosphere_score",
          "employer_atmosphere_score",
          "employer_atmosphere_score",
          "employer_atmosphere_score",
          "employer_atmosphere_score",
          "employer_atmosphere_score",
          "employer_atmosphere_score",
          "employer_atmosphere_score",
          "employer_atmosphere_score",
          "employer_atmosphere_score",
          "employer_atmosphere_score",
          "employer_atmosphere_score",
          "employer_atmosphere_score",
          "employer_atmosphere_score",
          "employer_atmosphere_score",
          "employer_atmosphere_score",
          "employer_atmosphere_score",
          "employer_atmosphere_score",
          "employer_atmosphere_score",
          "employer_atmosphere_score",
          "employer_atmosphere_score",
          "employer_atmosphere_score",
          "employer_atmosphere_score",
          "employer_atmosphere_score",
          "employer_atmosphere_score",
          "employer_atmosphere_score",
          "employer_atmosphere_score",
          "employer_atmosphere_score",
          "employer_atmosphere_score",
          "employer_atmosphere_score",
          "employer_atmosphere_score",
          "employer_atmosphere_score",
          "employer_atmosphere_score",
          "employer_atmosphere_score",
          "employer_atmosphere_score",
          "employer_atmosphere_score",
          "employer_atmosphere_score",
          "employer_atmosphere_score",
          "employer_atmosphere_score",
          "employer_atmosphere_score",
          "employer_atmosphere_score",
          "employer_atmosphere_score",
          "employer_atmosphere_score",
          "employer_atmosphere_score",
          "employer_atmosphere_score",
          "employer_atmosphere_score",
          "employer_atmosphere_score",
          "employer_atmosphere_score",
          "employer_atmosphere_score",
          "employer_atmosphere_score",
          "employer_atmosphere_score",
          "employer_atmosphere_score",
          "employer_atmosphere_score",
          "employer_atmosphere_score",
          "employer_atmosphere_score",
          "employer_atmosphere_score",
          "employer_atmosphere_score",
          "employer_atmosphere_score",
          "employer_atmosphere_score",
          "employer_atmosphere_score",
          "employer_atmosphere_score",
          "employer_atmosphere_score",
          "employer_atmosphere_score",
          "employer_atmosphere_score",
          "employer_atmosphere_score",
          "employer_atmosphere_score",
          "employer_atmosphere_score",
          "employer_atmosphere_score",
          "employer_atmosphere_score",
          "employer_atmosphere_score",
          "employer_atmosphere_score",
          "employer_atmosphere_score",
          "employer_atmosphere_score",
          "employer_atmosphere_score",
          "employer_atmosphere_score",
          "employer_atmosphere_score",
          "employer_atmosphere_score",
          "employer_atmosphere_score",
          "employer_atmosphere_score",
          "employer_atmosphere_score",
          "employer_atmosphere_score"
         ],
         "x0": " ",
         "xaxis": "x",
         "y": [
          5,
          4,
          5,
          4,
          5,
          5,
          3,
          3,
          5,
          5,
          5,
          5,
          5,
          5,
          5,
          5,
          1,
          2,
          4,
          5,
          2,
          5,
          1,
          4,
          5,
          5,
          4,
          4,
          4,
          5,
          4,
          5,
          5,
          5,
          5,
          5,
          4,
          3,
          5,
          4,
          4,
          4,
          4,
          4,
          5,
          4,
          5,
          4,
          5,
          5,
          4,
          5,
          4,
          5,
          5,
          1,
          5,
          4,
          2,
          5,
          5,
          5,
          5,
          5,
          5,
          2,
          5,
          4,
          2,
          5,
          4,
          4,
          2,
          3,
          2,
          4,
          3,
          5,
          5,
          5,
          5,
          5,
          4,
          5,
          5,
          5,
          5,
          5,
          5,
          5,
          5,
          5,
          4,
          4,
          5,
          5,
          5,
          3,
          4,
          5,
          4,
          5,
          5,
          5,
          1,
          5,
          5,
          5,
          5,
          4,
          3,
          5,
          5,
          5,
          5,
          3,
          4,
          3,
          5,
          5,
          4,
          4,
          5,
          5,
          5,
          1,
          5,
          5,
          4,
          4,
          5,
          5,
          5,
          5,
          1,
          5,
          5,
          2,
          5,
          5,
          3,
          5,
          3,
          4,
          5,
          3,
          4,
          3,
          4,
          5,
          5,
          5,
          5,
          5,
          5,
          5,
          5,
          4,
          4,
          2,
          4,
          5,
          5,
          4,
          4,
          5,
          5,
          5,
          5,
          4,
          5,
          4,
          5,
          5,
          2,
          4,
          5,
          5,
          1,
          5,
          5,
          4,
          4,
          5,
          5,
          5,
          3,
          3,
          2,
          4,
          3,
          4,
          1,
          5,
          5,
          5,
          4,
          5,
          5,
          5,
          5,
          2,
          5,
          5,
          4,
          4,
          5,
          5,
          4,
          3,
          4,
          5,
          4,
          5,
          4,
          2,
          4,
          5,
          5,
          5,
          4,
          2,
          5,
          5,
          5,
          null,
          1,
          3,
          5,
          4,
          5,
          4,
          2,
          1,
          4,
          3,
          4,
          5,
          1,
          4,
          4,
          5,
          4,
          5,
          5,
          4,
          5,
          5,
          5,
          4,
          3,
          4,
          5,
          5,
          5,
          5,
          5,
          4,
          4,
          5,
          5,
          5
         ],
         "y0": " ",
         "yaxis": "y"
        },
        {
         "alignmentgroup": "True",
         "hovertemplate": "Score Type=%{x}<br>Score=%{y}<extra></extra>",
         "legendgroup": "employer_communication_score",
         "marker": {
          "color": "rgb(129, 55, 83)"
         },
         "name": "employer_communication_score",
         "notched": false,
         "offsetgroup": "employer_communication_score",
         "orientation": "v",
         "showlegend": true,
         "type": "box",
         "x": [
          "employer_communication_score",
          "employer_communication_score",
          "employer_communication_score",
          "employer_communication_score",
          "employer_communication_score",
          "employer_communication_score",
          "employer_communication_score",
          "employer_communication_score",
          "employer_communication_score",
          "employer_communication_score",
          "employer_communication_score",
          "employer_communication_score",
          "employer_communication_score",
          "employer_communication_score",
          "employer_communication_score",
          "employer_communication_score",
          "employer_communication_score",
          "employer_communication_score",
          "employer_communication_score",
          "employer_communication_score",
          "employer_communication_score",
          "employer_communication_score",
          "employer_communication_score",
          "employer_communication_score",
          "employer_communication_score",
          "employer_communication_score",
          "employer_communication_score",
          "employer_communication_score",
          "employer_communication_score",
          "employer_communication_score",
          "employer_communication_score",
          "employer_communication_score",
          "employer_communication_score",
          "employer_communication_score",
          "employer_communication_score",
          "employer_communication_score",
          "employer_communication_score",
          "employer_communication_score",
          "employer_communication_score",
          "employer_communication_score",
          "employer_communication_score",
          "employer_communication_score",
          "employer_communication_score",
          "employer_communication_score",
          "employer_communication_score",
          "employer_communication_score",
          "employer_communication_score",
          "employer_communication_score",
          "employer_communication_score",
          "employer_communication_score",
          "employer_communication_score",
          "employer_communication_score",
          "employer_communication_score",
          "employer_communication_score",
          "employer_communication_score",
          "employer_communication_score",
          "employer_communication_score",
          "employer_communication_score",
          "employer_communication_score",
          "employer_communication_score",
          "employer_communication_score",
          "employer_communication_score",
          "employer_communication_score",
          "employer_communication_score",
          "employer_communication_score",
          "employer_communication_score",
          "employer_communication_score",
          "employer_communication_score",
          "employer_communication_score",
          "employer_communication_score",
          "employer_communication_score",
          "employer_communication_score",
          "employer_communication_score",
          "employer_communication_score",
          "employer_communication_score",
          "employer_communication_score",
          "employer_communication_score",
          "employer_communication_score",
          "employer_communication_score",
          "employer_communication_score",
          "employer_communication_score",
          "employer_communication_score",
          "employer_communication_score",
          "employer_communication_score",
          "employer_communication_score",
          "employer_communication_score",
          "employer_communication_score",
          "employer_communication_score",
          "employer_communication_score",
          "employer_communication_score",
          "employer_communication_score",
          "employer_communication_score",
          "employer_communication_score",
          "employer_communication_score",
          "employer_communication_score",
          "employer_communication_score",
          "employer_communication_score",
          "employer_communication_score",
          "employer_communication_score",
          "employer_communication_score",
          "employer_communication_score",
          "employer_communication_score",
          "employer_communication_score",
          "employer_communication_score",
          "employer_communication_score",
          "employer_communication_score",
          "employer_communication_score",
          "employer_communication_score",
          "employer_communication_score",
          "employer_communication_score",
          "employer_communication_score",
          "employer_communication_score",
          "employer_communication_score",
          "employer_communication_score",
          "employer_communication_score",
          "employer_communication_score",
          "employer_communication_score",
          "employer_communication_score",
          "employer_communication_score",
          "employer_communication_score",
          "employer_communication_score",
          "employer_communication_score",
          "employer_communication_score",
          "employer_communication_score",
          "employer_communication_score",
          "employer_communication_score",
          "employer_communication_score",
          "employer_communication_score",
          "employer_communication_score",
          "employer_communication_score",
          "employer_communication_score",
          "employer_communication_score",
          "employer_communication_score",
          "employer_communication_score",
          "employer_communication_score",
          "employer_communication_score",
          "employer_communication_score",
          "employer_communication_score",
          "employer_communication_score",
          "employer_communication_score",
          "employer_communication_score",
          "employer_communication_score",
          "employer_communication_score",
          "employer_communication_score",
          "employer_communication_score",
          "employer_communication_score",
          "employer_communication_score",
          "employer_communication_score",
          "employer_communication_score",
          "employer_communication_score",
          "employer_communication_score",
          "employer_communication_score",
          "employer_communication_score",
          "employer_communication_score",
          "employer_communication_score",
          "employer_communication_score",
          "employer_communication_score",
          "employer_communication_score",
          "employer_communication_score",
          "employer_communication_score",
          "employer_communication_score",
          "employer_communication_score",
          "employer_communication_score",
          "employer_communication_score",
          "employer_communication_score",
          "employer_communication_score",
          "employer_communication_score",
          "employer_communication_score",
          "employer_communication_score",
          "employer_communication_score",
          "employer_communication_score",
          "employer_communication_score",
          "employer_communication_score",
          "employer_communication_score",
          "employer_communication_score",
          "employer_communication_score",
          "employer_communication_score",
          "employer_communication_score",
          "employer_communication_score",
          "employer_communication_score",
          "employer_communication_score",
          "employer_communication_score",
          "employer_communication_score",
          "employer_communication_score",
          "employer_communication_score",
          "employer_communication_score",
          "employer_communication_score",
          "employer_communication_score",
          "employer_communication_score",
          "employer_communication_score",
          "employer_communication_score",
          "employer_communication_score",
          "employer_communication_score",
          "employer_communication_score",
          "employer_communication_score",
          "employer_communication_score",
          "employer_communication_score",
          "employer_communication_score",
          "employer_communication_score",
          "employer_communication_score",
          "employer_communication_score",
          "employer_communication_score",
          "employer_communication_score",
          "employer_communication_score",
          "employer_communication_score",
          "employer_communication_score",
          "employer_communication_score",
          "employer_communication_score",
          "employer_communication_score",
          "employer_communication_score",
          "employer_communication_score",
          "employer_communication_score",
          "employer_communication_score",
          "employer_communication_score",
          "employer_communication_score",
          "employer_communication_score",
          "employer_communication_score",
          "employer_communication_score",
          "employer_communication_score",
          "employer_communication_score",
          "employer_communication_score",
          "employer_communication_score",
          "employer_communication_score",
          "employer_communication_score",
          "employer_communication_score",
          "employer_communication_score",
          "employer_communication_score",
          "employer_communication_score",
          "employer_communication_score",
          "employer_communication_score",
          "employer_communication_score",
          "employer_communication_score",
          "employer_communication_score",
          "employer_communication_score",
          "employer_communication_score",
          "employer_communication_score",
          "employer_communication_score",
          "employer_communication_score",
          "employer_communication_score",
          "employer_communication_score",
          "employer_communication_score",
          "employer_communication_score",
          "employer_communication_score",
          "employer_communication_score",
          "employer_communication_score",
          "employer_communication_score",
          "employer_communication_score",
          "employer_communication_score",
          "employer_communication_score",
          "employer_communication_score",
          "employer_communication_score",
          "employer_communication_score",
          "employer_communication_score",
          "employer_communication_score",
          "employer_communication_score",
          "employer_communication_score",
          "employer_communication_score",
          "employer_communication_score",
          "employer_communication_score",
          "employer_communication_score",
          "employer_communication_score",
          "employer_communication_score"
         ],
         "x0": " ",
         "xaxis": "x",
         "y": [
          5,
          3,
          4,
          4,
          5,
          4,
          3,
          2,
          4,
          5,
          5,
          5,
          5,
          4,
          5,
          5,
          1,
          2,
          3,
          3,
          1,
          4,
          1,
          4,
          5,
          4,
          4,
          3,
          3,
          4,
          4,
          5,
          5,
          3,
          3,
          4,
          3,
          2,
          5,
          4,
          3,
          4,
          3,
          4,
          5,
          3,
          3,
          3,
          3,
          4,
          4,
          4,
          3,
          4,
          4,
          1,
          4,
          4,
          1,
          5,
          4,
          5,
          5,
          4,
          4,
          2,
          4,
          5,
          2,
          4,
          4,
          4,
          1,
          2,
          2,
          4,
          3,
          3,
          4,
          4,
          5,
          5,
          4,
          3,
          5,
          4,
          4,
          4,
          4,
          4,
          5,
          4,
          4,
          4,
          4,
          5,
          4,
          3,
          4,
          4,
          5,
          5,
          4,
          3,
          null,
          5,
          4,
          5,
          4,
          4,
          2,
          4,
          5,
          5,
          4,
          3,
          3,
          3,
          4,
          5,
          4,
          4,
          4,
          4,
          5,
          1,
          5,
          3,
          5,
          4,
          4,
          4,
          5,
          5,
          1,
          5,
          5,
          1,
          4,
          5,
          2,
          5,
          2,
          3,
          4,
          3,
          4,
          3,
          4,
          3,
          4,
          4,
          4,
          4,
          5,
          5,
          4,
          4,
          3,
          1,
          3,
          5,
          5,
          3,
          3,
          4,
          4,
          null,
          4,
          4,
          5,
          4,
          4,
          4,
          3,
          5,
          3,
          3,
          1,
          4,
          5,
          3,
          4,
          5,
          4,
          3,
          2,
          2,
          2,
          5,
          2,
          2,
          2,
          5,
          5,
          4,
          4,
          5,
          4,
          3,
          5,
          2,
          3,
          5,
          5,
          3,
          5,
          4,
          3,
          3,
          4,
          5,
          4,
          5,
          4,
          2,
          4,
          4,
          4,
          4,
          4,
          3,
          5,
          5,
          3,
          3,
          1,
          3,
          4,
          3,
          4,
          2,
          3,
          1,
          5,
          3,
          4,
          5,
          1,
          4,
          4,
          4,
          4,
          4,
          5,
          4,
          4,
          5,
          3,
          4,
          2,
          3,
          4,
          5,
          5,
          4,
          5,
          4,
          3,
          5,
          5,
          5
         ],
         "y0": " ",
         "yaxis": "y"
        },
        {
         "alignmentgroup": "True",
         "hovertemplate": "Score Type=%{x}<br>Score=%{y}<extra></extra>",
         "legendgroup": "employer_teamwork_score",
         "marker": {
          "color": "rgb(166, 84, 97)"
         },
         "name": "employer_teamwork_score",
         "notched": false,
         "offsetgroup": "employer_teamwork_score",
         "orientation": "v",
         "showlegend": true,
         "type": "box",
         "x": [
          "employer_teamwork_score",
          "employer_teamwork_score",
          "employer_teamwork_score",
          "employer_teamwork_score",
          "employer_teamwork_score",
          "employer_teamwork_score",
          "employer_teamwork_score",
          "employer_teamwork_score",
          "employer_teamwork_score",
          "employer_teamwork_score",
          "employer_teamwork_score",
          "employer_teamwork_score",
          "employer_teamwork_score",
          "employer_teamwork_score",
          "employer_teamwork_score",
          "employer_teamwork_score",
          "employer_teamwork_score",
          "employer_teamwork_score",
          "employer_teamwork_score",
          "employer_teamwork_score",
          "employer_teamwork_score",
          "employer_teamwork_score",
          "employer_teamwork_score",
          "employer_teamwork_score",
          "employer_teamwork_score",
          "employer_teamwork_score",
          "employer_teamwork_score",
          "employer_teamwork_score",
          "employer_teamwork_score",
          "employer_teamwork_score",
          "employer_teamwork_score",
          "employer_teamwork_score",
          "employer_teamwork_score",
          "employer_teamwork_score",
          "employer_teamwork_score",
          "employer_teamwork_score",
          "employer_teamwork_score",
          "employer_teamwork_score",
          "employer_teamwork_score",
          "employer_teamwork_score",
          "employer_teamwork_score",
          "employer_teamwork_score",
          "employer_teamwork_score",
          "employer_teamwork_score",
          "employer_teamwork_score",
          "employer_teamwork_score",
          "employer_teamwork_score",
          "employer_teamwork_score",
          "employer_teamwork_score",
          "employer_teamwork_score",
          "employer_teamwork_score",
          "employer_teamwork_score",
          "employer_teamwork_score",
          "employer_teamwork_score",
          "employer_teamwork_score",
          "employer_teamwork_score",
          "employer_teamwork_score",
          "employer_teamwork_score",
          "employer_teamwork_score",
          "employer_teamwork_score",
          "employer_teamwork_score",
          "employer_teamwork_score",
          "employer_teamwork_score",
          "employer_teamwork_score",
          "employer_teamwork_score",
          "employer_teamwork_score",
          "employer_teamwork_score",
          "employer_teamwork_score",
          "employer_teamwork_score",
          "employer_teamwork_score",
          "employer_teamwork_score",
          "employer_teamwork_score",
          "employer_teamwork_score",
          "employer_teamwork_score",
          "employer_teamwork_score",
          "employer_teamwork_score",
          "employer_teamwork_score",
          "employer_teamwork_score",
          "employer_teamwork_score",
          "employer_teamwork_score",
          "employer_teamwork_score",
          "employer_teamwork_score",
          "employer_teamwork_score",
          "employer_teamwork_score",
          "employer_teamwork_score",
          "employer_teamwork_score",
          "employer_teamwork_score",
          "employer_teamwork_score",
          "employer_teamwork_score",
          "employer_teamwork_score",
          "employer_teamwork_score",
          "employer_teamwork_score",
          "employer_teamwork_score",
          "employer_teamwork_score",
          "employer_teamwork_score",
          "employer_teamwork_score",
          "employer_teamwork_score",
          "employer_teamwork_score",
          "employer_teamwork_score",
          "employer_teamwork_score",
          "employer_teamwork_score",
          "employer_teamwork_score",
          "employer_teamwork_score",
          "employer_teamwork_score",
          "employer_teamwork_score",
          "employer_teamwork_score",
          "employer_teamwork_score",
          "employer_teamwork_score",
          "employer_teamwork_score",
          "employer_teamwork_score",
          "employer_teamwork_score",
          "employer_teamwork_score",
          "employer_teamwork_score",
          "employer_teamwork_score",
          "employer_teamwork_score",
          "employer_teamwork_score",
          "employer_teamwork_score",
          "employer_teamwork_score",
          "employer_teamwork_score",
          "employer_teamwork_score",
          "employer_teamwork_score",
          "employer_teamwork_score",
          "employer_teamwork_score",
          "employer_teamwork_score",
          "employer_teamwork_score",
          "employer_teamwork_score",
          "employer_teamwork_score",
          "employer_teamwork_score",
          "employer_teamwork_score",
          "employer_teamwork_score",
          "employer_teamwork_score",
          "employer_teamwork_score",
          "employer_teamwork_score",
          "employer_teamwork_score",
          "employer_teamwork_score",
          "employer_teamwork_score",
          "employer_teamwork_score",
          "employer_teamwork_score",
          "employer_teamwork_score",
          "employer_teamwork_score",
          "employer_teamwork_score",
          "employer_teamwork_score",
          "employer_teamwork_score",
          "employer_teamwork_score",
          "employer_teamwork_score",
          "employer_teamwork_score",
          "employer_teamwork_score",
          "employer_teamwork_score",
          "employer_teamwork_score",
          "employer_teamwork_score",
          "employer_teamwork_score",
          "employer_teamwork_score",
          "employer_teamwork_score",
          "employer_teamwork_score",
          "employer_teamwork_score",
          "employer_teamwork_score",
          "employer_teamwork_score",
          "employer_teamwork_score",
          "employer_teamwork_score",
          "employer_teamwork_score",
          "employer_teamwork_score",
          "employer_teamwork_score",
          "employer_teamwork_score",
          "employer_teamwork_score",
          "employer_teamwork_score",
          "employer_teamwork_score",
          "employer_teamwork_score",
          "employer_teamwork_score",
          "employer_teamwork_score",
          "employer_teamwork_score",
          "employer_teamwork_score",
          "employer_teamwork_score",
          "employer_teamwork_score",
          "employer_teamwork_score",
          "employer_teamwork_score",
          "employer_teamwork_score",
          "employer_teamwork_score",
          "employer_teamwork_score",
          "employer_teamwork_score",
          "employer_teamwork_score",
          "employer_teamwork_score",
          "employer_teamwork_score",
          "employer_teamwork_score",
          "employer_teamwork_score",
          "employer_teamwork_score",
          "employer_teamwork_score",
          "employer_teamwork_score",
          "employer_teamwork_score",
          "employer_teamwork_score",
          "employer_teamwork_score",
          "employer_teamwork_score",
          "employer_teamwork_score",
          "employer_teamwork_score",
          "employer_teamwork_score",
          "employer_teamwork_score",
          "employer_teamwork_score",
          "employer_teamwork_score",
          "employer_teamwork_score",
          "employer_teamwork_score",
          "employer_teamwork_score",
          "employer_teamwork_score",
          "employer_teamwork_score",
          "employer_teamwork_score",
          "employer_teamwork_score",
          "employer_teamwork_score",
          "employer_teamwork_score",
          "employer_teamwork_score",
          "employer_teamwork_score",
          "employer_teamwork_score",
          "employer_teamwork_score",
          "employer_teamwork_score",
          "employer_teamwork_score",
          "employer_teamwork_score",
          "employer_teamwork_score",
          "employer_teamwork_score",
          "employer_teamwork_score",
          "employer_teamwork_score",
          "employer_teamwork_score",
          "employer_teamwork_score",
          "employer_teamwork_score",
          "employer_teamwork_score",
          "employer_teamwork_score",
          "employer_teamwork_score",
          "employer_teamwork_score",
          "employer_teamwork_score",
          "employer_teamwork_score",
          "employer_teamwork_score",
          "employer_teamwork_score",
          "employer_teamwork_score",
          "employer_teamwork_score",
          "employer_teamwork_score",
          "employer_teamwork_score",
          "employer_teamwork_score",
          "employer_teamwork_score",
          "employer_teamwork_score",
          "employer_teamwork_score",
          "employer_teamwork_score",
          "employer_teamwork_score",
          "employer_teamwork_score",
          "employer_teamwork_score",
          "employer_teamwork_score",
          "employer_teamwork_score",
          "employer_teamwork_score",
          "employer_teamwork_score",
          "employer_teamwork_score",
          "employer_teamwork_score",
          "employer_teamwork_score",
          "employer_teamwork_score",
          "employer_teamwork_score",
          "employer_teamwork_score",
          "employer_teamwork_score",
          "employer_teamwork_score",
          "employer_teamwork_score",
          "employer_teamwork_score",
          "employer_teamwork_score",
          "employer_teamwork_score",
          "employer_teamwork_score",
          "employer_teamwork_score",
          "employer_teamwork_score",
          "employer_teamwork_score",
          "employer_teamwork_score",
          "employer_teamwork_score"
         ],
         "x0": " ",
         "xaxis": "x",
         "y": [
          4,
          4,
          5,
          4,
          5,
          4,
          3,
          4,
          5,
          5,
          5,
          5,
          5,
          5,
          5,
          5,
          3,
          2,
          3,
          5,
          2,
          4,
          3,
          5,
          4,
          5,
          4,
          3,
          4,
          4,
          5,
          5,
          5,
          4,
          4,
          4,
          3,
          5,
          5,
          4,
          4,
          4,
          3,
          4,
          5,
          5,
          5,
          5,
          5,
          4,
          4,
          5,
          4,
          5,
          5,
          1,
          5,
          5,
          1,
          5,
          5,
          5,
          4,
          4,
          5,
          2,
          5,
          5,
          3,
          4,
          4,
          4,
          1,
          4,
          1,
          4,
          2,
          4,
          4,
          5,
          5,
          5,
          3,
          4,
          5,
          5,
          5,
          5,
          5,
          5,
          5,
          5,
          5,
          4,
          5,
          5,
          5,
          3,
          4,
          5,
          5,
          5,
          4,
          5,
          2,
          5,
          5,
          5,
          5,
          5,
          4,
          4,
          5,
          5,
          5,
          3,
          5,
          5,
          5,
          5,
          4,
          5,
          5,
          4,
          5,
          1,
          5,
          5,
          5,
          4,
          5,
          4,
          5,
          4,
          2,
          5,
          4,
          4,
          4,
          5,
          1,
          5,
          4,
          5,
          4,
          5,
          4,
          3,
          5,
          4,
          5,
          4,
          4,
          4,
          5,
          5,
          4,
          5,
          4,
          2,
          5,
          5,
          5,
          4,
          3,
          4,
          4,
          5,
          5,
          4,
          5,
          4,
          5,
          4,
          2,
          4,
          5,
          5,
          1,
          5,
          4,
          3,
          4,
          5,
          5,
          4,
          4,
          3,
          2,
          4,
          3,
          3,
          1,
          5,
          5,
          5,
          4,
          5,
          4,
          3,
          5,
          1,
          4,
          5,
          3,
          4,
          5,
          5,
          5,
          3,
          5,
          5,
          4,
          5,
          5,
          3,
          4,
          5,
          4,
          5,
          4,
          5,
          5,
          5,
          5,
          3,
          3,
          3,
          4,
          4,
          5,
          2,
          4,
          4,
          4,
          3,
          3,
          5,
          1,
          4,
          4,
          5,
          4,
          4,
          5,
          5,
          4,
          4,
          4,
          4,
          1,
          4,
          4,
          5,
          5,
          3,
          5,
          4,
          3,
          5,
          5,
          5
         ],
         "y0": " ",
         "yaxis": "y"
        },
        {
         "alignmentgroup": "True",
         "hovertemplate": "Score Type=%{x}<br>Score=%{y}<extra></extra>",
         "legendgroup": "employer_work_life_score",
         "marker": {
          "color": "rgb(193, 118, 111)"
         },
         "name": "employer_work_life_score",
         "notched": false,
         "offsetgroup": "employer_work_life_score",
         "orientation": "v",
         "showlegend": true,
         "type": "box",
         "x": [
          "employer_work_life_score",
          "employer_work_life_score",
          "employer_work_life_score",
          "employer_work_life_score",
          "employer_work_life_score",
          "employer_work_life_score",
          "employer_work_life_score",
          "employer_work_life_score",
          "employer_work_life_score",
          "employer_work_life_score",
          "employer_work_life_score",
          "employer_work_life_score",
          "employer_work_life_score",
          "employer_work_life_score",
          "employer_work_life_score",
          "employer_work_life_score",
          "employer_work_life_score",
          "employer_work_life_score",
          "employer_work_life_score",
          "employer_work_life_score",
          "employer_work_life_score",
          "employer_work_life_score",
          "employer_work_life_score",
          "employer_work_life_score",
          "employer_work_life_score",
          "employer_work_life_score",
          "employer_work_life_score",
          "employer_work_life_score",
          "employer_work_life_score",
          "employer_work_life_score",
          "employer_work_life_score",
          "employer_work_life_score",
          "employer_work_life_score",
          "employer_work_life_score",
          "employer_work_life_score",
          "employer_work_life_score",
          "employer_work_life_score",
          "employer_work_life_score",
          "employer_work_life_score",
          "employer_work_life_score",
          "employer_work_life_score",
          "employer_work_life_score",
          "employer_work_life_score",
          "employer_work_life_score",
          "employer_work_life_score",
          "employer_work_life_score",
          "employer_work_life_score",
          "employer_work_life_score",
          "employer_work_life_score",
          "employer_work_life_score",
          "employer_work_life_score",
          "employer_work_life_score",
          "employer_work_life_score",
          "employer_work_life_score",
          "employer_work_life_score",
          "employer_work_life_score",
          "employer_work_life_score",
          "employer_work_life_score",
          "employer_work_life_score",
          "employer_work_life_score",
          "employer_work_life_score",
          "employer_work_life_score",
          "employer_work_life_score",
          "employer_work_life_score",
          "employer_work_life_score",
          "employer_work_life_score",
          "employer_work_life_score",
          "employer_work_life_score",
          "employer_work_life_score",
          "employer_work_life_score",
          "employer_work_life_score",
          "employer_work_life_score",
          "employer_work_life_score",
          "employer_work_life_score",
          "employer_work_life_score",
          "employer_work_life_score",
          "employer_work_life_score",
          "employer_work_life_score",
          "employer_work_life_score",
          "employer_work_life_score",
          "employer_work_life_score",
          "employer_work_life_score",
          "employer_work_life_score",
          "employer_work_life_score",
          "employer_work_life_score",
          "employer_work_life_score",
          "employer_work_life_score",
          "employer_work_life_score",
          "employer_work_life_score",
          "employer_work_life_score",
          "employer_work_life_score",
          "employer_work_life_score",
          "employer_work_life_score",
          "employer_work_life_score",
          "employer_work_life_score",
          "employer_work_life_score",
          "employer_work_life_score",
          "employer_work_life_score",
          "employer_work_life_score",
          "employer_work_life_score",
          "employer_work_life_score",
          "employer_work_life_score",
          "employer_work_life_score",
          "employer_work_life_score",
          "employer_work_life_score",
          "employer_work_life_score",
          "employer_work_life_score",
          "employer_work_life_score",
          "employer_work_life_score",
          "employer_work_life_score",
          "employer_work_life_score",
          "employer_work_life_score",
          "employer_work_life_score",
          "employer_work_life_score",
          "employer_work_life_score",
          "employer_work_life_score",
          "employer_work_life_score",
          "employer_work_life_score",
          "employer_work_life_score",
          "employer_work_life_score",
          "employer_work_life_score",
          "employer_work_life_score",
          "employer_work_life_score",
          "employer_work_life_score",
          "employer_work_life_score",
          "employer_work_life_score",
          "employer_work_life_score",
          "employer_work_life_score",
          "employer_work_life_score",
          "employer_work_life_score",
          "employer_work_life_score",
          "employer_work_life_score",
          "employer_work_life_score",
          "employer_work_life_score",
          "employer_work_life_score",
          "employer_work_life_score",
          "employer_work_life_score",
          "employer_work_life_score",
          "employer_work_life_score",
          "employer_work_life_score",
          "employer_work_life_score",
          "employer_work_life_score",
          "employer_work_life_score",
          "employer_work_life_score",
          "employer_work_life_score",
          "employer_work_life_score",
          "employer_work_life_score",
          "employer_work_life_score",
          "employer_work_life_score",
          "employer_work_life_score",
          "employer_work_life_score",
          "employer_work_life_score",
          "employer_work_life_score",
          "employer_work_life_score",
          "employer_work_life_score",
          "employer_work_life_score",
          "employer_work_life_score",
          "employer_work_life_score",
          "employer_work_life_score",
          "employer_work_life_score",
          "employer_work_life_score",
          "employer_work_life_score",
          "employer_work_life_score",
          "employer_work_life_score",
          "employer_work_life_score",
          "employer_work_life_score",
          "employer_work_life_score",
          "employer_work_life_score",
          "employer_work_life_score",
          "employer_work_life_score",
          "employer_work_life_score",
          "employer_work_life_score",
          "employer_work_life_score",
          "employer_work_life_score",
          "employer_work_life_score",
          "employer_work_life_score",
          "employer_work_life_score",
          "employer_work_life_score",
          "employer_work_life_score",
          "employer_work_life_score",
          "employer_work_life_score",
          "employer_work_life_score",
          "employer_work_life_score",
          "employer_work_life_score",
          "employer_work_life_score",
          "employer_work_life_score",
          "employer_work_life_score",
          "employer_work_life_score",
          "employer_work_life_score",
          "employer_work_life_score",
          "employer_work_life_score",
          "employer_work_life_score",
          "employer_work_life_score",
          "employer_work_life_score",
          "employer_work_life_score",
          "employer_work_life_score",
          "employer_work_life_score",
          "employer_work_life_score",
          "employer_work_life_score",
          "employer_work_life_score",
          "employer_work_life_score",
          "employer_work_life_score",
          "employer_work_life_score",
          "employer_work_life_score",
          "employer_work_life_score",
          "employer_work_life_score",
          "employer_work_life_score",
          "employer_work_life_score",
          "employer_work_life_score",
          "employer_work_life_score",
          "employer_work_life_score",
          "employer_work_life_score",
          "employer_work_life_score",
          "employer_work_life_score",
          "employer_work_life_score",
          "employer_work_life_score",
          "employer_work_life_score",
          "employer_work_life_score",
          "employer_work_life_score",
          "employer_work_life_score",
          "employer_work_life_score",
          "employer_work_life_score",
          "employer_work_life_score",
          "employer_work_life_score",
          "employer_work_life_score",
          "employer_work_life_score",
          "employer_work_life_score",
          "employer_work_life_score",
          "employer_work_life_score",
          "employer_work_life_score",
          "employer_work_life_score",
          "employer_work_life_score",
          "employer_work_life_score",
          "employer_work_life_score",
          "employer_work_life_score",
          "employer_work_life_score",
          "employer_work_life_score",
          "employer_work_life_score",
          "employer_work_life_score",
          "employer_work_life_score",
          "employer_work_life_score",
          "employer_work_life_score",
          "employer_work_life_score",
          "employer_work_life_score",
          "employer_work_life_score",
          "employer_work_life_score",
          "employer_work_life_score",
          "employer_work_life_score",
          "employer_work_life_score",
          "employer_work_life_score",
          "employer_work_life_score",
          "employer_work_life_score",
          "employer_work_life_score",
          "employer_work_life_score",
          "employer_work_life_score",
          "employer_work_life_score",
          "employer_work_life_score",
          "employer_work_life_score",
          "employer_work_life_score",
          "employer_work_life_score",
          "employer_work_life_score",
          "employer_work_life_score"
         ],
         "x0": " ",
         "xaxis": "x",
         "y": [
          5,
          4,
          5,
          4,
          4,
          3,
          5,
          5,
          4,
          5,
          5,
          4,
          5,
          4,
          5,
          5,
          1,
          3,
          4,
          4,
          2,
          4,
          1,
          4,
          5,
          5,
          3,
          4,
          4,
          5,
          5,
          5,
          4,
          5,
          5,
          3,
          3,
          3,
          5,
          5,
          3,
          4,
          5,
          4,
          4,
          4,
          4,
          4,
          5,
          5,
          5,
          5,
          3,
          5,
          4,
          1,
          5,
          5,
          2,
          5,
          5,
          5,
          4,
          5,
          4,
          2,
          5,
          4,
          2,
          4,
          5,
          5,
          3,
          4,
          3,
          4,
          3,
          3,
          5,
          5,
          5,
          5,
          4,
          5,
          5,
          3,
          5,
          3,
          5,
          5,
          5,
          5,
          5,
          3,
          4,
          5,
          5,
          3,
          5,
          5,
          1,
          4,
          4,
          5,
          2,
          5,
          5,
          4,
          5,
          5,
          4,
          5,
          5,
          5,
          4,
          3,
          5,
          4,
          5,
          4,
          4,
          4,
          5,
          5,
          5,
          1,
          4,
          4,
          5,
          5,
          5,
          4,
          5,
          5,
          1,
          5,
          5,
          2,
          4,
          5,
          2,
          5,
          5,
          3,
          5,
          2,
          4,
          5,
          3,
          4,
          5,
          4,
          4,
          4,
          5,
          5,
          5,
          4,
          5,
          4,
          4,
          4,
          4,
          4,
          4,
          5,
          5,
          5,
          4,
          5,
          5,
          4,
          5,
          4,
          3,
          5,
          4,
          4,
          1,
          4,
          5,
          2,
          5,
          5,
          5,
          4,
          5,
          5,
          4,
          4,
          5,
          3,
          5,
          5,
          5,
          5,
          5,
          5,
          4,
          4,
          5,
          3,
          4,
          5,
          5,
          5,
          5,
          5,
          4,
          3,
          5,
          4,
          5,
          5,
          4,
          5,
          5,
          5,
          5,
          5,
          5,
          1,
          5,
          5,
          5,
          null,
          2,
          5,
          4,
          3,
          5,
          2,
          3,
          1,
          3,
          3,
          4,
          5,
          3,
          4,
          5,
          5,
          5,
          4,
          5,
          5,
          5,
          5,
          4,
          5,
          3,
          5,
          4,
          5,
          5,
          5,
          5,
          4,
          5,
          5,
          5,
          5
         ],
         "y0": " ",
         "yaxis": "y"
        }
       ],
       "layout": {
        "boxmode": "overlay",
        "legend": {
         "title": {
          "text": "Score Type"
         },
         "tracegroupgap": 0
        },
        "showlegend": false,
        "template": {
         "data": {
          "bar": [
           {
            "error_x": {
             "color": "#2a3f5f"
            },
            "error_y": {
             "color": "#2a3f5f"
            },
            "marker": {
             "line": {
              "color": "white",
              "width": 0.5
             },
             "pattern": {
              "fillmode": "overlay",
              "size": 10,
              "solidity": 0.2
             }
            },
            "type": "bar"
           }
          ],
          "barpolar": [
           {
            "marker": {
             "line": {
              "color": "white",
              "width": 0.5
             },
             "pattern": {
              "fillmode": "overlay",
              "size": 10,
              "solidity": 0.2
             }
            },
            "type": "barpolar"
           }
          ],
          "carpet": [
           {
            "aaxis": {
             "endlinecolor": "#2a3f5f",
             "gridcolor": "#C8D4E3",
             "linecolor": "#C8D4E3",
             "minorgridcolor": "#C8D4E3",
             "startlinecolor": "#2a3f5f"
            },
            "baxis": {
             "endlinecolor": "#2a3f5f",
             "gridcolor": "#C8D4E3",
             "linecolor": "#C8D4E3",
             "minorgridcolor": "#C8D4E3",
             "startlinecolor": "#2a3f5f"
            },
            "type": "carpet"
           }
          ],
          "choropleth": [
           {
            "colorbar": {
             "outlinewidth": 0,
             "ticks": ""
            },
            "type": "choropleth"
           }
          ],
          "contour": [
           {
            "colorbar": {
             "outlinewidth": 0,
             "ticks": ""
            },
            "colorscale": [
             [
              0,
              "#0d0887"
             ],
             [
              0.1111111111111111,
              "#46039f"
             ],
             [
              0.2222222222222222,
              "#7201a8"
             ],
             [
              0.3333333333333333,
              "#9c179e"
             ],
             [
              0.4444444444444444,
              "#bd3786"
             ],
             [
              0.5555555555555556,
              "#d8576b"
             ],
             [
              0.6666666666666666,
              "#ed7953"
             ],
             [
              0.7777777777777778,
              "#fb9f3a"
             ],
             [
              0.8888888888888888,
              "#fdca26"
             ],
             [
              1,
              "#f0f921"
             ]
            ],
            "type": "contour"
           }
          ],
          "contourcarpet": [
           {
            "colorbar": {
             "outlinewidth": 0,
             "ticks": ""
            },
            "type": "contourcarpet"
           }
          ],
          "heatmap": [
           {
            "colorbar": {
             "outlinewidth": 0,
             "ticks": ""
            },
            "colorscale": [
             [
              0,
              "#0d0887"
             ],
             [
              0.1111111111111111,
              "#46039f"
             ],
             [
              0.2222222222222222,
              "#7201a8"
             ],
             [
              0.3333333333333333,
              "#9c179e"
             ],
             [
              0.4444444444444444,
              "#bd3786"
             ],
             [
              0.5555555555555556,
              "#d8576b"
             ],
             [
              0.6666666666666666,
              "#ed7953"
             ],
             [
              0.7777777777777778,
              "#fb9f3a"
             ],
             [
              0.8888888888888888,
              "#fdca26"
             ],
             [
              1,
              "#f0f921"
             ]
            ],
            "type": "heatmap"
           }
          ],
          "heatmapgl": [
           {
            "colorbar": {
             "outlinewidth": 0,
             "ticks": ""
            },
            "colorscale": [
             [
              0,
              "#0d0887"
             ],
             [
              0.1111111111111111,
              "#46039f"
             ],
             [
              0.2222222222222222,
              "#7201a8"
             ],
             [
              0.3333333333333333,
              "#9c179e"
             ],
             [
              0.4444444444444444,
              "#bd3786"
             ],
             [
              0.5555555555555556,
              "#d8576b"
             ],
             [
              0.6666666666666666,
              "#ed7953"
             ],
             [
              0.7777777777777778,
              "#fb9f3a"
             ],
             [
              0.8888888888888888,
              "#fdca26"
             ],
             [
              1,
              "#f0f921"
             ]
            ],
            "type": "heatmapgl"
           }
          ],
          "histogram": [
           {
            "marker": {
             "pattern": {
              "fillmode": "overlay",
              "size": 10,
              "solidity": 0.2
             }
            },
            "type": "histogram"
           }
          ],
          "histogram2d": [
           {
            "colorbar": {
             "outlinewidth": 0,
             "ticks": ""
            },
            "colorscale": [
             [
              0,
              "#0d0887"
             ],
             [
              0.1111111111111111,
              "#46039f"
             ],
             [
              0.2222222222222222,
              "#7201a8"
             ],
             [
              0.3333333333333333,
              "#9c179e"
             ],
             [
              0.4444444444444444,
              "#bd3786"
             ],
             [
              0.5555555555555556,
              "#d8576b"
             ],
             [
              0.6666666666666666,
              "#ed7953"
             ],
             [
              0.7777777777777778,
              "#fb9f3a"
             ],
             [
              0.8888888888888888,
              "#fdca26"
             ],
             [
              1,
              "#f0f921"
             ]
            ],
            "type": "histogram2d"
           }
          ],
          "histogram2dcontour": [
           {
            "colorbar": {
             "outlinewidth": 0,
             "ticks": ""
            },
            "colorscale": [
             [
              0,
              "#0d0887"
             ],
             [
              0.1111111111111111,
              "#46039f"
             ],
             [
              0.2222222222222222,
              "#7201a8"
             ],
             [
              0.3333333333333333,
              "#9c179e"
             ],
             [
              0.4444444444444444,
              "#bd3786"
             ],
             [
              0.5555555555555556,
              "#d8576b"
             ],
             [
              0.6666666666666666,
              "#ed7953"
             ],
             [
              0.7777777777777778,
              "#fb9f3a"
             ],
             [
              0.8888888888888888,
              "#fdca26"
             ],
             [
              1,
              "#f0f921"
             ]
            ],
            "type": "histogram2dcontour"
           }
          ],
          "mesh3d": [
           {
            "colorbar": {
             "outlinewidth": 0,
             "ticks": ""
            },
            "type": "mesh3d"
           }
          ],
          "parcoords": [
           {
            "line": {
             "colorbar": {
              "outlinewidth": 0,
              "ticks": ""
             }
            },
            "type": "parcoords"
           }
          ],
          "pie": [
           {
            "automargin": true,
            "type": "pie"
           }
          ],
          "scatter": [
           {
            "fillpattern": {
             "fillmode": "overlay",
             "size": 10,
             "solidity": 0.2
            },
            "type": "scatter"
           }
          ],
          "scatter3d": [
           {
            "line": {
             "colorbar": {
              "outlinewidth": 0,
              "ticks": ""
             }
            },
            "marker": {
             "colorbar": {
              "outlinewidth": 0,
              "ticks": ""
             }
            },
            "type": "scatter3d"
           }
          ],
          "scattercarpet": [
           {
            "marker": {
             "colorbar": {
              "outlinewidth": 0,
              "ticks": ""
             }
            },
            "type": "scattercarpet"
           }
          ],
          "scattergeo": [
           {
            "marker": {
             "colorbar": {
              "outlinewidth": 0,
              "ticks": ""
             }
            },
            "type": "scattergeo"
           }
          ],
          "scattergl": [
           {
            "marker": {
             "colorbar": {
              "outlinewidth": 0,
              "ticks": ""
             }
            },
            "type": "scattergl"
           }
          ],
          "scattermapbox": [
           {
            "marker": {
             "colorbar": {
              "outlinewidth": 0,
              "ticks": ""
             }
            },
            "type": "scattermapbox"
           }
          ],
          "scatterpolar": [
           {
            "marker": {
             "colorbar": {
              "outlinewidth": 0,
              "ticks": ""
             }
            },
            "type": "scatterpolar"
           }
          ],
          "scatterpolargl": [
           {
            "marker": {
             "colorbar": {
              "outlinewidth": 0,
              "ticks": ""
             }
            },
            "type": "scatterpolargl"
           }
          ],
          "scatterternary": [
           {
            "marker": {
             "colorbar": {
              "outlinewidth": 0,
              "ticks": ""
             }
            },
            "type": "scatterternary"
           }
          ],
          "surface": [
           {
            "colorbar": {
             "outlinewidth": 0,
             "ticks": ""
            },
            "colorscale": [
             [
              0,
              "#0d0887"
             ],
             [
              0.1111111111111111,
              "#46039f"
             ],
             [
              0.2222222222222222,
              "#7201a8"
             ],
             [
              0.3333333333333333,
              "#9c179e"
             ],
             [
              0.4444444444444444,
              "#bd3786"
             ],
             [
              0.5555555555555556,
              "#d8576b"
             ],
             [
              0.6666666666666666,
              "#ed7953"
             ],
             [
              0.7777777777777778,
              "#fb9f3a"
             ],
             [
              0.8888888888888888,
              "#fdca26"
             ],
             [
              1,
              "#f0f921"
             ]
            ],
            "type": "surface"
           }
          ],
          "table": [
           {
            "cells": {
             "fill": {
              "color": "#EBF0F8"
             },
             "line": {
              "color": "white"
             }
            },
            "header": {
             "fill": {
              "color": "#C8D4E3"
             },
             "line": {
              "color": "white"
             }
            },
            "type": "table"
           }
          ]
         },
         "layout": {
          "annotationdefaults": {
           "arrowcolor": "#2a3f5f",
           "arrowhead": 0,
           "arrowwidth": 1
          },
          "autotypenumbers": "strict",
          "coloraxis": {
           "colorbar": {
            "outlinewidth": 0,
            "ticks": ""
           }
          },
          "colorscale": {
           "diverging": [
            [
             0,
             "#8e0152"
            ],
            [
             0.1,
             "#c51b7d"
            ],
            [
             0.2,
             "#de77ae"
            ],
            [
             0.3,
             "#f1b6da"
            ],
            [
             0.4,
             "#fde0ef"
            ],
            [
             0.5,
             "#f7f7f7"
            ],
            [
             0.6,
             "#e6f5d0"
            ],
            [
             0.7,
             "#b8e186"
            ],
            [
             0.8,
             "#7fbc41"
            ],
            [
             0.9,
             "#4d9221"
            ],
            [
             1,
             "#276419"
            ]
           ],
           "sequential": [
            [
             0,
             "#0d0887"
            ],
            [
             0.1111111111111111,
             "#46039f"
            ],
            [
             0.2222222222222222,
             "#7201a8"
            ],
            [
             0.3333333333333333,
             "#9c179e"
            ],
            [
             0.4444444444444444,
             "#bd3786"
            ],
            [
             0.5555555555555556,
             "#d8576b"
            ],
            [
             0.6666666666666666,
             "#ed7953"
            ],
            [
             0.7777777777777778,
             "#fb9f3a"
            ],
            [
             0.8888888888888888,
             "#fdca26"
            ],
            [
             1,
             "#f0f921"
            ]
           ],
           "sequentialminus": [
            [
             0,
             "#0d0887"
            ],
            [
             0.1111111111111111,
             "#46039f"
            ],
            [
             0.2222222222222222,
             "#7201a8"
            ],
            [
             0.3333333333333333,
             "#9c179e"
            ],
            [
             0.4444444444444444,
             "#bd3786"
            ],
            [
             0.5555555555555556,
             "#d8576b"
            ],
            [
             0.6666666666666666,
             "#ed7953"
            ],
            [
             0.7777777777777778,
             "#fb9f3a"
            ],
            [
             0.8888888888888888,
             "#fdca26"
            ],
            [
             1,
             "#f0f921"
            ]
           ]
          },
          "colorway": [
           "#636efa",
           "#EF553B",
           "#00cc96",
           "#ab63fa",
           "#FFA15A",
           "#19d3f3",
           "#FF6692",
           "#B6E880",
           "#FF97FF",
           "#FECB52"
          ],
          "font": {
           "color": "#2a3f5f"
          },
          "geo": {
           "bgcolor": "white",
           "lakecolor": "white",
           "landcolor": "white",
           "showlakes": true,
           "showland": true,
           "subunitcolor": "#C8D4E3"
          },
          "hoverlabel": {
           "align": "left"
          },
          "hovermode": "closest",
          "mapbox": {
           "style": "light"
          },
          "paper_bgcolor": "white",
          "plot_bgcolor": "white",
          "polar": {
           "angularaxis": {
            "gridcolor": "#EBF0F8",
            "linecolor": "#EBF0F8",
            "ticks": ""
           },
           "bgcolor": "white",
           "radialaxis": {
            "gridcolor": "#EBF0F8",
            "linecolor": "#EBF0F8",
            "ticks": ""
           }
          },
          "scene": {
           "xaxis": {
            "backgroundcolor": "white",
            "gridcolor": "#DFE8F3",
            "gridwidth": 2,
            "linecolor": "#EBF0F8",
            "showbackground": true,
            "ticks": "",
            "zerolinecolor": "#EBF0F8"
           },
           "yaxis": {
            "backgroundcolor": "white",
            "gridcolor": "#DFE8F3",
            "gridwidth": 2,
            "linecolor": "#EBF0F8",
            "showbackground": true,
            "ticks": "",
            "zerolinecolor": "#EBF0F8"
           },
           "zaxis": {
            "backgroundcolor": "white",
            "gridcolor": "#DFE8F3",
            "gridwidth": 2,
            "linecolor": "#EBF0F8",
            "showbackground": true,
            "ticks": "",
            "zerolinecolor": "#EBF0F8"
           }
          },
          "shapedefaults": {
           "line": {
            "color": "#2a3f5f"
           }
          },
          "ternary": {
           "aaxis": {
            "gridcolor": "#DFE8F3",
            "linecolor": "#A2B1C6",
            "ticks": ""
           },
           "baxis": {
            "gridcolor": "#DFE8F3",
            "linecolor": "#A2B1C6",
            "ticks": ""
           },
           "bgcolor": "white",
           "caxis": {
            "gridcolor": "#DFE8F3",
            "linecolor": "#A2B1C6",
            "ticks": ""
           }
          },
          "title": {
           "x": 0.05
          },
          "xaxis": {
           "automargin": true,
           "gridcolor": "#EBF0F8",
           "linecolor": "#EBF0F8",
           "ticks": "",
           "title": {
            "standoff": 15
           },
           "zerolinecolor": "#EBF0F8",
           "zerolinewidth": 2
          },
          "yaxis": {
           "automargin": true,
           "gridcolor": "#EBF0F8",
           "linecolor": "#EBF0F8",
           "ticks": "",
           "title": {
            "standoff": 15
           },
           "zerolinecolor": "#EBF0F8",
           "zerolinewidth": 2
          }
         }
        },
        "title": {
         "text": "Distribution of Employer Scores"
        },
        "xaxis": {
         "anchor": "y",
         "categoryarray": [
          "employer_atmosphere_score",
          "employer_communication_score",
          "employer_teamwork_score",
          "employer_work_life_score"
         ],
         "categoryorder": "array",
         "domain": [
          0,
          1
         ],
         "title": {
          "text": "Score Type"
         }
        },
        "yaxis": {
         "anchor": "x",
         "domain": [
          0,
          1
         ],
         "title": {
          "text": "Score"
         }
        }
       }
      }
     },
     "metadata": {},
     "output_type": "display_data"
    }
   ],
   "source": [
    "# Select columns related to employer scores\n",
    "score_columns = ['employer_atmosphere_score', 'employer_communication_score', \n",
    "                 'employer_teamwork_score', 'employer_work_life_score']\n",
    "\n",
    "# Melt the dataframe to have a long-form dataset suitable for Plotly Express\n",
    "df_melted = df[score_columns].melt(var_name='Score Type', value_name='Score')\n",
    "\n",
    "\n",
    "fig = px.box(df_melted, x='Score Type', y='Score', color='Score Type',\n",
    "             title='Distribution of Employer Scores',\n",
    "             color_discrete_sequence=px.colors.sequential.Brwnyl_r)\n",
    "\n",
    "\n",
    "fig.update_layout(\n",
    "    xaxis_title='Score Type',\n",
    "    yaxis_title='Score',\n",
    "    template='plotly_white',\n",
    "    showlegend=False  \n",
    ")\n",
    "\n",
    "fig.show()"
   ]
  },
  {
   "cell_type": "markdown",
   "metadata": {},
   "source": [
    "### Boolean Scores (True/ False)"
   ]
  },
  {
   "cell_type": "code",
   "execution_count": 27,
   "metadata": {},
   "outputs": [
    {
     "data": {
      "text/html": [
       "<div>\n",
       "<style scoped>\n",
       "    .dataframe tbody tr th:only-of-type {\n",
       "        vertical-align: middle;\n",
       "    }\n",
       "\n",
       "    .dataframe tbody tr th {\n",
       "        vertical-align: top;\n",
       "    }\n",
       "\n",
       "    .dataframe thead th {\n",
       "        text-align: right;\n",
       "    }\n",
       "</style>\n",
       "<table border=\"1\" class=\"dataframe\">\n",
       "  <thead>\n",
       "    <tr style=\"text-align: right;\">\n",
       "      <th></th>\n",
       "      <th>employment_is_recommended</th>\n",
       "      <th>internet</th>\n",
       "      <th>stock_options</th>\n",
       "      <th>health_program</th>\n",
       "      <th>flex_working_hours</th>\n",
       "      <th>parking</th>\n",
       "      <th>accessibility</th>\n",
       "      <th>mobile_phone</th>\n",
       "      <th>discounts</th>\n",
       "      <th>home_office</th>\n",
       "      <th>doctor</th>\n",
       "      <th>events</th>\n",
       "      <th>cantine</th>\n",
       "      <th>dogs</th>\n",
       "      <th>car</th>\n",
       "      <th>meals</th>\n",
       "      <th>pension_plan</th>\n",
       "      <th>daycare</th>\n",
       "      <th>reachability</th>\n",
       "      <th>coaching</th>\n",
       "    </tr>\n",
       "  </thead>\n",
       "  <tbody>\n",
       "    <tr>\n",
       "      <th>0</th>\n",
       "      <td>True</td>\n",
       "      <td>True</td>\n",
       "      <td>True</td>\n",
       "      <td>True</td>\n",
       "      <td>True</td>\n",
       "      <td>True</td>\n",
       "      <td>True</td>\n",
       "      <td>True</td>\n",
       "      <td>True</td>\n",
       "      <td>True</td>\n",
       "      <td>True</td>\n",
       "      <td>True</td>\n",
       "      <td>True</td>\n",
       "      <td>&lt;NA&gt;</td>\n",
       "      <td>True</td>\n",
       "      <td>&lt;NA&gt;</td>\n",
       "      <td>True</td>\n",
       "      <td>True</td>\n",
       "      <td>True</td>\n",
       "      <td>True</td>\n",
       "    </tr>\n",
       "    <tr>\n",
       "      <th>1</th>\n",
       "      <td>True</td>\n",
       "      <td>&lt;NA&gt;</td>\n",
       "      <td>True</td>\n",
       "      <td>True</td>\n",
       "      <td>&lt;NA&gt;</td>\n",
       "      <td>True</td>\n",
       "      <td>True</td>\n",
       "      <td>&lt;NA&gt;</td>\n",
       "      <td>True</td>\n",
       "      <td>True</td>\n",
       "      <td>True</td>\n",
       "      <td>True</td>\n",
       "      <td>True</td>\n",
       "      <td>&lt;NA&gt;</td>\n",
       "      <td>&lt;NA&gt;</td>\n",
       "      <td>True</td>\n",
       "      <td>True</td>\n",
       "      <td>&lt;NA&gt;</td>\n",
       "      <td>&lt;NA&gt;</td>\n",
       "      <td>True</td>\n",
       "    </tr>\n",
       "    <tr>\n",
       "      <th>2</th>\n",
       "      <td>True</td>\n",
       "      <td>True</td>\n",
       "      <td>True</td>\n",
       "      <td>True</td>\n",
       "      <td>True</td>\n",
       "      <td>True</td>\n",
       "      <td>True</td>\n",
       "      <td>True</td>\n",
       "      <td>True</td>\n",
       "      <td>True</td>\n",
       "      <td>True</td>\n",
       "      <td>True</td>\n",
       "      <td>True</td>\n",
       "      <td>True</td>\n",
       "      <td>True</td>\n",
       "      <td>True</td>\n",
       "      <td>True</td>\n",
       "      <td>True</td>\n",
       "      <td>&lt;NA&gt;</td>\n",
       "      <td>True</td>\n",
       "    </tr>\n",
       "    <tr>\n",
       "      <th>3</th>\n",
       "      <td>True</td>\n",
       "      <td>True</td>\n",
       "      <td>True</td>\n",
       "      <td>True</td>\n",
       "      <td>True</td>\n",
       "      <td>&lt;NA&gt;</td>\n",
       "      <td>True</td>\n",
       "      <td>&lt;NA&gt;</td>\n",
       "      <td>True</td>\n",
       "      <td>True</td>\n",
       "      <td>True</td>\n",
       "      <td>True</td>\n",
       "      <td>True</td>\n",
       "      <td>&lt;NA&gt;</td>\n",
       "      <td>&lt;NA&gt;</td>\n",
       "      <td>&lt;NA&gt;</td>\n",
       "      <td>True</td>\n",
       "      <td>&lt;NA&gt;</td>\n",
       "      <td>&lt;NA&gt;</td>\n",
       "      <td>True</td>\n",
       "    </tr>\n",
       "    <tr>\n",
       "      <th>4</th>\n",
       "      <td>True</td>\n",
       "      <td>True</td>\n",
       "      <td>True</td>\n",
       "      <td>True</td>\n",
       "      <td>True</td>\n",
       "      <td>True</td>\n",
       "      <td>True</td>\n",
       "      <td>True</td>\n",
       "      <td>True</td>\n",
       "      <td>True</td>\n",
       "      <td>True</td>\n",
       "      <td>True</td>\n",
       "      <td>True</td>\n",
       "      <td>&lt;NA&gt;</td>\n",
       "      <td>True</td>\n",
       "      <td>&lt;NA&gt;</td>\n",
       "      <td>True</td>\n",
       "      <td>True</td>\n",
       "      <td>&lt;NA&gt;</td>\n",
       "      <td>True</td>\n",
       "    </tr>\n",
       "    <tr>\n",
       "      <th>...</th>\n",
       "      <td>...</td>\n",
       "      <td>...</td>\n",
       "      <td>...</td>\n",
       "      <td>...</td>\n",
       "      <td>...</td>\n",
       "      <td>...</td>\n",
       "      <td>...</td>\n",
       "      <td>...</td>\n",
       "      <td>...</td>\n",
       "      <td>...</td>\n",
       "      <td>...</td>\n",
       "      <td>...</td>\n",
       "      <td>...</td>\n",
       "      <td>...</td>\n",
       "      <td>...</td>\n",
       "      <td>...</td>\n",
       "      <td>...</td>\n",
       "      <td>...</td>\n",
       "      <td>...</td>\n",
       "      <td>...</td>\n",
       "    </tr>\n",
       "    <tr>\n",
       "      <th>257</th>\n",
       "      <td>True</td>\n",
       "      <td>True</td>\n",
       "      <td>True</td>\n",
       "      <td>True</td>\n",
       "      <td>True</td>\n",
       "      <td>True</td>\n",
       "      <td>True</td>\n",
       "      <td>True</td>\n",
       "      <td>True</td>\n",
       "      <td>True</td>\n",
       "      <td>True</td>\n",
       "      <td>True</td>\n",
       "      <td>True</td>\n",
       "      <td>&lt;NA&gt;</td>\n",
       "      <td>&lt;NA&gt;</td>\n",
       "      <td>True</td>\n",
       "      <td>True</td>\n",
       "      <td>True</td>\n",
       "      <td>&lt;NA&gt;</td>\n",
       "      <td>&lt;NA&gt;</td>\n",
       "    </tr>\n",
       "    <tr>\n",
       "      <th>258</th>\n",
       "      <td>True</td>\n",
       "      <td>&lt;NA&gt;</td>\n",
       "      <td>True</td>\n",
       "      <td>True</td>\n",
       "      <td>True</td>\n",
       "      <td>True</td>\n",
       "      <td>&lt;NA&gt;</td>\n",
       "      <td>&lt;NA&gt;</td>\n",
       "      <td>True</td>\n",
       "      <td>True</td>\n",
       "      <td>True</td>\n",
       "      <td>True</td>\n",
       "      <td>True</td>\n",
       "      <td>&lt;NA&gt;</td>\n",
       "      <td>&lt;NA&gt;</td>\n",
       "      <td>&lt;NA&gt;</td>\n",
       "      <td>True</td>\n",
       "      <td>True</td>\n",
       "      <td>&lt;NA&gt;</td>\n",
       "      <td>True</td>\n",
       "    </tr>\n",
       "    <tr>\n",
       "      <th>259</th>\n",
       "      <td>True</td>\n",
       "      <td>True</td>\n",
       "      <td>True</td>\n",
       "      <td>True</td>\n",
       "      <td>True</td>\n",
       "      <td>True</td>\n",
       "      <td>&lt;NA&gt;</td>\n",
       "      <td>True</td>\n",
       "      <td>True</td>\n",
       "      <td>True</td>\n",
       "      <td>True</td>\n",
       "      <td>True</td>\n",
       "      <td>True</td>\n",
       "      <td>&lt;NA&gt;</td>\n",
       "      <td>&lt;NA&gt;</td>\n",
       "      <td>&lt;NA&gt;</td>\n",
       "      <td>True</td>\n",
       "      <td>&lt;NA&gt;</td>\n",
       "      <td>&lt;NA&gt;</td>\n",
       "      <td>True</td>\n",
       "    </tr>\n",
       "    <tr>\n",
       "      <th>260</th>\n",
       "      <td>True</td>\n",
       "      <td>True</td>\n",
       "      <td>True</td>\n",
       "      <td>True</td>\n",
       "      <td>True</td>\n",
       "      <td>True</td>\n",
       "      <td>True</td>\n",
       "      <td>True</td>\n",
       "      <td>True</td>\n",
       "      <td>True</td>\n",
       "      <td>True</td>\n",
       "      <td>True</td>\n",
       "      <td>True</td>\n",
       "      <td>&lt;NA&gt;</td>\n",
       "      <td>&lt;NA&gt;</td>\n",
       "      <td>True</td>\n",
       "      <td>True</td>\n",
       "      <td>True</td>\n",
       "      <td>&lt;NA&gt;</td>\n",
       "      <td>True</td>\n",
       "    </tr>\n",
       "    <tr>\n",
       "      <th>261</th>\n",
       "      <td>True</td>\n",
       "      <td>&lt;NA&gt;</td>\n",
       "      <td>&lt;NA&gt;</td>\n",
       "      <td>&lt;NA&gt;</td>\n",
       "      <td>&lt;NA&gt;</td>\n",
       "      <td>&lt;NA&gt;</td>\n",
       "      <td>&lt;NA&gt;</td>\n",
       "      <td>&lt;NA&gt;</td>\n",
       "      <td>&lt;NA&gt;</td>\n",
       "      <td>&lt;NA&gt;</td>\n",
       "      <td>&lt;NA&gt;</td>\n",
       "      <td>&lt;NA&gt;</td>\n",
       "      <td>&lt;NA&gt;</td>\n",
       "      <td>&lt;NA&gt;</td>\n",
       "      <td>&lt;NA&gt;</td>\n",
       "      <td>&lt;NA&gt;</td>\n",
       "      <td>&lt;NA&gt;</td>\n",
       "      <td>&lt;NA&gt;</td>\n",
       "      <td>&lt;NA&gt;</td>\n",
       "      <td>&lt;NA&gt;</td>\n",
       "    </tr>\n",
       "  </tbody>\n",
       "</table>\n",
       "<p>262 rows × 20 columns</p>\n",
       "</div>"
      ],
      "text/plain": [
       "     employment_is_recommended  internet  stock_options  health_program  \\\n",
       "0                         True      True           True            True   \n",
       "1                         True      <NA>           True            True   \n",
       "2                         True      True           True            True   \n",
       "3                         True      True           True            True   \n",
       "4                         True      True           True            True   \n",
       "..                         ...       ...            ...             ...   \n",
       "257                       True      True           True            True   \n",
       "258                       True      <NA>           True            True   \n",
       "259                       True      True           True            True   \n",
       "260                       True      True           True            True   \n",
       "261                       True      <NA>           <NA>            <NA>   \n",
       "\n",
       "     flex_working_hours  parking  accessibility  mobile_phone  discounts  \\\n",
       "0                  True     True           True          True       True   \n",
       "1                  <NA>     True           True          <NA>       True   \n",
       "2                  True     True           True          True       True   \n",
       "3                  True     <NA>           True          <NA>       True   \n",
       "4                  True     True           True          True       True   \n",
       "..                  ...      ...            ...           ...        ...   \n",
       "257                True     True           True          True       True   \n",
       "258                True     True           <NA>          <NA>       True   \n",
       "259                True     True           <NA>          True       True   \n",
       "260                True     True           True          True       True   \n",
       "261                <NA>     <NA>           <NA>          <NA>       <NA>   \n",
       "\n",
       "     home_office  doctor  events  cantine  dogs   car  meals  pension_plan  \\\n",
       "0           True    True    True     True  <NA>  True   <NA>          True   \n",
       "1           True    True    True     True  <NA>  <NA>   True          True   \n",
       "2           True    True    True     True  True  True   True          True   \n",
       "3           True    True    True     True  <NA>  <NA>   <NA>          True   \n",
       "4           True    True    True     True  <NA>  True   <NA>          True   \n",
       "..           ...     ...     ...      ...   ...   ...    ...           ...   \n",
       "257         True    True    True     True  <NA>  <NA>   True          True   \n",
       "258         True    True    True     True  <NA>  <NA>   <NA>          True   \n",
       "259         True    True    True     True  <NA>  <NA>   <NA>          True   \n",
       "260         True    True    True     True  <NA>  <NA>   True          True   \n",
       "261         <NA>    <NA>    <NA>     <NA>  <NA>  <NA>   <NA>          <NA>   \n",
       "\n",
       "     daycare  reachability  coaching  \n",
       "0       True          True      True  \n",
       "1       <NA>          <NA>      True  \n",
       "2       True          <NA>      True  \n",
       "3       <NA>          <NA>      True  \n",
       "4       True          <NA>      True  \n",
       "..       ...           ...       ...  \n",
       "257     True          <NA>      <NA>  \n",
       "258     True          <NA>      True  \n",
       "259     <NA>          <NA>      True  \n",
       "260     True          <NA>      True  \n",
       "261     <NA>          <NA>      <NA>  \n",
       "\n",
       "[262 rows x 20 columns]"
      ]
     },
     "execution_count": 27,
     "metadata": {},
     "output_type": "execute_result"
    }
   ],
   "source": [
    "#take the remaining columns from df and convert them to another df\n",
    "df2 = df.select_dtypes(include=['bool'])\n",
    "df2"
   ]
  },
  {
   "cell_type": "code",
   "execution_count": 28,
   "metadata": {},
   "outputs": [
    {
     "name": "stderr",
     "output_type": "stream",
     "text": [
      "/var/folders/h_/t7j5x_l10kg4zbr6vvxlqx5h0000gn/T/ipykernel_25405/3780909364.py:2: FutureWarning:\n",
      "\n",
      "pandas.value_counts is deprecated and will be removed in a future version. Use pd.Series(obj).value_counts() instead.\n",
      "\n",
      "/var/folders/h_/t7j5x_l10kg4zbr6vvxlqx5h0000gn/T/ipykernel_25405/3780909364.py:2: FutureWarning:\n",
      "\n",
      "pandas.value_counts is deprecated and will be removed in a future version. Use pd.Series(obj).value_counts() instead.\n",
      "\n",
      "/var/folders/h_/t7j5x_l10kg4zbr6vvxlqx5h0000gn/T/ipykernel_25405/3780909364.py:2: FutureWarning:\n",
      "\n",
      "pandas.value_counts is deprecated and will be removed in a future version. Use pd.Series(obj).value_counts() instead.\n",
      "\n",
      "/var/folders/h_/t7j5x_l10kg4zbr6vvxlqx5h0000gn/T/ipykernel_25405/3780909364.py:2: FutureWarning:\n",
      "\n",
      "pandas.value_counts is deprecated and will be removed in a future version. Use pd.Series(obj).value_counts() instead.\n",
      "\n",
      "/var/folders/h_/t7j5x_l10kg4zbr6vvxlqx5h0000gn/T/ipykernel_25405/3780909364.py:2: FutureWarning:\n",
      "\n",
      "pandas.value_counts is deprecated and will be removed in a future version. Use pd.Series(obj).value_counts() instead.\n",
      "\n",
      "/var/folders/h_/t7j5x_l10kg4zbr6vvxlqx5h0000gn/T/ipykernel_25405/3780909364.py:2: FutureWarning:\n",
      "\n",
      "pandas.value_counts is deprecated and will be removed in a future version. Use pd.Series(obj).value_counts() instead.\n",
      "\n",
      "/var/folders/h_/t7j5x_l10kg4zbr6vvxlqx5h0000gn/T/ipykernel_25405/3780909364.py:2: FutureWarning:\n",
      "\n",
      "pandas.value_counts is deprecated and will be removed in a future version. Use pd.Series(obj).value_counts() instead.\n",
      "\n",
      "/var/folders/h_/t7j5x_l10kg4zbr6vvxlqx5h0000gn/T/ipykernel_25405/3780909364.py:2: FutureWarning:\n",
      "\n",
      "pandas.value_counts is deprecated and will be removed in a future version. Use pd.Series(obj).value_counts() instead.\n",
      "\n",
      "/var/folders/h_/t7j5x_l10kg4zbr6vvxlqx5h0000gn/T/ipykernel_25405/3780909364.py:2: FutureWarning:\n",
      "\n",
      "pandas.value_counts is deprecated and will be removed in a future version. Use pd.Series(obj).value_counts() instead.\n",
      "\n",
      "/var/folders/h_/t7j5x_l10kg4zbr6vvxlqx5h0000gn/T/ipykernel_25405/3780909364.py:2: FutureWarning:\n",
      "\n",
      "pandas.value_counts is deprecated and will be removed in a future version. Use pd.Series(obj).value_counts() instead.\n",
      "\n",
      "/var/folders/h_/t7j5x_l10kg4zbr6vvxlqx5h0000gn/T/ipykernel_25405/3780909364.py:2: FutureWarning:\n",
      "\n",
      "pandas.value_counts is deprecated and will be removed in a future version. Use pd.Series(obj).value_counts() instead.\n",
      "\n",
      "/var/folders/h_/t7j5x_l10kg4zbr6vvxlqx5h0000gn/T/ipykernel_25405/3780909364.py:2: FutureWarning:\n",
      "\n",
      "pandas.value_counts is deprecated and will be removed in a future version. Use pd.Series(obj).value_counts() instead.\n",
      "\n",
      "/var/folders/h_/t7j5x_l10kg4zbr6vvxlqx5h0000gn/T/ipykernel_25405/3780909364.py:2: FutureWarning:\n",
      "\n",
      "pandas.value_counts is deprecated and will be removed in a future version. Use pd.Series(obj).value_counts() instead.\n",
      "\n",
      "/var/folders/h_/t7j5x_l10kg4zbr6vvxlqx5h0000gn/T/ipykernel_25405/3780909364.py:2: FutureWarning:\n",
      "\n",
      "pandas.value_counts is deprecated and will be removed in a future version. Use pd.Series(obj).value_counts() instead.\n",
      "\n",
      "/var/folders/h_/t7j5x_l10kg4zbr6vvxlqx5h0000gn/T/ipykernel_25405/3780909364.py:2: FutureWarning:\n",
      "\n",
      "pandas.value_counts is deprecated and will be removed in a future version. Use pd.Series(obj).value_counts() instead.\n",
      "\n",
      "/var/folders/h_/t7j5x_l10kg4zbr6vvxlqx5h0000gn/T/ipykernel_25405/3780909364.py:2: FutureWarning:\n",
      "\n",
      "pandas.value_counts is deprecated and will be removed in a future version. Use pd.Series(obj).value_counts() instead.\n",
      "\n",
      "/var/folders/h_/t7j5x_l10kg4zbr6vvxlqx5h0000gn/T/ipykernel_25405/3780909364.py:2: FutureWarning:\n",
      "\n",
      "pandas.value_counts is deprecated and will be removed in a future version. Use pd.Series(obj).value_counts() instead.\n",
      "\n",
      "/var/folders/h_/t7j5x_l10kg4zbr6vvxlqx5h0000gn/T/ipykernel_25405/3780909364.py:2: FutureWarning:\n",
      "\n",
      "pandas.value_counts is deprecated and will be removed in a future version. Use pd.Series(obj).value_counts() instead.\n",
      "\n",
      "/var/folders/h_/t7j5x_l10kg4zbr6vvxlqx5h0000gn/T/ipykernel_25405/3780909364.py:2: FutureWarning:\n",
      "\n",
      "pandas.value_counts is deprecated and will be removed in a future version. Use pd.Series(obj).value_counts() instead.\n",
      "\n",
      "/var/folders/h_/t7j5x_l10kg4zbr6vvxlqx5h0000gn/T/ipykernel_25405/3780909364.py:2: FutureWarning:\n",
      "\n",
      "pandas.value_counts is deprecated and will be removed in a future version. Use pd.Series(obj).value_counts() instead.\n",
      "\n"
     ]
    },
    {
     "data": {
      "text/html": [
       "<div>\n",
       "<style scoped>\n",
       "    .dataframe tbody tr th:only-of-type {\n",
       "        vertical-align: middle;\n",
       "    }\n",
       "\n",
       "    .dataframe tbody tr th {\n",
       "        vertical-align: top;\n",
       "    }\n",
       "\n",
       "    .dataframe thead th {\n",
       "        text-align: right;\n",
       "    }\n",
       "</style>\n",
       "<table border=\"1\" class=\"dataframe\">\n",
       "  <thead>\n",
       "    <tr style=\"text-align: right;\">\n",
       "      <th></th>\n",
       "      <th>employment_is_recommended</th>\n",
       "      <th>internet</th>\n",
       "      <th>stock_options</th>\n",
       "      <th>health_program</th>\n",
       "      <th>flex_working_hours</th>\n",
       "      <th>parking</th>\n",
       "      <th>accessibility</th>\n",
       "      <th>mobile_phone</th>\n",
       "      <th>discounts</th>\n",
       "      <th>home_office</th>\n",
       "      <th>doctor</th>\n",
       "      <th>events</th>\n",
       "      <th>cantine</th>\n",
       "      <th>dogs</th>\n",
       "      <th>car</th>\n",
       "      <th>meals</th>\n",
       "      <th>pension_plan</th>\n",
       "      <th>daycare</th>\n",
       "      <th>reachability</th>\n",
       "      <th>coaching</th>\n",
       "    </tr>\n",
       "  </thead>\n",
       "  <tbody>\n",
       "    <tr>\n",
       "      <th>False</th>\n",
       "      <td>41</td>\n",
       "      <td>&lt;NA&gt;</td>\n",
       "      <td>&lt;NA&gt;</td>\n",
       "      <td>&lt;NA&gt;</td>\n",
       "      <td>&lt;NA&gt;</td>\n",
       "      <td>&lt;NA&gt;</td>\n",
       "      <td>&lt;NA&gt;</td>\n",
       "      <td>&lt;NA&gt;</td>\n",
       "      <td>&lt;NA&gt;</td>\n",
       "      <td>&lt;NA&gt;</td>\n",
       "      <td>&lt;NA&gt;</td>\n",
       "      <td>&lt;NA&gt;</td>\n",
       "      <td>&lt;NA&gt;</td>\n",
       "      <td>&lt;NA&gt;</td>\n",
       "      <td>&lt;NA&gt;</td>\n",
       "      <td>&lt;NA&gt;</td>\n",
       "      <td>&lt;NA&gt;</td>\n",
       "      <td>&lt;NA&gt;</td>\n",
       "      <td>&lt;NA&gt;</td>\n",
       "      <td>&lt;NA&gt;</td>\n",
       "    </tr>\n",
       "    <tr>\n",
       "      <th>True</th>\n",
       "      <td>221</td>\n",
       "      <td>146</td>\n",
       "      <td>177</td>\n",
       "      <td>205</td>\n",
       "      <td>214</td>\n",
       "      <td>190</td>\n",
       "      <td>103</td>\n",
       "      <td>148</td>\n",
       "      <td>235</td>\n",
       "      <td>213</td>\n",
       "      <td>231</td>\n",
       "      <td>210</td>\n",
       "      <td>225</td>\n",
       "      <td>4</td>\n",
       "      <td>59</td>\n",
       "      <td>110</td>\n",
       "      <td>224</td>\n",
       "      <td>118</td>\n",
       "      <td>63</td>\n",
       "      <td>143</td>\n",
       "    </tr>\n",
       "  </tbody>\n",
       "</table>\n",
       "</div>"
      ],
      "text/plain": [
       "       employment_is_recommended  internet  stock_options  health_program  \\\n",
       "False                         41      <NA>           <NA>            <NA>   \n",
       "True                         221       146            177             205   \n",
       "\n",
       "       flex_working_hours  parking  accessibility  mobile_phone  discounts  \\\n",
       "False                <NA>     <NA>           <NA>          <NA>       <NA>   \n",
       "True                  214      190            103           148        235   \n",
       "\n",
       "       home_office  doctor  events  cantine  dogs   car  meals  pension_plan  \\\n",
       "False         <NA>    <NA>    <NA>     <NA>  <NA>  <NA>   <NA>          <NA>   \n",
       "True           213     231     210      225     4    59    110           224   \n",
       "\n",
       "       daycare  reachability  coaching  \n",
       "False     <NA>          <NA>      <NA>  \n",
       "True       118            63       143  "
      ]
     },
     "execution_count": 28,
     "metadata": {},
     "output_type": "execute_result"
    }
   ],
   "source": [
    "#count the number of True and False values in each column\n",
    "df2 = df2.apply(pd.value_counts)\n",
    "#df2 = df2.sum()\n",
    "df2"
   ]
  },
  {
   "cell_type": "code",
   "execution_count": 29,
   "metadata": {},
   "outputs": [],
   "source": [
    "#divide everything by 262 to get the percentage\n",
    "df2 = df2 / 262 * 100\n",
    "df2 = df2.T"
   ]
  },
  {
   "cell_type": "code",
   "execution_count": 30,
   "metadata": {},
   "outputs": [
    {
     "data": {
      "text/html": [
       "<div>\n",
       "<style scoped>\n",
       "    .dataframe tbody tr th:only-of-type {\n",
       "        vertical-align: middle;\n",
       "    }\n",
       "\n",
       "    .dataframe tbody tr th {\n",
       "        vertical-align: top;\n",
       "    }\n",
       "\n",
       "    .dataframe thead th {\n",
       "        text-align: right;\n",
       "    }\n",
       "</style>\n",
       "<table border=\"1\" class=\"dataframe\">\n",
       "  <thead>\n",
       "    <tr style=\"text-align: right;\">\n",
       "      <th></th>\n",
       "      <th>False</th>\n",
       "      <th>True</th>\n",
       "    </tr>\n",
       "  </thead>\n",
       "  <tbody>\n",
       "    <tr>\n",
       "      <th>employment_is_recommended</th>\n",
       "      <td>15.648855</td>\n",
       "      <td>84.351145</td>\n",
       "    </tr>\n",
       "    <tr>\n",
       "      <th>internet</th>\n",
       "      <td>&lt;NA&gt;</td>\n",
       "      <td>55.725191</td>\n",
       "    </tr>\n",
       "    <tr>\n",
       "      <th>stock_options</th>\n",
       "      <td>&lt;NA&gt;</td>\n",
       "      <td>67.557252</td>\n",
       "    </tr>\n",
       "    <tr>\n",
       "      <th>health_program</th>\n",
       "      <td>&lt;NA&gt;</td>\n",
       "      <td>78.244275</td>\n",
       "    </tr>\n",
       "    <tr>\n",
       "      <th>flex_working_hours</th>\n",
       "      <td>&lt;NA&gt;</td>\n",
       "      <td>81.679389</td>\n",
       "    </tr>\n",
       "    <tr>\n",
       "      <th>parking</th>\n",
       "      <td>&lt;NA&gt;</td>\n",
       "      <td>72.519084</td>\n",
       "    </tr>\n",
       "    <tr>\n",
       "      <th>accessibility</th>\n",
       "      <td>&lt;NA&gt;</td>\n",
       "      <td>39.312977</td>\n",
       "    </tr>\n",
       "    <tr>\n",
       "      <th>mobile_phone</th>\n",
       "      <td>&lt;NA&gt;</td>\n",
       "      <td>56.48855</td>\n",
       "    </tr>\n",
       "    <tr>\n",
       "      <th>discounts</th>\n",
       "      <td>&lt;NA&gt;</td>\n",
       "      <td>89.694656</td>\n",
       "    </tr>\n",
       "    <tr>\n",
       "      <th>home_office</th>\n",
       "      <td>&lt;NA&gt;</td>\n",
       "      <td>81.29771</td>\n",
       "    </tr>\n",
       "    <tr>\n",
       "      <th>doctor</th>\n",
       "      <td>&lt;NA&gt;</td>\n",
       "      <td>88.167939</td>\n",
       "    </tr>\n",
       "    <tr>\n",
       "      <th>events</th>\n",
       "      <td>&lt;NA&gt;</td>\n",
       "      <td>80.152672</td>\n",
       "    </tr>\n",
       "    <tr>\n",
       "      <th>cantine</th>\n",
       "      <td>&lt;NA&gt;</td>\n",
       "      <td>85.877863</td>\n",
       "    </tr>\n",
       "    <tr>\n",
       "      <th>dogs</th>\n",
       "      <td>&lt;NA&gt;</td>\n",
       "      <td>1.526718</td>\n",
       "    </tr>\n",
       "    <tr>\n",
       "      <th>car</th>\n",
       "      <td>&lt;NA&gt;</td>\n",
       "      <td>22.519084</td>\n",
       "    </tr>\n",
       "    <tr>\n",
       "      <th>meals</th>\n",
       "      <td>&lt;NA&gt;</td>\n",
       "      <td>41.984733</td>\n",
       "    </tr>\n",
       "    <tr>\n",
       "      <th>pension_plan</th>\n",
       "      <td>&lt;NA&gt;</td>\n",
       "      <td>85.496183</td>\n",
       "    </tr>\n",
       "    <tr>\n",
       "      <th>daycare</th>\n",
       "      <td>&lt;NA&gt;</td>\n",
       "      <td>45.038168</td>\n",
       "    </tr>\n",
       "    <tr>\n",
       "      <th>reachability</th>\n",
       "      <td>&lt;NA&gt;</td>\n",
       "      <td>24.045802</td>\n",
       "    </tr>\n",
       "    <tr>\n",
       "      <th>coaching</th>\n",
       "      <td>&lt;NA&gt;</td>\n",
       "      <td>54.580153</td>\n",
       "    </tr>\n",
       "  </tbody>\n",
       "</table>\n",
       "</div>"
      ],
      "text/plain": [
       "                               False      True \n",
       "employment_is_recommended  15.648855  84.351145\n",
       "internet                        <NA>  55.725191\n",
       "stock_options                   <NA>  67.557252\n",
       "health_program                  <NA>  78.244275\n",
       "flex_working_hours              <NA>  81.679389\n",
       "parking                         <NA>  72.519084\n",
       "accessibility                   <NA>  39.312977\n",
       "mobile_phone                    <NA>   56.48855\n",
       "discounts                       <NA>  89.694656\n",
       "home_office                     <NA>   81.29771\n",
       "doctor                          <NA>  88.167939\n",
       "events                          <NA>  80.152672\n",
       "cantine                         <NA>  85.877863\n",
       "dogs                            <NA>   1.526718\n",
       "car                             <NA>  22.519084\n",
       "meals                           <NA>  41.984733\n",
       "pension_plan                    <NA>  85.496183\n",
       "daycare                         <NA>  45.038168\n",
       "reachability                    <NA>  24.045802\n",
       "coaching                        <NA>  54.580153"
      ]
     },
     "execution_count": 30,
     "metadata": {},
     "output_type": "execute_result"
    }
   ],
   "source": [
    "df2"
   ]
  },
  {
   "cell_type": "code",
   "execution_count": 31,
   "metadata": {},
   "outputs": [],
   "source": [
    "#save the data\n",
    "df2.to_excel('Hugo_Boss_Percentage.xlsx')\n"
   ]
  },
  {
   "cell_type": "markdown",
   "metadata": {},
   "source": [
    "### Text Answers, Sentiment Analysis"
   ]
  },
  {
   "cell_type": "code",
   "execution_count": 32,
   "metadata": {},
   "outputs": [],
   "source": [
    "#text df\n",
    "df3 = df.select_dtypes(include=['object'])\n",
    "df3.to_csv('text.csv')"
   ]
  },
  {
   "cell_type": "code",
   "execution_count": 33,
   "metadata": {},
   "outputs": [
    {
     "data": {
      "text/html": [
       "<div>\n",
       "<style scoped>\n",
       "    .dataframe tbody tr th:only-of-type {\n",
       "        vertical-align: middle;\n",
       "    }\n",
       "\n",
       "    .dataframe tbody tr th {\n",
       "        vertical-align: top;\n",
       "    }\n",
       "\n",
       "    .dataframe thead th {\n",
       "        text-align: right;\n",
       "    }\n",
       "</style>\n",
       "<table border=\"1\" class=\"dataframe\">\n",
       "  <thead>\n",
       "    <tr style=\"text-align: right;\">\n",
       "      <th></th>\n",
       "      <th>company_name</th>\n",
       "      <th>review_created_at</th>\n",
       "      <th>review_last_updated_at</th>\n",
       "      <th>employer_atmosphere_score_text</th>\n",
       "      <th>employer_communication_score_text</th>\n",
       "      <th>employer_teamwork_score_text</th>\n",
       "      <th>employer_work_life_score_text</th>\n",
       "      <th>employer_leadership_score_text</th>\n",
       "      <th>employer_tasks_score_text</th>\n",
       "      <th>employer_equality_score_text</th>\n",
       "      <th>...</th>\n",
       "      <th>employer_environment_score_text</th>\n",
       "      <th>employer_salary_score_text</th>\n",
       "      <th>employer_image_score_text</th>\n",
       "      <th>employer_career_score_text</th>\n",
       "      <th>review_user_gender</th>\n",
       "      <th>employment_position_type</th>\n",
       "      <th>employment_department</th>\n",
       "      <th>feedback_suggestion_text</th>\n",
       "      <th>feedback_positive_text</th>\n",
       "      <th>feedback_negative_text</th>\n",
       "    </tr>\n",
       "  </thead>\n",
       "  <tbody>\n",
       "    <tr>\n",
       "      <th>0</th>\n",
       "      <td>HUGO BOSS AG</td>\n",
       "      <td>2019-04-25 07:57:50 UTC</td>\n",
       "      <td>2019-04-25 08:02:18 UTC</td>\n",
       "      <td>NaN</td>\n",
       "      <td>NaN</td>\n",
       "      <td>NaN</td>\n",
       "      <td>NaN</td>\n",
       "      <td>NaN</td>\n",
       "      <td>NaN</td>\n",
       "      <td>NaN</td>\n",
       "      <td>...</td>\n",
       "      <td>NaN</td>\n",
       "      <td>NaN</td>\n",
       "      <td>NaN</td>\n",
       "      <td>NaN</td>\n",
       "      <td>Unknown</td>\n",
       "      <td>employee</td>\n",
       "      <td>administration</td>\n",
       "      <td>NaN</td>\n",
       "      <td>Sehr angenehmes Arbeitsklima, sehr gute Firmen...</td>\n",
       "      <td>NaN</td>\n",
       "    </tr>\n",
       "    <tr>\n",
       "      <th>1</th>\n",
       "      <td>HUGO BOSS AG</td>\n",
       "      <td>2019-05-15 11:21:31 UTC</td>\n",
       "      <td>2019-05-15 11:21:31 UTC</td>\n",
       "      <td>NaN</td>\n",
       "      <td>NaN</td>\n",
       "      <td>NaN</td>\n",
       "      <td>NaN</td>\n",
       "      <td>NaN</td>\n",
       "      <td>NaN</td>\n",
       "      <td>NaN</td>\n",
       "      <td>...</td>\n",
       "      <td>NaN</td>\n",
       "      <td>NaN</td>\n",
       "      <td>NaN</td>\n",
       "      <td>NaN</td>\n",
       "      <td>Unknown</td>\n",
       "      <td>employee</td>\n",
       "      <td>operations</td>\n",
       "      <td>Prozesse unter den einzelnen Brand Gender Line...</td>\n",
       "      <td>New Work Methodik wird eingeführt</td>\n",
       "      <td>NaN</td>\n",
       "    </tr>\n",
       "    <tr>\n",
       "      <th>2</th>\n",
       "      <td>HUGO BOSS AG</td>\n",
       "      <td>2023-05-02 12:10:49 UTC</td>\n",
       "      <td>2023-05-02 12:10:49 UTC</td>\n",
       "      <td>Eine entspannte Arbeitsatmosphäre, nette Kolle...</td>\n",
       "      <td>Kommunikation innerhalb der einzelnen Abteilun...</td>\n",
       "      <td>NaN</td>\n",
       "      <td>NaN</td>\n",
       "      <td>NaN</td>\n",
       "      <td>NaN</td>\n",
       "      <td>NaN</td>\n",
       "      <td>...</td>\n",
       "      <td>NaN</td>\n",
       "      <td>NaN</td>\n",
       "      <td>NaN</td>\n",
       "      <td>NaN</td>\n",
       "      <td>male</td>\n",
       "      <td>employee</td>\n",
       "      <td>it</td>\n",
       "      <td>Bessere ÖPNV Anbindung gerade im Hinblick auf ...</td>\n",
       "      <td>NaN</td>\n",
       "      <td>NaN</td>\n",
       "    </tr>\n",
       "    <tr>\n",
       "      <th>3</th>\n",
       "      <td>HUGO BOSS AG</td>\n",
       "      <td>2019-04-25 08:13:39 UTC</td>\n",
       "      <td>2019-04-25 08:13:39 UTC</td>\n",
       "      <td>NaN</td>\n",
       "      <td>NaN</td>\n",
       "      <td>NaN</td>\n",
       "      <td>NaN</td>\n",
       "      <td>NaN</td>\n",
       "      <td>NaN</td>\n",
       "      <td>NaN</td>\n",
       "      <td>...</td>\n",
       "      <td>NaN</td>\n",
       "      <td>NaN</td>\n",
       "      <td>NaN</td>\n",
       "      <td>NaN</td>\n",
       "      <td>Unknown</td>\n",
       "      <td>employee</td>\n",
       "      <td>operations</td>\n",
       "      <td>NaN</td>\n",
       "      <td>NaN</td>\n",
       "      <td>NaN</td>\n",
       "    </tr>\n",
       "    <tr>\n",
       "      <th>4</th>\n",
       "      <td>HUGO BOSS AG</td>\n",
       "      <td>2023-04-17 12:58:50 UTC</td>\n",
       "      <td>2023-04-17 12:58:50 UTC</td>\n",
       "      <td>HB ist ein toller Arbeitgeber mit einer offene...</td>\n",
       "      <td>Von der Unternehmensleitung bekommen wir alle ...</td>\n",
       "      <td>Die Kollegen sind (neben dem Produkt) das Best...</td>\n",
       "      <td>Mehrarbeit ist oft notwendig um das Arbeitspen...</td>\n",
       "      <td>NaN</td>\n",
       "      <td>NaN</td>\n",
       "      <td>Als Wiedereinsteigerin in den Beruf nach 3 Jah...</td>\n",
       "      <td>...</td>\n",
       "      <td>NaN</td>\n",
       "      <td>NaN</td>\n",
       "      <td>NaN</td>\n",
       "      <td>NaN</td>\n",
       "      <td>female</td>\n",
       "      <td>employee</td>\n",
       "      <td>other</td>\n",
       "      <td>NaN</td>\n",
       "      <td>NaN</td>\n",
       "      <td>NaN</td>\n",
       "    </tr>\n",
       "    <tr>\n",
       "      <th>...</th>\n",
       "      <td>...</td>\n",
       "      <td>...</td>\n",
       "      <td>...</td>\n",
       "      <td>...</td>\n",
       "      <td>...</td>\n",
       "      <td>...</td>\n",
       "      <td>...</td>\n",
       "      <td>...</td>\n",
       "      <td>...</td>\n",
       "      <td>...</td>\n",
       "      <td>...</td>\n",
       "      <td>...</td>\n",
       "      <td>...</td>\n",
       "      <td>...</td>\n",
       "      <td>...</td>\n",
       "      <td>...</td>\n",
       "      <td>...</td>\n",
       "      <td>...</td>\n",
       "      <td>...</td>\n",
       "      <td>...</td>\n",
       "      <td>...</td>\n",
       "    </tr>\n",
       "    <tr>\n",
       "      <th>257</th>\n",
       "      <td>HUGO BOSS AG</td>\n",
       "      <td>2023-02-23 19:55:28 UTC</td>\n",
       "      <td>2023-02-23 19:55:28 UTC</td>\n",
       "      <td>NaN</td>\n",
       "      <td>NaN</td>\n",
       "      <td>NaN</td>\n",
       "      <td>NaN</td>\n",
       "      <td>NaN</td>\n",
       "      <td>NaN</td>\n",
       "      <td>NaN</td>\n",
       "      <td>...</td>\n",
       "      <td>NaN</td>\n",
       "      <td>NaN</td>\n",
       "      <td>NaN</td>\n",
       "      <td>NaN</td>\n",
       "      <td>male</td>\n",
       "      <td>employee</td>\n",
       "      <td>design</td>\n",
       "      <td>NaN</td>\n",
       "      <td>NaN</td>\n",
       "      <td>NaN</td>\n",
       "    </tr>\n",
       "    <tr>\n",
       "      <th>258</th>\n",
       "      <td>HUGO BOSS</td>\n",
       "      <td>2018-04-18 15:40:42 UTC</td>\n",
       "      <td>2018-04-18 15:40:42 UTC</td>\n",
       "      <td>NaN</td>\n",
       "      <td>NaN</td>\n",
       "      <td>NaN</td>\n",
       "      <td>NaN</td>\n",
       "      <td>NaN</td>\n",
       "      <td>NaN</td>\n",
       "      <td>NaN</td>\n",
       "      <td>...</td>\n",
       "      <td>NaN</td>\n",
       "      <td>NaN</td>\n",
       "      <td>NaN</td>\n",
       "      <td>NaN</td>\n",
       "      <td>Unknown</td>\n",
       "      <td>employee</td>\n",
       "      <td>sales</td>\n",
       "      <td>NaN</td>\n",
       "      <td>NaN</td>\n",
       "      <td>NaN</td>\n",
       "    </tr>\n",
       "    <tr>\n",
       "      <th>259</th>\n",
       "      <td>HUGO BOSS AG</td>\n",
       "      <td>2019-04-25 09:12:46 UTC</td>\n",
       "      <td>2019-04-25 09:12:46 UTC</td>\n",
       "      <td>NaN</td>\n",
       "      <td>NaN</td>\n",
       "      <td>NaN</td>\n",
       "      <td>NaN</td>\n",
       "      <td>NaN</td>\n",
       "      <td>NaN</td>\n",
       "      <td>NaN</td>\n",
       "      <td>...</td>\n",
       "      <td>NaN</td>\n",
       "      <td>NaN</td>\n",
       "      <td>NaN</td>\n",
       "      <td>NaN</td>\n",
       "      <td>Unknown</td>\n",
       "      <td>manager</td>\n",
       "      <td>other</td>\n",
       "      <td>NaN</td>\n",
       "      <td>NaN</td>\n",
       "      <td>NaN</td>\n",
       "    </tr>\n",
       "    <tr>\n",
       "      <th>260</th>\n",
       "      <td>HUGO BOSS AG</td>\n",
       "      <td>2022-04-28 06:52:21 UTC</td>\n",
       "      <td>2022-04-28 06:52:21 UTC</td>\n",
       "      <td>NaN</td>\n",
       "      <td>NaN</td>\n",
       "      <td>NaN</td>\n",
       "      <td>NaN</td>\n",
       "      <td>NaN</td>\n",
       "      <td>NaN</td>\n",
       "      <td>NaN</td>\n",
       "      <td>...</td>\n",
       "      <td>NaN</td>\n",
       "      <td>NaN</td>\n",
       "      <td>NaN</td>\n",
       "      <td>NaN</td>\n",
       "      <td>male</td>\n",
       "      <td>employee</td>\n",
       "      <td>logistic</td>\n",
       "      <td>NaN</td>\n",
       "      <td>NaN</td>\n",
       "      <td>NaN</td>\n",
       "    </tr>\n",
       "    <tr>\n",
       "      <th>261</th>\n",
       "      <td>HUGO BOSS AG</td>\n",
       "      <td>2023-04-12 12:48:16 UTC</td>\n",
       "      <td>2023-04-12 12:48:16 UTC</td>\n",
       "      <td>NaN</td>\n",
       "      <td>NaN</td>\n",
       "      <td>NaN</td>\n",
       "      <td>NaN</td>\n",
       "      <td>NaN</td>\n",
       "      <td>NaN</td>\n",
       "      <td>NaN</td>\n",
       "      <td>...</td>\n",
       "      <td>NaN</td>\n",
       "      <td>NaN</td>\n",
       "      <td>NaN</td>\n",
       "      <td>NaN</td>\n",
       "      <td>female</td>\n",
       "      <td>employee</td>\n",
       "      <td>sales</td>\n",
       "      <td>NaN</td>\n",
       "      <td>NaN</td>\n",
       "      <td>NaN</td>\n",
       "    </tr>\n",
       "  </tbody>\n",
       "</table>\n",
       "<p>262 rows × 22 columns</p>\n",
       "</div>"
      ],
      "text/plain": [
       "     company_name        review_created_at   review_last_updated_at  \\\n",
       "0    HUGO BOSS AG  2019-04-25 07:57:50 UTC  2019-04-25 08:02:18 UTC   \n",
       "1    HUGO BOSS AG  2019-05-15 11:21:31 UTC  2019-05-15 11:21:31 UTC   \n",
       "2    HUGO BOSS AG  2023-05-02 12:10:49 UTC  2023-05-02 12:10:49 UTC   \n",
       "3    HUGO BOSS AG  2019-04-25 08:13:39 UTC  2019-04-25 08:13:39 UTC   \n",
       "4    HUGO BOSS AG  2023-04-17 12:58:50 UTC  2023-04-17 12:58:50 UTC   \n",
       "..            ...                      ...                      ...   \n",
       "257  HUGO BOSS AG  2023-02-23 19:55:28 UTC  2023-02-23 19:55:28 UTC   \n",
       "258     HUGO BOSS  2018-04-18 15:40:42 UTC  2018-04-18 15:40:42 UTC   \n",
       "259  HUGO BOSS AG  2019-04-25 09:12:46 UTC  2019-04-25 09:12:46 UTC   \n",
       "260  HUGO BOSS AG  2022-04-28 06:52:21 UTC  2022-04-28 06:52:21 UTC   \n",
       "261  HUGO BOSS AG  2023-04-12 12:48:16 UTC  2023-04-12 12:48:16 UTC   \n",
       "\n",
       "                        employer_atmosphere_score_text  \\\n",
       "0                                                  NaN   \n",
       "1                                                  NaN   \n",
       "2    Eine entspannte Arbeitsatmosphäre, nette Kolle...   \n",
       "3                                                  NaN   \n",
       "4    HB ist ein toller Arbeitgeber mit einer offene...   \n",
       "..                                                 ...   \n",
       "257                                                NaN   \n",
       "258                                                NaN   \n",
       "259                                                NaN   \n",
       "260                                                NaN   \n",
       "261                                                NaN   \n",
       "\n",
       "                     employer_communication_score_text  \\\n",
       "0                                                  NaN   \n",
       "1                                                  NaN   \n",
       "2    Kommunikation innerhalb der einzelnen Abteilun...   \n",
       "3                                                  NaN   \n",
       "4    Von der Unternehmensleitung bekommen wir alle ...   \n",
       "..                                                 ...   \n",
       "257                                                NaN   \n",
       "258                                                NaN   \n",
       "259                                                NaN   \n",
       "260                                                NaN   \n",
       "261                                                NaN   \n",
       "\n",
       "                          employer_teamwork_score_text  \\\n",
       "0                                                  NaN   \n",
       "1                                                  NaN   \n",
       "2                                                  NaN   \n",
       "3                                                  NaN   \n",
       "4    Die Kollegen sind (neben dem Produkt) das Best...   \n",
       "..                                                 ...   \n",
       "257                                                NaN   \n",
       "258                                                NaN   \n",
       "259                                                NaN   \n",
       "260                                                NaN   \n",
       "261                                                NaN   \n",
       "\n",
       "                         employer_work_life_score_text  \\\n",
       "0                                                  NaN   \n",
       "1                                                  NaN   \n",
       "2                                                  NaN   \n",
       "3                                                  NaN   \n",
       "4    Mehrarbeit ist oft notwendig um das Arbeitspen...   \n",
       "..                                                 ...   \n",
       "257                                                NaN   \n",
       "258                                                NaN   \n",
       "259                                                NaN   \n",
       "260                                                NaN   \n",
       "261                                                NaN   \n",
       "\n",
       "    employer_leadership_score_text employer_tasks_score_text  \\\n",
       "0                              NaN                       NaN   \n",
       "1                              NaN                       NaN   \n",
       "2                              NaN                       NaN   \n",
       "3                              NaN                       NaN   \n",
       "4                              NaN                       NaN   \n",
       "..                             ...                       ...   \n",
       "257                            NaN                       NaN   \n",
       "258                            NaN                       NaN   \n",
       "259                            NaN                       NaN   \n",
       "260                            NaN                       NaN   \n",
       "261                            NaN                       NaN   \n",
       "\n",
       "                          employer_equality_score_text  ...  \\\n",
       "0                                                  NaN  ...   \n",
       "1                                                  NaN  ...   \n",
       "2                                                  NaN  ...   \n",
       "3                                                  NaN  ...   \n",
       "4    Als Wiedereinsteigerin in den Beruf nach 3 Jah...  ...   \n",
       "..                                                 ...  ...   \n",
       "257                                                NaN  ...   \n",
       "258                                                NaN  ...   \n",
       "259                                                NaN  ...   \n",
       "260                                                NaN  ...   \n",
       "261                                                NaN  ...   \n",
       "\n",
       "    employer_environment_score_text employer_salary_score_text  \\\n",
       "0                               NaN                        NaN   \n",
       "1                               NaN                        NaN   \n",
       "2                               NaN                        NaN   \n",
       "3                               NaN                        NaN   \n",
       "4                               NaN                        NaN   \n",
       "..                              ...                        ...   \n",
       "257                             NaN                        NaN   \n",
       "258                             NaN                        NaN   \n",
       "259                             NaN                        NaN   \n",
       "260                             NaN                        NaN   \n",
       "261                             NaN                        NaN   \n",
       "\n",
       "    employer_image_score_text employer_career_score_text review_user_gender  \\\n",
       "0                         NaN                        NaN            Unknown   \n",
       "1                         NaN                        NaN            Unknown   \n",
       "2                         NaN                        NaN               male   \n",
       "3                         NaN                        NaN            Unknown   \n",
       "4                         NaN                        NaN             female   \n",
       "..                        ...                        ...                ...   \n",
       "257                       NaN                        NaN               male   \n",
       "258                       NaN                        NaN            Unknown   \n",
       "259                       NaN                        NaN            Unknown   \n",
       "260                       NaN                        NaN               male   \n",
       "261                       NaN                        NaN             female   \n",
       "\n",
       "    employment_position_type employment_department  \\\n",
       "0                   employee        administration   \n",
       "1                   employee            operations   \n",
       "2                   employee                    it   \n",
       "3                   employee            operations   \n",
       "4                   employee                 other   \n",
       "..                       ...                   ...   \n",
       "257                 employee                design   \n",
       "258                 employee                 sales   \n",
       "259                  manager                 other   \n",
       "260                 employee              logistic   \n",
       "261                 employee                 sales   \n",
       "\n",
       "                              feedback_suggestion_text  \\\n",
       "0                                                  NaN   \n",
       "1    Prozesse unter den einzelnen Brand Gender Line...   \n",
       "2    Bessere ÖPNV Anbindung gerade im Hinblick auf ...   \n",
       "3                                                  NaN   \n",
       "4                                                  NaN   \n",
       "..                                                 ...   \n",
       "257                                                NaN   \n",
       "258                                                NaN   \n",
       "259                                                NaN   \n",
       "260                                                NaN   \n",
       "261                                                NaN   \n",
       "\n",
       "                                feedback_positive_text feedback_negative_text  \n",
       "0    Sehr angenehmes Arbeitsklima, sehr gute Firmen...                    NaN  \n",
       "1                    New Work Methodik wird eingeführt                    NaN  \n",
       "2                                                  NaN                    NaN  \n",
       "3                                                  NaN                    NaN  \n",
       "4                                                  NaN                    NaN  \n",
       "..                                                 ...                    ...  \n",
       "257                                                NaN                    NaN  \n",
       "258                                                NaN                    NaN  \n",
       "259                                                NaN                    NaN  \n",
       "260                                                NaN                    NaN  \n",
       "261                                                NaN                    NaN  \n",
       "\n",
       "[262 rows x 22 columns]"
      ]
     },
     "execution_count": 33,
     "metadata": {},
     "output_type": "execute_result"
    }
   ],
   "source": [
    "df3"
   ]
  },
  {
   "cell_type": "code",
   "execution_count": 34,
   "metadata": {},
   "outputs": [
    {
     "name": "stdout",
     "output_type": "stream",
     "text": [
      "company_name                           262\n",
      "review_created_at                      262\n",
      "review_last_updated_at                 262\n",
      "employer_atmosphere_score_text          63\n",
      "employer_communication_score_text       57\n",
      "employer_teamwork_score_text            50\n",
      "employer_work_life_score_text           54\n",
      "employer_leadership_score_text          54\n",
      "employer_tasks_score_text               46\n",
      "employer_equality_score_text            40\n",
      "employer_old_colleagues_score_text      33\n",
      "employer_work_conditions_score_text     47\n",
      "employer_environment_score_text         46\n",
      "employer_salary_score_text              49\n",
      "employer_image_score_text               36\n",
      "employer_career_score_text              45\n",
      "review_user_gender                     262\n",
      "employment_position_type               262\n",
      "employment_department                  262\n",
      "feedback_suggestion_text                85\n",
      "feedback_positive_text                 102\n",
      "feedback_negative_text                  71\n",
      "dtype: int64\n",
      "(262, 22)\n"
     ]
    }
   ],
   "source": [
    "#check how many NaN values in each column\n",
    "print(df3.notnull().sum())\n",
    "print(df3.shape)\n"
   ]
  },
  {
   "cell_type": "markdown",
   "metadata": {},
   "source": [
    "Clearly, there is a data limitation as we see roughly 50 text answers for most columns, so keeping that in mind."
   ]
  },
  {
   "cell_type": "code",
   "execution_count": 35,
   "metadata": {},
   "outputs": [
    {
     "data": {
      "text/plain": [
       "Index(['company_name', 'employer_atmosphere_score_text',\n",
       "       'employer_communication_score_text', 'employer_teamwork_score_text',\n",
       "       'employer_work_life_score_text', 'employer_leadership_score_text',\n",
       "       'employer_tasks_score_text', 'employer_equality_score_text',\n",
       "       'employer_old_colleagues_score_text',\n",
       "       'employer_work_conditions_score_text',\n",
       "       'employer_environment_score_text', 'employer_salary_score_text',\n",
       "       'employer_image_score_text', 'employer_career_score_text',\n",
       "       'feedback_suggestion_text', 'feedback_positive_text',\n",
       "       'feedback_negative_text'],\n",
       "      dtype='object')"
      ]
     },
     "execution_count": 35,
     "metadata": {},
     "output_type": "execute_result"
    }
   ],
   "source": [
    "#removing all the columns that are not relevant in this instance: \n",
    "df3 = df3.drop(columns=['review_created_at','review_last_updated_at','employment_department', 'employment_position_type', 'review_user_gender'])\n",
    "\n",
    "df3.columns"
   ]
  },
  {
   "cell_type": "code",
   "execution_count": 36,
   "metadata": {},
   "outputs": [
    {
     "data": {
      "text/plain": [
       "company_name                           object\n",
       "employer_atmosphere_score_text         object\n",
       "employer_communication_score_text      object\n",
       "employer_teamwork_score_text           object\n",
       "employer_work_life_score_text          object\n",
       "employer_leadership_score_text         object\n",
       "employer_tasks_score_text              object\n",
       "employer_equality_score_text           object\n",
       "employer_old_colleagues_score_text     object\n",
       "employer_work_conditions_score_text    object\n",
       "employer_environment_score_text        object\n",
       "employer_salary_score_text             object\n",
       "employer_image_score_text              object\n",
       "employer_career_score_text             object\n",
       "feedback_suggestion_text               object\n",
       "feedback_positive_text                 object\n",
       "feedback_negative_text                 object\n",
       "dtype: object"
      ]
     },
     "execution_count": 36,
     "metadata": {},
     "output_type": "execute_result"
    }
   ],
   "source": [
    "df3.dtypes\n"
   ]
  },
  {
   "cell_type": "code",
   "execution_count": 37,
   "metadata": {},
   "outputs": [
    {
     "name": "stdout",
     "output_type": "stream",
     "text": [
      "                                     Average Sentiment Score\n",
      "company_name                                        0.000000\n",
      "employer_atmosphere_score_text                      0.039355\n",
      "employer_communication_score_text                  -0.008772\n",
      "employer_teamwork_score_text                        0.003417\n",
      "employer_work_life_score_text                       0.039941\n",
      "employer_leadership_score_text                      0.045602\n",
      "employer_tasks_score_text                           0.013043\n",
      "employer_equality_score_text                        0.026250\n",
      "employer_old_colleagues_score_text                  0.020101\n",
      "employer_work_conditions_score_text                 0.107824\n",
      "employer_environment_score_text                     0.011051\n",
      "employer_salary_score_text                          0.049862\n",
      "employer_image_score_text                           0.014899\n",
      "employer_career_score_text                          0.000741\n",
      "feedback_suggestion_text                            0.006702\n",
      "feedback_positive_text                              0.044646\n",
      "feedback_negative_text                              0.006978\n"
     ]
    }
   ],
   "source": [
    "all_sentiment_results = {}\n",
    "\n",
    "# Perform sentiment analysis on all text columns\n",
    "for column in df3.columns:\n",
    "    sentiments = []\n",
    "    for text in df3[column]:\n",
    "        if pd.notna(text) and text.strip():  # Only process non-empty and non-NaN text\n",
    "            blob = TextBlob(text)\n",
    "            sentiment = blob.sentiment.polarity  # Extract sentiment polarity (-1 to 1)\n",
    "            sentiments.append(sentiment)\n",
    "        else:\n",
    "            sentiments.append(np.nan)  # Use NaN for empty or missing text\n",
    "\n",
    "    df3[f'{column}_sentiment_score'] = sentiments\n",
    "    # Store the average sentiment score for the column, ignoring NaN values\n",
    "    if len([s for s in sentiments if not np.isnan(s)]) > 0:\n",
    "        all_sentiment_results[column] = np.nanmean(sentiments)\n",
    "    else:\n",
    "        all_sentiment_results[column] = np.nan  \n",
    "\n",
    "summarized_scores = pd.DataFrame.from_dict(all_sentiment_results, orient='index', columns=['Average Sentiment Score'])\n",
    "print(summarized_scores)\n"
   ]
  },
  {
   "cell_type": "markdown",
   "metadata": {},
   "source": [
    "These scores range from -1 to 1 and we can see, communication score is negative and in line with the results from the GPTW survey"
   ]
  },
  {
   "cell_type": "code",
   "execution_count": 38,
   "metadata": {},
   "outputs": [],
   "source": [
    "#we take take the split between manager and employee and see how the scores change, compare to internal data and see if there is a difference"
   ]
  },
  {
   "cell_type": "code",
   "execution_count": 39,
   "metadata": {},
   "outputs": [
    {
     "data": {
      "image/png": "[encoded data removed]",
      "text/plain": [
       "<Figure size 1000x500 with 1 Axes>"
      ]
     },
     "metadata": {},
     "output_type": "display_data"
    }
   ],
   "source": [
    "feedback_text = ' '.join(df['feedback_suggestion_text'].dropna().tolist() + \n",
    "                         df['feedback_positive_text'].dropna().tolist() + \n",
    "                         df['feedback_negative_text'].dropna().tolist())\n",
    "\n",
    "# Generate the word cloud\n",
    "wordcloud = WordCloud(width=800, height=400, background_color='white', colormap='BrBG').generate(feedback_text)\n",
    "\n",
    "plt.figure(figsize=(10, 5))\n",
    "plt.imshow(wordcloud, interpolation='bilinear')\n",
    "plt.axis('off')\n",
    "plt.title('Top Feedback Keywords')\n",
    "plt.show()\n"
   ]
  },
  {
   "cell_type": "markdown",
   "metadata": {},
   "source": [
    "Look into taking away common words like \"und\", die, der da etc"
   ]
  },
  {
   "cell_type": "code",
   "execution_count": 40,
   "metadata": {},
   "outputs": [
    {
     "data": {
      "text/plain": [
       "array(['employee', 'manager', 'Unknown', 'contractor', 'student',\n",
       "       'freelancer'], dtype=object)"
      ]
     },
     "execution_count": 40,
     "metadata": {},
     "output_type": "execute_result"
    }
   ],
   "source": [
    "df['employment_position_type'].unique()"
   ]
  },
  {
   "cell_type": "code",
   "execution_count": 41,
   "metadata": {},
   "outputs": [
    {
     "data": {
      "text/plain": [
       "company_name                            object\n",
       "review_created_at                       object\n",
       "review_last_updated_at                  object\n",
       "review_score                           float64\n",
       "employer_atmosphere_score              float64\n",
       "employer_communication_score           float64\n",
       "employer_teamwork_score                float64\n",
       "employer_work_life_score               float64\n",
       "employer_leadership_score              float64\n",
       "employer_tasks_score                   float64\n",
       "employer_equality_score                float64\n",
       "employer_old_colleagues_score          float64\n",
       "employer_work_conditions_score         float64\n",
       "employer_environment_score             float64\n",
       "employer_salary_score                  float64\n",
       "employer_image_score                   float64\n",
       "employer_career_score                  float64\n",
       "employer_atmosphere_score_text          object\n",
       "employer_communication_score_text       object\n",
       "employer_teamwork_score_text            object\n",
       "employer_work_life_score_text           object\n",
       "employer_leadership_score_text          object\n",
       "employer_tasks_score_text               object\n",
       "employer_equality_score_text            object\n",
       "employer_old_colleagues_score_text      object\n",
       "employer_work_conditions_score_text     object\n",
       "employer_environment_score_text         object\n",
       "employer_salary_score_text              object\n",
       "employer_image_score_text               object\n",
       "employer_career_score_text              object\n",
       "review_user_gender                      object\n",
       "employment_position_type                object\n",
       "employment_department                   object\n",
       "employment_is_recommended              boolean\n",
       "internet                               boolean\n",
       "stock_options                          boolean\n",
       "health_program                         boolean\n",
       "flex_working_hours                     boolean\n",
       "parking                                boolean\n",
       "accessibility                          boolean\n",
       "mobile_phone                           boolean\n",
       "discounts                              boolean\n",
       "home_office                            boolean\n",
       "doctor                                 boolean\n",
       "events                                 boolean\n",
       "cantine                                boolean\n",
       "dogs                                   boolean\n",
       "car                                    boolean\n",
       "meals                                  boolean\n",
       "pension_plan                           boolean\n",
       "daycare                                boolean\n",
       "reachability                           boolean\n",
       "coaching                               boolean\n",
       "feedback_suggestion_text                object\n",
       "feedback_positive_text                  object\n",
       "feedback_negative_text                  object\n",
       "dtype: object"
      ]
     },
     "execution_count": 41,
     "metadata": {},
     "output_type": "execute_result"
    }
   ],
   "source": [
    "df.dtypes"
   ]
  },
  {
   "cell_type": "code",
   "execution_count": 42,
   "metadata": {},
   "outputs": [],
   "source": [
    "score_columns = [\n",
    "    'review_score',\n",
    "    'employer_atmosphere_score',\n",
    "    'employer_communication_score',\n",
    "    'employer_teamwork_score',\n",
    "    'employer_work_life_score',\n",
    "    'employer_leadership_score',\n",
    "    'employer_tasks_score',\n",
    "    'employer_equality_score',\n",
    "    'employer_old_colleagues_score',\n",
    "    'employer_work_conditions_score',\n",
    "    'employer_environment_score',\n",
    "    'employer_salary_score', \n",
    "    'employer_image_score', \n",
    "    'employer_career_score'\n",
    "]"
   ]
  },
  {
   "cell_type": "code",
   "execution_count": 43,
   "metadata": {},
   "outputs": [
    {
     "data": {
      "text/plain": [
       "Index(['employment_is_recommended', 'internet', 'stock_options',\n",
       "       'health_program', 'flex_working_hours', 'parking', 'accessibility',\n",
       "       'mobile_phone', 'discounts', 'home_office', 'doctor', 'events',\n",
       "       'cantine', 'dogs', 'car', 'meals', 'pension_plan', 'daycare',\n",
       "       'reachability', 'coaching'],\n",
       "      dtype='object')"
      ]
     },
     "execution_count": 43,
     "metadata": {},
     "output_type": "execute_result"
    }
   ],
   "source": [
    "#print the index of df2\n",
    "df2.index\n"
   ]
  },
  {
   "cell_type": "code",
   "execution_count": 44,
   "metadata": {},
   "outputs": [],
   "source": [
    "df_bool_prep = df[['employment_department', 'employment_position_type', 'review_user_gender',\n",
    "'employment_is_recommended',\n",
    " 'internet',\n",
    " 'stock_options',\n",
    " 'health_program',\n",
    " 'flex_working_hours',\n",
    " 'parking',\n",
    " 'accessibility',\n",
    " 'mobile_phone',\n",
    " 'discounts',\n",
    " 'home_office',\n",
    " 'doctor',\n",
    " 'events',\n",
    " 'cantine',\n",
    " 'dogs',\n",
    " 'car',\n",
    " 'meals',\n",
    " 'pension_plan',\n",
    " 'daycare',\n",
    " 'reachability',\n",
    " 'coaching']]\n"
   ]
  },
  {
   "cell_type": "markdown",
   "metadata": {},
   "source": [
    "### Split by Employee vs Manager"
   ]
  },
  {
   "cell_type": "code",
   "execution_count": 45,
   "metadata": {},
   "outputs": [
    {
     "data": {
      "text/html": [
       "<div>\n",
       "<style scoped>\n",
       "    .dataframe tbody tr th:only-of-type {\n",
       "        vertical-align: middle;\n",
       "    }\n",
       "\n",
       "    .dataframe tbody tr th {\n",
       "        vertical-align: top;\n",
       "    }\n",
       "\n",
       "    .dataframe thead th {\n",
       "        text-align: right;\n",
       "    }\n",
       "</style>\n",
       "<table border=\"1\" class=\"dataframe\">\n",
       "  <thead>\n",
       "    <tr style=\"text-align: right;\">\n",
       "      <th>employment_position_type</th>\n",
       "      <th>Unknown</th>\n",
       "      <th>contractor</th>\n",
       "      <th>employee</th>\n",
       "      <th>freelancer</th>\n",
       "      <th>manager</th>\n",
       "      <th>student</th>\n",
       "    </tr>\n",
       "  </thead>\n",
       "  <tbody>\n",
       "    <tr>\n",
       "      <th>review_score</th>\n",
       "      <td>3.794867</td>\n",
       "      <td>4.6154</td>\n",
       "      <td>4.067049</td>\n",
       "      <td>4.7692</td>\n",
       "      <td>4.157177</td>\n",
       "      <td>4.487167</td>\n",
       "    </tr>\n",
       "    <tr>\n",
       "      <th>employer_atmosphere_score</th>\n",
       "      <td>3.833333</td>\n",
       "      <td>5.0</td>\n",
       "      <td>4.19171</td>\n",
       "      <td>5.0</td>\n",
       "      <td>4.385965</td>\n",
       "      <td>4.666667</td>\n",
       "    </tr>\n",
       "    <tr>\n",
       "      <th>employer_communication_score</th>\n",
       "      <td>3.333333</td>\n",
       "      <td>5.0</td>\n",
       "      <td>3.744792</td>\n",
       "      <td>5.0</td>\n",
       "      <td>3.719298</td>\n",
       "      <td>4.0</td>\n",
       "    </tr>\n",
       "    <tr>\n",
       "      <th>employer_teamwork_score</th>\n",
       "      <td>3.5</td>\n",
       "      <td>4.0</td>\n",
       "      <td>4.164948</td>\n",
       "      <td>5.0</td>\n",
       "      <td>4.245614</td>\n",
       "      <td>4.0</td>\n",
       "    </tr>\n",
       "    <tr>\n",
       "      <th>employer_work_life_score</th>\n",
       "      <td>3.666667</td>\n",
       "      <td>4.0</td>\n",
       "      <td>4.227979</td>\n",
       "      <td>5.0</td>\n",
       "      <td>4.22807</td>\n",
       "      <td>5.0</td>\n",
       "    </tr>\n",
       "    <tr>\n",
       "      <th>employer_leadership_score</th>\n",
       "      <td>3.5</td>\n",
       "      <td>5.0</td>\n",
       "      <td>3.762887</td>\n",
       "      <td>5.0</td>\n",
       "      <td>3.982456</td>\n",
       "      <td>4.333333</td>\n",
       "    </tr>\n",
       "    <tr>\n",
       "      <th>employer_tasks_score</th>\n",
       "      <td>3.833333</td>\n",
       "      <td>4.0</td>\n",
       "      <td>4.26943</td>\n",
       "      <td>5.0</td>\n",
       "      <td>4.321429</td>\n",
       "      <td>4.666667</td>\n",
       "    </tr>\n",
       "    <tr>\n",
       "      <th>employer_equality_score</th>\n",
       "      <td>4.166667</td>\n",
       "      <td>5.0</td>\n",
       "      <td>4.05291</td>\n",
       "      <td>5.0</td>\n",
       "      <td>4.089286</td>\n",
       "      <td>4.666667</td>\n",
       "    </tr>\n",
       "    <tr>\n",
       "      <th>employer_old_colleagues_score</th>\n",
       "      <td>3.833333</td>\n",
       "      <td>5.0</td>\n",
       "      <td>4.241935</td>\n",
       "      <td>5.0</td>\n",
       "      <td>4.321429</td>\n",
       "      <td>4.666667</td>\n",
       "    </tr>\n",
       "    <tr>\n",
       "      <th>employer_work_conditions_score</th>\n",
       "      <td>4.0</td>\n",
       "      <td>5.0</td>\n",
       "      <td>4.390625</td>\n",
       "      <td>5.0</td>\n",
       "      <td>4.350877</td>\n",
       "      <td>5.0</td>\n",
       "    </tr>\n",
       "    <tr>\n",
       "      <th>employer_environment_score</th>\n",
       "      <td>3.833333</td>\n",
       "      <td>4.0</td>\n",
       "      <td>4.078947</td>\n",
       "      <td>5.0</td>\n",
       "      <td>4.140351</td>\n",
       "      <td>4.666667</td>\n",
       "    </tr>\n",
       "    <tr>\n",
       "      <th>employer_salary_score</th>\n",
       "      <td>3.666667</td>\n",
       "      <td>4.0</td>\n",
       "      <td>3.642487</td>\n",
       "      <td>4.0</td>\n",
       "      <td>3.894737</td>\n",
       "      <td>4.0</td>\n",
       "    </tr>\n",
       "    <tr>\n",
       "      <th>employer_image_score</th>\n",
       "      <td>4.666667</td>\n",
       "      <td>5.0</td>\n",
       "      <td>4.407216</td>\n",
       "      <td>5.0</td>\n",
       "      <td>4.333333</td>\n",
       "      <td>4.0</td>\n",
       "    </tr>\n",
       "    <tr>\n",
       "      <th>employer_career_score</th>\n",
       "      <td>3.5</td>\n",
       "      <td>5.0</td>\n",
       "      <td>3.786458</td>\n",
       "      <td>3.0</td>\n",
       "      <td>4.035714</td>\n",
       "      <td>4.666667</td>\n",
       "    </tr>\n",
       "  </tbody>\n",
       "</table>\n",
       "</div>"
      ],
      "text/plain": [
       "employment_position_type         Unknown contractor  employee freelancer  \\\n",
       "review_score                    3.794867     4.6154  4.067049     4.7692   \n",
       "employer_atmosphere_score       3.833333        5.0   4.19171        5.0   \n",
       "employer_communication_score    3.333333        5.0  3.744792        5.0   \n",
       "employer_teamwork_score              3.5        4.0  4.164948        5.0   \n",
       "employer_work_life_score        3.666667        4.0  4.227979        5.0   \n",
       "employer_leadership_score            3.5        5.0  3.762887        5.0   \n",
       "employer_tasks_score            3.833333        4.0   4.26943        5.0   \n",
       "employer_equality_score         4.166667        5.0   4.05291        5.0   \n",
       "employer_old_colleagues_score   3.833333        5.0  4.241935        5.0   \n",
       "employer_work_conditions_score       4.0        5.0  4.390625        5.0   \n",
       "employer_environment_score      3.833333        4.0  4.078947        5.0   \n",
       "employer_salary_score           3.666667        4.0  3.642487        4.0   \n",
       "employer_image_score            4.666667        5.0  4.407216        5.0   \n",
       "employer_career_score                3.5        5.0  3.786458        3.0   \n",
       "\n",
       "employment_position_type         manager   student  \n",
       "review_score                    4.157177  4.487167  \n",
       "employer_atmosphere_score       4.385965  4.666667  \n",
       "employer_communication_score    3.719298       4.0  \n",
       "employer_teamwork_score         4.245614       4.0  \n",
       "employer_work_life_score         4.22807       5.0  \n",
       "employer_leadership_score       3.982456  4.333333  \n",
       "employer_tasks_score            4.321429  4.666667  \n",
       "employer_equality_score         4.089286  4.666667  \n",
       "employer_old_colleagues_score   4.321429  4.666667  \n",
       "employer_work_conditions_score  4.350877       5.0  \n",
       "employer_environment_score      4.140351  4.666667  \n",
       "employer_salary_score           3.894737       4.0  \n",
       "employer_image_score            4.333333       4.0  \n",
       "employer_career_score           4.035714  4.666667  "
      ]
     },
     "execution_count": 45,
     "metadata": {},
     "output_type": "execute_result"
    }
   ],
   "source": [
    "#groupby employment_position_type and take the mean of the review_score\n",
    "df_employment = df.groupby('employment_position_type')[score_columns].mean().reset_index()\n",
    "df_employment = df_employment.T\n",
    "\n",
    "#set the first row as the header\n",
    "df_employment.columns = df_employment.iloc[0]\n",
    "df_employment = df_employment[1:]\n",
    "df_employment\n"
   ]
  },
  {
   "cell_type": "code",
   "execution_count": 46,
   "metadata": {},
   "outputs": [
    {
     "name": "stdout",
     "output_type": "stream",
     "text": [
      "3.0\n",
      "5.0\n"
     ]
    }
   ],
   "source": [
    "print(df_employment.min().min())\n",
    "print(df_employment.max().max())"
   ]
  },
  {
   "cell_type": "code",
   "execution_count": 47,
   "metadata": {},
   "outputs": [
    {
     "data": {
      "application/vnd.plotly.v1+json": {
       "config": {
        "plotlyServerURL": "https://plot.ly"
       },
       "data": [
        {
         "colorbar": {
          "title": {
           "text": "Score"
          }
         },
         "colorscale": [
          [
           0,
           "rgb(237, 229, 207)"
          ],
          [
           0.16666666666666666,
           "rgb(224, 194, 162)"
          ],
          [
           0.3333333333333333,
           "rgb(211, 156, 131)"
          ],
          [
           0.5,
           "rgb(193, 118, 111)"
          ],
          [
           0.6666666666666666,
           "rgb(166, 84, 97)"
          ],
          [
           0.8333333333333334,
           "rgb(129, 55, 83)"
          ],
          [
           1,
           "rgb(84, 31, 63)"
          ]
         ],
         "hoverongaps": false,
         "type": "heatmap",
         "x": [
          "review_score",
          "employer_atmosphere_score",
          "employer_communication_score",
          "employer_teamwork_score",
          "employer_work_life_score",
          "employer_leadership_score",
          "employer_tasks_score",
          "employer_equality_score",
          "employer_old_colleagues_score",
          "employer_work_conditions_score",
          "employer_environment_score",
          "employer_salary_score",
          "employer_image_score",
          "employer_career_score"
         ],
         "y": [
          "Unknown",
          "contractor",
          "employee",
          "freelancer",
          "manager",
          "student"
         ],
         "z": [
          [
           3.794866666666666,
           3.8333333333333335,
           3.3333333333333335,
           3.5,
           3.6666666666666665,
           3.5,
           3.8333333333333335,
           4.166666666666667,
           3.8333333333333335,
           4,
           3.8333333333333335,
           3.6666666666666665,
           4.666666666666667,
           3.5
          ],
          [
           4.6154,
           5,
           5,
           4,
           4,
           5,
           4,
           5,
           5,
           5,
           4,
           4,
           5,
           5
          ],
          [
           4.067049484536082,
           4.191709844559585,
           3.7447916666666665,
           4.164948453608248,
           4.227979274611399,
           3.7628865979381443,
           4.269430051813472,
           4.052910052910053,
           4.241935483870968,
           4.390625,
           4.078947368421052,
           3.6424870466321244,
           4.407216494845361,
           3.7864583333333335
          ],
          [
           4.7692,
           5,
           5,
           5,
           5,
           5,
           5,
           5,
           5,
           5,
           5,
           4,
           5,
           3
          ],
          [
           4.157177192982457,
           4.385964912280702,
           3.719298245614035,
           4.245614035087719,
           4.228070175438597,
           3.982456140350877,
           4.321428571428571,
           4.089285714285714,
           4.321428571428571,
           4.350877192982456,
           4.140350877192983,
           3.8947368421052633,
           4.333333333333333,
           4.035714285714286
          ],
          [
           4.487166666666667,
           4.666666666666667,
           4,
           4,
           5,
           4.333333333333333,
           4.666666666666667,
           4.666666666666667,
           4.666666666666667,
           5,
           4.666666666666667,
           4,
           4,
           4.666666666666667
          ]
         ],
         "zmax": 5,
         "zmin": 3
        }
       ],
       "layout": {
        "font": {
         "size": 14
        },
        "height": 600,
        "paper_bgcolor": "white",
        "plot_bgcolor": "white",
        "template": {
         "data": {
          "bar": [
           {
            "error_x": {
             "color": "#2a3f5f"
            },
            "error_y": {
             "color": "#2a3f5f"
            },
            "marker": {
             "line": {
              "color": "#E5ECF6",
              "width": 0.5
             },
             "pattern": {
              "fillmode": "overlay",
              "size": 10,
              "solidity": 0.2
             }
            },
            "type": "bar"
           }
          ],
          "barpolar": [
           {
            "marker": {
             "line": {
              "color": "#E5ECF6",
              "width": 0.5
             },
             "pattern": {
              "fillmode": "overlay",
              "size": 10,
              "solidity": 0.2
             }
            },
            "type": "barpolar"
           }
          ],
          "carpet": [
           {
            "aaxis": {
             "endlinecolor": "#2a3f5f",
             "gridcolor": "white",
             "linecolor": "white",
             "minorgridcolor": "white",
             "startlinecolor": "#2a3f5f"
            },
            "baxis": {
             "endlinecolor": "#2a3f5f",
             "gridcolor": "white",
             "linecolor": "white",
             "minorgridcolor": "white",
             "startlinecolor": "#2a3f5f"
            },
            "type": "carpet"
           }
          ],
          "choropleth": [
           {
            "colorbar": {
             "outlinewidth": 0,
             "ticks": ""
            },
            "type": "choropleth"
           }
          ],
          "contour": [
           {
            "colorbar": {
             "outlinewidth": 0,
             "ticks": ""
            },
            "colorscale": [
             [
              0,
              "#0d0887"
             ],
             [
              0.1111111111111111,
              "#46039f"
             ],
             [
              0.2222222222222222,
              "#7201a8"
             ],
             [
              0.3333333333333333,
              "#9c179e"
             ],
             [
              0.4444444444444444,
              "#bd3786"
             ],
             [
              0.5555555555555556,
              "#d8576b"
             ],
             [
              0.6666666666666666,
              "#ed7953"
             ],
             [
              0.7777777777777778,
              "#fb9f3a"
             ],
             [
              0.8888888888888888,
              "#fdca26"
             ],
             [
              1,
              "#f0f921"
             ]
            ],
            "type": "contour"
           }
          ],
          "contourcarpet": [
           {
            "colorbar": {
             "outlinewidth": 0,
             "ticks": ""
            },
            "type": "contourcarpet"
           }
          ],
          "heatmap": [
           {
            "colorbar": {
             "outlinewidth": 0,
             "ticks": ""
            },
            "colorscale": [
             [
              0,
              "#0d0887"
             ],
             [
              0.1111111111111111,
              "#46039f"
             ],
             [
              0.2222222222222222,
              "#7201a8"
             ],
             [
              0.3333333333333333,
              "#9c179e"
             ],
             [
              0.4444444444444444,
              "#bd3786"
             ],
             [
              0.5555555555555556,
              "#d8576b"
             ],
             [
              0.6666666666666666,
              "#ed7953"
             ],
             [
              0.7777777777777778,
              "#fb9f3a"
             ],
             [
              0.8888888888888888,
              "#fdca26"
             ],
             [
              1,
              "#f0f921"
             ]
            ],
            "type": "heatmap"
           }
          ],
          "heatmapgl": [
           {
            "colorbar": {
             "outlinewidth": 0,
             "ticks": ""
            },
            "colorscale": [
             [
              0,
              "#0d0887"
             ],
             [
              0.1111111111111111,
              "#46039f"
             ],
             [
              0.2222222222222222,
              "#7201a8"
             ],
             [
              0.3333333333333333,
              "#9c179e"
             ],
             [
              0.4444444444444444,
              "#bd3786"
             ],
             [
              0.5555555555555556,
              "#d8576b"
             ],
             [
              0.6666666666666666,
              "#ed7953"
             ],
             [
              0.7777777777777778,
              "#fb9f3a"
             ],
             [
              0.8888888888888888,
              "#fdca26"
             ],
             [
              1,
              "#f0f921"
             ]
            ],
            "type": "heatmapgl"
           }
          ],
          "histogram": [
           {
            "marker": {
             "pattern": {
              "fillmode": "overlay",
              "size": 10,
              "solidity": 0.2
             }
            },
            "type": "histogram"
           }
          ],
          "histogram2d": [
           {
            "colorbar": {
             "outlinewidth": 0,
             "ticks": ""
            },
            "colorscale": [
             [
              0,
              "#0d0887"
             ],
             [
              0.1111111111111111,
              "#46039f"
             ],
             [
              0.2222222222222222,
              "#7201a8"
             ],
             [
              0.3333333333333333,
              "#9c179e"
             ],
             [
              0.4444444444444444,
              "#bd3786"
             ],
             [
              0.5555555555555556,
              "#d8576b"
             ],
             [
              0.6666666666666666,
              "#ed7953"
             ],
             [
              0.7777777777777778,
              "#fb9f3a"
             ],
             [
              0.8888888888888888,
              "#fdca26"
             ],
             [
              1,
              "#f0f921"
             ]
            ],
            "type": "histogram2d"
           }
          ],
          "histogram2dcontour": [
           {
            "colorbar": {
             "outlinewidth": 0,
             "ticks": ""
            },
            "colorscale": [
             [
              0,
              "#0d0887"
             ],
             [
              0.1111111111111111,
              "#46039f"
             ],
             [
              0.2222222222222222,
              "#7201a8"
             ],
             [
              0.3333333333333333,
              "#9c179e"
             ],
             [
              0.4444444444444444,
              "#bd3786"
             ],
             [
              0.5555555555555556,
              "#d8576b"
             ],
             [
              0.6666666666666666,
              "#ed7953"
             ],
             [
              0.7777777777777778,
              "#fb9f3a"
             ],
             [
              0.8888888888888888,
              "#fdca26"
             ],
             [
              1,
              "#f0f921"
             ]
            ],
            "type": "histogram2dcontour"
           }
          ],
          "mesh3d": [
           {
            "colorbar": {
             "outlinewidth": 0,
             "ticks": ""
            },
            "type": "mesh3d"
           }
          ],
          "parcoords": [
           {
            "line": {
             "colorbar": {
              "outlinewidth": 0,
              "ticks": ""
             }
            },
            "type": "parcoords"
           }
          ],
          "pie": [
           {
            "automargin": true,
            "type": "pie"
           }
          ],
          "scatter": [
           {
            "fillpattern": {
             "fillmode": "overlay",
             "size": 10,
             "solidity": 0.2
            },
            "type": "scatter"
           }
          ],
          "scatter3d": [
           {
            "line": {
             "colorbar": {
              "outlinewidth": 0,
              "ticks": ""
             }
            },
            "marker": {
             "colorbar": {
              "outlinewidth": 0,
              "ticks": ""
             }
            },
            "type": "scatter3d"
           }
          ],
          "scattercarpet": [
           {
            "marker": {
             "colorbar": {
              "outlinewidth": 0,
              "ticks": ""
             }
            },
            "type": "scattercarpet"
           }
          ],
          "scattergeo": [
           {
            "marker": {
             "colorbar": {
              "outlinewidth": 0,
              "ticks": ""
             }
            },
            "type": "scattergeo"
           }
          ],
          "scattergl": [
           {
            "marker": {
             "colorbar": {
              "outlinewidth": 0,
              "ticks": ""
             }
            },
            "type": "scattergl"
           }
          ],
          "scattermapbox": [
           {
            "marker": {
             "colorbar": {
              "outlinewidth": 0,
              "ticks": ""
             }
            },
            "type": "scattermapbox"
           }
          ],
          "scatterpolar": [
           {
            "marker": {
             "colorbar": {
              "outlinewidth": 0,
              "ticks": ""
             }
            },
            "type": "scatterpolar"
           }
          ],
          "scatterpolargl": [
           {
            "marker": {
             "colorbar": {
              "outlinewidth": 0,
              "ticks": ""
             }
            },
            "type": "scatterpolargl"
           }
          ],
          "scatterternary": [
           {
            "marker": {
             "colorbar": {
              "outlinewidth": 0,
              "ticks": ""
             }
            },
            "type": "scatterternary"
           }
          ],
          "surface": [
           {
            "colorbar": {
             "outlinewidth": 0,
             "ticks": ""
            },
            "colorscale": [
             [
              0,
              "#0d0887"
             ],
             [
              0.1111111111111111,
              "#46039f"
             ],
             [
              0.2222222222222222,
              "#7201a8"
             ],
             [
              0.3333333333333333,
              "#9c179e"
             ],
             [
              0.4444444444444444,
              "#bd3786"
             ],
             [
              0.5555555555555556,
              "#d8576b"
             ],
             [
              0.6666666666666666,
              "#ed7953"
             ],
             [
              0.7777777777777778,
              "#fb9f3a"
             ],
             [
              0.8888888888888888,
              "#fdca26"
             ],
             [
              1,
              "#f0f921"
             ]
            ],
            "type": "surface"
           }
          ],
          "table": [
           {
            "cells": {
             "fill": {
              "color": "#EBF0F8"
             },
             "line": {
              "color": "white"
             }
            },
            "header": {
             "fill": {
              "color": "#C8D4E3"
             },
             "line": {
              "color": "white"
             }
            },
            "type": "table"
           }
          ]
         },
         "layout": {
          "annotationdefaults": {
           "arrowcolor": "#2a3f5f",
           "arrowhead": 0,
           "arrowwidth": 1
          },
          "autotypenumbers": "strict",
          "coloraxis": {
           "colorbar": {
            "outlinewidth": 0,
            "ticks": ""
           }
          },
          "colorscale": {
           "diverging": [
            [
             0,
             "#8e0152"
            ],
            [
             0.1,
             "#c51b7d"
            ],
            [
             0.2,
             "#de77ae"
            ],
            [
             0.3,
             "#f1b6da"
            ],
            [
             0.4,
             "#fde0ef"
            ],
            [
             0.5,
             "#f7f7f7"
            ],
            [
             0.6,
             "#e6f5d0"
            ],
            [
             0.7,
             "#b8e186"
            ],
            [
             0.8,
             "#7fbc41"
            ],
            [
             0.9,
             "#4d9221"
            ],
            [
             1,
             "#276419"
            ]
           ],
           "sequential": [
            [
             0,
             "#0d0887"
            ],
            [
             0.1111111111111111,
             "#46039f"
            ],
            [
             0.2222222222222222,
             "#7201a8"
            ],
            [
             0.3333333333333333,
             "#9c179e"
            ],
            [
             0.4444444444444444,
             "#bd3786"
            ],
            [
             0.5555555555555556,
             "#d8576b"
            ],
            [
             0.6666666666666666,
             "#ed7953"
            ],
            [
             0.7777777777777778,
             "#fb9f3a"
            ],
            [
             0.8888888888888888,
             "#fdca26"
            ],
            [
             1,
             "#f0f921"
            ]
           ],
           "sequentialminus": [
            [
             0,
             "#0d0887"
            ],
            [
             0.1111111111111111,
             "#46039f"
            ],
            [
             0.2222222222222222,
             "#7201a8"
            ],
            [
             0.3333333333333333,
             "#9c179e"
            ],
            [
             0.4444444444444444,
             "#bd3786"
            ],
            [
             0.5555555555555556,
             "#d8576b"
            ],
            [
             0.6666666666666666,
             "#ed7953"
            ],
            [
             0.7777777777777778,
             "#fb9f3a"
            ],
            [
             0.8888888888888888,
             "#fdca26"
            ],
            [
             1,
             "#f0f921"
            ]
           ]
          },
          "colorway": [
           "#636efa",
           "#EF553B",
           "#00cc96",
           "#ab63fa",
           "#FFA15A",
           "#19d3f3",
           "#FF6692",
           "#B6E880",
           "#FF97FF",
           "#FECB52"
          ],
          "font": {
           "color": "#2a3f5f"
          },
          "geo": {
           "bgcolor": "white",
           "lakecolor": "white",
           "landcolor": "#E5ECF6",
           "showlakes": true,
           "showland": true,
           "subunitcolor": "white"
          },
          "hoverlabel": {
           "align": "left"
          },
          "hovermode": "closest",
          "mapbox": {
           "style": "light"
          },
          "paper_bgcolor": "white",
          "plot_bgcolor": "#E5ECF6",
          "polar": {
           "angularaxis": {
            "gridcolor": "white",
            "linecolor": "white",
            "ticks": ""
           },
           "bgcolor": "#E5ECF6",
           "radialaxis": {
            "gridcolor": "white",
            "linecolor": "white",
            "ticks": ""
           }
          },
          "scene": {
           "xaxis": {
            "backgroundcolor": "#E5ECF6",
            "gridcolor": "white",
            "gridwidth": 2,
            "linecolor": "white",
            "showbackground": true,
            "ticks": "",
            "zerolinecolor": "white"
           },
           "yaxis": {
            "backgroundcolor": "#E5ECF6",
            "gridcolor": "white",
            "gridwidth": 2,
            "linecolor": "white",
            "showbackground": true,
            "ticks": "",
            "zerolinecolor": "white"
           },
           "zaxis": {
            "backgroundcolor": "#E5ECF6",
            "gridcolor": "white",
            "gridwidth": 2,
            "linecolor": "white",
            "showbackground": true,
            "ticks": "",
            "zerolinecolor": "white"
           }
          },
          "shapedefaults": {
           "line": {
            "color": "#2a3f5f"
           }
          },
          "ternary": {
           "aaxis": {
            "gridcolor": "white",
            "linecolor": "white",
            "ticks": ""
           },
           "baxis": {
            "gridcolor": "white",
            "linecolor": "white",
            "ticks": ""
           },
           "bgcolor": "#E5ECF6",
           "caxis": {
            "gridcolor": "white",
            "linecolor": "white",
            "ticks": ""
           }
          },
          "title": {
           "x": 0.05
          },
          "xaxis": {
           "automargin": true,
           "gridcolor": "white",
           "linecolor": "white",
           "ticks": "",
           "title": {
            "standoff": 15
           },
           "zerolinecolor": "white",
           "zerolinewidth": 2
          },
          "yaxis": {
           "automargin": true,
           "gridcolor": "white",
           "linecolor": "white",
           "ticks": "",
           "title": {
            "standoff": 15
           },
           "zerolinecolor": "white",
           "zerolinewidth": 2
          }
         }
        },
        "title": {
         "text": "Heatmap of Benefits Across Employment Positions"
        },
        "width": 900,
        "xaxis": {
         "tickangle": -45,
         "tickmode": "array",
         "tickvals": [
          0,
          1,
          2,
          3,
          4,
          5,
          6,
          7,
          8,
          9,
          10,
          11,
          12,
          13
         ],
         "title": {
          "text": "Employment Position Type"
         }
        },
        "yaxis": {
         "tickmode": "array",
         "tickvals": [
          0,
          1,
          2,
          3,
          4,
          5
         ],
         "title": {
          "text": "Benefit"
         }
        }
       }
      }
     },
     "metadata": {},
     "output_type": "display_data"
    }
   ],
   "source": [
    "heatmap_data = df_employment.T.astype(float)\n",
    "\n",
    "fig = go.Figure(data=go.Heatmap(\n",
    "    z=heatmap_data.values,\n",
    "    x=heatmap_data.columns, \n",
    "    y=heatmap_data.index,    \n",
    "    colorscale=px.colors.sequential.Brwnyl, \n",
    "    colorbar=dict(title='Score'),\n",
    "    zmin=df_employment.min().min(), zmax=df_employment.max().max(), \n",
    "    hoverongaps=False\n",
    "))\n",
    "\n",
    "fig.update_layout(\n",
    "    title='Heatmap of Benefits Across Employment Positions',\n",
    "    xaxis_title='Employment Position Type',\n",
    "    yaxis_title='Benefit',\n",
    "    xaxis=dict(tickmode='array', tickvals=list(range(len(heatmap_data.columns))), tickangle=-45),\n",
    "    yaxis=dict(tickmode='array', tickvals=list(range(len(heatmap_data.index)))),\n",
    "    height=600,\n",
    "    width=900,\n",
    "    plot_bgcolor='white',\n",
    "    paper_bgcolor='white',\n",
    "    font=dict(size=14)\n",
    ")\n",
    "\n",
    "fig.show()"
   ]
  },
  {
   "cell_type": "code",
   "execution_count": 48,
   "metadata": {},
   "outputs": [
    {
     "data": {
      "text/html": [
       "<div>\n",
       "<style scoped>\n",
       "    .dataframe tbody tr th:only-of-type {\n",
       "        vertical-align: middle;\n",
       "    }\n",
       "\n",
       "    .dataframe tbody tr th {\n",
       "        vertical-align: top;\n",
       "    }\n",
       "\n",
       "    .dataframe thead th {\n",
       "        text-align: right;\n",
       "    }\n",
       "</style>\n",
       "<table border=\"1\" class=\"dataframe\">\n",
       "  <thead>\n",
       "    <tr style=\"text-align: right;\">\n",
       "      <th></th>\n",
       "      <th>employment_position_type</th>\n",
       "      <th>employment_is_recommended</th>\n",
       "      <th>internet</th>\n",
       "      <th>stock_options</th>\n",
       "      <th>health_program</th>\n",
       "      <th>flex_working_hours</th>\n",
       "      <th>parking</th>\n",
       "      <th>accessibility</th>\n",
       "      <th>mobile_phone</th>\n",
       "      <th>discounts</th>\n",
       "      <th>...</th>\n",
       "      <th>doctor</th>\n",
       "      <th>events</th>\n",
       "      <th>cantine</th>\n",
       "      <th>dogs</th>\n",
       "      <th>car</th>\n",
       "      <th>meals</th>\n",
       "      <th>pension_plan</th>\n",
       "      <th>daycare</th>\n",
       "      <th>reachability</th>\n",
       "      <th>coaching</th>\n",
       "    </tr>\n",
       "  </thead>\n",
       "  <tbody>\n",
       "    <tr>\n",
       "      <th>0</th>\n",
       "      <td>employee</td>\n",
       "      <td>True</td>\n",
       "      <td>True</td>\n",
       "      <td>True</td>\n",
       "      <td>True</td>\n",
       "      <td>True</td>\n",
       "      <td>True</td>\n",
       "      <td>True</td>\n",
       "      <td>True</td>\n",
       "      <td>True</td>\n",
       "      <td>...</td>\n",
       "      <td>True</td>\n",
       "      <td>True</td>\n",
       "      <td>True</td>\n",
       "      <td>&lt;NA&gt;</td>\n",
       "      <td>True</td>\n",
       "      <td>&lt;NA&gt;</td>\n",
       "      <td>True</td>\n",
       "      <td>True</td>\n",
       "      <td>True</td>\n",
       "      <td>True</td>\n",
       "    </tr>\n",
       "    <tr>\n",
       "      <th>1</th>\n",
       "      <td>employee</td>\n",
       "      <td>True</td>\n",
       "      <td>&lt;NA&gt;</td>\n",
       "      <td>True</td>\n",
       "      <td>True</td>\n",
       "      <td>&lt;NA&gt;</td>\n",
       "      <td>True</td>\n",
       "      <td>True</td>\n",
       "      <td>&lt;NA&gt;</td>\n",
       "      <td>True</td>\n",
       "      <td>...</td>\n",
       "      <td>True</td>\n",
       "      <td>True</td>\n",
       "      <td>True</td>\n",
       "      <td>&lt;NA&gt;</td>\n",
       "      <td>&lt;NA&gt;</td>\n",
       "      <td>True</td>\n",
       "      <td>True</td>\n",
       "      <td>&lt;NA&gt;</td>\n",
       "      <td>&lt;NA&gt;</td>\n",
       "      <td>True</td>\n",
       "    </tr>\n",
       "    <tr>\n",
       "      <th>2</th>\n",
       "      <td>employee</td>\n",
       "      <td>True</td>\n",
       "      <td>True</td>\n",
       "      <td>True</td>\n",
       "      <td>True</td>\n",
       "      <td>True</td>\n",
       "      <td>True</td>\n",
       "      <td>True</td>\n",
       "      <td>True</td>\n",
       "      <td>True</td>\n",
       "      <td>...</td>\n",
       "      <td>True</td>\n",
       "      <td>True</td>\n",
       "      <td>True</td>\n",
       "      <td>True</td>\n",
       "      <td>True</td>\n",
       "      <td>True</td>\n",
       "      <td>True</td>\n",
       "      <td>True</td>\n",
       "      <td>&lt;NA&gt;</td>\n",
       "      <td>True</td>\n",
       "    </tr>\n",
       "    <tr>\n",
       "      <th>3</th>\n",
       "      <td>employee</td>\n",
       "      <td>True</td>\n",
       "      <td>True</td>\n",
       "      <td>True</td>\n",
       "      <td>True</td>\n",
       "      <td>True</td>\n",
       "      <td>&lt;NA&gt;</td>\n",
       "      <td>True</td>\n",
       "      <td>&lt;NA&gt;</td>\n",
       "      <td>True</td>\n",
       "      <td>...</td>\n",
       "      <td>True</td>\n",
       "      <td>True</td>\n",
       "      <td>True</td>\n",
       "      <td>&lt;NA&gt;</td>\n",
       "      <td>&lt;NA&gt;</td>\n",
       "      <td>&lt;NA&gt;</td>\n",
       "      <td>True</td>\n",
       "      <td>&lt;NA&gt;</td>\n",
       "      <td>&lt;NA&gt;</td>\n",
       "      <td>True</td>\n",
       "    </tr>\n",
       "    <tr>\n",
       "      <th>4</th>\n",
       "      <td>employee</td>\n",
       "      <td>True</td>\n",
       "      <td>True</td>\n",
       "      <td>True</td>\n",
       "      <td>True</td>\n",
       "      <td>True</td>\n",
       "      <td>True</td>\n",
       "      <td>True</td>\n",
       "      <td>True</td>\n",
       "      <td>True</td>\n",
       "      <td>...</td>\n",
       "      <td>True</td>\n",
       "      <td>True</td>\n",
       "      <td>True</td>\n",
       "      <td>&lt;NA&gt;</td>\n",
       "      <td>True</td>\n",
       "      <td>&lt;NA&gt;</td>\n",
       "      <td>True</td>\n",
       "      <td>True</td>\n",
       "      <td>&lt;NA&gt;</td>\n",
       "      <td>True</td>\n",
       "    </tr>\n",
       "    <tr>\n",
       "      <th>...</th>\n",
       "      <td>...</td>\n",
       "      <td>...</td>\n",
       "      <td>...</td>\n",
       "      <td>...</td>\n",
       "      <td>...</td>\n",
       "      <td>...</td>\n",
       "      <td>...</td>\n",
       "      <td>...</td>\n",
       "      <td>...</td>\n",
       "      <td>...</td>\n",
       "      <td>...</td>\n",
       "      <td>...</td>\n",
       "      <td>...</td>\n",
       "      <td>...</td>\n",
       "      <td>...</td>\n",
       "      <td>...</td>\n",
       "      <td>...</td>\n",
       "      <td>...</td>\n",
       "      <td>...</td>\n",
       "      <td>...</td>\n",
       "      <td>...</td>\n",
       "    </tr>\n",
       "    <tr>\n",
       "      <th>257</th>\n",
       "      <td>employee</td>\n",
       "      <td>True</td>\n",
       "      <td>True</td>\n",
       "      <td>True</td>\n",
       "      <td>True</td>\n",
       "      <td>True</td>\n",
       "      <td>True</td>\n",
       "      <td>True</td>\n",
       "      <td>True</td>\n",
       "      <td>True</td>\n",
       "      <td>...</td>\n",
       "      <td>True</td>\n",
       "      <td>True</td>\n",
       "      <td>True</td>\n",
       "      <td>&lt;NA&gt;</td>\n",
       "      <td>&lt;NA&gt;</td>\n",
       "      <td>True</td>\n",
       "      <td>True</td>\n",
       "      <td>True</td>\n",
       "      <td>&lt;NA&gt;</td>\n",
       "      <td>&lt;NA&gt;</td>\n",
       "    </tr>\n",
       "    <tr>\n",
       "      <th>258</th>\n",
       "      <td>employee</td>\n",
       "      <td>True</td>\n",
       "      <td>&lt;NA&gt;</td>\n",
       "      <td>True</td>\n",
       "      <td>True</td>\n",
       "      <td>True</td>\n",
       "      <td>True</td>\n",
       "      <td>&lt;NA&gt;</td>\n",
       "      <td>&lt;NA&gt;</td>\n",
       "      <td>True</td>\n",
       "      <td>...</td>\n",
       "      <td>True</td>\n",
       "      <td>True</td>\n",
       "      <td>True</td>\n",
       "      <td>&lt;NA&gt;</td>\n",
       "      <td>&lt;NA&gt;</td>\n",
       "      <td>&lt;NA&gt;</td>\n",
       "      <td>True</td>\n",
       "      <td>True</td>\n",
       "      <td>&lt;NA&gt;</td>\n",
       "      <td>True</td>\n",
       "    </tr>\n",
       "    <tr>\n",
       "      <th>259</th>\n",
       "      <td>manager</td>\n",
       "      <td>True</td>\n",
       "      <td>True</td>\n",
       "      <td>True</td>\n",
       "      <td>True</td>\n",
       "      <td>True</td>\n",
       "      <td>True</td>\n",
       "      <td>&lt;NA&gt;</td>\n",
       "      <td>True</td>\n",
       "      <td>True</td>\n",
       "      <td>...</td>\n",
       "      <td>True</td>\n",
       "      <td>True</td>\n",
       "      <td>True</td>\n",
       "      <td>&lt;NA&gt;</td>\n",
       "      <td>&lt;NA&gt;</td>\n",
       "      <td>&lt;NA&gt;</td>\n",
       "      <td>True</td>\n",
       "      <td>&lt;NA&gt;</td>\n",
       "      <td>&lt;NA&gt;</td>\n",
       "      <td>True</td>\n",
       "    </tr>\n",
       "    <tr>\n",
       "      <th>260</th>\n",
       "      <td>employee</td>\n",
       "      <td>True</td>\n",
       "      <td>True</td>\n",
       "      <td>True</td>\n",
       "      <td>True</td>\n",
       "      <td>True</td>\n",
       "      <td>True</td>\n",
       "      <td>True</td>\n",
       "      <td>True</td>\n",
       "      <td>True</td>\n",
       "      <td>...</td>\n",
       "      <td>True</td>\n",
       "      <td>True</td>\n",
       "      <td>True</td>\n",
       "      <td>&lt;NA&gt;</td>\n",
       "      <td>&lt;NA&gt;</td>\n",
       "      <td>True</td>\n",
       "      <td>True</td>\n",
       "      <td>True</td>\n",
       "      <td>&lt;NA&gt;</td>\n",
       "      <td>True</td>\n",
       "    </tr>\n",
       "    <tr>\n",
       "      <th>261</th>\n",
       "      <td>employee</td>\n",
       "      <td>True</td>\n",
       "      <td>&lt;NA&gt;</td>\n",
       "      <td>&lt;NA&gt;</td>\n",
       "      <td>&lt;NA&gt;</td>\n",
       "      <td>&lt;NA&gt;</td>\n",
       "      <td>&lt;NA&gt;</td>\n",
       "      <td>&lt;NA&gt;</td>\n",
       "      <td>&lt;NA&gt;</td>\n",
       "      <td>&lt;NA&gt;</td>\n",
       "      <td>...</td>\n",
       "      <td>&lt;NA&gt;</td>\n",
       "      <td>&lt;NA&gt;</td>\n",
       "      <td>&lt;NA&gt;</td>\n",
       "      <td>&lt;NA&gt;</td>\n",
       "      <td>&lt;NA&gt;</td>\n",
       "      <td>&lt;NA&gt;</td>\n",
       "      <td>&lt;NA&gt;</td>\n",
       "      <td>&lt;NA&gt;</td>\n",
       "      <td>&lt;NA&gt;</td>\n",
       "      <td>&lt;NA&gt;</td>\n",
       "    </tr>\n",
       "  </tbody>\n",
       "</table>\n",
       "<p>262 rows × 21 columns</p>\n",
       "</div>"
      ],
      "text/plain": [
       "    employment_position_type  employment_is_recommended  internet  \\\n",
       "0                   employee                       True      True   \n",
       "1                   employee                       True      <NA>   \n",
       "2                   employee                       True      True   \n",
       "3                   employee                       True      True   \n",
       "4                   employee                       True      True   \n",
       "..                       ...                        ...       ...   \n",
       "257                 employee                       True      True   \n",
       "258                 employee                       True      <NA>   \n",
       "259                  manager                       True      True   \n",
       "260                 employee                       True      True   \n",
       "261                 employee                       True      <NA>   \n",
       "\n",
       "     stock_options  health_program  flex_working_hours  parking  \\\n",
       "0             True            True                True     True   \n",
       "1             True            True                <NA>     True   \n",
       "2             True            True                True     True   \n",
       "3             True            True                True     <NA>   \n",
       "4             True            True                True     True   \n",
       "..             ...             ...                 ...      ...   \n",
       "257           True            True                True     True   \n",
       "258           True            True                True     True   \n",
       "259           True            True                True     True   \n",
       "260           True            True                True     True   \n",
       "261           <NA>            <NA>                <NA>     <NA>   \n",
       "\n",
       "     accessibility  mobile_phone  discounts  ...  doctor  events  cantine  \\\n",
       "0             True          True       True  ...    True    True     True   \n",
       "1             True          <NA>       True  ...    True    True     True   \n",
       "2             True          True       True  ...    True    True     True   \n",
       "3             True          <NA>       True  ...    True    True     True   \n",
       "4             True          True       True  ...    True    True     True   \n",
       "..             ...           ...        ...  ...     ...     ...      ...   \n",
       "257           True          True       True  ...    True    True     True   \n",
       "258           <NA>          <NA>       True  ...    True    True     True   \n",
       "259           <NA>          True       True  ...    True    True     True   \n",
       "260           True          True       True  ...    True    True     True   \n",
       "261           <NA>          <NA>       <NA>  ...    <NA>    <NA>     <NA>   \n",
       "\n",
       "     dogs   car  meals  pension_plan  daycare  reachability  coaching  \n",
       "0    <NA>  True   <NA>          True     True          True      True  \n",
       "1    <NA>  <NA>   True          True     <NA>          <NA>      True  \n",
       "2    True  True   True          True     True          <NA>      True  \n",
       "3    <NA>  <NA>   <NA>          True     <NA>          <NA>      True  \n",
       "4    <NA>  True   <NA>          True     True          <NA>      True  \n",
       "..    ...   ...    ...           ...      ...           ...       ...  \n",
       "257  <NA>  <NA>   True          True     True          <NA>      <NA>  \n",
       "258  <NA>  <NA>   <NA>          True     True          <NA>      True  \n",
       "259  <NA>  <NA>   <NA>          True     <NA>          <NA>      True  \n",
       "260  <NA>  <NA>   True          True     True          <NA>      True  \n",
       "261  <NA>  <NA>   <NA>          <NA>     <NA>          <NA>      <NA>  \n",
       "\n",
       "[262 rows x 21 columns]"
      ]
     },
     "execution_count": 48,
     "metadata": {},
     "output_type": "execute_result"
    }
   ],
   "source": [
    "#for counting boolean values, first we need to know how many people are in each group \n",
    "df_employment_bool = df_bool_prep.drop(columns=['employment_department', 'review_user_gender'])\n",
    "df_employment_bool\n"
   ]
  },
  {
   "cell_type": "code",
   "execution_count": 49,
   "metadata": {},
   "outputs": [
    {
     "data": {
      "text/plain": [
       "employment_position_type\n",
       "employee      194\n",
       "manager        57\n",
       "Unknown         6\n",
       "student         3\n",
       "contractor      1\n",
       "freelancer      1\n",
       "Name: count, dtype: int64"
      ]
     },
     "execution_count": 49,
     "metadata": {},
     "output_type": "execute_result"
    }
   ],
   "source": [
    "#count the number of times each employement_position_type appears\n",
    "group_sizes = df_employment_bool['employment_position_type'].value_counts()\n",
    "group_sizes\n",
    "#print(df_employment_bool['employment_position_type'].value_counts())"
   ]
  },
  {
   "cell_type": "code",
   "execution_count": 50,
   "metadata": {},
   "outputs": [
    {
     "data": {
      "text/html": [
       "<div>\n",
       "<style scoped>\n",
       "    .dataframe tbody tr th:only-of-type {\n",
       "        vertical-align: middle;\n",
       "    }\n",
       "\n",
       "    .dataframe tbody tr th {\n",
       "        vertical-align: top;\n",
       "    }\n",
       "\n",
       "    .dataframe thead th {\n",
       "        text-align: right;\n",
       "    }\n",
       "</style>\n",
       "<table border=\"1\" class=\"dataframe\">\n",
       "  <thead>\n",
       "    <tr style=\"text-align: right;\">\n",
       "      <th>employment_position_type</th>\n",
       "      <th>Unknown</th>\n",
       "      <th>contractor</th>\n",
       "      <th>employee</th>\n",
       "      <th>freelancer</th>\n",
       "      <th>manager</th>\n",
       "      <th>student</th>\n",
       "    </tr>\n",
       "  </thead>\n",
       "  <tbody>\n",
       "    <tr>\n",
       "      <th>employment_is_recommended</th>\n",
       "      <td>4</td>\n",
       "      <td>1</td>\n",
       "      <td>161</td>\n",
       "      <td>1</td>\n",
       "      <td>51</td>\n",
       "      <td>3</td>\n",
       "    </tr>\n",
       "    <tr>\n",
       "      <th>internet</th>\n",
       "      <td>2</td>\n",
       "      <td>1</td>\n",
       "      <td>105</td>\n",
       "      <td>1</td>\n",
       "      <td>35</td>\n",
       "      <td>2</td>\n",
       "    </tr>\n",
       "    <tr>\n",
       "      <th>stock_options</th>\n",
       "      <td>3</td>\n",
       "      <td>1</td>\n",
       "      <td>129</td>\n",
       "      <td>1</td>\n",
       "      <td>42</td>\n",
       "      <td>1</td>\n",
       "    </tr>\n",
       "    <tr>\n",
       "      <th>health_program</th>\n",
       "      <td>3</td>\n",
       "      <td>1</td>\n",
       "      <td>148</td>\n",
       "      <td>1</td>\n",
       "      <td>50</td>\n",
       "      <td>2</td>\n",
       "    </tr>\n",
       "    <tr>\n",
       "      <th>flex_working_hours</th>\n",
       "      <td>4</td>\n",
       "      <td>1</td>\n",
       "      <td>156</td>\n",
       "      <td>1</td>\n",
       "      <td>50</td>\n",
       "      <td>2</td>\n",
       "    </tr>\n",
       "    <tr>\n",
       "      <th>parking</th>\n",
       "      <td>4</td>\n",
       "      <td>1</td>\n",
       "      <td>138</td>\n",
       "      <td>1</td>\n",
       "      <td>45</td>\n",
       "      <td>1</td>\n",
       "    </tr>\n",
       "    <tr>\n",
       "      <th>accessibility</th>\n",
       "      <td>1</td>\n",
       "      <td>1</td>\n",
       "      <td>77</td>\n",
       "      <td>1</td>\n",
       "      <td>21</td>\n",
       "      <td>2</td>\n",
       "    </tr>\n",
       "    <tr>\n",
       "      <th>mobile_phone</th>\n",
       "      <td>3</td>\n",
       "      <td>1</td>\n",
       "      <td>96</td>\n",
       "      <td>1</td>\n",
       "      <td>47</td>\n",
       "      <td>0</td>\n",
       "    </tr>\n",
       "    <tr>\n",
       "      <th>discounts</th>\n",
       "      <td>5</td>\n",
       "      <td>1</td>\n",
       "      <td>171</td>\n",
       "      <td>1</td>\n",
       "      <td>54</td>\n",
       "      <td>3</td>\n",
       "    </tr>\n",
       "    <tr>\n",
       "      <th>home_office</th>\n",
       "      <td>4</td>\n",
       "      <td>1</td>\n",
       "      <td>156</td>\n",
       "      <td>1</td>\n",
       "      <td>49</td>\n",
       "      <td>2</td>\n",
       "    </tr>\n",
       "    <tr>\n",
       "      <th>doctor</th>\n",
       "      <td>4</td>\n",
       "      <td>1</td>\n",
       "      <td>168</td>\n",
       "      <td>1</td>\n",
       "      <td>54</td>\n",
       "      <td>3</td>\n",
       "    </tr>\n",
       "    <tr>\n",
       "      <th>events</th>\n",
       "      <td>3</td>\n",
       "      <td>1</td>\n",
       "      <td>155</td>\n",
       "      <td>1</td>\n",
       "      <td>47</td>\n",
       "      <td>3</td>\n",
       "    </tr>\n",
       "    <tr>\n",
       "      <th>cantine</th>\n",
       "      <td>3</td>\n",
       "      <td>1</td>\n",
       "      <td>166</td>\n",
       "      <td>1</td>\n",
       "      <td>52</td>\n",
       "      <td>2</td>\n",
       "    </tr>\n",
       "    <tr>\n",
       "      <th>dogs</th>\n",
       "      <td>0</td>\n",
       "      <td>0</td>\n",
       "      <td>4</td>\n",
       "      <td>0</td>\n",
       "      <td>0</td>\n",
       "      <td>0</td>\n",
       "    </tr>\n",
       "    <tr>\n",
       "      <th>car</th>\n",
       "      <td>2</td>\n",
       "      <td>1</td>\n",
       "      <td>31</td>\n",
       "      <td>1</td>\n",
       "      <td>24</td>\n",
       "      <td>0</td>\n",
       "    </tr>\n",
       "    <tr>\n",
       "      <th>meals</th>\n",
       "      <td>2</td>\n",
       "      <td>0</td>\n",
       "      <td>80</td>\n",
       "      <td>1</td>\n",
       "      <td>26</td>\n",
       "      <td>1</td>\n",
       "    </tr>\n",
       "    <tr>\n",
       "      <th>pension_plan</th>\n",
       "      <td>4</td>\n",
       "      <td>0</td>\n",
       "      <td>166</td>\n",
       "      <td>1</td>\n",
       "      <td>53</td>\n",
       "      <td>0</td>\n",
       "    </tr>\n",
       "    <tr>\n",
       "      <th>daycare</th>\n",
       "      <td>2</td>\n",
       "      <td>0</td>\n",
       "      <td>85</td>\n",
       "      <td>0</td>\n",
       "      <td>30</td>\n",
       "      <td>1</td>\n",
       "    </tr>\n",
       "    <tr>\n",
       "      <th>reachability</th>\n",
       "      <td>1</td>\n",
       "      <td>0</td>\n",
       "      <td>48</td>\n",
       "      <td>0</td>\n",
       "      <td>13</td>\n",
       "      <td>1</td>\n",
       "    </tr>\n",
       "    <tr>\n",
       "      <th>coaching</th>\n",
       "      <td>1</td>\n",
       "      <td>0</td>\n",
       "      <td>97</td>\n",
       "      <td>1</td>\n",
       "      <td>43</td>\n",
       "      <td>1</td>\n",
       "    </tr>\n",
       "  </tbody>\n",
       "</table>\n",
       "</div>"
      ],
      "text/plain": [
       "employment_position_type  Unknown contractor employee freelancer manager  \\\n",
       "employment_is_recommended       4          1      161          1      51   \n",
       "internet                        2          1      105          1      35   \n",
       "stock_options                   3          1      129          1      42   \n",
       "health_program                  3          1      148          1      50   \n",
       "flex_working_hours              4          1      156          1      50   \n",
       "parking                         4          1      138          1      45   \n",
       "accessibility                   1          1       77          1      21   \n",
       "mobile_phone                    3          1       96          1      47   \n",
       "discounts                       5          1      171          1      54   \n",
       "home_office                     4          1      156          1      49   \n",
       "doctor                          4          1      168          1      54   \n",
       "events                          3          1      155          1      47   \n",
       "cantine                         3          1      166          1      52   \n",
       "dogs                            0          0        4          0       0   \n",
       "car                             2          1       31          1      24   \n",
       "meals                           2          0       80          1      26   \n",
       "pension_plan                    4          0      166          1      53   \n",
       "daycare                         2          0       85          0      30   \n",
       "reachability                    1          0       48          0      13   \n",
       "coaching                        1          0       97          1      43   \n",
       "\n",
       "employment_position_type  student  \n",
       "employment_is_recommended       3  \n",
       "internet                        2  \n",
       "stock_options                   1  \n",
       "health_program                  2  \n",
       "flex_working_hours              2  \n",
       "parking                         1  \n",
       "accessibility                   2  \n",
       "mobile_phone                    0  \n",
       "discounts                       3  \n",
       "home_office                     2  \n",
       "doctor                          3  \n",
       "events                          3  \n",
       "cantine                         2  \n",
       "dogs                            0  \n",
       "car                             0  \n",
       "meals                           1  \n",
       "pension_plan                    0  \n",
       "daycare                         1  \n",
       "reachability                    1  \n",
       "coaching                        1  "
      ]
     },
     "execution_count": 50,
     "metadata": {},
     "output_type": "execute_result"
    }
   ],
   "source": [
    "df_employment_bool = df_employment_bool.groupby('employment_position_type').sum().reset_index()\n",
    "df_employment_bool = df_employment_bool.T\n",
    "\n",
    "#set the first row as the header\n",
    "df_employment_bool.columns = df_employment_bool.iloc[0]\n",
    "df_employment_bool = df_employment_bool[1:]\n",
    "df_employment_bool"
   ]
  },
  {
   "cell_type": "code",
   "execution_count": 51,
   "metadata": {},
   "outputs": [],
   "source": [
    "for employment_type in group_sizes.index:\n",
    "    # Divide the counts by the group size and multiply by 100\n",
    "    df_employment_bool[employment_type] = (df_employment_bool[employment_type] / group_sizes[employment_type]) * 100\n",
    "\n",
    "df_employment_bool = df_employment_bool.round(3)\n"
   ]
  },
  {
   "cell_type": "code",
   "execution_count": 52,
   "metadata": {},
   "outputs": [
    {
     "data": {
      "text/html": [
       "<div>\n",
       "<style scoped>\n",
       "    .dataframe tbody tr th:only-of-type {\n",
       "        vertical-align: middle;\n",
       "    }\n",
       "\n",
       "    .dataframe tbody tr th {\n",
       "        vertical-align: top;\n",
       "    }\n",
       "\n",
       "    .dataframe thead th {\n",
       "        text-align: right;\n",
       "    }\n",
       "</style>\n",
       "<table border=\"1\" class=\"dataframe\">\n",
       "  <thead>\n",
       "    <tr style=\"text-align: right;\">\n",
       "      <th>employment_position_type</th>\n",
       "      <th>Unknown</th>\n",
       "      <th>contractor</th>\n",
       "      <th>employee</th>\n",
       "      <th>freelancer</th>\n",
       "      <th>manager</th>\n",
       "      <th>student</th>\n",
       "    </tr>\n",
       "  </thead>\n",
       "  <tbody>\n",
       "    <tr>\n",
       "      <th>employment_is_recommended</th>\n",
       "      <td>66.667</td>\n",
       "      <td>100.0</td>\n",
       "      <td>82.990</td>\n",
       "      <td>100.0</td>\n",
       "      <td>89.474</td>\n",
       "      <td>100.000</td>\n",
       "    </tr>\n",
       "    <tr>\n",
       "      <th>internet</th>\n",
       "      <td>33.333</td>\n",
       "      <td>100.0</td>\n",
       "      <td>54.124</td>\n",
       "      <td>100.0</td>\n",
       "      <td>61.404</td>\n",
       "      <td>66.667</td>\n",
       "    </tr>\n",
       "    <tr>\n",
       "      <th>stock_options</th>\n",
       "      <td>50.000</td>\n",
       "      <td>100.0</td>\n",
       "      <td>66.495</td>\n",
       "      <td>100.0</td>\n",
       "      <td>73.684</td>\n",
       "      <td>33.333</td>\n",
       "    </tr>\n",
       "    <tr>\n",
       "      <th>health_program</th>\n",
       "      <td>50.000</td>\n",
       "      <td>100.0</td>\n",
       "      <td>76.289</td>\n",
       "      <td>100.0</td>\n",
       "      <td>87.719</td>\n",
       "      <td>66.667</td>\n",
       "    </tr>\n",
       "    <tr>\n",
       "      <th>flex_working_hours</th>\n",
       "      <td>66.667</td>\n",
       "      <td>100.0</td>\n",
       "      <td>80.412</td>\n",
       "      <td>100.0</td>\n",
       "      <td>87.719</td>\n",
       "      <td>66.667</td>\n",
       "    </tr>\n",
       "    <tr>\n",
       "      <th>parking</th>\n",
       "      <td>66.667</td>\n",
       "      <td>100.0</td>\n",
       "      <td>71.134</td>\n",
       "      <td>100.0</td>\n",
       "      <td>78.947</td>\n",
       "      <td>33.333</td>\n",
       "    </tr>\n",
       "    <tr>\n",
       "      <th>accessibility</th>\n",
       "      <td>16.667</td>\n",
       "      <td>100.0</td>\n",
       "      <td>39.691</td>\n",
       "      <td>100.0</td>\n",
       "      <td>36.842</td>\n",
       "      <td>66.667</td>\n",
       "    </tr>\n",
       "    <tr>\n",
       "      <th>mobile_phone</th>\n",
       "      <td>50.000</td>\n",
       "      <td>100.0</td>\n",
       "      <td>49.485</td>\n",
       "      <td>100.0</td>\n",
       "      <td>82.456</td>\n",
       "      <td>0.000</td>\n",
       "    </tr>\n",
       "    <tr>\n",
       "      <th>discounts</th>\n",
       "      <td>83.333</td>\n",
       "      <td>100.0</td>\n",
       "      <td>88.144</td>\n",
       "      <td>100.0</td>\n",
       "      <td>94.737</td>\n",
       "      <td>100.000</td>\n",
       "    </tr>\n",
       "    <tr>\n",
       "      <th>home_office</th>\n",
       "      <td>66.667</td>\n",
       "      <td>100.0</td>\n",
       "      <td>80.412</td>\n",
       "      <td>100.0</td>\n",
       "      <td>85.965</td>\n",
       "      <td>66.667</td>\n",
       "    </tr>\n",
       "    <tr>\n",
       "      <th>doctor</th>\n",
       "      <td>66.667</td>\n",
       "      <td>100.0</td>\n",
       "      <td>86.598</td>\n",
       "      <td>100.0</td>\n",
       "      <td>94.737</td>\n",
       "      <td>100.000</td>\n",
       "    </tr>\n",
       "    <tr>\n",
       "      <th>events</th>\n",
       "      <td>50.000</td>\n",
       "      <td>100.0</td>\n",
       "      <td>79.897</td>\n",
       "      <td>100.0</td>\n",
       "      <td>82.456</td>\n",
       "      <td>100.000</td>\n",
       "    </tr>\n",
       "    <tr>\n",
       "      <th>cantine</th>\n",
       "      <td>50.000</td>\n",
       "      <td>100.0</td>\n",
       "      <td>85.567</td>\n",
       "      <td>100.0</td>\n",
       "      <td>91.228</td>\n",
       "      <td>66.667</td>\n",
       "    </tr>\n",
       "    <tr>\n",
       "      <th>dogs</th>\n",
       "      <td>0.000</td>\n",
       "      <td>0.0</td>\n",
       "      <td>2.062</td>\n",
       "      <td>0.0</td>\n",
       "      <td>0.000</td>\n",
       "      <td>0.000</td>\n",
       "    </tr>\n",
       "    <tr>\n",
       "      <th>car</th>\n",
       "      <td>33.333</td>\n",
       "      <td>100.0</td>\n",
       "      <td>15.979</td>\n",
       "      <td>100.0</td>\n",
       "      <td>42.105</td>\n",
       "      <td>0.000</td>\n",
       "    </tr>\n",
       "    <tr>\n",
       "      <th>meals</th>\n",
       "      <td>33.333</td>\n",
       "      <td>0.0</td>\n",
       "      <td>41.237</td>\n",
       "      <td>100.0</td>\n",
       "      <td>45.614</td>\n",
       "      <td>33.333</td>\n",
       "    </tr>\n",
       "    <tr>\n",
       "      <th>pension_plan</th>\n",
       "      <td>66.667</td>\n",
       "      <td>0.0</td>\n",
       "      <td>85.567</td>\n",
       "      <td>100.0</td>\n",
       "      <td>92.982</td>\n",
       "      <td>0.000</td>\n",
       "    </tr>\n",
       "    <tr>\n",
       "      <th>daycare</th>\n",
       "      <td>33.333</td>\n",
       "      <td>0.0</td>\n",
       "      <td>43.814</td>\n",
       "      <td>0.0</td>\n",
       "      <td>52.632</td>\n",
       "      <td>33.333</td>\n",
       "    </tr>\n",
       "    <tr>\n",
       "      <th>reachability</th>\n",
       "      <td>16.667</td>\n",
       "      <td>0.0</td>\n",
       "      <td>24.742</td>\n",
       "      <td>0.0</td>\n",
       "      <td>22.807</td>\n",
       "      <td>33.333</td>\n",
       "    </tr>\n",
       "    <tr>\n",
       "      <th>coaching</th>\n",
       "      <td>16.667</td>\n",
       "      <td>0.0</td>\n",
       "      <td>50.000</td>\n",
       "      <td>100.0</td>\n",
       "      <td>75.439</td>\n",
       "      <td>33.333</td>\n",
       "    </tr>\n",
       "  </tbody>\n",
       "</table>\n",
       "</div>"
      ],
      "text/plain": [
       "employment_position_type   Unknown  contractor  employee  freelancer  manager  \\\n",
       "employment_is_recommended   66.667       100.0    82.990       100.0   89.474   \n",
       "internet                    33.333       100.0    54.124       100.0   61.404   \n",
       "stock_options               50.000       100.0    66.495       100.0   73.684   \n",
       "health_program              50.000       100.0    76.289       100.0   87.719   \n",
       "flex_working_hours          66.667       100.0    80.412       100.0   87.719   \n",
       "parking                     66.667       100.0    71.134       100.0   78.947   \n",
       "accessibility               16.667       100.0    39.691       100.0   36.842   \n",
       "mobile_phone                50.000       100.0    49.485       100.0   82.456   \n",
       "discounts                   83.333       100.0    88.144       100.0   94.737   \n",
       "home_office                 66.667       100.0    80.412       100.0   85.965   \n",
       "doctor                      66.667       100.0    86.598       100.0   94.737   \n",
       "events                      50.000       100.0    79.897       100.0   82.456   \n",
       "cantine                     50.000       100.0    85.567       100.0   91.228   \n",
       "dogs                         0.000         0.0     2.062         0.0    0.000   \n",
       "car                         33.333       100.0    15.979       100.0   42.105   \n",
       "meals                       33.333         0.0    41.237       100.0   45.614   \n",
       "pension_plan                66.667         0.0    85.567       100.0   92.982   \n",
       "daycare                     33.333         0.0    43.814         0.0   52.632   \n",
       "reachability                16.667         0.0    24.742         0.0   22.807   \n",
       "coaching                    16.667         0.0    50.000       100.0   75.439   \n",
       "\n",
       "employment_position_type   student  \n",
       "employment_is_recommended  100.000  \n",
       "internet                    66.667  \n",
       "stock_options               33.333  \n",
       "health_program              66.667  \n",
       "flex_working_hours          66.667  \n",
       "parking                     33.333  \n",
       "accessibility               66.667  \n",
       "mobile_phone                 0.000  \n",
       "discounts                  100.000  \n",
       "home_office                 66.667  \n",
       "doctor                     100.000  \n",
       "events                     100.000  \n",
       "cantine                     66.667  \n",
       "dogs                         0.000  \n",
       "car                          0.000  \n",
       "meals                       33.333  \n",
       "pension_plan                 0.000  \n",
       "daycare                     33.333  \n",
       "reachability                33.333  \n",
       "coaching                    33.333  "
      ]
     },
     "execution_count": 52,
     "metadata": {},
     "output_type": "execute_result"
    }
   ],
   "source": [
    "df_employment_bool = df_employment_bool.astype(float).round(3)\n",
    "df_employment_bool"
   ]
  },
  {
   "cell_type": "markdown",
   "metadata": {},
   "source": [
    "### Split by Gender\n"
   ]
  },
  {
   "cell_type": "code",
   "execution_count": 53,
   "metadata": {},
   "outputs": [
    {
     "data": {
      "text/html": [
       "<div>\n",
       "<style scoped>\n",
       "    .dataframe tbody tr th:only-of-type {\n",
       "        vertical-align: middle;\n",
       "    }\n",
       "\n",
       "    .dataframe tbody tr th {\n",
       "        vertical-align: top;\n",
       "    }\n",
       "\n",
       "    .dataframe thead th {\n",
       "        text-align: right;\n",
       "    }\n",
       "</style>\n",
       "<table border=\"1\" class=\"dataframe\">\n",
       "  <thead>\n",
       "    <tr style=\"text-align: right;\">\n",
       "      <th>review_user_gender</th>\n",
       "      <th>Unknown</th>\n",
       "      <th>female</th>\n",
       "      <th>male</th>\n",
       "      <th>wont tell</th>\n",
       "    </tr>\n",
       "  </thead>\n",
       "  <tbody>\n",
       "    <tr>\n",
       "      <th>review_score</th>\n",
       "      <td>4.065738</td>\n",
       "      <td>4.433568</td>\n",
       "      <td>4.086645</td>\n",
       "      <td>3.480775</td>\n",
       "    </tr>\n",
       "    <tr>\n",
       "      <th>employer_atmosphere_score</th>\n",
       "      <td>4.188406</td>\n",
       "      <td>4.590909</td>\n",
       "      <td>4.392857</td>\n",
       "      <td>3.75</td>\n",
       "    </tr>\n",
       "    <tr>\n",
       "      <th>employer_communication_score</th>\n",
       "      <td>3.692683</td>\n",
       "      <td>4.090909</td>\n",
       "      <td>3.827586</td>\n",
       "      <td>3.75</td>\n",
       "    </tr>\n",
       "    <tr>\n",
       "      <th>employer_teamwork_score</th>\n",
       "      <td>4.130435</td>\n",
       "      <td>4.636364</td>\n",
       "      <td>4.103448</td>\n",
       "      <td>4.0</td>\n",
       "    </tr>\n",
       "    <tr>\n",
       "      <th>employer_work_life_score</th>\n",
       "      <td>4.26087</td>\n",
       "      <td>4.272727</td>\n",
       "      <td>4.071429</td>\n",
       "      <td>3.25</td>\n",
       "    </tr>\n",
       "    <tr>\n",
       "      <th>employer_leadership_score</th>\n",
       "      <td>3.792271</td>\n",
       "      <td>4.090909</td>\n",
       "      <td>3.931034</td>\n",
       "      <td>3.0</td>\n",
       "    </tr>\n",
       "    <tr>\n",
       "      <th>employer_tasks_score</th>\n",
       "      <td>4.252427</td>\n",
       "      <td>4.636364</td>\n",
       "      <td>4.25</td>\n",
       "      <td>3.75</td>\n",
       "    </tr>\n",
       "    <tr>\n",
       "      <th>employer_equality_score</th>\n",
       "      <td>4.019802</td>\n",
       "      <td>4.409091</td>\n",
       "      <td>4.321429</td>\n",
       "      <td>3.5</td>\n",
       "    </tr>\n",
       "    <tr>\n",
       "      <th>employer_old_colleagues_score</th>\n",
       "      <td>4.19598</td>\n",
       "      <td>4.818182</td>\n",
       "      <td>4.357143</td>\n",
       "      <td>3.75</td>\n",
       "    </tr>\n",
       "    <tr>\n",
       "      <th>employer_work_conditions_score</th>\n",
       "      <td>4.360976</td>\n",
       "      <td>4.772727</td>\n",
       "      <td>4.344828</td>\n",
       "      <td>3.75</td>\n",
       "    </tr>\n",
       "    <tr>\n",
       "      <th>employer_environment_score</th>\n",
       "      <td>4.118227</td>\n",
       "      <td>4.272727</td>\n",
       "      <td>3.965517</td>\n",
       "      <td>3.0</td>\n",
       "    </tr>\n",
       "    <tr>\n",
       "      <th>employer_salary_score</th>\n",
       "      <td>3.68599</td>\n",
       "      <td>3.909091</td>\n",
       "      <td>3.678571</td>\n",
       "      <td>3.75</td>\n",
       "    </tr>\n",
       "    <tr>\n",
       "      <th>employer_image_score</th>\n",
       "      <td>4.371981</td>\n",
       "      <td>4.909091</td>\n",
       "      <td>4.310345</td>\n",
       "      <td>3.5</td>\n",
       "    </tr>\n",
       "    <tr>\n",
       "      <th>employer_career_score</th>\n",
       "      <td>3.819512</td>\n",
       "      <td>4.227273</td>\n",
       "      <td>3.928571</td>\n",
       "      <td>2.5</td>\n",
       "    </tr>\n",
       "  </tbody>\n",
       "</table>\n",
       "</div>"
      ],
      "text/plain": [
       "review_user_gender               Unknown    female      male wont tell\n",
       "review_score                    4.065738  4.433568  4.086645  3.480775\n",
       "employer_atmosphere_score       4.188406  4.590909  4.392857      3.75\n",
       "employer_communication_score    3.692683  4.090909  3.827586      3.75\n",
       "employer_teamwork_score         4.130435  4.636364  4.103448       4.0\n",
       "employer_work_life_score         4.26087  4.272727  4.071429      3.25\n",
       "employer_leadership_score       3.792271  4.090909  3.931034       3.0\n",
       "employer_tasks_score            4.252427  4.636364      4.25      3.75\n",
       "employer_equality_score         4.019802  4.409091  4.321429       3.5\n",
       "employer_old_colleagues_score    4.19598  4.818182  4.357143      3.75\n",
       "employer_work_conditions_score  4.360976  4.772727  4.344828      3.75\n",
       "employer_environment_score      4.118227  4.272727  3.965517       3.0\n",
       "employer_salary_score            3.68599  3.909091  3.678571      3.75\n",
       "employer_image_score            4.371981  4.909091  4.310345       3.5\n",
       "employer_career_score           3.819512  4.227273  3.928571       2.5"
      ]
     },
     "execution_count": 53,
     "metadata": {},
     "output_type": "execute_result"
    }
   ],
   "source": [
    "#groupby employment_position_type and take the mean of the review_score\n",
    "df_gender = df.groupby('review_user_gender')[score_columns].mean().reset_index()\n",
    "df_gender = df_gender.T\n",
    "\n",
    "#set the first row as the header\n",
    "df_gender.columns = df_gender.iloc[0]\n",
    "df_gender = df_gender[1:]\n",
    "df_gender\n"
   ]
  },
  {
   "cell_type": "code",
   "execution_count": 54,
   "metadata": {},
   "outputs": [
    {
     "data": {
      "application/vnd.plotly.v1+json": {
       "config": {
        "plotlyServerURL": "https://plot.ly"
       },
       "data": [
        {
         "colorbar": {
          "title": {
           "text": "Score"
          }
         },
         "colorscale": [
          [
           0,
           "rgb(237, 229, 207)"
          ],
          [
           0.16666666666666666,
           "rgb(224, 194, 162)"
          ],
          [
           0.3333333333333333,
           "rgb(211, 156, 131)"
          ],
          [
           0.5,
           "rgb(193, 118, 111)"
          ],
          [
           0.6666666666666666,
           "rgb(166, 84, 97)"
          ],
          [
           0.8333333333333334,
           "rgb(129, 55, 83)"
          ],
          [
           1,
           "rgb(84, 31, 63)"
          ]
         ],
         "hoverongaps": false,
         "type": "heatmap",
         "x": [
          "review_score",
          "employer_atmosphere_score",
          "employer_communication_score",
          "employer_teamwork_score",
          "employer_work_life_score",
          "employer_leadership_score",
          "employer_tasks_score",
          "employer_equality_score",
          "employer_old_colleagues_score",
          "employer_work_conditions_score",
          "employer_environment_score",
          "employer_salary_score",
          "employer_image_score",
          "employer_career_score"
         ],
         "y": [
          "Unknown",
          "female",
          "male",
          "wont tell"
         ],
         "z": [
          [
           4.065737681159421,
           4.188405797101449,
           3.6926829268292685,
           4.130434782608695,
           4.260869565217392,
           3.792270531400966,
           4.252427184466019,
           4.01980198019802,
           4.1959798994974875,
           4.360975609756098,
           4.1182266009852215,
           3.685990338164251,
           4.371980676328502,
           3.819512195121951
          ],
          [
           4.433568181818182,
           4.590909090909091,
           4.090909090909091,
           4.636363636363637,
           4.2727272727272725,
           4.090909090909091,
           4.636363636363637,
           4.409090909090909,
           4.818181818181818,
           4.7727272727272725,
           4.2727272727272725,
           3.909090909090909,
           4.909090909090909,
           4.2272727272727275
          ],
          [
           4.086644827586206,
           4.392857142857143,
           3.8275862068965516,
           4.103448275862069,
           4.071428571428571,
           3.9310344827586206,
           4.25,
           4.321428571428571,
           4.357142857142857,
           4.344827586206897,
           3.9655172413793105,
           3.6785714285714284,
           4.310344827586207,
           3.9285714285714284
          ],
          [
           3.480775,
           3.75,
           3.75,
           4,
           3.25,
           3,
           3.75,
           3.5,
           3.75,
           3.75,
           3,
           3.75,
           3.5,
           2.5
          ]
         ],
         "zmax": 4.909090909090909,
         "zmin": 2.5
        }
       ],
       "layout": {
        "font": {
         "size": 14
        },
        "height": 600,
        "paper_bgcolor": "white",
        "plot_bgcolor": "white",
        "template": {
         "data": {
          "bar": [
           {
            "error_x": {
             "color": "#2a3f5f"
            },
            "error_y": {
             "color": "#2a3f5f"
            },
            "marker": {
             "line": {
              "color": "#E5ECF6",
              "width": 0.5
             },
             "pattern": {
              "fillmode": "overlay",
              "size": 10,
              "solidity": 0.2
             }
            },
            "type": "bar"
           }
          ],
          "barpolar": [
           {
            "marker": {
             "line": {
              "color": "#E5ECF6",
              "width": 0.5
             },
             "pattern": {
              "fillmode": "overlay",
              "size": 10,
              "solidity": 0.2
             }
            },
            "type": "barpolar"
           }
          ],
          "carpet": [
           {
            "aaxis": {
             "endlinecolor": "#2a3f5f",
             "gridcolor": "white",
             "linecolor": "white",
             "minorgridcolor": "white",
             "startlinecolor": "#2a3f5f"
            },
            "baxis": {
             "endlinecolor": "#2a3f5f",
             "gridcolor": "white",
             "linecolor": "white",
             "minorgridcolor": "white",
             "startlinecolor": "#2a3f5f"
            },
            "type": "carpet"
           }
          ],
          "choropleth": [
           {
            "colorbar": {
             "outlinewidth": 0,
             "ticks": ""
            },
            "type": "choropleth"
           }
          ],
          "contour": [
           {
            "colorbar": {
             "outlinewidth": 0,
             "ticks": ""
            },
            "colorscale": [
             [
              0,
              "#0d0887"
             ],
             [
              0.1111111111111111,
              "#46039f"
             ],
             [
              0.2222222222222222,
              "#7201a8"
             ],
             [
              0.3333333333333333,
              "#9c179e"
             ],
             [
              0.4444444444444444,
              "#bd3786"
             ],
             [
              0.5555555555555556,
              "#d8576b"
             ],
             [
              0.6666666666666666,
              "#ed7953"
             ],
             [
              0.7777777777777778,
              "#fb9f3a"
             ],
             [
              0.8888888888888888,
              "#fdca26"
             ],
             [
              1,
              "#f0f921"
             ]
            ],
            "type": "contour"
           }
          ],
          "contourcarpet": [
           {
            "colorbar": {
             "outlinewidth": 0,
             "ticks": ""
            },
            "type": "contourcarpet"
           }
          ],
          "heatmap": [
           {
            "colorbar": {
             "outlinewidth": 0,
             "ticks": ""
            },
            "colorscale": [
             [
              0,
              "#0d0887"
             ],
             [
              0.1111111111111111,
              "#46039f"
             ],
             [
              0.2222222222222222,
              "#7201a8"
             ],
             [
              0.3333333333333333,
              "#9c179e"
             ],
             [
              0.4444444444444444,
              "#bd3786"
             ],
             [
              0.5555555555555556,
              "#d8576b"
             ],
             [
              0.6666666666666666,
              "#ed7953"
             ],
             [
              0.7777777777777778,
              "#fb9f3a"
             ],
             [
              0.8888888888888888,
              "#fdca26"
             ],
             [
              1,
              "#f0f921"
             ]
            ],
            "type": "heatmap"
           }
          ],
          "heatmapgl": [
           {
            "colorbar": {
             "outlinewidth": 0,
             "ticks": ""
            },
            "colorscale": [
             [
              0,
              "#0d0887"
             ],
             [
              0.1111111111111111,
              "#46039f"
             ],
             [
              0.2222222222222222,
              "#7201a8"
             ],
             [
              0.3333333333333333,
              "#9c179e"
             ],
             [
              0.4444444444444444,
              "#bd3786"
             ],
             [
              0.5555555555555556,
              "#d8576b"
             ],
             [
              0.6666666666666666,
              "#ed7953"
             ],
             [
              0.7777777777777778,
              "#fb9f3a"
             ],
             [
              0.8888888888888888,
              "#fdca26"
             ],
             [
              1,
              "#f0f921"
             ]
            ],
            "type": "heatmapgl"
           }
          ],
          "histogram": [
           {
            "marker": {
             "pattern": {
              "fillmode": "overlay",
              "size": 10,
              "solidity": 0.2
             }
            },
            "type": "histogram"
           }
          ],
          "histogram2d": [
           {
            "colorbar": {
             "outlinewidth": 0,
             "ticks": ""
            },
            "colorscale": [
             [
              0,
              "#0d0887"
             ],
             [
              0.1111111111111111,
              "#46039f"
             ],
             [
              0.2222222222222222,
              "#7201a8"
             ],
             [
              0.3333333333333333,
              "#9c179e"
             ],
             [
              0.4444444444444444,
              "#bd3786"
             ],
             [
              0.5555555555555556,
              "#d8576b"
             ],
             [
              0.6666666666666666,
              "#ed7953"
             ],
             [
              0.7777777777777778,
              "#fb9f3a"
             ],
             [
              0.8888888888888888,
              "#fdca26"
             ],
             [
              1,
              "#f0f921"
             ]
            ],
            "type": "histogram2d"
           }
          ],
          "histogram2dcontour": [
           {
            "colorbar": {
             "outlinewidth": 0,
             "ticks": ""
            },
            "colorscale": [
             [
              0,
              "#0d0887"
             ],
             [
              0.1111111111111111,
              "#46039f"
             ],
             [
              0.2222222222222222,
              "#7201a8"
             ],
             [
              0.3333333333333333,
              "#9c179e"
             ],
             [
              0.4444444444444444,
              "#bd3786"
             ],
             [
              0.5555555555555556,
              "#d8576b"
             ],
             [
              0.6666666666666666,
              "#ed7953"
             ],
             [
              0.7777777777777778,
              "#fb9f3a"
             ],
             [
              0.8888888888888888,
              "#fdca26"
             ],
             [
              1,
              "#f0f921"
             ]
            ],
            "type": "histogram2dcontour"
           }
          ],
          "mesh3d": [
           {
            "colorbar": {
             "outlinewidth": 0,
             "ticks": ""
            },
            "type": "mesh3d"
           }
          ],
          "parcoords": [
           {
            "line": {
             "colorbar": {
              "outlinewidth": 0,
              "ticks": ""
             }
            },
            "type": "parcoords"
           }
          ],
          "pie": [
           {
            "automargin": true,
            "type": "pie"
           }
          ],
          "scatter": [
           {
            "fillpattern": {
             "fillmode": "overlay",
             "size": 10,
             "solidity": 0.2
            },
            "type": "scatter"
           }
          ],
          "scatter3d": [
           {
            "line": {
             "colorbar": {
              "outlinewidth": 0,
              "ticks": ""
             }
            },
            "marker": {
             "colorbar": {
              "outlinewidth": 0,
              "ticks": ""
             }
            },
            "type": "scatter3d"
           }
          ],
          "scattercarpet": [
           {
            "marker": {
             "colorbar": {
              "outlinewidth": 0,
              "ticks": ""
             }
            },
            "type": "scattercarpet"
           }
          ],
          "scattergeo": [
           {
            "marker": {
             "colorbar": {
              "outlinewidth": 0,
              "ticks": ""
             }
            },
            "type": "scattergeo"
           }
          ],
          "scattergl": [
           {
            "marker": {
             "colorbar": {
              "outlinewidth": 0,
              "ticks": ""
             }
            },
            "type": "scattergl"
           }
          ],
          "scattermapbox": [
           {
            "marker": {
             "colorbar": {
              "outlinewidth": 0,
              "ticks": ""
             }
            },
            "type": "scattermapbox"
           }
          ],
          "scatterpolar": [
           {
            "marker": {
             "colorbar": {
              "outlinewidth": 0,
              "ticks": ""
             }
            },
            "type": "scatterpolar"
           }
          ],
          "scatterpolargl": [
           {
            "marker": {
             "colorbar": {
              "outlinewidth": 0,
              "ticks": ""
             }
            },
            "type": "scatterpolargl"
           }
          ],
          "scatterternary": [
           {
            "marker": {
             "colorbar": {
              "outlinewidth": 0,
              "ticks": ""
             }
            },
            "type": "scatterternary"
           }
          ],
          "surface": [
           {
            "colorbar": {
             "outlinewidth": 0,
             "ticks": ""
            },
            "colorscale": [
             [
              0,
              "#0d0887"
             ],
             [
              0.1111111111111111,
              "#46039f"
             ],
             [
              0.2222222222222222,
              "#7201a8"
             ],
             [
              0.3333333333333333,
              "#9c179e"
             ],
             [
              0.4444444444444444,
              "#bd3786"
             ],
             [
              0.5555555555555556,
              "#d8576b"
             ],
             [
              0.6666666666666666,
              "#ed7953"
             ],
             [
              0.7777777777777778,
              "#fb9f3a"
             ],
             [
              0.8888888888888888,
              "#fdca26"
             ],
             [
              1,
              "#f0f921"
             ]
            ],
            "type": "surface"
           }
          ],
          "table": [
           {
            "cells": {
             "fill": {
              "color": "#EBF0F8"
             },
             "line": {
              "color": "white"
             }
            },
            "header": {
             "fill": {
              "color": "#C8D4E3"
             },
             "line": {
              "color": "white"
             }
            },
            "type": "table"
           }
          ]
         },
         "layout": {
          "annotationdefaults": {
           "arrowcolor": "#2a3f5f",
           "arrowhead": 0,
           "arrowwidth": 1
          },
          "autotypenumbers": "strict",
          "coloraxis": {
           "colorbar": {
            "outlinewidth": 0,
            "ticks": ""
           }
          },
          "colorscale": {
           "diverging": [
            [
             0,
             "#8e0152"
            ],
            [
             0.1,
             "#c51b7d"
            ],
            [
             0.2,
             "#de77ae"
            ],
            [
             0.3,
             "#f1b6da"
            ],
            [
             0.4,
             "#fde0ef"
            ],
            [
             0.5,
             "#f7f7f7"
            ],
            [
             0.6,
             "#e6f5d0"
            ],
            [
             0.7,
             "#b8e186"
            ],
            [
             0.8,
             "#7fbc41"
            ],
            [
             0.9,
             "#4d9221"
            ],
            [
             1,
             "#276419"
            ]
           ],
           "sequential": [
            [
             0,
             "#0d0887"
            ],
            [
             0.1111111111111111,
             "#46039f"
            ],
            [
             0.2222222222222222,
             "#7201a8"
            ],
            [
             0.3333333333333333,
             "#9c179e"
            ],
            [
             0.4444444444444444,
             "#bd3786"
            ],
            [
             0.5555555555555556,
             "#d8576b"
            ],
            [
             0.6666666666666666,
             "#ed7953"
            ],
            [
             0.7777777777777778,
             "#fb9f3a"
            ],
            [
             0.8888888888888888,
             "#fdca26"
            ],
            [
             1,
             "#f0f921"
            ]
           ],
           "sequentialminus": [
            [
             0,
             "#0d0887"
            ],
            [
             0.1111111111111111,
             "#46039f"
            ],
            [
             0.2222222222222222,
             "#7201a8"
            ],
            [
             0.3333333333333333,
             "#9c179e"
            ],
            [
             0.4444444444444444,
             "#bd3786"
            ],
            [
             0.5555555555555556,
             "#d8576b"
            ],
            [
             0.6666666666666666,
             "#ed7953"
            ],
            [
             0.7777777777777778,
             "#fb9f3a"
            ],
            [
             0.8888888888888888,
             "#fdca26"
            ],
            [
             1,
             "#f0f921"
            ]
           ]
          },
          "colorway": [
           "#636efa",
           "#EF553B",
           "#00cc96",
           "#ab63fa",
           "#FFA15A",
           "#19d3f3",
           "#FF6692",
           "#B6E880",
           "#FF97FF",
           "#FECB52"
          ],
          "font": {
           "color": "#2a3f5f"
          },
          "geo": {
           "bgcolor": "white",
           "lakecolor": "white",
           "landcolor": "#E5ECF6",
           "showlakes": true,
           "showland": true,
           "subunitcolor": "white"
          },
          "hoverlabel": {
           "align": "left"
          },
          "hovermode": "closest",
          "mapbox": {
           "style": "light"
          },
          "paper_bgcolor": "white",
          "plot_bgcolor": "#E5ECF6",
          "polar": {
           "angularaxis": {
            "gridcolor": "white",
            "linecolor": "white",
            "ticks": ""
           },
           "bgcolor": "#E5ECF6",
           "radialaxis": {
            "gridcolor": "white",
            "linecolor": "white",
            "ticks": ""
           }
          },
          "scene": {
           "xaxis": {
            "backgroundcolor": "#E5ECF6",
            "gridcolor": "white",
            "gridwidth": 2,
            "linecolor": "white",
            "showbackground": true,
            "ticks": "",
            "zerolinecolor": "white"
           },
           "yaxis": {
            "backgroundcolor": "#E5ECF6",
            "gridcolor": "white",
            "gridwidth": 2,
            "linecolor": "white",
            "showbackground": true,
            "ticks": "",
            "zerolinecolor": "white"
           },
           "zaxis": {
            "backgroundcolor": "#E5ECF6",
            "gridcolor": "white",
            "gridwidth": 2,
            "linecolor": "white",
            "showbackground": true,
            "ticks": "",
            "zerolinecolor": "white"
           }
          },
          "shapedefaults": {
           "line": {
            "color": "#2a3f5f"
           }
          },
          "ternary": {
           "aaxis": {
            "gridcolor": "white",
            "linecolor": "white",
            "ticks": ""
           },
           "baxis": {
            "gridcolor": "white",
            "linecolor": "white",
            "ticks": ""
           },
           "bgcolor": "#E5ECF6",
           "caxis": {
            "gridcolor": "white",
            "linecolor": "white",
            "ticks": ""
           }
          },
          "title": {
           "x": 0.05
          },
          "xaxis": {
           "automargin": true,
           "gridcolor": "white",
           "linecolor": "white",
           "ticks": "",
           "title": {
            "standoff": 15
           },
           "zerolinecolor": "white",
           "zerolinewidth": 2
          },
          "yaxis": {
           "automargin": true,
           "gridcolor": "white",
           "linecolor": "white",
           "ticks": "",
           "title": {
            "standoff": 15
           },
           "zerolinecolor": "white",
           "zerolinewidth": 2
          }
         }
        },
        "title": {
         "text": "Heatmap of Benefits Across Genders"
        },
        "width": 900,
        "xaxis": {
         "tickangle": -45,
         "tickmode": "array",
         "tickvals": [
          0,
          1,
          2,
          3,
          4,
          5,
          6,
          7,
          8,
          9,
          10,
          11,
          12,
          13
         ],
         "title": {
          "text": "Employment Position Type"
         }
        },
        "yaxis": {
         "tickmode": "array",
         "tickvals": [
          0,
          1,
          2,
          3
         ],
         "title": {
          "text": "Benefit"
         }
        }
       }
      }
     },
     "metadata": {},
     "output_type": "display_data"
    }
   ],
   "source": [
    "heatmap_data = df_gender.T.astype(float)\n",
    "\n",
    "fig = go.Figure(data=go.Heatmap(\n",
    "    z=heatmap_data.values,\n",
    "    x=heatmap_data.columns,  \n",
    "    y=heatmap_data.index,    \n",
    "    colorscale=px.colors.sequential.Brwnyl,  \n",
    "    colorbar=dict(title='Score'),\n",
    "    zmin=df_gender.min().min(), zmax=df_gender.max().max(),  \n",
    "    hoverongaps=False\n",
    "))\n",
    "\n",
    "fig.update_layout(\n",
    "    title='Heatmap of Benefits Across Genders',\n",
    "    xaxis_title='Employment Position Type',\n",
    "    yaxis_title='Benefit',\n",
    "    xaxis=dict(tickmode='array', tickvals=list(range(len(heatmap_data.columns))), tickangle=-45),\n",
    "    yaxis=dict(tickmode='array', tickvals=list(range(len(heatmap_data.index)))),\n",
    "    height=600,\n",
    "    width=900,\n",
    "    plot_bgcolor='white',\n",
    "    paper_bgcolor='white',\n",
    "    font=dict(size=14)\n",
    ")\n",
    "\n",
    "fig.show()\n"
   ]
  },
  {
   "cell_type": "code",
   "execution_count": 55,
   "metadata": {},
   "outputs": [
    {
     "data": {
      "text/html": [
       "<div>\n",
       "<style scoped>\n",
       "    .dataframe tbody tr th:only-of-type {\n",
       "        vertical-align: middle;\n",
       "    }\n",
       "\n",
       "    .dataframe tbody tr th {\n",
       "        vertical-align: top;\n",
       "    }\n",
       "\n",
       "    .dataframe thead th {\n",
       "        text-align: right;\n",
       "    }\n",
       "</style>\n",
       "<table border=\"1\" class=\"dataframe\">\n",
       "  <thead>\n",
       "    <tr style=\"text-align: right;\">\n",
       "      <th></th>\n",
       "      <th>review_user_gender</th>\n",
       "      <th>employment_is_recommended</th>\n",
       "      <th>internet</th>\n",
       "      <th>stock_options</th>\n",
       "      <th>health_program</th>\n",
       "      <th>flex_working_hours</th>\n",
       "      <th>parking</th>\n",
       "      <th>accessibility</th>\n",
       "      <th>mobile_phone</th>\n",
       "      <th>discounts</th>\n",
       "      <th>...</th>\n",
       "      <th>doctor</th>\n",
       "      <th>events</th>\n",
       "      <th>cantine</th>\n",
       "      <th>dogs</th>\n",
       "      <th>car</th>\n",
       "      <th>meals</th>\n",
       "      <th>pension_plan</th>\n",
       "      <th>daycare</th>\n",
       "      <th>reachability</th>\n",
       "      <th>coaching</th>\n",
       "    </tr>\n",
       "  </thead>\n",
       "  <tbody>\n",
       "    <tr>\n",
       "      <th>0</th>\n",
       "      <td>Unknown</td>\n",
       "      <td>True</td>\n",
       "      <td>True</td>\n",
       "      <td>True</td>\n",
       "      <td>True</td>\n",
       "      <td>True</td>\n",
       "      <td>True</td>\n",
       "      <td>True</td>\n",
       "      <td>True</td>\n",
       "      <td>True</td>\n",
       "      <td>...</td>\n",
       "      <td>True</td>\n",
       "      <td>True</td>\n",
       "      <td>True</td>\n",
       "      <td>&lt;NA&gt;</td>\n",
       "      <td>True</td>\n",
       "      <td>&lt;NA&gt;</td>\n",
       "      <td>True</td>\n",
       "      <td>True</td>\n",
       "      <td>True</td>\n",
       "      <td>True</td>\n",
       "    </tr>\n",
       "    <tr>\n",
       "      <th>1</th>\n",
       "      <td>Unknown</td>\n",
       "      <td>True</td>\n",
       "      <td>&lt;NA&gt;</td>\n",
       "      <td>True</td>\n",
       "      <td>True</td>\n",
       "      <td>&lt;NA&gt;</td>\n",
       "      <td>True</td>\n",
       "      <td>True</td>\n",
       "      <td>&lt;NA&gt;</td>\n",
       "      <td>True</td>\n",
       "      <td>...</td>\n",
       "      <td>True</td>\n",
       "      <td>True</td>\n",
       "      <td>True</td>\n",
       "      <td>&lt;NA&gt;</td>\n",
       "      <td>&lt;NA&gt;</td>\n",
       "      <td>True</td>\n",
       "      <td>True</td>\n",
       "      <td>&lt;NA&gt;</td>\n",
       "      <td>&lt;NA&gt;</td>\n",
       "      <td>True</td>\n",
       "    </tr>\n",
       "    <tr>\n",
       "      <th>2</th>\n",
       "      <td>male</td>\n",
       "      <td>True</td>\n",
       "      <td>True</td>\n",
       "      <td>True</td>\n",
       "      <td>True</td>\n",
       "      <td>True</td>\n",
       "      <td>True</td>\n",
       "      <td>True</td>\n",
       "      <td>True</td>\n",
       "      <td>True</td>\n",
       "      <td>...</td>\n",
       "      <td>True</td>\n",
       "      <td>True</td>\n",
       "      <td>True</td>\n",
       "      <td>True</td>\n",
       "      <td>True</td>\n",
       "      <td>True</td>\n",
       "      <td>True</td>\n",
       "      <td>True</td>\n",
       "      <td>&lt;NA&gt;</td>\n",
       "      <td>True</td>\n",
       "    </tr>\n",
       "    <tr>\n",
       "      <th>3</th>\n",
       "      <td>Unknown</td>\n",
       "      <td>True</td>\n",
       "      <td>True</td>\n",
       "      <td>True</td>\n",
       "      <td>True</td>\n",
       "      <td>True</td>\n",
       "      <td>&lt;NA&gt;</td>\n",
       "      <td>True</td>\n",
       "      <td>&lt;NA&gt;</td>\n",
       "      <td>True</td>\n",
       "      <td>...</td>\n",
       "      <td>True</td>\n",
       "      <td>True</td>\n",
       "      <td>True</td>\n",
       "      <td>&lt;NA&gt;</td>\n",
       "      <td>&lt;NA&gt;</td>\n",
       "      <td>&lt;NA&gt;</td>\n",
       "      <td>True</td>\n",
       "      <td>&lt;NA&gt;</td>\n",
       "      <td>&lt;NA&gt;</td>\n",
       "      <td>True</td>\n",
       "    </tr>\n",
       "    <tr>\n",
       "      <th>4</th>\n",
       "      <td>female</td>\n",
       "      <td>True</td>\n",
       "      <td>True</td>\n",
       "      <td>True</td>\n",
       "      <td>True</td>\n",
       "      <td>True</td>\n",
       "      <td>True</td>\n",
       "      <td>True</td>\n",
       "      <td>True</td>\n",
       "      <td>True</td>\n",
       "      <td>...</td>\n",
       "      <td>True</td>\n",
       "      <td>True</td>\n",
       "      <td>True</td>\n",
       "      <td>&lt;NA&gt;</td>\n",
       "      <td>True</td>\n",
       "      <td>&lt;NA&gt;</td>\n",
       "      <td>True</td>\n",
       "      <td>True</td>\n",
       "      <td>&lt;NA&gt;</td>\n",
       "      <td>True</td>\n",
       "    </tr>\n",
       "    <tr>\n",
       "      <th>...</th>\n",
       "      <td>...</td>\n",
       "      <td>...</td>\n",
       "      <td>...</td>\n",
       "      <td>...</td>\n",
       "      <td>...</td>\n",
       "      <td>...</td>\n",
       "      <td>...</td>\n",
       "      <td>...</td>\n",
       "      <td>...</td>\n",
       "      <td>...</td>\n",
       "      <td>...</td>\n",
       "      <td>...</td>\n",
       "      <td>...</td>\n",
       "      <td>...</td>\n",
       "      <td>...</td>\n",
       "      <td>...</td>\n",
       "      <td>...</td>\n",
       "      <td>...</td>\n",
       "      <td>...</td>\n",
       "      <td>...</td>\n",
       "      <td>...</td>\n",
       "    </tr>\n",
       "    <tr>\n",
       "      <th>257</th>\n",
       "      <td>male</td>\n",
       "      <td>True</td>\n",
       "      <td>True</td>\n",
       "      <td>True</td>\n",
       "      <td>True</td>\n",
       "      <td>True</td>\n",
       "      <td>True</td>\n",
       "      <td>True</td>\n",
       "      <td>True</td>\n",
       "      <td>True</td>\n",
       "      <td>...</td>\n",
       "      <td>True</td>\n",
       "      <td>True</td>\n",
       "      <td>True</td>\n",
       "      <td>&lt;NA&gt;</td>\n",
       "      <td>&lt;NA&gt;</td>\n",
       "      <td>True</td>\n",
       "      <td>True</td>\n",
       "      <td>True</td>\n",
       "      <td>&lt;NA&gt;</td>\n",
       "      <td>&lt;NA&gt;</td>\n",
       "    </tr>\n",
       "    <tr>\n",
       "      <th>258</th>\n",
       "      <td>Unknown</td>\n",
       "      <td>True</td>\n",
       "      <td>&lt;NA&gt;</td>\n",
       "      <td>True</td>\n",
       "      <td>True</td>\n",
       "      <td>True</td>\n",
       "      <td>True</td>\n",
       "      <td>&lt;NA&gt;</td>\n",
       "      <td>&lt;NA&gt;</td>\n",
       "      <td>True</td>\n",
       "      <td>...</td>\n",
       "      <td>True</td>\n",
       "      <td>True</td>\n",
       "      <td>True</td>\n",
       "      <td>&lt;NA&gt;</td>\n",
       "      <td>&lt;NA&gt;</td>\n",
       "      <td>&lt;NA&gt;</td>\n",
       "      <td>True</td>\n",
       "      <td>True</td>\n",
       "      <td>&lt;NA&gt;</td>\n",
       "      <td>True</td>\n",
       "    </tr>\n",
       "    <tr>\n",
       "      <th>259</th>\n",
       "      <td>Unknown</td>\n",
       "      <td>True</td>\n",
       "      <td>True</td>\n",
       "      <td>True</td>\n",
       "      <td>True</td>\n",
       "      <td>True</td>\n",
       "      <td>True</td>\n",
       "      <td>&lt;NA&gt;</td>\n",
       "      <td>True</td>\n",
       "      <td>True</td>\n",
       "      <td>...</td>\n",
       "      <td>True</td>\n",
       "      <td>True</td>\n",
       "      <td>True</td>\n",
       "      <td>&lt;NA&gt;</td>\n",
       "      <td>&lt;NA&gt;</td>\n",
       "      <td>&lt;NA&gt;</td>\n",
       "      <td>True</td>\n",
       "      <td>&lt;NA&gt;</td>\n",
       "      <td>&lt;NA&gt;</td>\n",
       "      <td>True</td>\n",
       "    </tr>\n",
       "    <tr>\n",
       "      <th>260</th>\n",
       "      <td>male</td>\n",
       "      <td>True</td>\n",
       "      <td>True</td>\n",
       "      <td>True</td>\n",
       "      <td>True</td>\n",
       "      <td>True</td>\n",
       "      <td>True</td>\n",
       "      <td>True</td>\n",
       "      <td>True</td>\n",
       "      <td>True</td>\n",
       "      <td>...</td>\n",
       "      <td>True</td>\n",
       "      <td>True</td>\n",
       "      <td>True</td>\n",
       "      <td>&lt;NA&gt;</td>\n",
       "      <td>&lt;NA&gt;</td>\n",
       "      <td>True</td>\n",
       "      <td>True</td>\n",
       "      <td>True</td>\n",
       "      <td>&lt;NA&gt;</td>\n",
       "      <td>True</td>\n",
       "    </tr>\n",
       "    <tr>\n",
       "      <th>261</th>\n",
       "      <td>female</td>\n",
       "      <td>True</td>\n",
       "      <td>&lt;NA&gt;</td>\n",
       "      <td>&lt;NA&gt;</td>\n",
       "      <td>&lt;NA&gt;</td>\n",
       "      <td>&lt;NA&gt;</td>\n",
       "      <td>&lt;NA&gt;</td>\n",
       "      <td>&lt;NA&gt;</td>\n",
       "      <td>&lt;NA&gt;</td>\n",
       "      <td>&lt;NA&gt;</td>\n",
       "      <td>...</td>\n",
       "      <td>&lt;NA&gt;</td>\n",
       "      <td>&lt;NA&gt;</td>\n",
       "      <td>&lt;NA&gt;</td>\n",
       "      <td>&lt;NA&gt;</td>\n",
       "      <td>&lt;NA&gt;</td>\n",
       "      <td>&lt;NA&gt;</td>\n",
       "      <td>&lt;NA&gt;</td>\n",
       "      <td>&lt;NA&gt;</td>\n",
       "      <td>&lt;NA&gt;</td>\n",
       "      <td>&lt;NA&gt;</td>\n",
       "    </tr>\n",
       "  </tbody>\n",
       "</table>\n",
       "<p>262 rows × 21 columns</p>\n",
       "</div>"
      ],
      "text/plain": [
       "    review_user_gender  employment_is_recommended  internet  stock_options  \\\n",
       "0              Unknown                       True      True           True   \n",
       "1              Unknown                       True      <NA>           True   \n",
       "2                 male                       True      True           True   \n",
       "3              Unknown                       True      True           True   \n",
       "4               female                       True      True           True   \n",
       "..                 ...                        ...       ...            ...   \n",
       "257               male                       True      True           True   \n",
       "258            Unknown                       True      <NA>           True   \n",
       "259            Unknown                       True      True           True   \n",
       "260               male                       True      True           True   \n",
       "261             female                       True      <NA>           <NA>   \n",
       "\n",
       "     health_program  flex_working_hours  parking  accessibility  mobile_phone  \\\n",
       "0              True                True     True           True          True   \n",
       "1              True                <NA>     True           True          <NA>   \n",
       "2              True                True     True           True          True   \n",
       "3              True                True     <NA>           True          <NA>   \n",
       "4              True                True     True           True          True   \n",
       "..              ...                 ...      ...            ...           ...   \n",
       "257            True                True     True           True          True   \n",
       "258            True                True     True           <NA>          <NA>   \n",
       "259            True                True     True           <NA>          True   \n",
       "260            True                True     True           True          True   \n",
       "261            <NA>                <NA>     <NA>           <NA>          <NA>   \n",
       "\n",
       "     discounts  ...  doctor  events  cantine  dogs   car  meals  pension_plan  \\\n",
       "0         True  ...    True    True     True  <NA>  True   <NA>          True   \n",
       "1         True  ...    True    True     True  <NA>  <NA>   True          True   \n",
       "2         True  ...    True    True     True  True  True   True          True   \n",
       "3         True  ...    True    True     True  <NA>  <NA>   <NA>          True   \n",
       "4         True  ...    True    True     True  <NA>  True   <NA>          True   \n",
       "..         ...  ...     ...     ...      ...   ...   ...    ...           ...   \n",
       "257       True  ...    True    True     True  <NA>  <NA>   True          True   \n",
       "258       True  ...    True    True     True  <NA>  <NA>   <NA>          True   \n",
       "259       True  ...    True    True     True  <NA>  <NA>   <NA>          True   \n",
       "260       True  ...    True    True     True  <NA>  <NA>   True          True   \n",
       "261       <NA>  ...    <NA>    <NA>     <NA>  <NA>  <NA>   <NA>          <NA>   \n",
       "\n",
       "     daycare  reachability  coaching  \n",
       "0       True          True      True  \n",
       "1       <NA>          <NA>      True  \n",
       "2       True          <NA>      True  \n",
       "3       <NA>          <NA>      True  \n",
       "4       True          <NA>      True  \n",
       "..       ...           ...       ...  \n",
       "257     True          <NA>      <NA>  \n",
       "258     True          <NA>      True  \n",
       "259     <NA>          <NA>      True  \n",
       "260     True          <NA>      True  \n",
       "261     <NA>          <NA>      <NA>  \n",
       "\n",
       "[262 rows x 21 columns]"
      ]
     },
     "execution_count": 55,
     "metadata": {},
     "output_type": "execute_result"
    }
   ],
   "source": [
    "#for counting boolean values, first we need to know how many people are in each group \n",
    "df_gender_bool = df_bool_prep.drop(columns=['employment_department', 'employment_position_type'])\n",
    "df_gender_bool\n"
   ]
  },
  {
   "cell_type": "code",
   "execution_count": 56,
   "metadata": {},
   "outputs": [
    {
     "data": {
      "text/plain": [
       "review_user_gender\n",
       "Unknown      207\n",
       "male          29\n",
       "female        22\n",
       "wont tell      4\n",
       "Name: count, dtype: int64"
      ]
     },
     "execution_count": 56,
     "metadata": {},
     "output_type": "execute_result"
    }
   ],
   "source": [
    "#count the number of times each review_user_gender appears\n",
    "group_sizes = df_gender_bool['review_user_gender'].value_counts()\n",
    "group_sizes\n"
   ]
  },
  {
   "cell_type": "code",
   "execution_count": 57,
   "metadata": {},
   "outputs": [
    {
     "data": {
      "text/html": [
       "<div>\n",
       "<style scoped>\n",
       "    .dataframe tbody tr th:only-of-type {\n",
       "        vertical-align: middle;\n",
       "    }\n",
       "\n",
       "    .dataframe tbody tr th {\n",
       "        vertical-align: top;\n",
       "    }\n",
       "\n",
       "    .dataframe thead th {\n",
       "        text-align: right;\n",
       "    }\n",
       "</style>\n",
       "<table border=\"1\" class=\"dataframe\">\n",
       "  <thead>\n",
       "    <tr style=\"text-align: right;\">\n",
       "      <th>review_user_gender</th>\n",
       "      <th>Unknown</th>\n",
       "      <th>female</th>\n",
       "      <th>male</th>\n",
       "      <th>wont tell</th>\n",
       "    </tr>\n",
       "  </thead>\n",
       "  <tbody>\n",
       "    <tr>\n",
       "      <th>employment_is_recommended</th>\n",
       "      <td>172</td>\n",
       "      <td>21</td>\n",
       "      <td>24</td>\n",
       "      <td>4</td>\n",
       "    </tr>\n",
       "    <tr>\n",
       "      <th>internet</th>\n",
       "      <td>110</td>\n",
       "      <td>14</td>\n",
       "      <td>21</td>\n",
       "      <td>1</td>\n",
       "    </tr>\n",
       "    <tr>\n",
       "      <th>stock_options</th>\n",
       "      <td>138</td>\n",
       "      <td>18</td>\n",
       "      <td>20</td>\n",
       "      <td>1</td>\n",
       "    </tr>\n",
       "    <tr>\n",
       "      <th>health_program</th>\n",
       "      <td>165</td>\n",
       "      <td>18</td>\n",
       "      <td>21</td>\n",
       "      <td>1</td>\n",
       "    </tr>\n",
       "    <tr>\n",
       "      <th>flex_working_hours</th>\n",
       "      <td>174</td>\n",
       "      <td>17</td>\n",
       "      <td>20</td>\n",
       "      <td>3</td>\n",
       "    </tr>\n",
       "    <tr>\n",
       "      <th>parking</th>\n",
       "      <td>149</td>\n",
       "      <td>18</td>\n",
       "      <td>20</td>\n",
       "      <td>3</td>\n",
       "    </tr>\n",
       "    <tr>\n",
       "      <th>accessibility</th>\n",
       "      <td>76</td>\n",
       "      <td>14</td>\n",
       "      <td>13</td>\n",
       "      <td>0</td>\n",
       "    </tr>\n",
       "    <tr>\n",
       "      <th>mobile_phone</th>\n",
       "      <td>115</td>\n",
       "      <td>13</td>\n",
       "      <td>18</td>\n",
       "      <td>2</td>\n",
       "    </tr>\n",
       "    <tr>\n",
       "      <th>discounts</th>\n",
       "      <td>189</td>\n",
       "      <td>19</td>\n",
       "      <td>23</td>\n",
       "      <td>4</td>\n",
       "    </tr>\n",
       "    <tr>\n",
       "      <th>home_office</th>\n",
       "      <td>171</td>\n",
       "      <td>18</td>\n",
       "      <td>22</td>\n",
       "      <td>2</td>\n",
       "    </tr>\n",
       "    <tr>\n",
       "      <th>doctor</th>\n",
       "      <td>185</td>\n",
       "      <td>18</td>\n",
       "      <td>24</td>\n",
       "      <td>4</td>\n",
       "    </tr>\n",
       "    <tr>\n",
       "      <th>events</th>\n",
       "      <td>166</td>\n",
       "      <td>18</td>\n",
       "      <td>22</td>\n",
       "      <td>4</td>\n",
       "    </tr>\n",
       "    <tr>\n",
       "      <th>cantine</th>\n",
       "      <td>181</td>\n",
       "      <td>19</td>\n",
       "      <td>23</td>\n",
       "      <td>2</td>\n",
       "    </tr>\n",
       "    <tr>\n",
       "      <th>dogs</th>\n",
       "      <td>1</td>\n",
       "      <td>0</td>\n",
       "      <td>3</td>\n",
       "      <td>0</td>\n",
       "    </tr>\n",
       "    <tr>\n",
       "      <th>car</th>\n",
       "      <td>41</td>\n",
       "      <td>7</td>\n",
       "      <td>11</td>\n",
       "      <td>0</td>\n",
       "    </tr>\n",
       "    <tr>\n",
       "      <th>meals</th>\n",
       "      <td>85</td>\n",
       "      <td>10</td>\n",
       "      <td>14</td>\n",
       "      <td>1</td>\n",
       "    </tr>\n",
       "    <tr>\n",
       "      <th>pension_plan</th>\n",
       "      <td>179</td>\n",
       "      <td>17</td>\n",
       "      <td>24</td>\n",
       "      <td>4</td>\n",
       "    </tr>\n",
       "    <tr>\n",
       "      <th>daycare</th>\n",
       "      <td>84</td>\n",
       "      <td>14</td>\n",
       "      <td>19</td>\n",
       "      <td>1</td>\n",
       "    </tr>\n",
       "    <tr>\n",
       "      <th>reachability</th>\n",
       "      <td>52</td>\n",
       "      <td>5</td>\n",
       "      <td>6</td>\n",
       "      <td>0</td>\n",
       "    </tr>\n",
       "    <tr>\n",
       "      <th>coaching</th>\n",
       "      <td>116</td>\n",
       "      <td>10</td>\n",
       "      <td>16</td>\n",
       "      <td>1</td>\n",
       "    </tr>\n",
       "  </tbody>\n",
       "</table>\n",
       "</div>"
      ],
      "text/plain": [
       "review_user_gender        Unknown female male wont tell\n",
       "employment_is_recommended     172     21   24         4\n",
       "internet                      110     14   21         1\n",
       "stock_options                 138     18   20         1\n",
       "health_program                165     18   21         1\n",
       "flex_working_hours            174     17   20         3\n",
       "parking                       149     18   20         3\n",
       "accessibility                  76     14   13         0\n",
       "mobile_phone                  115     13   18         2\n",
       "discounts                     189     19   23         4\n",
       "home_office                   171     18   22         2\n",
       "doctor                        185     18   24         4\n",
       "events                        166     18   22         4\n",
       "cantine                       181     19   23         2\n",
       "dogs                            1      0    3         0\n",
       "car                            41      7   11         0\n",
       "meals                          85     10   14         1\n",
       "pension_plan                  179     17   24         4\n",
       "daycare                        84     14   19         1\n",
       "reachability                   52      5    6         0\n",
       "coaching                      116     10   16         1"
      ]
     },
     "execution_count": 57,
     "metadata": {},
     "output_type": "execute_result"
    }
   ],
   "source": [
    "df_gender_bool = df_gender_bool.groupby('review_user_gender').sum().reset_index()\n",
    "df_gender_bool = df_gender_bool.T\n",
    "\n",
    "#set the first row as the header\n",
    "df_gender_bool.columns = df_gender_bool.iloc[0]\n",
    "df_gender_bool = df_gender_bool[1:]\n",
    "df_gender_bool"
   ]
  },
  {
   "cell_type": "code",
   "execution_count": 58,
   "metadata": {},
   "outputs": [
    {
     "data": {
      "text/html": [
       "<div>\n",
       "<style scoped>\n",
       "    .dataframe tbody tr th:only-of-type {\n",
       "        vertical-align: middle;\n",
       "    }\n",
       "\n",
       "    .dataframe tbody tr th {\n",
       "        vertical-align: top;\n",
       "    }\n",
       "\n",
       "    .dataframe thead th {\n",
       "        text-align: right;\n",
       "    }\n",
       "</style>\n",
       "<table border=\"1\" class=\"dataframe\">\n",
       "  <thead>\n",
       "    <tr style=\"text-align: right;\">\n",
       "      <th>review_user_gender</th>\n",
       "      <th>Unknown</th>\n",
       "      <th>female</th>\n",
       "      <th>male</th>\n",
       "      <th>wont tell</th>\n",
       "    </tr>\n",
       "  </thead>\n",
       "  <tbody>\n",
       "    <tr>\n",
       "      <th>employment_is_recommended</th>\n",
       "      <td>83.092</td>\n",
       "      <td>95.455</td>\n",
       "      <td>82.759</td>\n",
       "      <td>100.0</td>\n",
       "    </tr>\n",
       "    <tr>\n",
       "      <th>internet</th>\n",
       "      <td>53.140</td>\n",
       "      <td>63.636</td>\n",
       "      <td>72.414</td>\n",
       "      <td>25.0</td>\n",
       "    </tr>\n",
       "    <tr>\n",
       "      <th>stock_options</th>\n",
       "      <td>66.667</td>\n",
       "      <td>81.818</td>\n",
       "      <td>68.966</td>\n",
       "      <td>25.0</td>\n",
       "    </tr>\n",
       "    <tr>\n",
       "      <th>health_program</th>\n",
       "      <td>79.710</td>\n",
       "      <td>81.818</td>\n",
       "      <td>72.414</td>\n",
       "      <td>25.0</td>\n",
       "    </tr>\n",
       "    <tr>\n",
       "      <th>flex_working_hours</th>\n",
       "      <td>84.058</td>\n",
       "      <td>77.273</td>\n",
       "      <td>68.966</td>\n",
       "      <td>75.0</td>\n",
       "    </tr>\n",
       "    <tr>\n",
       "      <th>parking</th>\n",
       "      <td>71.981</td>\n",
       "      <td>81.818</td>\n",
       "      <td>68.966</td>\n",
       "      <td>75.0</td>\n",
       "    </tr>\n",
       "    <tr>\n",
       "      <th>accessibility</th>\n",
       "      <td>36.715</td>\n",
       "      <td>63.636</td>\n",
       "      <td>44.828</td>\n",
       "      <td>0.0</td>\n",
       "    </tr>\n",
       "    <tr>\n",
       "      <th>mobile_phone</th>\n",
       "      <td>55.556</td>\n",
       "      <td>59.091</td>\n",
       "      <td>62.069</td>\n",
       "      <td>50.0</td>\n",
       "    </tr>\n",
       "    <tr>\n",
       "      <th>discounts</th>\n",
       "      <td>91.304</td>\n",
       "      <td>86.364</td>\n",
       "      <td>79.310</td>\n",
       "      <td>100.0</td>\n",
       "    </tr>\n",
       "    <tr>\n",
       "      <th>home_office</th>\n",
       "      <td>82.609</td>\n",
       "      <td>81.818</td>\n",
       "      <td>75.862</td>\n",
       "      <td>50.0</td>\n",
       "    </tr>\n",
       "    <tr>\n",
       "      <th>doctor</th>\n",
       "      <td>89.372</td>\n",
       "      <td>81.818</td>\n",
       "      <td>82.759</td>\n",
       "      <td>100.0</td>\n",
       "    </tr>\n",
       "    <tr>\n",
       "      <th>events</th>\n",
       "      <td>80.193</td>\n",
       "      <td>81.818</td>\n",
       "      <td>75.862</td>\n",
       "      <td>100.0</td>\n",
       "    </tr>\n",
       "    <tr>\n",
       "      <th>cantine</th>\n",
       "      <td>87.440</td>\n",
       "      <td>86.364</td>\n",
       "      <td>79.310</td>\n",
       "      <td>50.0</td>\n",
       "    </tr>\n",
       "    <tr>\n",
       "      <th>dogs</th>\n",
       "      <td>0.483</td>\n",
       "      <td>0.000</td>\n",
       "      <td>10.345</td>\n",
       "      <td>0.0</td>\n",
       "    </tr>\n",
       "    <tr>\n",
       "      <th>car</th>\n",
       "      <td>19.807</td>\n",
       "      <td>31.818</td>\n",
       "      <td>37.931</td>\n",
       "      <td>0.0</td>\n",
       "    </tr>\n",
       "    <tr>\n",
       "      <th>meals</th>\n",
       "      <td>41.063</td>\n",
       "      <td>45.455</td>\n",
       "      <td>48.276</td>\n",
       "      <td>25.0</td>\n",
       "    </tr>\n",
       "    <tr>\n",
       "      <th>pension_plan</th>\n",
       "      <td>86.473</td>\n",
       "      <td>77.273</td>\n",
       "      <td>82.759</td>\n",
       "      <td>100.0</td>\n",
       "    </tr>\n",
       "    <tr>\n",
       "      <th>daycare</th>\n",
       "      <td>40.580</td>\n",
       "      <td>63.636</td>\n",
       "      <td>65.517</td>\n",
       "      <td>25.0</td>\n",
       "    </tr>\n",
       "    <tr>\n",
       "      <th>reachability</th>\n",
       "      <td>25.121</td>\n",
       "      <td>22.727</td>\n",
       "      <td>20.690</td>\n",
       "      <td>0.0</td>\n",
       "    </tr>\n",
       "    <tr>\n",
       "      <th>coaching</th>\n",
       "      <td>56.039</td>\n",
       "      <td>45.455</td>\n",
       "      <td>55.172</td>\n",
       "      <td>25.0</td>\n",
       "    </tr>\n",
       "  </tbody>\n",
       "</table>\n",
       "</div>"
      ],
      "text/plain": [
       "review_user_gender         Unknown  female    male  wont tell\n",
       "employment_is_recommended   83.092  95.455  82.759      100.0\n",
       "internet                    53.140  63.636  72.414       25.0\n",
       "stock_options               66.667  81.818  68.966       25.0\n",
       "health_program              79.710  81.818  72.414       25.0\n",
       "flex_working_hours          84.058  77.273  68.966       75.0\n",
       "parking                     71.981  81.818  68.966       75.0\n",
       "accessibility               36.715  63.636  44.828        0.0\n",
       "mobile_phone                55.556  59.091  62.069       50.0\n",
       "discounts                   91.304  86.364  79.310      100.0\n",
       "home_office                 82.609  81.818  75.862       50.0\n",
       "doctor                      89.372  81.818  82.759      100.0\n",
       "events                      80.193  81.818  75.862      100.0\n",
       "cantine                     87.440  86.364  79.310       50.0\n",
       "dogs                         0.483   0.000  10.345        0.0\n",
       "car                         19.807  31.818  37.931        0.0\n",
       "meals                       41.063  45.455  48.276       25.0\n",
       "pension_plan                86.473  77.273  82.759      100.0\n",
       "daycare                     40.580  63.636  65.517       25.0\n",
       "reachability                25.121  22.727  20.690        0.0\n",
       "coaching                    56.039  45.455  55.172       25.0"
      ]
     },
     "execution_count": 58,
     "metadata": {},
     "output_type": "execute_result"
    }
   ],
   "source": [
    "for gender in group_sizes.index:\n",
    "    # Divide the counts by the group size and multiply by 100\n",
    "    df_gender_bool[gender] = (df_gender_bool[gender] / group_sizes[gender]) * 100\n",
    "\n",
    "df_gender_bool = df_gender_bool.astype(float).round(3)\n",
    "df_gender_bool"
   ]
  },
  {
   "cell_type": "markdown",
   "metadata": {},
   "source": [
    "### Split by Department\n"
   ]
  },
  {
   "cell_type": "code",
   "execution_count": 59,
   "metadata": {},
   "outputs": [
    {
     "data": {
      "text/html": [
       "<div>\n",
       "<style scoped>\n",
       "    .dataframe tbody tr th:only-of-type {\n",
       "        vertical-align: middle;\n",
       "    }\n",
       "\n",
       "    .dataframe tbody tr th {\n",
       "        vertical-align: top;\n",
       "    }\n",
       "\n",
       "    .dataframe thead th {\n",
       "        text-align: right;\n",
       "    }\n",
       "</style>\n",
       "<table border=\"1\" class=\"dataframe\">\n",
       "  <thead>\n",
       "    <tr style=\"text-align: right;\">\n",
       "      <th>employment_department</th>\n",
       "      <th>Unknown</th>\n",
       "      <th>administration</th>\n",
       "      <th>communication</th>\n",
       "      <th>controlling</th>\n",
       "      <th>design</th>\n",
       "      <th>it</th>\n",
       "      <th>legal</th>\n",
       "      <th>logistic</th>\n",
       "      <th>operations</th>\n",
       "      <th>other</th>\n",
       "      <th>procurement</th>\n",
       "      <th>product</th>\n",
       "      <th>recruiting</th>\n",
       "      <th>research</th>\n",
       "      <th>sales</th>\n",
       "    </tr>\n",
       "  </thead>\n",
       "  <tbody>\n",
       "    <tr>\n",
       "      <th>review_score</th>\n",
       "      <td>3.965822</td>\n",
       "      <td>3.791168</td>\n",
       "      <td>4.333333</td>\n",
       "      <td>4.2596</td>\n",
       "      <td>3.652395</td>\n",
       "      <td>4.344548</td>\n",
       "      <td>4.73846</td>\n",
       "      <td>4.079061</td>\n",
       "      <td>3.714286</td>\n",
       "      <td>4.346739</td>\n",
       "      <td>4.390114</td>\n",
       "      <td>4.4945</td>\n",
       "      <td>4.628211</td>\n",
       "      <td>4.126067</td>\n",
       "      <td>3.462968</td>\n",
       "    </tr>\n",
       "    <tr>\n",
       "      <th>employer_atmosphere_score</th>\n",
       "      <td>4.222222</td>\n",
       "      <td>3.954545</td>\n",
       "      <td>4.0</td>\n",
       "      <td>4.5</td>\n",
       "      <td>3.809524</td>\n",
       "      <td>4.461538</td>\n",
       "      <td>4.8</td>\n",
       "      <td>4.277778</td>\n",
       "      <td>3.571429</td>\n",
       "      <td>4.666667</td>\n",
       "      <td>4.428571</td>\n",
       "      <td>4.714286</td>\n",
       "      <td>4.611111</td>\n",
       "      <td>4.166667</td>\n",
       "      <td>3.631579</td>\n",
       "    </tr>\n",
       "    <tr>\n",
       "      <th>employer_communication_score</th>\n",
       "      <td>3.666667</td>\n",
       "      <td>3.363636</td>\n",
       "      <td>4.333333</td>\n",
       "      <td>3.875</td>\n",
       "      <td>3.238095</td>\n",
       "      <td>4.098039</td>\n",
       "      <td>4.4</td>\n",
       "      <td>3.833333</td>\n",
       "      <td>3.571429</td>\n",
       "      <td>3.878788</td>\n",
       "      <td>3.928571</td>\n",
       "      <td>4.0</td>\n",
       "      <td>4.111111</td>\n",
       "      <td>3.666667</td>\n",
       "      <td>3.210526</td>\n",
       "    </tr>\n",
       "    <tr>\n",
       "      <th>employer_teamwork_score</th>\n",
       "      <td>3.777778</td>\n",
       "      <td>4.045455</td>\n",
       "      <td>5.0</td>\n",
       "      <td>4.5</td>\n",
       "      <td>3.818182</td>\n",
       "      <td>4.365385</td>\n",
       "      <td>4.6</td>\n",
       "      <td>4.0</td>\n",
       "      <td>3.428571</td>\n",
       "      <td>4.30303</td>\n",
       "      <td>4.428571</td>\n",
       "      <td>4.571429</td>\n",
       "      <td>4.777778</td>\n",
       "      <td>4.5</td>\n",
       "      <td>3.657895</td>\n",
       "    </tr>\n",
       "    <tr>\n",
       "      <th>employer_work_life_score</th>\n",
       "      <td>4.111111</td>\n",
       "      <td>4.0</td>\n",
       "      <td>4.333333</td>\n",
       "      <td>4.5</td>\n",
       "      <td>3.666667</td>\n",
       "      <td>4.538462</td>\n",
       "      <td>5.0</td>\n",
       "      <td>4.0</td>\n",
       "      <td>4.285714</td>\n",
       "      <td>4.454545</td>\n",
       "      <td>4.714286</td>\n",
       "      <td>4.714286</td>\n",
       "      <td>4.777778</td>\n",
       "      <td>4.5</td>\n",
       "      <td>3.421053</td>\n",
       "    </tr>\n",
       "    <tr>\n",
       "      <th>employer_leadership_score</th>\n",
       "      <td>3.888889</td>\n",
       "      <td>3.5</td>\n",
       "      <td>4.0</td>\n",
       "      <td>4.25</td>\n",
       "      <td>2.954545</td>\n",
       "      <td>4.269231</td>\n",
       "      <td>4.8</td>\n",
       "      <td>4.0</td>\n",
       "      <td>3.714286</td>\n",
       "      <td>4.090909</td>\n",
       "      <td>3.857143</td>\n",
       "      <td>3.857143</td>\n",
       "      <td>4.388889</td>\n",
       "      <td>3.666667</td>\n",
       "      <td>3.078947</td>\n",
       "    </tr>\n",
       "    <tr>\n",
       "      <th>employer_tasks_score</th>\n",
       "      <td>4.444444</td>\n",
       "      <td>3.818182</td>\n",
       "      <td>4.666667</td>\n",
       "      <td>4.5</td>\n",
       "      <td>3.904762</td>\n",
       "      <td>4.5</td>\n",
       "      <td>4.8</td>\n",
       "      <td>4.388889</td>\n",
       "      <td>3.714286</td>\n",
       "      <td>4.484848</td>\n",
       "      <td>4.5</td>\n",
       "      <td>4.714286</td>\n",
       "      <td>4.888889</td>\n",
       "      <td>4.666667</td>\n",
       "      <td>3.594595</td>\n",
       "    </tr>\n",
       "    <tr>\n",
       "      <th>employer_equality_score</th>\n",
       "      <td>3.888889</td>\n",
       "      <td>3.55</td>\n",
       "      <td>4.333333</td>\n",
       "      <td>4.625</td>\n",
       "      <td>3.47619</td>\n",
       "      <td>4.32</td>\n",
       "      <td>4.8</td>\n",
       "      <td>4.111111</td>\n",
       "      <td>3.571429</td>\n",
       "      <td>4.333333</td>\n",
       "      <td>4.285714</td>\n",
       "      <td>4.428571</td>\n",
       "      <td>4.666667</td>\n",
       "      <td>4.0</td>\n",
       "      <td>3.621622</td>\n",
       "    </tr>\n",
       "    <tr>\n",
       "      <th>employer_old_colleagues_score</th>\n",
       "      <td>3.666667</td>\n",
       "      <td>3.8</td>\n",
       "      <td>4.0</td>\n",
       "      <td>4.5</td>\n",
       "      <td>4.095238</td>\n",
       "      <td>4.48</td>\n",
       "      <td>4.6</td>\n",
       "      <td>4.352941</td>\n",
       "      <td>4.0</td>\n",
       "      <td>4.677419</td>\n",
       "      <td>4.642857</td>\n",
       "      <td>4.428571</td>\n",
       "      <td>4.833333</td>\n",
       "      <td>3.833333</td>\n",
       "      <td>3.648649</td>\n",
       "    </tr>\n",
       "    <tr>\n",
       "      <th>employer_work_conditions_score</th>\n",
       "      <td>4.333333</td>\n",
       "      <td>4.045455</td>\n",
       "      <td>4.666667</td>\n",
       "      <td>4.5</td>\n",
       "      <td>4.454545</td>\n",
       "      <td>4.568627</td>\n",
       "      <td>4.6</td>\n",
       "      <td>4.111111</td>\n",
       "      <td>4.142857</td>\n",
       "      <td>4.666667</td>\n",
       "      <td>4.642857</td>\n",
       "      <td>5.0</td>\n",
       "      <td>4.833333</td>\n",
       "      <td>4.333333</td>\n",
       "      <td>3.72973</td>\n",
       "    </tr>\n",
       "    <tr>\n",
       "      <th>employer_environment_score</th>\n",
       "      <td>4.444444</td>\n",
       "      <td>3.954545</td>\n",
       "      <td>4.0</td>\n",
       "      <td>4.0</td>\n",
       "      <td>3.636364</td>\n",
       "      <td>4.26</td>\n",
       "      <td>4.6</td>\n",
       "      <td>4.277778</td>\n",
       "      <td>3.285714</td>\n",
       "      <td>4.363636</td>\n",
       "      <td>4.5</td>\n",
       "      <td>4.571429</td>\n",
       "      <td>4.666667</td>\n",
       "      <td>4.4</td>\n",
       "      <td>3.378378</td>\n",
       "    </tr>\n",
       "    <tr>\n",
       "      <th>employer_salary_score</th>\n",
       "      <td>3.444444</td>\n",
       "      <td>3.409091</td>\n",
       "      <td>3.666667</td>\n",
       "      <td>3.375</td>\n",
       "      <td>3.333333</td>\n",
       "      <td>3.865385</td>\n",
       "      <td>5.0</td>\n",
       "      <td>3.5</td>\n",
       "      <td>3.428571</td>\n",
       "      <td>3.848485</td>\n",
       "      <td>4.214286</td>\n",
       "      <td>4.285714</td>\n",
       "      <td>4.388889</td>\n",
       "      <td>3.666667</td>\n",
       "      <td>3.236842</td>\n",
       "    </tr>\n",
       "    <tr>\n",
       "      <th>employer_image_score</th>\n",
       "      <td>4.333333</td>\n",
       "      <td>4.136364</td>\n",
       "      <td>5.0</td>\n",
       "      <td>4.375</td>\n",
       "      <td>4.181818</td>\n",
       "      <td>4.615385</td>\n",
       "      <td>4.8</td>\n",
       "      <td>4.277778</td>\n",
       "      <td>4.285714</td>\n",
       "      <td>4.545455</td>\n",
       "      <td>4.642857</td>\n",
       "      <td>4.571429</td>\n",
       "      <td>4.722222</td>\n",
       "      <td>4.5</td>\n",
       "      <td>3.947368</td>\n",
       "    </tr>\n",
       "    <tr>\n",
       "      <th>employer_career_score</th>\n",
       "      <td>3.333333</td>\n",
       "      <td>3.590909</td>\n",
       "      <td>4.333333</td>\n",
       "      <td>3.875</td>\n",
       "      <td>3.190476</td>\n",
       "      <td>4.192308</td>\n",
       "      <td>4.8</td>\n",
       "      <td>3.888889</td>\n",
       "      <td>3.285714</td>\n",
       "      <td>4.212121</td>\n",
       "      <td>4.285714</td>\n",
       "      <td>4.5</td>\n",
       "      <td>4.5</td>\n",
       "      <td>3.833333</td>\n",
       "      <td>3.0</td>\n",
       "    </tr>\n",
       "  </tbody>\n",
       "</table>\n",
       "</div>"
      ],
      "text/plain": [
       "employment_department            Unknown administration communication  \\\n",
       "review_score                    3.965822       3.791168      4.333333   \n",
       "employer_atmosphere_score       4.222222       3.954545           4.0   \n",
       "employer_communication_score    3.666667       3.363636      4.333333   \n",
       "employer_teamwork_score         3.777778       4.045455           5.0   \n",
       "employer_work_life_score        4.111111            4.0      4.333333   \n",
       "employer_leadership_score       3.888889            3.5           4.0   \n",
       "employer_tasks_score            4.444444       3.818182      4.666667   \n",
       "employer_equality_score         3.888889           3.55      4.333333   \n",
       "employer_old_colleagues_score   3.666667            3.8           4.0   \n",
       "employer_work_conditions_score  4.333333       4.045455      4.666667   \n",
       "employer_environment_score      4.444444       3.954545           4.0   \n",
       "employer_salary_score           3.444444       3.409091      3.666667   \n",
       "employer_image_score            4.333333       4.136364           5.0   \n",
       "employer_career_score           3.333333       3.590909      4.333333   \n",
       "\n",
       "employment_department          controlling    design        it    legal  \\\n",
       "review_score                        4.2596  3.652395  4.344548  4.73846   \n",
       "employer_atmosphere_score              4.5  3.809524  4.461538      4.8   \n",
       "employer_communication_score         3.875  3.238095  4.098039      4.4   \n",
       "employer_teamwork_score                4.5  3.818182  4.365385      4.6   \n",
       "employer_work_life_score               4.5  3.666667  4.538462      5.0   \n",
       "employer_leadership_score             4.25  2.954545  4.269231      4.8   \n",
       "employer_tasks_score                   4.5  3.904762       4.5      4.8   \n",
       "employer_equality_score              4.625   3.47619      4.32      4.8   \n",
       "employer_old_colleagues_score          4.5  4.095238      4.48      4.6   \n",
       "employer_work_conditions_score         4.5  4.454545  4.568627      4.6   \n",
       "employer_environment_score             4.0  3.636364      4.26      4.6   \n",
       "employer_salary_score                3.375  3.333333  3.865385      5.0   \n",
       "employer_image_score                 4.375  4.181818  4.615385      4.8   \n",
       "employer_career_score                3.875  3.190476  4.192308      4.8   \n",
       "\n",
       "employment_department           logistic operations     other procurement  \\\n",
       "review_score                    4.079061   3.714286  4.346739    4.390114   \n",
       "employer_atmosphere_score       4.277778   3.571429  4.666667    4.428571   \n",
       "employer_communication_score    3.833333   3.571429  3.878788    3.928571   \n",
       "employer_teamwork_score              4.0   3.428571   4.30303    4.428571   \n",
       "employer_work_life_score             4.0   4.285714  4.454545    4.714286   \n",
       "employer_leadership_score            4.0   3.714286  4.090909    3.857143   \n",
       "employer_tasks_score            4.388889   3.714286  4.484848         4.5   \n",
       "employer_equality_score         4.111111   3.571429  4.333333    4.285714   \n",
       "employer_old_colleagues_score   4.352941        4.0  4.677419    4.642857   \n",
       "employer_work_conditions_score  4.111111   4.142857  4.666667    4.642857   \n",
       "employer_environment_score      4.277778   3.285714  4.363636         4.5   \n",
       "employer_salary_score                3.5   3.428571  3.848485    4.214286   \n",
       "employer_image_score            4.277778   4.285714  4.545455    4.642857   \n",
       "employer_career_score           3.888889   3.285714  4.212121    4.285714   \n",
       "\n",
       "employment_department            product recruiting  research     sales  \n",
       "review_score                      4.4945   4.628211  4.126067  3.462968  \n",
       "employer_atmosphere_score       4.714286   4.611111  4.166667  3.631579  \n",
       "employer_communication_score         4.0   4.111111  3.666667  3.210526  \n",
       "employer_teamwork_score         4.571429   4.777778       4.5  3.657895  \n",
       "employer_work_life_score        4.714286   4.777778       4.5  3.421053  \n",
       "employer_leadership_score       3.857143   4.388889  3.666667  3.078947  \n",
       "employer_tasks_score            4.714286   4.888889  4.666667  3.594595  \n",
       "employer_equality_score         4.428571   4.666667       4.0  3.621622  \n",
       "employer_old_colleagues_score   4.428571   4.833333  3.833333  3.648649  \n",
       "employer_work_conditions_score       5.0   4.833333  4.333333   3.72973  \n",
       "employer_environment_score      4.571429   4.666667       4.4  3.378378  \n",
       "employer_salary_score           4.285714   4.388889  3.666667  3.236842  \n",
       "employer_image_score            4.571429   4.722222       4.5  3.947368  \n",
       "employer_career_score                4.5        4.5  3.833333       3.0  "
      ]
     },
     "execution_count": 59,
     "metadata": {},
     "output_type": "execute_result"
    }
   ],
   "source": [
    "#groupby employment_position_type and take the mean of the review_score\n",
    "df_dept = df.groupby('employment_department')[score_columns].mean().reset_index()\n",
    "df_dept = df_dept.T\n",
    "\n",
    "df_dept.columns = df_dept.iloc[0]\n",
    "df_dept = df_dept[1:]\n",
    "df_dept\n"
   ]
  },
  {
   "cell_type": "code",
   "execution_count": 60,
   "metadata": {},
   "outputs": [
    {
     "data": {
      "application/vnd.plotly.v1+json": {
       "config": {
        "plotlyServerURL": "https://plot.ly"
       },
       "data": [
        {
         "colorbar": {
          "title": {
           "text": "Score"
          }
         },
         "colorscale": [
          [
           0,
           "rgb(237, 229, 207)"
          ],
          [
           0.16666666666666666,
           "rgb(224, 194, 162)"
          ],
          [
           0.3333333333333333,
           "rgb(211, 156, 131)"
          ],
          [
           0.5,
           "rgb(193, 118, 111)"
          ],
          [
           0.6666666666666666,
           "rgb(166, 84, 97)"
          ],
          [
           0.8333333333333334,
           "rgb(129, 55, 83)"
          ],
          [
           1,
           "rgb(84, 31, 63)"
          ]
         ],
         "hoverongaps": false,
         "type": "heatmap",
         "x": [
          "review_score",
          "employer_atmosphere_score",
          "employer_communication_score",
          "employer_teamwork_score",
          "employer_work_life_score",
          "employer_leadership_score",
          "employer_tasks_score",
          "employer_equality_score",
          "employer_old_colleagues_score",
          "employer_work_conditions_score",
          "employer_environment_score",
          "employer_salary_score",
          "employer_image_score",
          "employer_career_score"
         ],
         "y": [
          "Unknown",
          "administration",
          "communication",
          "controlling",
          "design",
          "it",
          "legal",
          "logistic",
          "operations",
          "other",
          "procurement",
          "product",
          "recruiting",
          "research",
          "sales"
         ],
         "z": [
          [
           3.965822222222222,
           4.222222222222222,
           3.6666666666666665,
           3.7777777777777777,
           4.111111111111111,
           3.888888888888889,
           4.444444444444445,
           3.888888888888889,
           3.6666666666666665,
           4.333333333333333,
           4.444444444444445,
           3.4444444444444446,
           4.333333333333333,
           3.3333333333333335
          ],
          [
           3.7911681818181817,
           3.9545454545454546,
           3.3636363636363638,
           4.045454545454546,
           4,
           3.5,
           3.8181818181818183,
           3.55,
           3.8,
           4.045454545454546,
           3.9545454545454546,
           3.409090909090909,
           4.136363636363637,
           3.590909090909091
          ],
          [
           4.333333333333333,
           4,
           4.333333333333333,
           5,
           4.333333333333333,
           4,
           4.666666666666667,
           4.333333333333333,
           4,
           4.666666666666667,
           4,
           3.6666666666666665,
           5,
           4.333333333333333
          ],
          [
           4.2596,
           4.5,
           3.875,
           4.5,
           4.5,
           4.25,
           4.5,
           4.625,
           4.5,
           4.5,
           4,
           3.375,
           4.375,
           3.875
          ],
          [
           3.6523954545454544,
           3.8095238095238093,
           3.238095238095238,
           3.8181818181818183,
           3.6666666666666665,
           2.9545454545454546,
           3.9047619047619047,
           3.4761904761904763,
           4.095238095238095,
           4.454545454545454,
           3.6363636363636362,
           3.3333333333333335,
           4.181818181818182,
           3.1904761904761907
          ],
          [
           4.344548076923076,
           4.461538461538462,
           4.098039215686274,
           4.365384615384615,
           4.538461538461538,
           4.269230769230769,
           4.5,
           4.32,
           4.48,
           4.568627450980392,
           4.26,
           3.8653846153846154,
           4.615384615384615,
           4.1923076923076925
          ],
          [
           4.73846,
           4.8,
           4.4,
           4.6,
           5,
           4.8,
           4.8,
           4.8,
           4.6,
           4.6,
           4.6,
           5,
           4.8,
           4.8
          ],
          [
           4.079061111111112,
           4.277777777777778,
           3.8333333333333335,
           4,
           4,
           4,
           4.388888888888889,
           4.111111111111111,
           4.352941176470588,
           4.111111111111111,
           4.277777777777778,
           3.5,
           4.277777777777778,
           3.888888888888889
          ],
          [
           3.7142857142857144,
           3.5714285714285716,
           3.5714285714285716,
           3.4285714285714284,
           4.285714285714286,
           3.7142857142857144,
           3.7142857142857144,
           3.5714285714285716,
           4,
           4.142857142857143,
           3.2857142857142856,
           3.4285714285714284,
           4.285714285714286,
           3.2857142857142856
          ],
          [
           4.3467393939393935,
           4.666666666666667,
           3.878787878787879,
           4.303030303030303,
           4.454545454545454,
           4.090909090909091,
           4.484848484848484,
           4.333333333333333,
           4.67741935483871,
           4.666666666666667,
           4.363636363636363,
           3.8484848484848486,
           4.545454545454546,
           4.212121212121212
          ],
          [
           4.390114285714286,
           4.428571428571429,
           3.9285714285714284,
           4.428571428571429,
           4.714285714285714,
           3.857142857142857,
           4.5,
           4.285714285714286,
           4.642857142857143,
           4.642857142857143,
           4.5,
           4.214285714285714,
           4.642857142857143,
           4.285714285714286
          ],
          [
           4.4945,
           4.714285714285714,
           4,
           4.571428571428571,
           4.714285714285714,
           3.857142857142857,
           4.714285714285714,
           4.428571428571429,
           4.428571428571429,
           5,
           4.571428571428571,
           4.285714285714286,
           4.571428571428571,
           4.5
          ],
          [
           4.628211111111111,
           4.611111111111111,
           4.111111111111111,
           4.777777777777778,
           4.777777777777778,
           4.388888888888889,
           4.888888888888889,
           4.666666666666667,
           4.833333333333333,
           4.833333333333333,
           4.666666666666667,
           4.388888888888889,
           4.722222222222222,
           4.5
          ],
          [
           4.1260666666666665,
           4.166666666666667,
           3.6666666666666665,
           4.5,
           4.5,
           3.6666666666666665,
           4.666666666666667,
           4,
           3.8333333333333335,
           4.333333333333333,
           4.4,
           3.6666666666666665,
           4.5,
           3.8333333333333335
          ],
          [
           3.462968421052632,
           3.6315789473684212,
           3.210526315789474,
           3.6578947368421053,
           3.4210526315789473,
           3.0789473684210527,
           3.5945945945945947,
           3.6216216216216215,
           3.6486486486486487,
           3.72972972972973,
           3.3783783783783785,
           3.236842105263158,
           3.9473684210526314,
           3
          ]
         ],
         "zmax": 5,
         "zmin": 2.9545454545454546
        }
       ],
       "layout": {
        "font": {
         "size": 14
        },
        "height": 600,
        "paper_bgcolor": "white",
        "plot_bgcolor": "white",
        "template": {
         "data": {
          "bar": [
           {
            "error_x": {
             "color": "#2a3f5f"
            },
            "error_y": {
             "color": "#2a3f5f"
            },
            "marker": {
             "line": {
              "color": "#E5ECF6",
              "width": 0.5
             },
             "pattern": {
              "fillmode": "overlay",
              "size": 10,
              "solidity": 0.2
             }
            },
            "type": "bar"
           }
          ],
          "barpolar": [
           {
            "marker": {
             "line": {
              "color": "#E5ECF6",
              "width": 0.5
             },
             "pattern": {
              "fillmode": "overlay",
              "size": 10,
              "solidity": 0.2
             }
            },
            "type": "barpolar"
           }
          ],
          "carpet": [
           {
            "aaxis": {
             "endlinecolor": "#2a3f5f",
             "gridcolor": "white",
             "linecolor": "white",
             "minorgridcolor": "white",
             "startlinecolor": "#2a3f5f"
            },
            "baxis": {
             "endlinecolor": "#2a3f5f",
             "gridcolor": "white",
             "linecolor": "white",
             "minorgridcolor": "white",
             "startlinecolor": "#2a3f5f"
            },
            "type": "carpet"
           }
          ],
          "choropleth": [
           {
            "colorbar": {
             "outlinewidth": 0,
             "ticks": ""
            },
            "type": "choropleth"
           }
          ],
          "contour": [
           {
            "colorbar": {
             "outlinewidth": 0,
             "ticks": ""
            },
            "colorscale": [
             [
              0,
              "#0d0887"
             ],
             [
              0.1111111111111111,
              "#46039f"
             ],
             [
              0.2222222222222222,
              "#7201a8"
             ],
             [
              0.3333333333333333,
              "#9c179e"
             ],
             [
              0.4444444444444444,
              "#bd3786"
             ],
             [
              0.5555555555555556,
              "#d8576b"
             ],
             [
              0.6666666666666666,
              "#ed7953"
             ],
             [
              0.7777777777777778,
              "#fb9f3a"
             ],
             [
              0.8888888888888888,
              "#fdca26"
             ],
             [
              1,
              "#f0f921"
             ]
            ],
            "type": "contour"
           }
          ],
          "contourcarpet": [
           {
            "colorbar": {
             "outlinewidth": 0,
             "ticks": ""
            },
            "type": "contourcarpet"
           }
          ],
          "heatmap": [
           {
            "colorbar": {
             "outlinewidth": 0,
             "ticks": ""
            },
            "colorscale": [
             [
              0,
              "#0d0887"
             ],
             [
              0.1111111111111111,
              "#46039f"
             ],
             [
              0.2222222222222222,
              "#7201a8"
             ],
             [
              0.3333333333333333,
              "#9c179e"
             ],
             [
              0.4444444444444444,
              "#bd3786"
             ],
             [
              0.5555555555555556,
              "#d8576b"
             ],
             [
              0.6666666666666666,
              "#ed7953"
             ],
             [
              0.7777777777777778,
              "#fb9f3a"
             ],
             [
              0.8888888888888888,
              "#fdca26"
             ],
             [
              1,
              "#f0f921"
             ]
            ],
            "type": "heatmap"
           }
          ],
          "heatmapgl": [
           {
            "colorbar": {
             "outlinewidth": 0,
             "ticks": ""
            },
            "colorscale": [
             [
              0,
              "#0d0887"
             ],
             [
              0.1111111111111111,
              "#46039f"
             ],
             [
              0.2222222222222222,
              "#7201a8"
             ],
             [
              0.3333333333333333,
              "#9c179e"
             ],
             [
              0.4444444444444444,
              "#bd3786"
             ],
             [
              0.5555555555555556,
              "#d8576b"
             ],
             [
              0.6666666666666666,
              "#ed7953"
             ],
             [
              0.7777777777777778,
              "#fb9f3a"
             ],
             [
              0.8888888888888888,
              "#fdca26"
             ],
             [
              1,
              "#f0f921"
             ]
            ],
            "type": "heatmapgl"
           }
          ],
          "histogram": [
           {
            "marker": {
             "pattern": {
              "fillmode": "overlay",
              "size": 10,
              "solidity": 0.2
             }
            },
            "type": "histogram"
           }
          ],
          "histogram2d": [
           {
            "colorbar": {
             "outlinewidth": 0,
             "ticks": ""
            },
            "colorscale": [
             [
              0,
              "#0d0887"
             ],
             [
              0.1111111111111111,
              "#46039f"
             ],
             [
              0.2222222222222222,
              "#7201a8"
             ],
             [
              0.3333333333333333,
              "#9c179e"
             ],
             [
              0.4444444444444444,
              "#bd3786"
             ],
             [
              0.5555555555555556,
              "#d8576b"
             ],
             [
              0.6666666666666666,
              "#ed7953"
             ],
             [
              0.7777777777777778,
              "#fb9f3a"
             ],
             [
              0.8888888888888888,
              "#fdca26"
             ],
             [
              1,
              "#f0f921"
             ]
            ],
            "type": "histogram2d"
           }
          ],
          "histogram2dcontour": [
           {
            "colorbar": {
             "outlinewidth": 0,
             "ticks": ""
            },
            "colorscale": [
             [
              0,
              "#0d0887"
             ],
             [
              0.1111111111111111,
              "#46039f"
             ],
             [
              0.2222222222222222,
              "#7201a8"
             ],
             [
              0.3333333333333333,
              "#9c179e"
             ],
             [
              0.4444444444444444,
              "#bd3786"
             ],
             [
              0.5555555555555556,
              "#d8576b"
             ],
             [
              0.6666666666666666,
              "#ed7953"
             ],
             [
              0.7777777777777778,
              "#fb9f3a"
             ],
             [
              0.8888888888888888,
              "#fdca26"
             ],
             [
              1,
              "#f0f921"
             ]
            ],
            "type": "histogram2dcontour"
           }
          ],
          "mesh3d": [
           {
            "colorbar": {
             "outlinewidth": 0,
             "ticks": ""
            },
            "type": "mesh3d"
           }
          ],
          "parcoords": [
           {
            "line": {
             "colorbar": {
              "outlinewidth": 0,
              "ticks": ""
             }
            },
            "type": "parcoords"
           }
          ],
          "pie": [
           {
            "automargin": true,
            "type": "pie"
           }
          ],
          "scatter": [
           {
            "fillpattern": {
             "fillmode": "overlay",
             "size": 10,
             "solidity": 0.2
            },
            "type": "scatter"
           }
          ],
          "scatter3d": [
           {
            "line": {
             "colorbar": {
              "outlinewidth": 0,
              "ticks": ""
             }
            },
            "marker": {
             "colorbar": {
              "outlinewidth": 0,
              "ticks": ""
             }
            },
            "type": "scatter3d"
           }
          ],
          "scattercarpet": [
           {
            "marker": {
             "colorbar": {
              "outlinewidth": 0,
              "ticks": ""
             }
            },
            "type": "scattercarpet"
           }
          ],
          "scattergeo": [
           {
            "marker": {
             "colorbar": {
              "outlinewidth": 0,
              "ticks": ""
             }
            },
            "type": "scattergeo"
           }
          ],
          "scattergl": [
           {
            "marker": {
             "colorbar": {
              "outlinewidth": 0,
              "ticks": ""
             }
            },
            "type": "scattergl"
           }
          ],
          "scattermapbox": [
           {
            "marker": {
             "colorbar": {
              "outlinewidth": 0,
              "ticks": ""
             }
            },
            "type": "scattermapbox"
           }
          ],
          "scatterpolar": [
           {
            "marker": {
             "colorbar": {
              "outlinewidth": 0,
              "ticks": ""
             }
            },
            "type": "scatterpolar"
           }
          ],
          "scatterpolargl": [
           {
            "marker": {
             "colorbar": {
              "outlinewidth": 0,
              "ticks": ""
             }
            },
            "type": "scatterpolargl"
           }
          ],
          "scatterternary": [
           {
            "marker": {
             "colorbar": {
              "outlinewidth": 0,
              "ticks": ""
             }
            },
            "type": "scatterternary"
           }
          ],
          "surface": [
           {
            "colorbar": {
             "outlinewidth": 0,
             "ticks": ""
            },
            "colorscale": [
             [
              0,
              "#0d0887"
             ],
             [
              0.1111111111111111,
              "#46039f"
             ],
             [
              0.2222222222222222,
              "#7201a8"
             ],
             [
              0.3333333333333333,
              "#9c179e"
             ],
             [
              0.4444444444444444,
              "#bd3786"
             ],
             [
              0.5555555555555556,
              "#d8576b"
             ],
             [
              0.6666666666666666,
              "#ed7953"
             ],
             [
              0.7777777777777778,
              "#fb9f3a"
             ],
             [
              0.8888888888888888,
              "#fdca26"
             ],
             [
              1,
              "#f0f921"
             ]
            ],
            "type": "surface"
           }
          ],
          "table": [
           {
            "cells": {
             "fill": {
              "color": "#EBF0F8"
             },
             "line": {
              "color": "white"
             }
            },
            "header": {
             "fill": {
              "color": "#C8D4E3"
             },
             "line": {
              "color": "white"
             }
            },
            "type": "table"
           }
          ]
         },
         "layout": {
          "annotationdefaults": {
           "arrowcolor": "#2a3f5f",
           "arrowhead": 0,
           "arrowwidth": 1
          },
          "autotypenumbers": "strict",
          "coloraxis": {
           "colorbar": {
            "outlinewidth": 0,
            "ticks": ""
           }
          },
          "colorscale": {
           "diverging": [
            [
             0,
             "#8e0152"
            ],
            [
             0.1,
             "#c51b7d"
            ],
            [
             0.2,
             "#de77ae"
            ],
            [
             0.3,
             "#f1b6da"
            ],
            [
             0.4,
             "#fde0ef"
            ],
            [
             0.5,
             "#f7f7f7"
            ],
            [
             0.6,
             "#e6f5d0"
            ],
            [
             0.7,
             "#b8e186"
            ],
            [
             0.8,
             "#7fbc41"
            ],
            [
             0.9,
             "#4d9221"
            ],
            [
             1,
             "#276419"
            ]
           ],
           "sequential": [
            [
             0,
             "#0d0887"
            ],
            [
             0.1111111111111111,
             "#46039f"
            ],
            [
             0.2222222222222222,
             "#7201a8"
            ],
            [
             0.3333333333333333,
             "#9c179e"
            ],
            [
             0.4444444444444444,
             "#bd3786"
            ],
            [
             0.5555555555555556,
             "#d8576b"
            ],
            [
             0.6666666666666666,
             "#ed7953"
            ],
            [
             0.7777777777777778,
             "#fb9f3a"
            ],
            [
             0.8888888888888888,
             "#fdca26"
            ],
            [
             1,
             "#f0f921"
            ]
           ],
           "sequentialminus": [
            [
             0,
             "#0d0887"
            ],
            [
             0.1111111111111111,
             "#46039f"
            ],
            [
             0.2222222222222222,
             "#7201a8"
            ],
            [
             0.3333333333333333,
             "#9c179e"
            ],
            [
             0.4444444444444444,
             "#bd3786"
            ],
            [
             0.5555555555555556,
             "#d8576b"
            ],
            [
             0.6666666666666666,
             "#ed7953"
            ],
            [
             0.7777777777777778,
             "#fb9f3a"
            ],
            [
             0.8888888888888888,
             "#fdca26"
            ],
            [
             1,
             "#f0f921"
            ]
           ]
          },
          "colorway": [
           "#636efa",
           "#EF553B",
           "#00cc96",
           "#ab63fa",
           "#FFA15A",
           "#19d3f3",
           "#FF6692",
           "#B6E880",
           "#FF97FF",
           "#FECB52"
          ],
          "font": {
           "color": "#2a3f5f"
          },
          "geo": {
           "bgcolor": "white",
           "lakecolor": "white",
           "landcolor": "#E5ECF6",
           "showlakes": true,
           "showland": true,
           "subunitcolor": "white"
          },
          "hoverlabel": {
           "align": "left"
          },
          "hovermode": "closest",
          "mapbox": {
           "style": "light"
          },
          "paper_bgcolor": "white",
          "plot_bgcolor": "#E5ECF6",
          "polar": {
           "angularaxis": {
            "gridcolor": "white",
            "linecolor": "white",
            "ticks": ""
           },
           "bgcolor": "#E5ECF6",
           "radialaxis": {
            "gridcolor": "white",
            "linecolor": "white",
            "ticks": ""
           }
          },
          "scene": {
           "xaxis": {
            "backgroundcolor": "#E5ECF6",
            "gridcolor": "white",
            "gridwidth": 2,
            "linecolor": "white",
            "showbackground": true,
            "ticks": "",
            "zerolinecolor": "white"
           },
           "yaxis": {
            "backgroundcolor": "#E5ECF6",
            "gridcolor": "white",
            "gridwidth": 2,
            "linecolor": "white",
            "showbackground": true,
            "ticks": "",
            "zerolinecolor": "white"
           },
           "zaxis": {
            "backgroundcolor": "#E5ECF6",
            "gridcolor": "white",
            "gridwidth": 2,
            "linecolor": "white",
            "showbackground": true,
            "ticks": "",
            "zerolinecolor": "white"
           }
          },
          "shapedefaults": {
           "line": {
            "color": "#2a3f5f"
           }
          },
          "ternary": {
           "aaxis": {
            "gridcolor": "white",
            "linecolor": "white",
            "ticks": ""
           },
           "baxis": {
            "gridcolor": "white",
            "linecolor": "white",
            "ticks": ""
           },
           "bgcolor": "#E5ECF6",
           "caxis": {
            "gridcolor": "white",
            "linecolor": "white",
            "ticks": ""
           }
          },
          "title": {
           "x": 0.05
          },
          "xaxis": {
           "automargin": true,
           "gridcolor": "white",
           "linecolor": "white",
           "ticks": "",
           "title": {
            "standoff": 15
           },
           "zerolinecolor": "white",
           "zerolinewidth": 2
          },
          "yaxis": {
           "automargin": true,
           "gridcolor": "white",
           "linecolor": "white",
           "ticks": "",
           "title": {
            "standoff": 15
           },
           "zerolinecolor": "white",
           "zerolinewidth": 2
          }
         }
        },
        "title": {
         "text": "Heatmap of Benefits Across Departments"
        },
        "width": 900,
        "xaxis": {
         "tickangle": -45,
         "tickmode": "array",
         "tickvals": [
          0,
          1,
          2,
          3,
          4,
          5,
          6,
          7,
          8,
          9,
          10,
          11,
          12,
          13
         ],
         "title": {
          "text": "Employment Position Type"
         }
        },
        "yaxis": {
         "tickmode": "array",
         "tickvals": [
          0,
          1,
          2,
          3,
          4,
          5,
          6,
          7,
          8,
          9,
          10,
          11,
          12,
          13,
          14
         ],
         "title": {
          "text": "Benefit"
         }
        }
       }
      }
     },
     "metadata": {},
     "output_type": "display_data"
    }
   ],
   "source": [
    "heatmap_data = df_dept.T.astype(float)\n",
    "\n",
    "fig = go.Figure(data=go.Heatmap(\n",
    "    z=heatmap_data.values,\n",
    "    x=heatmap_data.columns,  \n",
    "    y=heatmap_data.index,    \n",
    "    colorscale=px.colors.sequential.Brwnyl,  \n",
    "    colorbar=dict(title='Score'),\n",
    "    zmin=df_dept.min().min(), zmax=df_dept.max().max(), \n",
    "    hoverongaps=False\n",
    "))\n",
    "\n",
    "fig.update_layout(\n",
    "    title='Heatmap of Benefits Across Departments',\n",
    "    xaxis_title='Employment Position Type',\n",
    "    yaxis_title='Benefit',\n",
    "    xaxis=dict(tickmode='array', tickvals=list(range(len(heatmap_data.columns))), tickangle=-45),\n",
    "    yaxis=dict(tickmode='array', tickvals=list(range(len(heatmap_data.index)))),\n",
    "    height=600,\n",
    "    width=900,\n",
    "    plot_bgcolor='white',\n",
    "    paper_bgcolor='white',\n",
    "    font=dict(size=14)\n",
    ")\n",
    "\n",
    "fig.show()\n"
   ]
  },
  {
   "cell_type": "code",
   "execution_count": 61,
   "metadata": {},
   "outputs": [
    {
     "data": {
      "text/html": [
       "<div>\n",
       "<style scoped>\n",
       "    .dataframe tbody tr th:only-of-type {\n",
       "        vertical-align: middle;\n",
       "    }\n",
       "\n",
       "    .dataframe tbody tr th {\n",
       "        vertical-align: top;\n",
       "    }\n",
       "\n",
       "    .dataframe thead th {\n",
       "        text-align: right;\n",
       "    }\n",
       "</style>\n",
       "<table border=\"1\" class=\"dataframe\">\n",
       "  <thead>\n",
       "    <tr style=\"text-align: right;\">\n",
       "      <th></th>\n",
       "      <th>employment_department</th>\n",
       "      <th>employment_is_recommended</th>\n",
       "      <th>internet</th>\n",
       "      <th>stock_options</th>\n",
       "      <th>health_program</th>\n",
       "      <th>flex_working_hours</th>\n",
       "      <th>parking</th>\n",
       "      <th>accessibility</th>\n",
       "      <th>mobile_phone</th>\n",
       "      <th>discounts</th>\n",
       "      <th>...</th>\n",
       "      <th>doctor</th>\n",
       "      <th>events</th>\n",
       "      <th>cantine</th>\n",
       "      <th>dogs</th>\n",
       "      <th>car</th>\n",
       "      <th>meals</th>\n",
       "      <th>pension_plan</th>\n",
       "      <th>daycare</th>\n",
       "      <th>reachability</th>\n",
       "      <th>coaching</th>\n",
       "    </tr>\n",
       "  </thead>\n",
       "  <tbody>\n",
       "    <tr>\n",
       "      <th>0</th>\n",
       "      <td>administration</td>\n",
       "      <td>True</td>\n",
       "      <td>True</td>\n",
       "      <td>True</td>\n",
       "      <td>True</td>\n",
       "      <td>True</td>\n",
       "      <td>True</td>\n",
       "      <td>True</td>\n",
       "      <td>True</td>\n",
       "      <td>True</td>\n",
       "      <td>...</td>\n",
       "      <td>True</td>\n",
       "      <td>True</td>\n",
       "      <td>True</td>\n",
       "      <td>&lt;NA&gt;</td>\n",
       "      <td>True</td>\n",
       "      <td>&lt;NA&gt;</td>\n",
       "      <td>True</td>\n",
       "      <td>True</td>\n",
       "      <td>True</td>\n",
       "      <td>True</td>\n",
       "    </tr>\n",
       "    <tr>\n",
       "      <th>1</th>\n",
       "      <td>operations</td>\n",
       "      <td>True</td>\n",
       "      <td>&lt;NA&gt;</td>\n",
       "      <td>True</td>\n",
       "      <td>True</td>\n",
       "      <td>&lt;NA&gt;</td>\n",
       "      <td>True</td>\n",
       "      <td>True</td>\n",
       "      <td>&lt;NA&gt;</td>\n",
       "      <td>True</td>\n",
       "      <td>...</td>\n",
       "      <td>True</td>\n",
       "      <td>True</td>\n",
       "      <td>True</td>\n",
       "      <td>&lt;NA&gt;</td>\n",
       "      <td>&lt;NA&gt;</td>\n",
       "      <td>True</td>\n",
       "      <td>True</td>\n",
       "      <td>&lt;NA&gt;</td>\n",
       "      <td>&lt;NA&gt;</td>\n",
       "      <td>True</td>\n",
       "    </tr>\n",
       "    <tr>\n",
       "      <th>2</th>\n",
       "      <td>it</td>\n",
       "      <td>True</td>\n",
       "      <td>True</td>\n",
       "      <td>True</td>\n",
       "      <td>True</td>\n",
       "      <td>True</td>\n",
       "      <td>True</td>\n",
       "      <td>True</td>\n",
       "      <td>True</td>\n",
       "      <td>True</td>\n",
       "      <td>...</td>\n",
       "      <td>True</td>\n",
       "      <td>True</td>\n",
       "      <td>True</td>\n",
       "      <td>True</td>\n",
       "      <td>True</td>\n",
       "      <td>True</td>\n",
       "      <td>True</td>\n",
       "      <td>True</td>\n",
       "      <td>&lt;NA&gt;</td>\n",
       "      <td>True</td>\n",
       "    </tr>\n",
       "    <tr>\n",
       "      <th>3</th>\n",
       "      <td>operations</td>\n",
       "      <td>True</td>\n",
       "      <td>True</td>\n",
       "      <td>True</td>\n",
       "      <td>True</td>\n",
       "      <td>True</td>\n",
       "      <td>&lt;NA&gt;</td>\n",
       "      <td>True</td>\n",
       "      <td>&lt;NA&gt;</td>\n",
       "      <td>True</td>\n",
       "      <td>...</td>\n",
       "      <td>True</td>\n",
       "      <td>True</td>\n",
       "      <td>True</td>\n",
       "      <td>&lt;NA&gt;</td>\n",
       "      <td>&lt;NA&gt;</td>\n",
       "      <td>&lt;NA&gt;</td>\n",
       "      <td>True</td>\n",
       "      <td>&lt;NA&gt;</td>\n",
       "      <td>&lt;NA&gt;</td>\n",
       "      <td>True</td>\n",
       "    </tr>\n",
       "    <tr>\n",
       "      <th>4</th>\n",
       "      <td>other</td>\n",
       "      <td>True</td>\n",
       "      <td>True</td>\n",
       "      <td>True</td>\n",
       "      <td>True</td>\n",
       "      <td>True</td>\n",
       "      <td>True</td>\n",
       "      <td>True</td>\n",
       "      <td>True</td>\n",
       "      <td>True</td>\n",
       "      <td>...</td>\n",
       "      <td>True</td>\n",
       "      <td>True</td>\n",
       "      <td>True</td>\n",
       "      <td>&lt;NA&gt;</td>\n",
       "      <td>True</td>\n",
       "      <td>&lt;NA&gt;</td>\n",
       "      <td>True</td>\n",
       "      <td>True</td>\n",
       "      <td>&lt;NA&gt;</td>\n",
       "      <td>True</td>\n",
       "    </tr>\n",
       "    <tr>\n",
       "      <th>...</th>\n",
       "      <td>...</td>\n",
       "      <td>...</td>\n",
       "      <td>...</td>\n",
       "      <td>...</td>\n",
       "      <td>...</td>\n",
       "      <td>...</td>\n",
       "      <td>...</td>\n",
       "      <td>...</td>\n",
       "      <td>...</td>\n",
       "      <td>...</td>\n",
       "      <td>...</td>\n",
       "      <td>...</td>\n",
       "      <td>...</td>\n",
       "      <td>...</td>\n",
       "      <td>...</td>\n",
       "      <td>...</td>\n",
       "      <td>...</td>\n",
       "      <td>...</td>\n",
       "      <td>...</td>\n",
       "      <td>...</td>\n",
       "      <td>...</td>\n",
       "    </tr>\n",
       "    <tr>\n",
       "      <th>257</th>\n",
       "      <td>design</td>\n",
       "      <td>True</td>\n",
       "      <td>True</td>\n",
       "      <td>True</td>\n",
       "      <td>True</td>\n",
       "      <td>True</td>\n",
       "      <td>True</td>\n",
       "      <td>True</td>\n",
       "      <td>True</td>\n",
       "      <td>True</td>\n",
       "      <td>...</td>\n",
       "      <td>True</td>\n",
       "      <td>True</td>\n",
       "      <td>True</td>\n",
       "      <td>&lt;NA&gt;</td>\n",
       "      <td>&lt;NA&gt;</td>\n",
       "      <td>True</td>\n",
       "      <td>True</td>\n",
       "      <td>True</td>\n",
       "      <td>&lt;NA&gt;</td>\n",
       "      <td>&lt;NA&gt;</td>\n",
       "    </tr>\n",
       "    <tr>\n",
       "      <th>258</th>\n",
       "      <td>sales</td>\n",
       "      <td>True</td>\n",
       "      <td>&lt;NA&gt;</td>\n",
       "      <td>True</td>\n",
       "      <td>True</td>\n",
       "      <td>True</td>\n",
       "      <td>True</td>\n",
       "      <td>&lt;NA&gt;</td>\n",
       "      <td>&lt;NA&gt;</td>\n",
       "      <td>True</td>\n",
       "      <td>...</td>\n",
       "      <td>True</td>\n",
       "      <td>True</td>\n",
       "      <td>True</td>\n",
       "      <td>&lt;NA&gt;</td>\n",
       "      <td>&lt;NA&gt;</td>\n",
       "      <td>&lt;NA&gt;</td>\n",
       "      <td>True</td>\n",
       "      <td>True</td>\n",
       "      <td>&lt;NA&gt;</td>\n",
       "      <td>True</td>\n",
       "    </tr>\n",
       "    <tr>\n",
       "      <th>259</th>\n",
       "      <td>other</td>\n",
       "      <td>True</td>\n",
       "      <td>True</td>\n",
       "      <td>True</td>\n",
       "      <td>True</td>\n",
       "      <td>True</td>\n",
       "      <td>True</td>\n",
       "      <td>&lt;NA&gt;</td>\n",
       "      <td>True</td>\n",
       "      <td>True</td>\n",
       "      <td>...</td>\n",
       "      <td>True</td>\n",
       "      <td>True</td>\n",
       "      <td>True</td>\n",
       "      <td>&lt;NA&gt;</td>\n",
       "      <td>&lt;NA&gt;</td>\n",
       "      <td>&lt;NA&gt;</td>\n",
       "      <td>True</td>\n",
       "      <td>&lt;NA&gt;</td>\n",
       "      <td>&lt;NA&gt;</td>\n",
       "      <td>True</td>\n",
       "    </tr>\n",
       "    <tr>\n",
       "      <th>260</th>\n",
       "      <td>logistic</td>\n",
       "      <td>True</td>\n",
       "      <td>True</td>\n",
       "      <td>True</td>\n",
       "      <td>True</td>\n",
       "      <td>True</td>\n",
       "      <td>True</td>\n",
       "      <td>True</td>\n",
       "      <td>True</td>\n",
       "      <td>True</td>\n",
       "      <td>...</td>\n",
       "      <td>True</td>\n",
       "      <td>True</td>\n",
       "      <td>True</td>\n",
       "      <td>&lt;NA&gt;</td>\n",
       "      <td>&lt;NA&gt;</td>\n",
       "      <td>True</td>\n",
       "      <td>True</td>\n",
       "      <td>True</td>\n",
       "      <td>&lt;NA&gt;</td>\n",
       "      <td>True</td>\n",
       "    </tr>\n",
       "    <tr>\n",
       "      <th>261</th>\n",
       "      <td>sales</td>\n",
       "      <td>True</td>\n",
       "      <td>&lt;NA&gt;</td>\n",
       "      <td>&lt;NA&gt;</td>\n",
       "      <td>&lt;NA&gt;</td>\n",
       "      <td>&lt;NA&gt;</td>\n",
       "      <td>&lt;NA&gt;</td>\n",
       "      <td>&lt;NA&gt;</td>\n",
       "      <td>&lt;NA&gt;</td>\n",
       "      <td>&lt;NA&gt;</td>\n",
       "      <td>...</td>\n",
       "      <td>&lt;NA&gt;</td>\n",
       "      <td>&lt;NA&gt;</td>\n",
       "      <td>&lt;NA&gt;</td>\n",
       "      <td>&lt;NA&gt;</td>\n",
       "      <td>&lt;NA&gt;</td>\n",
       "      <td>&lt;NA&gt;</td>\n",
       "      <td>&lt;NA&gt;</td>\n",
       "      <td>&lt;NA&gt;</td>\n",
       "      <td>&lt;NA&gt;</td>\n",
       "      <td>&lt;NA&gt;</td>\n",
       "    </tr>\n",
       "  </tbody>\n",
       "</table>\n",
       "<p>262 rows × 21 columns</p>\n",
       "</div>"
      ],
      "text/plain": [
       "    employment_department  employment_is_recommended  internet  stock_options  \\\n",
       "0          administration                       True      True           True   \n",
       "1              operations                       True      <NA>           True   \n",
       "2                      it                       True      True           True   \n",
       "3              operations                       True      True           True   \n",
       "4                   other                       True      True           True   \n",
       "..                    ...                        ...       ...            ...   \n",
       "257                design                       True      True           True   \n",
       "258                 sales                       True      <NA>           True   \n",
       "259                 other                       True      True           True   \n",
       "260              logistic                       True      True           True   \n",
       "261                 sales                       True      <NA>           <NA>   \n",
       "\n",
       "     health_program  flex_working_hours  parking  accessibility  mobile_phone  \\\n",
       "0              True                True     True           True          True   \n",
       "1              True                <NA>     True           True          <NA>   \n",
       "2              True                True     True           True          True   \n",
       "3              True                True     <NA>           True          <NA>   \n",
       "4              True                True     True           True          True   \n",
       "..              ...                 ...      ...            ...           ...   \n",
       "257            True                True     True           True          True   \n",
       "258            True                True     True           <NA>          <NA>   \n",
       "259            True                True     True           <NA>          True   \n",
       "260            True                True     True           True          True   \n",
       "261            <NA>                <NA>     <NA>           <NA>          <NA>   \n",
       "\n",
       "     discounts  ...  doctor  events  cantine  dogs   car  meals  pension_plan  \\\n",
       "0         True  ...    True    True     True  <NA>  True   <NA>          True   \n",
       "1         True  ...    True    True     True  <NA>  <NA>   True          True   \n",
       "2         True  ...    True    True     True  True  True   True          True   \n",
       "3         True  ...    True    True     True  <NA>  <NA>   <NA>          True   \n",
       "4         True  ...    True    True     True  <NA>  True   <NA>          True   \n",
       "..         ...  ...     ...     ...      ...   ...   ...    ...           ...   \n",
       "257       True  ...    True    True     True  <NA>  <NA>   True          True   \n",
       "258       True  ...    True    True     True  <NA>  <NA>   <NA>          True   \n",
       "259       True  ...    True    True     True  <NA>  <NA>   <NA>          True   \n",
       "260       True  ...    True    True     True  <NA>  <NA>   True          True   \n",
       "261       <NA>  ...    <NA>    <NA>     <NA>  <NA>  <NA>   <NA>          <NA>   \n",
       "\n",
       "     daycare  reachability  coaching  \n",
       "0       True          True      True  \n",
       "1       <NA>          <NA>      True  \n",
       "2       True          <NA>      True  \n",
       "3       <NA>          <NA>      True  \n",
       "4       True          <NA>      True  \n",
       "..       ...           ...       ...  \n",
       "257     True          <NA>      <NA>  \n",
       "258     True          <NA>      True  \n",
       "259     <NA>          <NA>      True  \n",
       "260     True          <NA>      True  \n",
       "261     <NA>          <NA>      <NA>  \n",
       "\n",
       "[262 rows x 21 columns]"
      ]
     },
     "execution_count": 61,
     "metadata": {},
     "output_type": "execute_result"
    }
   ],
   "source": [
    "#for counting boolean values, first we need to know how many people are in each group \n",
    "df_dept_bool = df_bool_prep.drop(columns=['employment_position_type', 'review_user_gender'])\n",
    "df_dept_bool\n"
   ]
  },
  {
   "cell_type": "code",
   "execution_count": 62,
   "metadata": {},
   "outputs": [
    {
     "data": {
      "text/plain": [
       "employment_department\n",
       "it                52\n",
       "sales             38\n",
       "other             33\n",
       "administration    22\n",
       "design            22\n",
       "recruiting        18\n",
       "logistic          18\n",
       "procurement       14\n",
       "Unknown            9\n",
       "controlling        8\n",
       "operations         7\n",
       "product            7\n",
       "research           6\n",
       "legal              5\n",
       "communication      3\n",
       "Name: count, dtype: int64"
      ]
     },
     "execution_count": 62,
     "metadata": {},
     "output_type": "execute_result"
    }
   ],
   "source": [
    "#count the number of times each employement_position_type appears\n",
    "group_sizes = df_dept_bool['employment_department'].value_counts()\n",
    "group_sizes\n",
    "#print(df_employment_bool['employment_position_type'].value_counts())"
   ]
  },
  {
   "cell_type": "code",
   "execution_count": 63,
   "metadata": {},
   "outputs": [
    {
     "data": {
      "text/html": [
       "<div>\n",
       "<style scoped>\n",
       "    .dataframe tbody tr th:only-of-type {\n",
       "        vertical-align: middle;\n",
       "    }\n",
       "\n",
       "    .dataframe tbody tr th {\n",
       "        vertical-align: top;\n",
       "    }\n",
       "\n",
       "    .dataframe thead th {\n",
       "        text-align: right;\n",
       "    }\n",
       "</style>\n",
       "<table border=\"1\" class=\"dataframe\">\n",
       "  <thead>\n",
       "    <tr style=\"text-align: right;\">\n",
       "      <th>employment_department</th>\n",
       "      <th>Unknown</th>\n",
       "      <th>administration</th>\n",
       "      <th>communication</th>\n",
       "      <th>controlling</th>\n",
       "      <th>design</th>\n",
       "      <th>it</th>\n",
       "      <th>legal</th>\n",
       "      <th>logistic</th>\n",
       "      <th>operations</th>\n",
       "      <th>other</th>\n",
       "      <th>procurement</th>\n",
       "      <th>product</th>\n",
       "      <th>recruiting</th>\n",
       "      <th>research</th>\n",
       "      <th>sales</th>\n",
       "    </tr>\n",
       "  </thead>\n",
       "  <tbody>\n",
       "    <tr>\n",
       "      <th>employment_is_recommended</th>\n",
       "      <td>8</td>\n",
       "      <td>17</td>\n",
       "      <td>2</td>\n",
       "      <td>7</td>\n",
       "      <td>15</td>\n",
       "      <td>48</td>\n",
       "      <td>5</td>\n",
       "      <td>15</td>\n",
       "      <td>6</td>\n",
       "      <td>29</td>\n",
       "      <td>13</td>\n",
       "      <td>7</td>\n",
       "      <td>18</td>\n",
       "      <td>6</td>\n",
       "      <td>25</td>\n",
       "    </tr>\n",
       "    <tr>\n",
       "      <th>internet</th>\n",
       "      <td>4</td>\n",
       "      <td>12</td>\n",
       "      <td>2</td>\n",
       "      <td>4</td>\n",
       "      <td>16</td>\n",
       "      <td>32</td>\n",
       "      <td>4</td>\n",
       "      <td>13</td>\n",
       "      <td>5</td>\n",
       "      <td>16</td>\n",
       "      <td>8</td>\n",
       "      <td>3</td>\n",
       "      <td>12</td>\n",
       "      <td>4</td>\n",
       "      <td>11</td>\n",
       "    </tr>\n",
       "    <tr>\n",
       "      <th>stock_options</th>\n",
       "      <td>6</td>\n",
       "      <td>13</td>\n",
       "      <td>2</td>\n",
       "      <td>4</td>\n",
       "      <td>16</td>\n",
       "      <td>39</td>\n",
       "      <td>3</td>\n",
       "      <td>16</td>\n",
       "      <td>7</td>\n",
       "      <td>22</td>\n",
       "      <td>11</td>\n",
       "      <td>3</td>\n",
       "      <td>15</td>\n",
       "      <td>3</td>\n",
       "      <td>17</td>\n",
       "    </tr>\n",
       "    <tr>\n",
       "      <th>health_program</th>\n",
       "      <td>5</td>\n",
       "      <td>19</td>\n",
       "      <td>3</td>\n",
       "      <td>7</td>\n",
       "      <td>14</td>\n",
       "      <td>43</td>\n",
       "      <td>5</td>\n",
       "      <td>16</td>\n",
       "      <td>6</td>\n",
       "      <td>28</td>\n",
       "      <td>13</td>\n",
       "      <td>6</td>\n",
       "      <td>17</td>\n",
       "      <td>6</td>\n",
       "      <td>17</td>\n",
       "    </tr>\n",
       "    <tr>\n",
       "      <th>flex_working_hours</th>\n",
       "      <td>7</td>\n",
       "      <td>20</td>\n",
       "      <td>3</td>\n",
       "      <td>7</td>\n",
       "      <td>17</td>\n",
       "      <td>47</td>\n",
       "      <td>5</td>\n",
       "      <td>12</td>\n",
       "      <td>5</td>\n",
       "      <td>30</td>\n",
       "      <td>13</td>\n",
       "      <td>7</td>\n",
       "      <td>18</td>\n",
       "      <td>5</td>\n",
       "      <td>18</td>\n",
       "    </tr>\n",
       "    <tr>\n",
       "      <th>parking</th>\n",
       "      <td>7</td>\n",
       "      <td>16</td>\n",
       "      <td>3</td>\n",
       "      <td>6</td>\n",
       "      <td>18</td>\n",
       "      <td>41</td>\n",
       "      <td>4</td>\n",
       "      <td>14</td>\n",
       "      <td>5</td>\n",
       "      <td>25</td>\n",
       "      <td>13</td>\n",
       "      <td>7</td>\n",
       "      <td>11</td>\n",
       "      <td>5</td>\n",
       "      <td>15</td>\n",
       "    </tr>\n",
       "    <tr>\n",
       "      <th>accessibility</th>\n",
       "      <td>0</td>\n",
       "      <td>11</td>\n",
       "      <td>2</td>\n",
       "      <td>6</td>\n",
       "      <td>8</td>\n",
       "      <td>22</td>\n",
       "      <td>1</td>\n",
       "      <td>12</td>\n",
       "      <td>3</td>\n",
       "      <td>12</td>\n",
       "      <td>6</td>\n",
       "      <td>5</td>\n",
       "      <td>9</td>\n",
       "      <td>0</td>\n",
       "      <td>6</td>\n",
       "    </tr>\n",
       "    <tr>\n",
       "      <th>mobile_phone</th>\n",
       "      <td>6</td>\n",
       "      <td>15</td>\n",
       "      <td>2</td>\n",
       "      <td>4</td>\n",
       "      <td>16</td>\n",
       "      <td>35</td>\n",
       "      <td>4</td>\n",
       "      <td>6</td>\n",
       "      <td>2</td>\n",
       "      <td>19</td>\n",
       "      <td>6</td>\n",
       "      <td>5</td>\n",
       "      <td>11</td>\n",
       "      <td>1</td>\n",
       "      <td>16</td>\n",
       "    </tr>\n",
       "    <tr>\n",
       "      <th>discounts</th>\n",
       "      <td>8</td>\n",
       "      <td>19</td>\n",
       "      <td>3</td>\n",
       "      <td>8</td>\n",
       "      <td>19</td>\n",
       "      <td>46</td>\n",
       "      <td>5</td>\n",
       "      <td>17</td>\n",
       "      <td>7</td>\n",
       "      <td>32</td>\n",
       "      <td>13</td>\n",
       "      <td>7</td>\n",
       "      <td>18</td>\n",
       "      <td>6</td>\n",
       "      <td>27</td>\n",
       "    </tr>\n",
       "    <tr>\n",
       "      <th>home_office</th>\n",
       "      <td>8</td>\n",
       "      <td>20</td>\n",
       "      <td>3</td>\n",
       "      <td>8</td>\n",
       "      <td>17</td>\n",
       "      <td>47</td>\n",
       "      <td>5</td>\n",
       "      <td>13</td>\n",
       "      <td>5</td>\n",
       "      <td>29</td>\n",
       "      <td>13</td>\n",
       "      <td>7</td>\n",
       "      <td>18</td>\n",
       "      <td>5</td>\n",
       "      <td>15</td>\n",
       "    </tr>\n",
       "    <tr>\n",
       "      <th>doctor</th>\n",
       "      <td>8</td>\n",
       "      <td>20</td>\n",
       "      <td>3</td>\n",
       "      <td>8</td>\n",
       "      <td>17</td>\n",
       "      <td>48</td>\n",
       "      <td>5</td>\n",
       "      <td>17</td>\n",
       "      <td>7</td>\n",
       "      <td>30</td>\n",
       "      <td>13</td>\n",
       "      <td>7</td>\n",
       "      <td>18</td>\n",
       "      <td>6</td>\n",
       "      <td>24</td>\n",
       "    </tr>\n",
       "    <tr>\n",
       "      <th>events</th>\n",
       "      <td>7</td>\n",
       "      <td>16</td>\n",
       "      <td>3</td>\n",
       "      <td>7</td>\n",
       "      <td>16</td>\n",
       "      <td>45</td>\n",
       "      <td>4</td>\n",
       "      <td>17</td>\n",
       "      <td>7</td>\n",
       "      <td>29</td>\n",
       "      <td>11</td>\n",
       "      <td>7</td>\n",
       "      <td>17</td>\n",
       "      <td>5</td>\n",
       "      <td>19</td>\n",
       "    </tr>\n",
       "    <tr>\n",
       "      <th>cantine</th>\n",
       "      <td>8</td>\n",
       "      <td>20</td>\n",
       "      <td>3</td>\n",
       "      <td>8</td>\n",
       "      <td>20</td>\n",
       "      <td>47</td>\n",
       "      <td>5</td>\n",
       "      <td>17</td>\n",
       "      <td>7</td>\n",
       "      <td>30</td>\n",
       "      <td>13</td>\n",
       "      <td>7</td>\n",
       "      <td>17</td>\n",
       "      <td>6</td>\n",
       "      <td>17</td>\n",
       "    </tr>\n",
       "    <tr>\n",
       "      <th>dogs</th>\n",
       "      <td>0</td>\n",
       "      <td>0</td>\n",
       "      <td>0</td>\n",
       "      <td>0</td>\n",
       "      <td>1</td>\n",
       "      <td>2</td>\n",
       "      <td>0</td>\n",
       "      <td>1</td>\n",
       "      <td>0</td>\n",
       "      <td>0</td>\n",
       "      <td>0</td>\n",
       "      <td>0</td>\n",
       "      <td>0</td>\n",
       "      <td>0</td>\n",
       "      <td>0</td>\n",
       "    </tr>\n",
       "    <tr>\n",
       "      <th>car</th>\n",
       "      <td>4</td>\n",
       "      <td>6</td>\n",
       "      <td>0</td>\n",
       "      <td>3</td>\n",
       "      <td>4</td>\n",
       "      <td>12</td>\n",
       "      <td>3</td>\n",
       "      <td>3</td>\n",
       "      <td>1</td>\n",
       "      <td>7</td>\n",
       "      <td>3</td>\n",
       "      <td>3</td>\n",
       "      <td>3</td>\n",
       "      <td>0</td>\n",
       "      <td>7</td>\n",
       "    </tr>\n",
       "    <tr>\n",
       "      <th>meals</th>\n",
       "      <td>4</td>\n",
       "      <td>10</td>\n",
       "      <td>1</td>\n",
       "      <td>4</td>\n",
       "      <td>5</td>\n",
       "      <td>29</td>\n",
       "      <td>3</td>\n",
       "      <td>10</td>\n",
       "      <td>3</td>\n",
       "      <td>15</td>\n",
       "      <td>5</td>\n",
       "      <td>3</td>\n",
       "      <td>11</td>\n",
       "      <td>2</td>\n",
       "      <td>5</td>\n",
       "    </tr>\n",
       "    <tr>\n",
       "      <th>pension_plan</th>\n",
       "      <td>8</td>\n",
       "      <td>20</td>\n",
       "      <td>3</td>\n",
       "      <td>7</td>\n",
       "      <td>18</td>\n",
       "      <td>46</td>\n",
       "      <td>5</td>\n",
       "      <td>17</td>\n",
       "      <td>6</td>\n",
       "      <td>27</td>\n",
       "      <td>12</td>\n",
       "      <td>6</td>\n",
       "      <td>18</td>\n",
       "      <td>6</td>\n",
       "      <td>25</td>\n",
       "    </tr>\n",
       "    <tr>\n",
       "      <th>daycare</th>\n",
       "      <td>4</td>\n",
       "      <td>8</td>\n",
       "      <td>1</td>\n",
       "      <td>3</td>\n",
       "      <td>8</td>\n",
       "      <td>30</td>\n",
       "      <td>3</td>\n",
       "      <td>14</td>\n",
       "      <td>4</td>\n",
       "      <td>13</td>\n",
       "      <td>7</td>\n",
       "      <td>4</td>\n",
       "      <td>12</td>\n",
       "      <td>1</td>\n",
       "      <td>6</td>\n",
       "    </tr>\n",
       "    <tr>\n",
       "      <th>reachability</th>\n",
       "      <td>2</td>\n",
       "      <td>5</td>\n",
       "      <td>0</td>\n",
       "      <td>1</td>\n",
       "      <td>6</td>\n",
       "      <td>16</td>\n",
       "      <td>0</td>\n",
       "      <td>7</td>\n",
       "      <td>2</td>\n",
       "      <td>6</td>\n",
       "      <td>5</td>\n",
       "      <td>1</td>\n",
       "      <td>5</td>\n",
       "      <td>1</td>\n",
       "      <td>6</td>\n",
       "    </tr>\n",
       "    <tr>\n",
       "      <th>coaching</th>\n",
       "      <td>5</td>\n",
       "      <td>11</td>\n",
       "      <td>1</td>\n",
       "      <td>5</td>\n",
       "      <td>12</td>\n",
       "      <td>30</td>\n",
       "      <td>4</td>\n",
       "      <td>11</td>\n",
       "      <td>4</td>\n",
       "      <td>21</td>\n",
       "      <td>9</td>\n",
       "      <td>5</td>\n",
       "      <td>12</td>\n",
       "      <td>1</td>\n",
       "      <td>12</td>\n",
       "    </tr>\n",
       "  </tbody>\n",
       "</table>\n",
       "</div>"
      ],
      "text/plain": [
       "employment_department     Unknown administration communication controlling  \\\n",
       "employment_is_recommended       8             17             2           7   \n",
       "internet                        4             12             2           4   \n",
       "stock_options                   6             13             2           4   \n",
       "health_program                  5             19             3           7   \n",
       "flex_working_hours              7             20             3           7   \n",
       "parking                         7             16             3           6   \n",
       "accessibility                   0             11             2           6   \n",
       "mobile_phone                    6             15             2           4   \n",
       "discounts                       8             19             3           8   \n",
       "home_office                     8             20             3           8   \n",
       "doctor                          8             20             3           8   \n",
       "events                          7             16             3           7   \n",
       "cantine                         8             20             3           8   \n",
       "dogs                            0              0             0           0   \n",
       "car                             4              6             0           3   \n",
       "meals                           4             10             1           4   \n",
       "pension_plan                    8             20             3           7   \n",
       "daycare                         4              8             1           3   \n",
       "reachability                    2              5             0           1   \n",
       "coaching                        5             11             1           5   \n",
       "\n",
       "employment_department     design  it legal logistic operations other  \\\n",
       "employment_is_recommended     15  48     5       15          6    29   \n",
       "internet                      16  32     4       13          5    16   \n",
       "stock_options                 16  39     3       16          7    22   \n",
       "health_program                14  43     5       16          6    28   \n",
       "flex_working_hours            17  47     5       12          5    30   \n",
       "parking                       18  41     4       14          5    25   \n",
       "accessibility                  8  22     1       12          3    12   \n",
       "mobile_phone                  16  35     4        6          2    19   \n",
       "discounts                     19  46     5       17          7    32   \n",
       "home_office                   17  47     5       13          5    29   \n",
       "doctor                        17  48     5       17          7    30   \n",
       "events                        16  45     4       17          7    29   \n",
       "cantine                       20  47     5       17          7    30   \n",
       "dogs                           1   2     0        1          0     0   \n",
       "car                            4  12     3        3          1     7   \n",
       "meals                          5  29     3       10          3    15   \n",
       "pension_plan                  18  46     5       17          6    27   \n",
       "daycare                        8  30     3       14          4    13   \n",
       "reachability                   6  16     0        7          2     6   \n",
       "coaching                      12  30     4       11          4    21   \n",
       "\n",
       "employment_department     procurement product recruiting research sales  \n",
       "employment_is_recommended          13       7         18        6    25  \n",
       "internet                            8       3         12        4    11  \n",
       "stock_options                      11       3         15        3    17  \n",
       "health_program                     13       6         17        6    17  \n",
       "flex_working_hours                 13       7         18        5    18  \n",
       "parking                            13       7         11        5    15  \n",
       "accessibility                       6       5          9        0     6  \n",
       "mobile_phone                        6       5         11        1    16  \n",
       "discounts                          13       7         18        6    27  \n",
       "home_office                        13       7         18        5    15  \n",
       "doctor                             13       7         18        6    24  \n",
       "events                             11       7         17        5    19  \n",
       "cantine                            13       7         17        6    17  \n",
       "dogs                                0       0          0        0     0  \n",
       "car                                 3       3          3        0     7  \n",
       "meals                               5       3         11        2     5  \n",
       "pension_plan                       12       6         18        6    25  \n",
       "daycare                             7       4         12        1     6  \n",
       "reachability                        5       1          5        1     6  \n",
       "coaching                            9       5         12        1    12  "
      ]
     },
     "execution_count": 63,
     "metadata": {},
     "output_type": "execute_result"
    }
   ],
   "source": [
    "df_dept_bool = df_dept_bool.groupby('employment_department').sum().reset_index()\n",
    "df_dept_bool = df_dept_bool.T\n",
    "\n",
    "#set the first row as the header\n",
    "df_dept_bool.columns = df_dept_bool.iloc[0]\n",
    "df_dept_bool = df_dept_bool[1:]\n",
    "df_dept_bool"
   ]
  },
  {
   "cell_type": "code",
   "execution_count": 64,
   "metadata": {},
   "outputs": [
    {
     "data": {
      "text/html": [
       "<div>\n",
       "<style scoped>\n",
       "    .dataframe tbody tr th:only-of-type {\n",
       "        vertical-align: middle;\n",
       "    }\n",
       "\n",
       "    .dataframe tbody tr th {\n",
       "        vertical-align: top;\n",
       "    }\n",
       "\n",
       "    .dataframe thead th {\n",
       "        text-align: right;\n",
       "    }\n",
       "</style>\n",
       "<table border=\"1\" class=\"dataframe\">\n",
       "  <thead>\n",
       "    <tr style=\"text-align: right;\">\n",
       "      <th>employment_department</th>\n",
       "      <th>Unknown</th>\n",
       "      <th>administration</th>\n",
       "      <th>communication</th>\n",
       "      <th>controlling</th>\n",
       "      <th>design</th>\n",
       "      <th>it</th>\n",
       "      <th>legal</th>\n",
       "      <th>logistic</th>\n",
       "      <th>operations</th>\n",
       "      <th>other</th>\n",
       "      <th>procurement</th>\n",
       "      <th>product</th>\n",
       "      <th>recruiting</th>\n",
       "      <th>research</th>\n",
       "      <th>sales</th>\n",
       "    </tr>\n",
       "  </thead>\n",
       "  <tbody>\n",
       "    <tr>\n",
       "      <th>employment_is_recommended</th>\n",
       "      <td>88.889</td>\n",
       "      <td>77.273</td>\n",
       "      <td>66.667</td>\n",
       "      <td>87.5</td>\n",
       "      <td>68.182</td>\n",
       "      <td>92.308</td>\n",
       "      <td>100.0</td>\n",
       "      <td>83.333</td>\n",
       "      <td>85.714</td>\n",
       "      <td>87.879</td>\n",
       "      <td>92.857</td>\n",
       "      <td>100.000</td>\n",
       "      <td>100.000</td>\n",
       "      <td>100.000</td>\n",
       "      <td>65.789</td>\n",
       "    </tr>\n",
       "    <tr>\n",
       "      <th>internet</th>\n",
       "      <td>44.444</td>\n",
       "      <td>54.545</td>\n",
       "      <td>66.667</td>\n",
       "      <td>50.0</td>\n",
       "      <td>72.727</td>\n",
       "      <td>61.538</td>\n",
       "      <td>80.0</td>\n",
       "      <td>72.222</td>\n",
       "      <td>71.429</td>\n",
       "      <td>48.485</td>\n",
       "      <td>57.143</td>\n",
       "      <td>42.857</td>\n",
       "      <td>66.667</td>\n",
       "      <td>66.667</td>\n",
       "      <td>28.947</td>\n",
       "    </tr>\n",
       "    <tr>\n",
       "      <th>stock_options</th>\n",
       "      <td>66.667</td>\n",
       "      <td>59.091</td>\n",
       "      <td>66.667</td>\n",
       "      <td>50.0</td>\n",
       "      <td>72.727</td>\n",
       "      <td>75.000</td>\n",
       "      <td>60.0</td>\n",
       "      <td>88.889</td>\n",
       "      <td>100.000</td>\n",
       "      <td>66.667</td>\n",
       "      <td>78.571</td>\n",
       "      <td>42.857</td>\n",
       "      <td>83.333</td>\n",
       "      <td>50.000</td>\n",
       "      <td>44.737</td>\n",
       "    </tr>\n",
       "    <tr>\n",
       "      <th>health_program</th>\n",
       "      <td>55.556</td>\n",
       "      <td>86.364</td>\n",
       "      <td>100.000</td>\n",
       "      <td>87.5</td>\n",
       "      <td>63.636</td>\n",
       "      <td>82.692</td>\n",
       "      <td>100.0</td>\n",
       "      <td>88.889</td>\n",
       "      <td>85.714</td>\n",
       "      <td>84.848</td>\n",
       "      <td>92.857</td>\n",
       "      <td>85.714</td>\n",
       "      <td>94.444</td>\n",
       "      <td>100.000</td>\n",
       "      <td>44.737</td>\n",
       "    </tr>\n",
       "    <tr>\n",
       "      <th>flex_working_hours</th>\n",
       "      <td>77.778</td>\n",
       "      <td>90.909</td>\n",
       "      <td>100.000</td>\n",
       "      <td>87.5</td>\n",
       "      <td>77.273</td>\n",
       "      <td>90.385</td>\n",
       "      <td>100.0</td>\n",
       "      <td>66.667</td>\n",
       "      <td>71.429</td>\n",
       "      <td>90.909</td>\n",
       "      <td>92.857</td>\n",
       "      <td>100.000</td>\n",
       "      <td>100.000</td>\n",
       "      <td>83.333</td>\n",
       "      <td>47.368</td>\n",
       "    </tr>\n",
       "    <tr>\n",
       "      <th>parking</th>\n",
       "      <td>77.778</td>\n",
       "      <td>72.727</td>\n",
       "      <td>100.000</td>\n",
       "      <td>75.0</td>\n",
       "      <td>81.818</td>\n",
       "      <td>78.846</td>\n",
       "      <td>80.0</td>\n",
       "      <td>77.778</td>\n",
       "      <td>71.429</td>\n",
       "      <td>75.758</td>\n",
       "      <td>92.857</td>\n",
       "      <td>100.000</td>\n",
       "      <td>61.111</td>\n",
       "      <td>83.333</td>\n",
       "      <td>39.474</td>\n",
       "    </tr>\n",
       "    <tr>\n",
       "      <th>accessibility</th>\n",
       "      <td>0.000</td>\n",
       "      <td>50.000</td>\n",
       "      <td>66.667</td>\n",
       "      <td>75.0</td>\n",
       "      <td>36.364</td>\n",
       "      <td>42.308</td>\n",
       "      <td>20.0</td>\n",
       "      <td>66.667</td>\n",
       "      <td>42.857</td>\n",
       "      <td>36.364</td>\n",
       "      <td>42.857</td>\n",
       "      <td>71.429</td>\n",
       "      <td>50.000</td>\n",
       "      <td>0.000</td>\n",
       "      <td>15.789</td>\n",
       "    </tr>\n",
       "    <tr>\n",
       "      <th>mobile_phone</th>\n",
       "      <td>66.667</td>\n",
       "      <td>68.182</td>\n",
       "      <td>66.667</td>\n",
       "      <td>50.0</td>\n",
       "      <td>72.727</td>\n",
       "      <td>67.308</td>\n",
       "      <td>80.0</td>\n",
       "      <td>33.333</td>\n",
       "      <td>28.571</td>\n",
       "      <td>57.576</td>\n",
       "      <td>42.857</td>\n",
       "      <td>71.429</td>\n",
       "      <td>61.111</td>\n",
       "      <td>16.667</td>\n",
       "      <td>42.105</td>\n",
       "    </tr>\n",
       "    <tr>\n",
       "      <th>discounts</th>\n",
       "      <td>88.889</td>\n",
       "      <td>86.364</td>\n",
       "      <td>100.000</td>\n",
       "      <td>100.0</td>\n",
       "      <td>86.364</td>\n",
       "      <td>88.462</td>\n",
       "      <td>100.0</td>\n",
       "      <td>94.444</td>\n",
       "      <td>100.000</td>\n",
       "      <td>96.970</td>\n",
       "      <td>92.857</td>\n",
       "      <td>100.000</td>\n",
       "      <td>100.000</td>\n",
       "      <td>100.000</td>\n",
       "      <td>71.053</td>\n",
       "    </tr>\n",
       "    <tr>\n",
       "      <th>home_office</th>\n",
       "      <td>88.889</td>\n",
       "      <td>90.909</td>\n",
       "      <td>100.000</td>\n",
       "      <td>100.0</td>\n",
       "      <td>77.273</td>\n",
       "      <td>90.385</td>\n",
       "      <td>100.0</td>\n",
       "      <td>72.222</td>\n",
       "      <td>71.429</td>\n",
       "      <td>87.879</td>\n",
       "      <td>92.857</td>\n",
       "      <td>100.000</td>\n",
       "      <td>100.000</td>\n",
       "      <td>83.333</td>\n",
       "      <td>39.474</td>\n",
       "    </tr>\n",
       "    <tr>\n",
       "      <th>doctor</th>\n",
       "      <td>88.889</td>\n",
       "      <td>90.909</td>\n",
       "      <td>100.000</td>\n",
       "      <td>100.0</td>\n",
       "      <td>77.273</td>\n",
       "      <td>92.308</td>\n",
       "      <td>100.0</td>\n",
       "      <td>94.444</td>\n",
       "      <td>100.000</td>\n",
       "      <td>90.909</td>\n",
       "      <td>92.857</td>\n",
       "      <td>100.000</td>\n",
       "      <td>100.000</td>\n",
       "      <td>100.000</td>\n",
       "      <td>63.158</td>\n",
       "    </tr>\n",
       "    <tr>\n",
       "      <th>events</th>\n",
       "      <td>77.778</td>\n",
       "      <td>72.727</td>\n",
       "      <td>100.000</td>\n",
       "      <td>87.5</td>\n",
       "      <td>72.727</td>\n",
       "      <td>86.538</td>\n",
       "      <td>80.0</td>\n",
       "      <td>94.444</td>\n",
       "      <td>100.000</td>\n",
       "      <td>87.879</td>\n",
       "      <td>78.571</td>\n",
       "      <td>100.000</td>\n",
       "      <td>94.444</td>\n",
       "      <td>83.333</td>\n",
       "      <td>50.000</td>\n",
       "    </tr>\n",
       "    <tr>\n",
       "      <th>cantine</th>\n",
       "      <td>88.889</td>\n",
       "      <td>90.909</td>\n",
       "      <td>100.000</td>\n",
       "      <td>100.0</td>\n",
       "      <td>90.909</td>\n",
       "      <td>90.385</td>\n",
       "      <td>100.0</td>\n",
       "      <td>94.444</td>\n",
       "      <td>100.000</td>\n",
       "      <td>90.909</td>\n",
       "      <td>92.857</td>\n",
       "      <td>100.000</td>\n",
       "      <td>94.444</td>\n",
       "      <td>100.000</td>\n",
       "      <td>44.737</td>\n",
       "    </tr>\n",
       "    <tr>\n",
       "      <th>dogs</th>\n",
       "      <td>0.000</td>\n",
       "      <td>0.000</td>\n",
       "      <td>0.000</td>\n",
       "      <td>0.0</td>\n",
       "      <td>4.545</td>\n",
       "      <td>3.846</td>\n",
       "      <td>0.0</td>\n",
       "      <td>5.556</td>\n",
       "      <td>0.000</td>\n",
       "      <td>0.000</td>\n",
       "      <td>0.000</td>\n",
       "      <td>0.000</td>\n",
       "      <td>0.000</td>\n",
       "      <td>0.000</td>\n",
       "      <td>0.000</td>\n",
       "    </tr>\n",
       "    <tr>\n",
       "      <th>car</th>\n",
       "      <td>44.444</td>\n",
       "      <td>27.273</td>\n",
       "      <td>0.000</td>\n",
       "      <td>37.5</td>\n",
       "      <td>18.182</td>\n",
       "      <td>23.077</td>\n",
       "      <td>60.0</td>\n",
       "      <td>16.667</td>\n",
       "      <td>14.286</td>\n",
       "      <td>21.212</td>\n",
       "      <td>21.429</td>\n",
       "      <td>42.857</td>\n",
       "      <td>16.667</td>\n",
       "      <td>0.000</td>\n",
       "      <td>18.421</td>\n",
       "    </tr>\n",
       "    <tr>\n",
       "      <th>meals</th>\n",
       "      <td>44.444</td>\n",
       "      <td>45.455</td>\n",
       "      <td>33.333</td>\n",
       "      <td>50.0</td>\n",
       "      <td>22.727</td>\n",
       "      <td>55.769</td>\n",
       "      <td>60.0</td>\n",
       "      <td>55.556</td>\n",
       "      <td>42.857</td>\n",
       "      <td>45.455</td>\n",
       "      <td>35.714</td>\n",
       "      <td>42.857</td>\n",
       "      <td>61.111</td>\n",
       "      <td>33.333</td>\n",
       "      <td>13.158</td>\n",
       "    </tr>\n",
       "    <tr>\n",
       "      <th>pension_plan</th>\n",
       "      <td>88.889</td>\n",
       "      <td>90.909</td>\n",
       "      <td>100.000</td>\n",
       "      <td>87.5</td>\n",
       "      <td>81.818</td>\n",
       "      <td>88.462</td>\n",
       "      <td>100.0</td>\n",
       "      <td>94.444</td>\n",
       "      <td>85.714</td>\n",
       "      <td>81.818</td>\n",
       "      <td>85.714</td>\n",
       "      <td>85.714</td>\n",
       "      <td>100.000</td>\n",
       "      <td>100.000</td>\n",
       "      <td>65.789</td>\n",
       "    </tr>\n",
       "    <tr>\n",
       "      <th>daycare</th>\n",
       "      <td>44.444</td>\n",
       "      <td>36.364</td>\n",
       "      <td>33.333</td>\n",
       "      <td>37.5</td>\n",
       "      <td>36.364</td>\n",
       "      <td>57.692</td>\n",
       "      <td>60.0</td>\n",
       "      <td>77.778</td>\n",
       "      <td>57.143</td>\n",
       "      <td>39.394</td>\n",
       "      <td>50.000</td>\n",
       "      <td>57.143</td>\n",
       "      <td>66.667</td>\n",
       "      <td>16.667</td>\n",
       "      <td>15.789</td>\n",
       "    </tr>\n",
       "    <tr>\n",
       "      <th>reachability</th>\n",
       "      <td>22.222</td>\n",
       "      <td>22.727</td>\n",
       "      <td>0.000</td>\n",
       "      <td>12.5</td>\n",
       "      <td>27.273</td>\n",
       "      <td>30.769</td>\n",
       "      <td>0.0</td>\n",
       "      <td>38.889</td>\n",
       "      <td>28.571</td>\n",
       "      <td>18.182</td>\n",
       "      <td>35.714</td>\n",
       "      <td>14.286</td>\n",
       "      <td>27.778</td>\n",
       "      <td>16.667</td>\n",
       "      <td>15.789</td>\n",
       "    </tr>\n",
       "    <tr>\n",
       "      <th>coaching</th>\n",
       "      <td>55.556</td>\n",
       "      <td>50.000</td>\n",
       "      <td>33.333</td>\n",
       "      <td>62.5</td>\n",
       "      <td>54.545</td>\n",
       "      <td>57.692</td>\n",
       "      <td>80.0</td>\n",
       "      <td>61.111</td>\n",
       "      <td>57.143</td>\n",
       "      <td>63.636</td>\n",
       "      <td>64.286</td>\n",
       "      <td>71.429</td>\n",
       "      <td>66.667</td>\n",
       "      <td>16.667</td>\n",
       "      <td>31.579</td>\n",
       "    </tr>\n",
       "  </tbody>\n",
       "</table>\n",
       "</div>"
      ],
      "text/plain": [
       "employment_department      Unknown  administration  communication  \\\n",
       "employment_is_recommended   88.889          77.273         66.667   \n",
       "internet                    44.444          54.545         66.667   \n",
       "stock_options               66.667          59.091         66.667   \n",
       "health_program              55.556          86.364        100.000   \n",
       "flex_working_hours          77.778          90.909        100.000   \n",
       "parking                     77.778          72.727        100.000   \n",
       "accessibility                0.000          50.000         66.667   \n",
       "mobile_phone                66.667          68.182         66.667   \n",
       "discounts                   88.889          86.364        100.000   \n",
       "home_office                 88.889          90.909        100.000   \n",
       "doctor                      88.889          90.909        100.000   \n",
       "events                      77.778          72.727        100.000   \n",
       "cantine                     88.889          90.909        100.000   \n",
       "dogs                         0.000           0.000          0.000   \n",
       "car                         44.444          27.273          0.000   \n",
       "meals                       44.444          45.455         33.333   \n",
       "pension_plan                88.889          90.909        100.000   \n",
       "daycare                     44.444          36.364         33.333   \n",
       "reachability                22.222          22.727          0.000   \n",
       "coaching                    55.556          50.000         33.333   \n",
       "\n",
       "employment_department      controlling  design      it  legal  logistic  \\\n",
       "employment_is_recommended         87.5  68.182  92.308  100.0    83.333   \n",
       "internet                          50.0  72.727  61.538   80.0    72.222   \n",
       "stock_options                     50.0  72.727  75.000   60.0    88.889   \n",
       "health_program                    87.5  63.636  82.692  100.0    88.889   \n",
       "flex_working_hours                87.5  77.273  90.385  100.0    66.667   \n",
       "parking                           75.0  81.818  78.846   80.0    77.778   \n",
       "accessibility                     75.0  36.364  42.308   20.0    66.667   \n",
       "mobile_phone                      50.0  72.727  67.308   80.0    33.333   \n",
       "discounts                        100.0  86.364  88.462  100.0    94.444   \n",
       "home_office                      100.0  77.273  90.385  100.0    72.222   \n",
       "doctor                           100.0  77.273  92.308  100.0    94.444   \n",
       "events                            87.5  72.727  86.538   80.0    94.444   \n",
       "cantine                          100.0  90.909  90.385  100.0    94.444   \n",
       "dogs                               0.0   4.545   3.846    0.0     5.556   \n",
       "car                               37.5  18.182  23.077   60.0    16.667   \n",
       "meals                             50.0  22.727  55.769   60.0    55.556   \n",
       "pension_plan                      87.5  81.818  88.462  100.0    94.444   \n",
       "daycare                           37.5  36.364  57.692   60.0    77.778   \n",
       "reachability                      12.5  27.273  30.769    0.0    38.889   \n",
       "coaching                          62.5  54.545  57.692   80.0    61.111   \n",
       "\n",
       "employment_department      operations   other  procurement  product  \\\n",
       "employment_is_recommended      85.714  87.879       92.857  100.000   \n",
       "internet                       71.429  48.485       57.143   42.857   \n",
       "stock_options                 100.000  66.667       78.571   42.857   \n",
       "health_program                 85.714  84.848       92.857   85.714   \n",
       "flex_working_hours             71.429  90.909       92.857  100.000   \n",
       "parking                        71.429  75.758       92.857  100.000   \n",
       "accessibility                  42.857  36.364       42.857   71.429   \n",
       "mobile_phone                   28.571  57.576       42.857   71.429   \n",
       "discounts                     100.000  96.970       92.857  100.000   \n",
       "home_office                    71.429  87.879       92.857  100.000   \n",
       "doctor                        100.000  90.909       92.857  100.000   \n",
       "events                        100.000  87.879       78.571  100.000   \n",
       "cantine                       100.000  90.909       92.857  100.000   \n",
       "dogs                            0.000   0.000        0.000    0.000   \n",
       "car                            14.286  21.212       21.429   42.857   \n",
       "meals                          42.857  45.455       35.714   42.857   \n",
       "pension_plan                   85.714  81.818       85.714   85.714   \n",
       "daycare                        57.143  39.394       50.000   57.143   \n",
       "reachability                   28.571  18.182       35.714   14.286   \n",
       "coaching                       57.143  63.636       64.286   71.429   \n",
       "\n",
       "employment_department      recruiting  research   sales  \n",
       "employment_is_recommended     100.000   100.000  65.789  \n",
       "internet                       66.667    66.667  28.947  \n",
       "stock_options                  83.333    50.000  44.737  \n",
       "health_program                 94.444   100.000  44.737  \n",
       "flex_working_hours            100.000    83.333  47.368  \n",
       "parking                        61.111    83.333  39.474  \n",
       "accessibility                  50.000     0.000  15.789  \n",
       "mobile_phone                   61.111    16.667  42.105  \n",
       "discounts                     100.000   100.000  71.053  \n",
       "home_office                   100.000    83.333  39.474  \n",
       "doctor                        100.000   100.000  63.158  \n",
       "events                         94.444    83.333  50.000  \n",
       "cantine                        94.444   100.000  44.737  \n",
       "dogs                            0.000     0.000   0.000  \n",
       "car                            16.667     0.000  18.421  \n",
       "meals                          61.111    33.333  13.158  \n",
       "pension_plan                  100.000   100.000  65.789  \n",
       "daycare                        66.667    16.667  15.789  \n",
       "reachability                   27.778    16.667  15.789  \n",
       "coaching                       66.667    16.667  31.579  "
      ]
     },
     "execution_count": 64,
     "metadata": {},
     "output_type": "execute_result"
    }
   ],
   "source": [
    "for employment_type in group_sizes.index:\n",
    "    # Divide the counts by the group size and multiply by 100\n",
    "    df_dept_bool[employment_type] = (df_dept_bool[employment_type] / group_sizes[employment_type]) * 100\n",
    "\n",
    "df_dept_bool = df_dept_bool.astype(float).round(3)\n",
    "df_dept_bool"
   ]
  },
  {
   "cell_type": "markdown",
   "metadata": {},
   "source": [
    "# Connection Between Internal and External Sources\n",
    "\n",
    "Looking at Quantitative Metrics, goal is to compare Kununu's external scores with the internal perception from the Pulse Check and GPTW to identify gaps or alignments."
   ]
  },
  {
   "cell_type": "code",
   "execution_count": 65,
   "metadata": {},
   "outputs": [
    {
     "data": {
      "text/html": [
       "<div>\n",
       "<style scoped>\n",
       "    .dataframe tbody tr th:only-of-type {\n",
       "        vertical-align: middle;\n",
       "    }\n",
       "\n",
       "    .dataframe tbody tr th {\n",
       "        vertical-align: top;\n",
       "    }\n",
       "\n",
       "    .dataframe thead th {\n",
       "        text-align: right;\n",
       "    }\n",
       "</style>\n",
       "<table border=\"1\" class=\"dataframe\">\n",
       "  <thead>\n",
       "    <tr style=\"text-align: right;\">\n",
       "      <th></th>\n",
       "      <th>review_score</th>\n",
       "      <th>employer_atmosphere_score</th>\n",
       "      <th>employer_communication_score</th>\n",
       "      <th>employer_teamwork_score</th>\n",
       "      <th>employer_work_life_score</th>\n",
       "      <th>employer_leadership_score</th>\n",
       "      <th>employer_tasks_score</th>\n",
       "      <th>employer_equality_score</th>\n",
       "      <th>employer_old_colleagues_score</th>\n",
       "      <th>employer_work_conditions_score</th>\n",
       "      <th>employer_environment_score</th>\n",
       "      <th>employer_salary_score</th>\n",
       "      <th>employer_image_score</th>\n",
       "      <th>employer_career_score</th>\n",
       "    </tr>\n",
       "  </thead>\n",
       "  <tbody>\n",
       "    <tr>\n",
       "      <th>0</th>\n",
       "      <td>4.5385</td>\n",
       "      <td>5.0</td>\n",
       "      <td>5.0</td>\n",
       "      <td>4.0</td>\n",
       "      <td>5.0</td>\n",
       "      <td>5.0</td>\n",
       "      <td>4.0</td>\n",
       "      <td>5.0</td>\n",
       "      <td>5.0</td>\n",
       "      <td>5.0</td>\n",
       "      <td>5.0</td>\n",
       "      <td>2.0</td>\n",
       "      <td>5.0</td>\n",
       "      <td>4.0</td>\n",
       "    </tr>\n",
       "    <tr>\n",
       "      <th>1</th>\n",
       "      <td>4.0769</td>\n",
       "      <td>4.0</td>\n",
       "      <td>3.0</td>\n",
       "      <td>4.0</td>\n",
       "      <td>4.0</td>\n",
       "      <td>5.0</td>\n",
       "      <td>4.0</td>\n",
       "      <td>5.0</td>\n",
       "      <td>4.0</td>\n",
       "      <td>4.0</td>\n",
       "      <td>3.0</td>\n",
       "      <td>4.0</td>\n",
       "      <td>5.0</td>\n",
       "      <td>4.0</td>\n",
       "    </tr>\n",
       "    <tr>\n",
       "      <th>2</th>\n",
       "      <td>4.8462</td>\n",
       "      <td>5.0</td>\n",
       "      <td>4.0</td>\n",
       "      <td>5.0</td>\n",
       "      <td>5.0</td>\n",
       "      <td>5.0</td>\n",
       "      <td>5.0</td>\n",
       "      <td>5.0</td>\n",
       "      <td>5.0</td>\n",
       "      <td>5.0</td>\n",
       "      <td>4.0</td>\n",
       "      <td>5.0</td>\n",
       "      <td>5.0</td>\n",
       "      <td>5.0</td>\n",
       "    </tr>\n",
       "    <tr>\n",
       "      <th>3</th>\n",
       "      <td>4.3077</td>\n",
       "      <td>4.0</td>\n",
       "      <td>4.0</td>\n",
       "      <td>4.0</td>\n",
       "      <td>4.0</td>\n",
       "      <td>5.0</td>\n",
       "      <td>4.0</td>\n",
       "      <td>5.0</td>\n",
       "      <td>5.0</td>\n",
       "      <td>4.0</td>\n",
       "      <td>4.0</td>\n",
       "      <td>4.0</td>\n",
       "      <td>5.0</td>\n",
       "      <td>4.0</td>\n",
       "    </tr>\n",
       "    <tr>\n",
       "      <th>4</th>\n",
       "      <td>4.6923</td>\n",
       "      <td>5.0</td>\n",
       "      <td>5.0</td>\n",
       "      <td>5.0</td>\n",
       "      <td>4.0</td>\n",
       "      <td>4.0</td>\n",
       "      <td>5.0</td>\n",
       "      <td>5.0</td>\n",
       "      <td>5.0</td>\n",
       "      <td>5.0</td>\n",
       "      <td>4.0</td>\n",
       "      <td>4.0</td>\n",
       "      <td>5.0</td>\n",
       "      <td>5.0</td>\n",
       "    </tr>\n",
       "    <tr>\n",
       "      <th>...</th>\n",
       "      <td>...</td>\n",
       "      <td>...</td>\n",
       "      <td>...</td>\n",
       "      <td>...</td>\n",
       "      <td>...</td>\n",
       "      <td>...</td>\n",
       "      <td>...</td>\n",
       "      <td>...</td>\n",
       "      <td>...</td>\n",
       "      <td>...</td>\n",
       "      <td>...</td>\n",
       "      <td>...</td>\n",
       "      <td>...</td>\n",
       "      <td>...</td>\n",
       "    </tr>\n",
       "    <tr>\n",
       "      <th>257</th>\n",
       "      <td>4.3077</td>\n",
       "      <td>4.0</td>\n",
       "      <td>4.0</td>\n",
       "      <td>4.0</td>\n",
       "      <td>4.0</td>\n",
       "      <td>4.0</td>\n",
       "      <td>4.0</td>\n",
       "      <td>4.0</td>\n",
       "      <td>4.0</td>\n",
       "      <td>5.0</td>\n",
       "      <td>5.0</td>\n",
       "      <td>5.0</td>\n",
       "      <td>5.0</td>\n",
       "      <td>4.0</td>\n",
       "    </tr>\n",
       "    <tr>\n",
       "      <th>258</th>\n",
       "      <td>4.4615</td>\n",
       "      <td>4.0</td>\n",
       "      <td>3.0</td>\n",
       "      <td>3.0</td>\n",
       "      <td>5.0</td>\n",
       "      <td>5.0</td>\n",
       "      <td>5.0</td>\n",
       "      <td>5.0</td>\n",
       "      <td>5.0</td>\n",
       "      <td>5.0</td>\n",
       "      <td>5.0</td>\n",
       "      <td>4.0</td>\n",
       "      <td>5.0</td>\n",
       "      <td>4.0</td>\n",
       "    </tr>\n",
       "    <tr>\n",
       "      <th>259</th>\n",
       "      <td>5.0000</td>\n",
       "      <td>5.0</td>\n",
       "      <td>5.0</td>\n",
       "      <td>5.0</td>\n",
       "      <td>5.0</td>\n",
       "      <td>5.0</td>\n",
       "      <td>5.0</td>\n",
       "      <td>5.0</td>\n",
       "      <td>5.0</td>\n",
       "      <td>5.0</td>\n",
       "      <td>5.0</td>\n",
       "      <td>5.0</td>\n",
       "      <td>5.0</td>\n",
       "      <td>5.0</td>\n",
       "    </tr>\n",
       "    <tr>\n",
       "      <th>260</th>\n",
       "      <td>4.8462</td>\n",
       "      <td>5.0</td>\n",
       "      <td>5.0</td>\n",
       "      <td>5.0</td>\n",
       "      <td>5.0</td>\n",
       "      <td>5.0</td>\n",
       "      <td>5.0</td>\n",
       "      <td>5.0</td>\n",
       "      <td>5.0</td>\n",
       "      <td>5.0</td>\n",
       "      <td>5.0</td>\n",
       "      <td>3.0</td>\n",
       "      <td>5.0</td>\n",
       "      <td>5.0</td>\n",
       "    </tr>\n",
       "    <tr>\n",
       "      <th>261</th>\n",
       "      <td>4.9231</td>\n",
       "      <td>5.0</td>\n",
       "      <td>5.0</td>\n",
       "      <td>5.0</td>\n",
       "      <td>5.0</td>\n",
       "      <td>5.0</td>\n",
       "      <td>5.0</td>\n",
       "      <td>5.0</td>\n",
       "      <td>5.0</td>\n",
       "      <td>5.0</td>\n",
       "      <td>5.0</td>\n",
       "      <td>5.0</td>\n",
       "      <td>5.0</td>\n",
       "      <td>4.0</td>\n",
       "    </tr>\n",
       "  </tbody>\n",
       "</table>\n",
       "<p>262 rows × 14 columns</p>\n",
       "</div>"
      ],
      "text/plain": [
       "     review_score  employer_atmosphere_score  employer_communication_score  \\\n",
       "0          4.5385                        5.0                           5.0   \n",
       "1          4.0769                        4.0                           3.0   \n",
       "2          4.8462                        5.0                           4.0   \n",
       "3          4.3077                        4.0                           4.0   \n",
       "4          4.6923                        5.0                           5.0   \n",
       "..            ...                        ...                           ...   \n",
       "257        4.3077                        4.0                           4.0   \n",
       "258        4.4615                        4.0                           3.0   \n",
       "259        5.0000                        5.0                           5.0   \n",
       "260        4.8462                        5.0                           5.0   \n",
       "261        4.9231                        5.0                           5.0   \n",
       "\n",
       "     employer_teamwork_score  employer_work_life_score  \\\n",
       "0                        4.0                       5.0   \n",
       "1                        4.0                       4.0   \n",
       "2                        5.0                       5.0   \n",
       "3                        4.0                       4.0   \n",
       "4                        5.0                       4.0   \n",
       "..                       ...                       ...   \n",
       "257                      4.0                       4.0   \n",
       "258                      3.0                       5.0   \n",
       "259                      5.0                       5.0   \n",
       "260                      5.0                       5.0   \n",
       "261                      5.0                       5.0   \n",
       "\n",
       "     employer_leadership_score  employer_tasks_score  employer_equality_score  \\\n",
       "0                          5.0                   4.0                      5.0   \n",
       "1                          5.0                   4.0                      5.0   \n",
       "2                          5.0                   5.0                      5.0   \n",
       "3                          5.0                   4.0                      5.0   \n",
       "4                          4.0                   5.0                      5.0   \n",
       "..                         ...                   ...                      ...   \n",
       "257                        4.0                   4.0                      4.0   \n",
       "258                        5.0                   5.0                      5.0   \n",
       "259                        5.0                   5.0                      5.0   \n",
       "260                        5.0                   5.0                      5.0   \n",
       "261                        5.0                   5.0                      5.0   \n",
       "\n",
       "     employer_old_colleagues_score  employer_work_conditions_score  \\\n",
       "0                              5.0                             5.0   \n",
       "1                              4.0                             4.0   \n",
       "2                              5.0                             5.0   \n",
       "3                              5.0                             4.0   \n",
       "4                              5.0                             5.0   \n",
       "..                             ...                             ...   \n",
       "257                            4.0                             5.0   \n",
       "258                            5.0                             5.0   \n",
       "259                            5.0                             5.0   \n",
       "260                            5.0                             5.0   \n",
       "261                            5.0                             5.0   \n",
       "\n",
       "     employer_environment_score  employer_salary_score  employer_image_score  \\\n",
       "0                           5.0                    2.0                   5.0   \n",
       "1                           3.0                    4.0                   5.0   \n",
       "2                           4.0                    5.0                   5.0   \n",
       "3                           4.0                    4.0                   5.0   \n",
       "4                           4.0                    4.0                   5.0   \n",
       "..                          ...                    ...                   ...   \n",
       "257                         5.0                    5.0                   5.0   \n",
       "258                         5.0                    4.0                   5.0   \n",
       "259                         5.0                    5.0                   5.0   \n",
       "260                         5.0                    3.0                   5.0   \n",
       "261                         5.0                    5.0                   5.0   \n",
       "\n",
       "     employer_career_score  \n",
       "0                      4.0  \n",
       "1                      4.0  \n",
       "2                      5.0  \n",
       "3                      4.0  \n",
       "4                      5.0  \n",
       "..                     ...  \n",
       "257                    4.0  \n",
       "258                    4.0  \n",
       "259                    5.0  \n",
       "260                    5.0  \n",
       "261                    4.0  \n",
       "\n",
       "[262 rows x 14 columns]"
      ]
     },
     "execution_count": 65,
     "metadata": {},
     "output_type": "execute_result"
    }
   ],
   "source": [
    "df_kununu = df[score_columns]\n",
    "df_kununu"
   ]
  },
  {
   "cell_type": "code",
   "execution_count": 66,
   "metadata": {},
   "outputs": [
    {
     "data": {
      "text/html": [
       "<div>\n",
       "<style scoped>\n",
       "    .dataframe tbody tr th:only-of-type {\n",
       "        vertical-align: middle;\n",
       "    }\n",
       "\n",
       "    .dataframe tbody tr th {\n",
       "        vertical-align: top;\n",
       "    }\n",
       "\n",
       "    .dataframe thead th {\n",
       "        text-align: right;\n",
       "    }\n",
       "</style>\n",
       "<table border=\"1\" class=\"dataframe\">\n",
       "  <thead>\n",
       "    <tr style=\"text-align: right;\">\n",
       "      <th></th>\n",
       "      <th>Progress</th>\n",
       "      <th>Duration (in seconds)</th>\n",
       "      <th>Finished</th>\n",
       "      <th>Distribution Channel</th>\n",
       "      <th>User Language</th>\n",
       "      <th>Values-based working culture</th>\n",
       "      <th>Connected to HUGO BOSS</th>\n",
       "      <th>Informed about HUGO BOSS values</th>\n",
       "      <th>Values lived out across the organisation</th>\n",
       "      <th>Values lived out in the day-to-day business</th>\n",
       "      <th>...</th>\n",
       "      <th>Please feel free to share your ideas how to live out our HUGO BOSS values even more.</th>\n",
       "      <th>Please feel free to share an example when you experienced one of our values being fully lived out.</th>\n",
       "      <th>Please feel free to share your feedback regarding the survey.</th>\n",
       "      <th>Please select the country you are based in - Country</th>\n",
       "      <th>Please select the division you are mainly working for (primary focus) - Division</th>\n",
       "      <th>Which occupational group are you a part of?</th>\n",
       "      <th>Are you currently in a leadership position?</th>\n",
       "      <th>How long have you been working at HUGO BOSS?</th>\n",
       "      <th>How old are you?</th>\n",
       "      <th>Functional Group</th>\n",
       "    </tr>\n",
       "  </thead>\n",
       "  <tbody>\n",
       "    <tr>\n",
       "      <th>0</th>\n",
       "      <td>100</td>\n",
       "      <td>89</td>\n",
       "      <td>True</td>\n",
       "      <td>anonymous</td>\n",
       "      <td>EN</td>\n",
       "      <td>Positive</td>\n",
       "      <td>Positive</td>\n",
       "      <td>Positive</td>\n",
       "      <td>Neutral</td>\n",
       "      <td>Positive</td>\n",
       "      <td>...</td>\n",
       "      <td>NaN</td>\n",
       "      <td>NaN</td>\n",
       "      <td>NaN</td>\n",
       "      <td>Netherlands</td>\n",
       "      <td>Finance</td>\n",
       "      <td>White Collar</td>\n",
       "      <td>Yes</td>\n",
       "      <td>1-3 years</td>\n",
       "      <td>43 - 50</td>\n",
       "      <td>Corporate &amp; Administrative</td>\n",
       "    </tr>\n",
       "    <tr>\n",
       "      <th>1</th>\n",
       "      <td>100</td>\n",
       "      <td>167</td>\n",
       "      <td>True</td>\n",
       "      <td>anonymous</td>\n",
       "      <td>DE</td>\n",
       "      <td>Very Positive</td>\n",
       "      <td>Very Positive</td>\n",
       "      <td>Very Positive</td>\n",
       "      <td>Positive</td>\n",
       "      <td>Positive</td>\n",
       "      <td>...</td>\n",
       "      <td>NaN</td>\n",
       "      <td>NaN</td>\n",
       "      <td>NaN</td>\n",
       "      <td>Germany</td>\n",
       "      <td>Strategy</td>\n",
       "      <td>White Collar</td>\n",
       "      <td>No</td>\n",
       "      <td>&gt; 10 years</td>\n",
       "      <td>35 - 42</td>\n",
       "      <td>Corporate &amp; Administrative</td>\n",
       "    </tr>\n",
       "    <tr>\n",
       "      <th>2</th>\n",
       "      <td>100</td>\n",
       "      <td>90</td>\n",
       "      <td>True</td>\n",
       "      <td>anonymous</td>\n",
       "      <td>DE</td>\n",
       "      <td>Neutral</td>\n",
       "      <td>Positive</td>\n",
       "      <td>Neutral</td>\n",
       "      <td>Positive</td>\n",
       "      <td>Neutral</td>\n",
       "      <td>...</td>\n",
       "      <td>NaN</td>\n",
       "      <td>NaN</td>\n",
       "      <td>NaN</td>\n",
       "      <td>Germany</td>\n",
       "      <td>IT</td>\n",
       "      <td>White Collar</td>\n",
       "      <td>No</td>\n",
       "      <td>5-10 years</td>\n",
       "      <td>27 - 34</td>\n",
       "      <td>IT &amp; Technical Services</td>\n",
       "    </tr>\n",
       "    <tr>\n",
       "      <th>3</th>\n",
       "      <td>100</td>\n",
       "      <td>176</td>\n",
       "      <td>True</td>\n",
       "      <td>anonymous</td>\n",
       "      <td>DE</td>\n",
       "      <td>Positive</td>\n",
       "      <td>Neutral</td>\n",
       "      <td>Very Positive</td>\n",
       "      <td>Negative</td>\n",
       "      <td>Negative</td>\n",
       "      <td>...</td>\n",
       "      <td>NaN</td>\n",
       "      <td>NaN</td>\n",
       "      <td>NaN</td>\n",
       "      <td>Germany</td>\n",
       "      <td>Logistics</td>\n",
       "      <td>White Collar</td>\n",
       "      <td>No</td>\n",
       "      <td>3-5 years</td>\n",
       "      <td>27 - 34</td>\n",
       "      <td>Logistics &amp; Operations</td>\n",
       "    </tr>\n",
       "    <tr>\n",
       "      <th>4</th>\n",
       "      <td>100</td>\n",
       "      <td>130</td>\n",
       "      <td>True</td>\n",
       "      <td>anonymous</td>\n",
       "      <td>EN</td>\n",
       "      <td>Positive</td>\n",
       "      <td>Very Positive</td>\n",
       "      <td>Positive</td>\n",
       "      <td>Very Positive</td>\n",
       "      <td>Very Positive</td>\n",
       "      <td>...</td>\n",
       "      <td>NaN</td>\n",
       "      <td>NaN</td>\n",
       "      <td>NaN</td>\n",
       "      <td>Switzerland</td>\n",
       "      <td>Procurement</td>\n",
       "      <td>No answer</td>\n",
       "      <td>No</td>\n",
       "      <td>1-3 years</td>\n",
       "      <td>27 - 34</td>\n",
       "      <td>Logistics &amp; Operations</td>\n",
       "    </tr>\n",
       "  </tbody>\n",
       "</table>\n",
       "<p>5 rows × 35 columns</p>\n",
       "</div>"
      ],
      "text/plain": [
       "   Progress  Duration (in seconds)  Finished Distribution Channel  \\\n",
       "0       100                     89      True            anonymous   \n",
       "1       100                    167      True            anonymous   \n",
       "2       100                     90      True            anonymous   \n",
       "3       100                    176      True            anonymous   \n",
       "4       100                    130      True            anonymous   \n",
       "\n",
       "  User Language Values-based working culture Connected to HUGO BOSS  \\\n",
       "0            EN                     Positive               Positive   \n",
       "1            DE                Very Positive          Very Positive   \n",
       "2            DE                      Neutral               Positive   \n",
       "3            DE                     Positive                Neutral   \n",
       "4            EN                     Positive          Very Positive   \n",
       "\n",
       "  Informed about HUGO BOSS values Values lived out across the organisation  \\\n",
       "0                        Positive                                  Neutral   \n",
       "1                   Very Positive                                 Positive   \n",
       "2                         Neutral                                 Positive   \n",
       "3                   Very Positive                                 Negative   \n",
       "4                        Positive                            Very Positive   \n",
       "\n",
       "  Values lived out in the day-to-day business  ...  \\\n",
       "0                                    Positive  ...   \n",
       "1                                    Positive  ...   \n",
       "2                                     Neutral  ...   \n",
       "3                                    Negative  ...   \n",
       "4                               Very Positive  ...   \n",
       "\n",
       "  Please feel free to share your ideas how to live out our HUGO BOSS values even more.  \\\n",
       "0                                                NaN                                     \n",
       "1                                                NaN                                     \n",
       "2                                                NaN                                     \n",
       "3                                                NaN                                     \n",
       "4                                                NaN                                     \n",
       "\n",
       "  Please feel free to share an example when you experienced one of our values being fully lived out.  \\\n",
       "0                                                NaN                                                   \n",
       "1                                                NaN                                                   \n",
       "2                                                NaN                                                   \n",
       "3                                                NaN                                                   \n",
       "4                                                NaN                                                   \n",
       "\n",
       "  Please feel free to share your feedback regarding the survey.  \\\n",
       "0                                                NaN              \n",
       "1                                                NaN              \n",
       "2                                                NaN              \n",
       "3                                                NaN              \n",
       "4                                                NaN              \n",
       "\n",
       "  Please select the country you are based in - Country  \\\n",
       "0                                        Netherlands     \n",
       "1                                            Germany     \n",
       "2                                            Germany     \n",
       "3                                            Germany     \n",
       "4                                        Switzerland     \n",
       "\n",
       "  Please select the division you are mainly working for (primary focus) - Division  \\\n",
       "0                                            Finance                                 \n",
       "1                                           Strategy                                 \n",
       "2                                                 IT                                 \n",
       "3                                          Logistics                                 \n",
       "4                                        Procurement                                 \n",
       "\n",
       "  Which occupational group are you a part of?  \\\n",
       "0                                White Collar   \n",
       "1                                White Collar   \n",
       "2                                White Collar   \n",
       "3                                White Collar   \n",
       "4                                   No answer   \n",
       "\n",
       "  Are you currently in a leadership position?  \\\n",
       "0                                         Yes   \n",
       "1                                          No   \n",
       "2                                          No   \n",
       "3                                          No   \n",
       "4                                          No   \n",
       "\n",
       "  How long have you been working at HUGO BOSS? How old are you?  \\\n",
       "0                                    1-3 years          43 - 50   \n",
       "1                                   > 10 years          35 - 42   \n",
       "2                                   5-10 years          27 - 34   \n",
       "3                                    3-5 years          27 - 34   \n",
       "4                                    1-3 years          27 - 34   \n",
       "\n",
       "             Functional Group  \n",
       "0  Corporate & Administrative  \n",
       "1  Corporate & Administrative  \n",
       "2     IT & Technical Services  \n",
       "3      Logistics & Operations  \n",
       "4      Logistics & Operations  \n",
       "\n",
       "[5 rows x 35 columns]"
      ]
     },
     "execution_count": 66,
     "metadata": {},
     "output_type": "execute_result"
    }
   ],
   "source": [
    "#reading the Value Pulse clean dataset\n",
    "vpc = pd.read_excel('VPC_cleaned_data.xlsx')\n",
    "vpc.head()"
   ]
  },
  {
   "cell_type": "code",
   "execution_count": 67,
   "metadata": {},
   "outputs": [
    {
     "data": {
      "text/html": [
       "<div>\n",
       "<style scoped>\n",
       "    .dataframe tbody tr th:only-of-type {\n",
       "        vertical-align: middle;\n",
       "    }\n",
       "\n",
       "    .dataframe tbody tr th {\n",
       "        vertical-align: top;\n",
       "    }\n",
       "\n",
       "    .dataframe thead th {\n",
       "        text-align: right;\n",
       "    }\n",
       "</style>\n",
       "<table border=\"1\" class=\"dataframe\">\n",
       "  <thead>\n",
       "    <tr style=\"text-align: right;\">\n",
       "      <th></th>\n",
       "      <th>Average</th>\n",
       "    </tr>\n",
       "  </thead>\n",
       "  <tbody>\n",
       "    <tr>\n",
       "      <th>Camaraderie/ Community /Collaboration</th>\n",
       "      <td>70.875</td>\n",
       "    </tr>\n",
       "    <tr>\n",
       "      <th>Caring</th>\n",
       "      <td>68.5</td>\n",
       "    </tr>\n",
       "    <tr>\n",
       "      <th>Communication</th>\n",
       "      <td>67.714286</td>\n",
       "    </tr>\n",
       "    <tr>\n",
       "      <th>Compensation/ non-cultural Benefits</th>\n",
       "      <td>55.666667</td>\n",
       "    </tr>\n",
       "    <tr>\n",
       "      <th>Engagement</th>\n",
       "      <td>73.375</td>\n",
       "    </tr>\n",
       "    <tr>\n",
       "      <th>Equity</th>\n",
       "      <td>81.0</td>\n",
       "    </tr>\n",
       "    <tr>\n",
       "      <th>Fairness &amp; Justice</th>\n",
       "      <td>61.0</td>\n",
       "    </tr>\n",
       "    <tr>\n",
       "      <th>Innovation</th>\n",
       "      <td>67.5</td>\n",
       "    </tr>\n",
       "    <tr>\n",
       "      <th>Leadership Behavior</th>\n",
       "      <td>68.636364</td>\n",
       "    </tr>\n",
       "    <tr>\n",
       "      <th>Pride</th>\n",
       "      <td>78.428571</td>\n",
       "    </tr>\n",
       "    <tr>\n",
       "      <th>Resources and Work Environment</th>\n",
       "      <td>74.0</td>\n",
       "    </tr>\n",
       "    <tr>\n",
       "      <th>Overall</th>\n",
       "      <td>69.699626</td>\n",
       "    </tr>\n",
       "  </tbody>\n",
       "</table>\n",
       "</div>"
      ],
      "text/plain": [
       "                                         Average\n",
       "Camaraderie/ Community /Collaboration     70.875\n",
       "Caring                                      68.5\n",
       "Communication                          67.714286\n",
       "Compensation/ non-cultural Benefits    55.666667\n",
       "Engagement                                73.375\n",
       "Equity                                      81.0\n",
       "Fairness & Justice                          61.0\n",
       "Innovation                                  67.5\n",
       "Leadership Behavior                    68.636364\n",
       "Pride                                  78.428571\n",
       "Resources and Work Environment              74.0\n",
       "Overall                                69.699626"
      ]
     },
     "execution_count": 67,
     "metadata": {},
     "output_type": "execute_result"
    }
   ],
   "source": [
    "gptw = pd.read_excel('GPTW_cleaned.xlsx', index_col=0)\n",
    "\n",
    "#here, i would only need the overall score \n",
    "gptw = gptw[['Average']]\n",
    "gptw = gptw.drop(gptw.index[0:2])\n",
    "\n",
    "#groupby the index and take the mean\n",
    "gptw = gptw.groupby(gptw.index).mean()\n",
    "\n",
    "#add an overall at the bottom\n",
    "gptw.loc['Overall'] = gptw.mean()\n",
    "gptw"
   ]
  },
  {
   "cell_type": "code",
   "execution_count": 68,
   "metadata": {},
   "outputs": [
    {
     "name": "stdout",
     "output_type": "stream",
     "text": [
      "Index(['review_score', 'employer_atmosphere_score',\n",
      "       'employer_communication_score', 'employer_teamwork_score',\n",
      "       'employer_work_life_score', 'employer_leadership_score',\n",
      "       'employer_tasks_score', 'employer_equality_score',\n",
      "       'employer_old_colleagues_score', 'employer_work_conditions_score',\n",
      "       'employer_environment_score', 'employer_salary_score',\n",
      "       'employer_image_score', 'employer_career_score'],\n",
      "      dtype='object')\n",
      "Index(['Progress', 'Duration (in seconds)', 'Finished', 'Distribution Channel',\n",
      "       'User Language', 'Values-based working culture',\n",
      "       'Connected to HUGO BOSS', 'Informed about HUGO BOSS values',\n",
      "       'Values lived out across the organisation',\n",
      "       'Values lived out in the day-to-day business',\n",
      "       'Values positively influence the working atmosphere',\n",
      "       'Values have a positive influence on your motivation and engagement',\n",
      "       'Values support you at work', 'Importance of TRUST',\n",
      "       'TRUST reflected daily', 'Importance of ENTREPRENEURIAL SPIRIT',\n",
      "       'ENTREPRENEURIAL SPIRIT reflected daily',\n",
      "       'Importance of YOUTHFUL SPIRIT', 'YOUTHFUL SPIRIT reflected daily',\n",
      "       'Importance of SIMPLICITY & QUALITY',\n",
      "       'SIMPLICITY & QUALITY reflected daily', 'Importance of TEAM MENTALITY',\n",
      "       'TEAM MENTALITY reflected daily', 'Importance of PERSONAL OWNERSHIP',\n",
      "       'PERSONAL OWNERSHIP reflected daily',\n",
      "       'Please feel free to share your ideas how to live out our HUGO BOSS values even more.',\n",
      "       'Please feel free to share an example when you experienced one of our values being fully lived out.',\n",
      "       'Please feel free to share your feedback regarding the survey.',\n",
      "       'Please select the country you are based in - Country',\n",
      "       'Please select the division you are mainly working for (primary focus) - Division',\n",
      "       'Which occupational group are you a part of?',\n",
      "       'Are you currently in a leadership position?',\n",
      "       'How long have you been working at HUGO BOSS?', 'How old are you?',\n",
      "       'Functional Group'],\n",
      "      dtype='object')\n"
     ]
    }
   ],
   "source": [
    "#finding common columns between the two datasets\n",
    "print(df_kununu.columns)\n",
    "\n",
    "print(vpc.columns)\n",
    "\n"
   ]
  },
  {
   "cell_type": "markdown",
   "metadata": {},
   "source": [
    "A list of the combinations: \n",
    "\n",
    "1) For an overall view: `review_score`, `Connected to HUGO BOSS` and `Overall`\n",
    "2) `employer_atmosphere_score` and `Values positively influence the working atmosphere`\n",
    "3) `employer_teamwork_score`, `TEAM MENTALITY reflected daily` and `Camaraderie/ Community /Collaboration`\n",
    "4) `employer_communication_score` and `Communication`\n",
    "5) `employer_equality_score` and `Fairness & Justice`\n",
    "6) `employer_leadership_score` and `Leadership Behavior`\n",
    "7) `employer_environment_score` and `Resources and Work Environment`\n",
    "8) `employer_salary_score` and `Compensation/ non-cultural Benefits`\n",
    "\n",
    "Issues with comparison: \n",
    "\n",
    "- The kununu scores are between 1 and 5, the GPTW are between 0-100 and the VPC scores are between 'Very Negative' and 'Very Positive'\n",
    "\n",
    "First step would be to scale them so they are comparitive\n"
   ]
  },
  {
   "cell_type": "code",
   "execution_count": 69,
   "metadata": {},
   "outputs": [],
   "source": [
    "#creating a dataframe with our relevant data\n",
    "\n",
    "df_kununu2= df_kununu[['review_score', 'employer_atmosphere_score', 'employer_teamwork_score', 'employer_communication_score', 'employer_equality_score', 'employer_leadership_score','employer_environment_score', 'employer_salary_score']]\n",
    "vpc2 = vpc[['Connected to HUGO BOSS', 'Values positively influence the working atmosphere', 'TEAM MENTALITY reflected daily']]\n",
    "#taking only rows that are relevant in gptw \n",
    "gptw2 = gptw.loc[['Overall', 'Camaraderie/ Community /Collaboration', 'Communication ', 'Fairness & Justice', 'Leadership Behavior ', 'Resources and Work Environment ', 'Compensation/ non-cultural Benefits']]"
   ]
  },
  {
   "cell_type": "code",
   "execution_count": 70,
   "metadata": {},
   "outputs": [
    {
     "name": "stdout",
     "output_type": "stream",
     "text": [
      "(252, 8)\n",
      "(3504, 3)\n"
     ]
    }
   ],
   "source": [
    "#drop any NaN values\n",
    "df_kununu2 = df_kununu2.dropna()\n",
    "vpc2 = vpc2.dropna()\n",
    "\n",
    "print(df_kununu2.shape)\n",
    "print(vpc2.shape)"
   ]
  },
  {
   "cell_type": "code",
   "execution_count": 71,
   "metadata": {},
   "outputs": [
    {
     "name": "stdout",
     "output_type": "stream",
     "text": [
      "Connected to HUGO BOSS                                float64\n",
      "Values positively influence the working atmosphere    float64\n",
      "TEAM MENTALITY reflected daily                        float64\n",
      "dtype: object\n"
     ]
    }
   ],
   "source": [
    "#scaling all three datasets to be from 0-100\n",
    "# Step 1: Define a mapping for sentiment strings to a 1-5 scale\n",
    "sentiment_mapping = {\n",
    "    'Very Negative': 1,\n",
    "    'Negative': 2,\n",
    "    'Neutral': 3,\n",
    "    'Positive': 4,\n",
    "    'Very Positive': 5\n",
    "}\n",
    "\n",
    "# Apply mapping to the VPC data\n",
    "vpc2['Connected to HUGO BOSS'] = vpc2['Connected to HUGO BOSS'].map(sentiment_mapping)\n",
    "vpc2['Values positively influence the working atmosphere'] = vpc2['Values positively influence the working atmosphere'].map(sentiment_mapping)\n",
    "vpc2['TEAM MENTALITY reflected daily'] = vpc2['TEAM MENTALITY reflected daily'].map(sentiment_mapping)\n",
    "\n",
    "# Step 2: Scale the data to a 0-100 range\n",
    "print(vpc2.dtypes)"
   ]
  },
  {
   "cell_type": "code",
   "execution_count": 72,
   "metadata": {},
   "outputs": [],
   "source": [
    "# Step 2: Convert all float64 columns to percentages (0-100 scale)\n",
    "vpc2 = vpc2.apply(lambda x: ((x - 1) / 4) * 100 if x.dtype == 'float64' else x)\n",
    "\n",
    "#repeat for kunuu\n",
    "df_kununu2 = df_kununu2.apply(lambda x: ((x - 1) / 4) * 100 if x.dtype == 'float64' else x)\n",
    "\n",
    "#not needed for gptw as it is already scaled \n"
   ]
  },
  {
   "cell_type": "code",
   "execution_count": 73,
   "metadata": {},
   "outputs": [
    {
     "data": {
      "text/html": [
       "<div>\n",
       "<style scoped>\n",
       "    .dataframe tbody tr th:only-of-type {\n",
       "        vertical-align: middle;\n",
       "    }\n",
       "\n",
       "    .dataframe tbody tr th {\n",
       "        vertical-align: top;\n",
       "    }\n",
       "\n",
       "    .dataframe thead th {\n",
       "        text-align: right;\n",
       "    }\n",
       "</style>\n",
       "<table border=\"1\" class=\"dataframe\">\n",
       "  <thead>\n",
       "    <tr style=\"text-align: right;\">\n",
       "      <th></th>\n",
       "      <th>Average</th>\n",
       "    </tr>\n",
       "  </thead>\n",
       "  <tbody>\n",
       "    <tr>\n",
       "      <th>Overall</th>\n",
       "      <td>69.699626</td>\n",
       "    </tr>\n",
       "    <tr>\n",
       "      <th>Camaraderie/ Community /Collaboration</th>\n",
       "      <td>70.875</td>\n",
       "    </tr>\n",
       "    <tr>\n",
       "      <th>Communication</th>\n",
       "      <td>67.714286</td>\n",
       "    </tr>\n",
       "    <tr>\n",
       "      <th>Fairness &amp; Justice</th>\n",
       "      <td>61.0</td>\n",
       "    </tr>\n",
       "    <tr>\n",
       "      <th>Leadership Behavior</th>\n",
       "      <td>68.636364</td>\n",
       "    </tr>\n",
       "    <tr>\n",
       "      <th>Resources and Work Environment</th>\n",
       "      <td>74.0</td>\n",
       "    </tr>\n",
       "    <tr>\n",
       "      <th>Compensation/ non-cultural Benefits</th>\n",
       "      <td>55.666667</td>\n",
       "    </tr>\n",
       "  </tbody>\n",
       "</table>\n",
       "</div>"
      ],
      "text/plain": [
       "                                         Average\n",
       "Overall                                69.699626\n",
       "Camaraderie/ Community /Collaboration     70.875\n",
       "Communication                          67.714286\n",
       "Fairness & Justice                          61.0\n",
       "Leadership Behavior                    68.636364\n",
       "Resources and Work Environment              74.0\n",
       "Compensation/ non-cultural Benefits    55.666667"
      ]
     },
     "execution_count": 73,
     "metadata": {},
     "output_type": "execute_result"
    }
   ],
   "source": [
    "gptw2"
   ]
  },
  {
   "cell_type": "code",
   "execution_count": 74,
   "metadata": {},
   "outputs": [],
   "source": [
    "#renaming the columns\n",
    "vpc2 = vpc2.rename(columns={'Connected to HUGO BOSS': 'Overall', \n",
    "                            'Values positively influence the working atmosphere': 'Working Atmosphere', \n",
    "                            'TEAM MENTALITY reflected daily': 'Team Mentality/ Teamwork'})\n",
    "df_kununu2 = df_kununu2.rename(columns={'review_score': 'Overall', \n",
    "                                        'employer_atmosphere_score': 'Working Atmosphere', \n",
    "                                        'employer_teamwork_score': 'Team Mentality/ Teamwork',\n",
    "                                        'employer_communication_score': 'Communication',\n",
    "                                        'employer_equality_score': 'Fairness & Justice',\n",
    "                                        'employer_leadership_score' : 'Leadership Behavior',\n",
    "                                        'employer_environment_score': 'Work Environment',\n",
    "                                        'employer_salary_score': 'Compensation'\n",
    "                                        })\n",
    "\n",
    "#rename the index in gptw\n",
    "gptw2 = gptw2.rename(index={\n",
    "                            'Camaraderie/ Community /Collaboration': 'Team Mentality/ Teamwork', \n",
    "                            'Communication ': 'Communication',\n",
    "                            'Leadership Behavior ': 'Leadership Behavior',\n",
    "                            'Resources and Work Environment ': 'Work Environment',\n",
    "                            'Compensation/ non-cultural Benefits': 'Compensation'\n",
    "                            })"
   ]
  },
  {
   "cell_type": "code",
   "execution_count": 75,
   "metadata": {},
   "outputs": [
    {
     "data": {
      "text/html": [
       "<div>\n",
       "<style scoped>\n",
       "    .dataframe tbody tr th:only-of-type {\n",
       "        vertical-align: middle;\n",
       "    }\n",
       "\n",
       "    .dataframe tbody tr th {\n",
       "        vertical-align: top;\n",
       "    }\n",
       "\n",
       "    .dataframe thead th {\n",
       "        text-align: right;\n",
       "    }\n",
       "</style>\n",
       "<table border=\"1\" class=\"dataframe\">\n",
       "  <thead>\n",
       "    <tr style=\"text-align: right;\">\n",
       "      <th></th>\n",
       "      <th>Value Pulse</th>\n",
       "      <th>Kununu</th>\n",
       "      <th>Great Place to Work</th>\n",
       "    </tr>\n",
       "  </thead>\n",
       "  <tbody>\n",
       "    <tr>\n",
       "      <th>Overall</th>\n",
       "      <td>77.948944</td>\n",
       "      <td>77.831865</td>\n",
       "      <td>69.699626</td>\n",
       "    </tr>\n",
       "    <tr>\n",
       "      <th>Working Atmosphere</th>\n",
       "      <td>63.328358</td>\n",
       "      <td>81.349206</td>\n",
       "      <td>NaN</td>\n",
       "    </tr>\n",
       "    <tr>\n",
       "      <th>Team Mentality/ Teamwork</th>\n",
       "      <td>69.305785</td>\n",
       "      <td>79.662698</td>\n",
       "      <td>70.875</td>\n",
       "    </tr>\n",
       "    <tr>\n",
       "      <th>Communication</th>\n",
       "      <td>NaN</td>\n",
       "      <td>68.650794</td>\n",
       "      <td>67.714286</td>\n",
       "    </tr>\n",
       "    <tr>\n",
       "      <th>Fairness &amp; Justice</th>\n",
       "      <td>NaN</td>\n",
       "      <td>77.579365</td>\n",
       "      <td>61.0</td>\n",
       "    </tr>\n",
       "    <tr>\n",
       "      <th>Leadership Behavior</th>\n",
       "      <td>NaN</td>\n",
       "      <td>71.130952</td>\n",
       "      <td>68.636364</td>\n",
       "    </tr>\n",
       "    <tr>\n",
       "      <th>Work Environment</th>\n",
       "      <td>NaN</td>\n",
       "      <td>77.777778</td>\n",
       "      <td>74.0</td>\n",
       "    </tr>\n",
       "    <tr>\n",
       "      <th>Compensation</th>\n",
       "      <td>NaN</td>\n",
       "      <td>68.353175</td>\n",
       "      <td>55.666667</td>\n",
       "    </tr>\n",
       "  </tbody>\n",
       "</table>\n",
       "</div>"
      ],
      "text/plain": [
       "                          Value Pulse     Kununu Great Place to Work\n",
       "Overall                     77.948944  77.831865           69.699626\n",
       "Working Atmosphere          63.328358  81.349206                 NaN\n",
       "Team Mentality/ Teamwork    69.305785  79.662698              70.875\n",
       "Communication                     NaN  68.650794           67.714286\n",
       "Fairness & Justice                NaN  77.579365                61.0\n",
       "Leadership Behavior               NaN  71.130952           68.636364\n",
       "Work Environment                  NaN  77.777778                74.0\n",
       "Compensation                      NaN  68.353175           55.666667"
      ]
     },
     "execution_count": 75,
     "metadata": {},
     "output_type": "execute_result"
    }
   ],
   "source": [
    "#taking the means of all the columns \n",
    "vpc_mean = vpc2.mean()\n",
    "kununu_mean = df_kununu2.mean()\n",
    "\n",
    "#combine the two \n",
    "combined = pd.concat([vpc_mean, kununu_mean, gptw2], axis=1)\n",
    "combined.columns = ['Value Pulse', 'Kununu', 'Great Place to Work']\n",
    "combined"
   ]
  },
  {
   "cell_type": "code",
   "execution_count": 76,
   "metadata": {},
   "outputs": [
    {
     "data": {
      "application/vnd.plotly.v1+json": {
       "config": {
        "plotlyServerURL": "https://plot.ly"
       },
       "data": [
        {
         "hovertemplate": "<b>%{hovertext}</b><br><br>Survey Name=Value Pulse<br>Metric=%{x}<br>Score=%{y}<extra></extra>",
         "hovertext": [
          "Overall",
          "Working Atmosphere",
          "Team Mentality/ Teamwork",
          "Communication",
          "Fairness & Justice",
          "Leadership Behavior",
          "Work Environment",
          "Compensation"
         ],
         "legendgroup": "Value Pulse",
         "marker": {
          "color": "rgb(129, 55, 83)",
          "size": 15,
          "symbol": "circle"
         },
         "mode": "markers",
         "name": "Value Pulse",
         "orientation": "v",
         "showlegend": true,
         "type": "scatter",
         "x": [
          "Overall",
          "Working Atmosphere",
          "Team Mentality/ Teamwork",
          "Communication",
          "Fairness & Justice",
          "Leadership Behavior",
          "Work Environment",
          "Compensation"
         ],
         "xaxis": "x",
         "y": [
          77.94894366197182,
          63.32835820895522,
          69.30578512396694,
          null,
          null,
          null,
          null,
          null
         ],
         "yaxis": "y"
        },
        {
         "hovertemplate": "<b>%{hovertext}</b><br><br>Survey Name=Kununu<br>Metric=%{x}<br>Score=%{y}<extra></extra>",
         "hovertext": [
          "Overall",
          "Working Atmosphere",
          "Team Mentality/ Teamwork",
          "Communication",
          "Fairness & Justice",
          "Leadership Behavior",
          "Work Environment",
          "Compensation"
         ],
         "legendgroup": "Kununu",
         "marker": {
          "color": "rgb(237, 229, 207)",
          "size": 15,
          "symbol": "circle"
         },
         "mode": "markers",
         "name": "Kununu",
         "orientation": "v",
         "showlegend": true,
         "type": "scatter",
         "x": [
          "Overall",
          "Working Atmosphere",
          "Team Mentality/ Teamwork",
          "Communication",
          "Fairness & Justice",
          "Leadership Behavior",
          "Work Environment",
          "Compensation"
         ],
         "xaxis": "x",
         "y": [
          77.83186507936509,
          81.34920634920636,
          79.66269841269842,
          68.65079365079364,
          77.57936507936508,
          71.13095238095238,
          77.77777777777777,
          68.35317460317461
         ],
         "yaxis": "y"
        },
        {
         "hovertemplate": "<b>%{hovertext}</b><br><br>Survey Name=Great Place to Work<br>Metric=%{x}<br>Score=%{y}<extra></extra>",
         "hovertext": [
          "Overall",
          "Working Atmosphere",
          "Team Mentality/ Teamwork",
          "Communication",
          "Fairness & Justice",
          "Leadership Behavior",
          "Work Environment",
          "Compensation"
         ],
         "legendgroup": "Great Place to Work",
         "marker": {
          "color": "rgb(193, 118, 111)",
          "size": 15,
          "symbol": "circle"
         },
         "mode": "markers",
         "name": "Great Place to Work",
         "orientation": "v",
         "showlegend": true,
         "type": "scatter",
         "x": [
          "Overall",
          "Working Atmosphere",
          "Team Mentality/ Teamwork",
          "Communication",
          "Fairness & Justice",
          "Leadership Behavior",
          "Work Environment",
          "Compensation"
         ],
         "xaxis": "x",
         "y": [
          69.69962613144432,
          null,
          70.875,
          67.71428571428571,
          61,
          68.63636363636364,
          74,
          55.666666666666664
         ],
         "yaxis": "y"
        }
       ],
       "layout": {
        "font": {
         "color": "black",
         "family": "Avenir",
         "size": 16
        },
        "height": 600,
        "legend": {
         "title": {
          "text": "Survey Name"
         },
         "tracegroupgap": 0
        },
        "plot_bgcolor": "white",
        "template": {
         "data": {
          "bar": [
           {
            "error_x": {
             "color": "#2a3f5f"
            },
            "error_y": {
             "color": "#2a3f5f"
            },
            "marker": {
             "line": {
              "color": "#E5ECF6",
              "width": 0.5
             },
             "pattern": {
              "fillmode": "overlay",
              "size": 10,
              "solidity": 0.2
             }
            },
            "type": "bar"
           }
          ],
          "barpolar": [
           {
            "marker": {
             "line": {
              "color": "#E5ECF6",
              "width": 0.5
             },
             "pattern": {
              "fillmode": "overlay",
              "size": 10,
              "solidity": 0.2
             }
            },
            "type": "barpolar"
           }
          ],
          "carpet": [
           {
            "aaxis": {
             "endlinecolor": "#2a3f5f",
             "gridcolor": "white",
             "linecolor": "white",
             "minorgridcolor": "white",
             "startlinecolor": "#2a3f5f"
            },
            "baxis": {
             "endlinecolor": "#2a3f5f",
             "gridcolor": "white",
             "linecolor": "white",
             "minorgridcolor": "white",
             "startlinecolor": "#2a3f5f"
            },
            "type": "carpet"
           }
          ],
          "choropleth": [
           {
            "colorbar": {
             "outlinewidth": 0,
             "ticks": ""
            },
            "type": "choropleth"
           }
          ],
          "contour": [
           {
            "colorbar": {
             "outlinewidth": 0,
             "ticks": ""
            },
            "colorscale": [
             [
              0,
              "#0d0887"
             ],
             [
              0.1111111111111111,
              "#46039f"
             ],
             [
              0.2222222222222222,
              "#7201a8"
             ],
             [
              0.3333333333333333,
              "#9c179e"
             ],
             [
              0.4444444444444444,
              "#bd3786"
             ],
             [
              0.5555555555555556,
              "#d8576b"
             ],
             [
              0.6666666666666666,
              "#ed7953"
             ],
             [
              0.7777777777777778,
              "#fb9f3a"
             ],
             [
              0.8888888888888888,
              "#fdca26"
             ],
             [
              1,
              "#f0f921"
             ]
            ],
            "type": "contour"
           }
          ],
          "contourcarpet": [
           {
            "colorbar": {
             "outlinewidth": 0,
             "ticks": ""
            },
            "type": "contourcarpet"
           }
          ],
          "heatmap": [
           {
            "colorbar": {
             "outlinewidth": 0,
             "ticks": ""
            },
            "colorscale": [
             [
              0,
              "#0d0887"
             ],
             [
              0.1111111111111111,
              "#46039f"
             ],
             [
              0.2222222222222222,
              "#7201a8"
             ],
             [
              0.3333333333333333,
              "#9c179e"
             ],
             [
              0.4444444444444444,
              "#bd3786"
             ],
             [
              0.5555555555555556,
              "#d8576b"
             ],
             [
              0.6666666666666666,
              "#ed7953"
             ],
             [
              0.7777777777777778,
              "#fb9f3a"
             ],
             [
              0.8888888888888888,
              "#fdca26"
             ],
             [
              1,
              "#f0f921"
             ]
            ],
            "type": "heatmap"
           }
          ],
          "heatmapgl": [
           {
            "colorbar": {
             "outlinewidth": 0,
             "ticks": ""
            },
            "colorscale": [
             [
              0,
              "#0d0887"
             ],
             [
              0.1111111111111111,
              "#46039f"
             ],
             [
              0.2222222222222222,
              "#7201a8"
             ],
             [
              0.3333333333333333,
              "#9c179e"
             ],
             [
              0.4444444444444444,
              "#bd3786"
             ],
             [
              0.5555555555555556,
              "#d8576b"
             ],
             [
              0.6666666666666666,
              "#ed7953"
             ],
             [
              0.7777777777777778,
              "#fb9f3a"
             ],
             [
              0.8888888888888888,
              "#fdca26"
             ],
             [
              1,
              "#f0f921"
             ]
            ],
            "type": "heatmapgl"
           }
          ],
          "histogram": [
           {
            "marker": {
             "pattern": {
              "fillmode": "overlay",
              "size": 10,
              "solidity": 0.2
             }
            },
            "type": "histogram"
           }
          ],
          "histogram2d": [
           {
            "colorbar": {
             "outlinewidth": 0,
             "ticks": ""
            },
            "colorscale": [
             [
              0,
              "#0d0887"
             ],
             [
              0.1111111111111111,
              "#46039f"
             ],
             [
              0.2222222222222222,
              "#7201a8"
             ],
             [
              0.3333333333333333,
              "#9c179e"
             ],
             [
              0.4444444444444444,
              "#bd3786"
             ],
             [
              0.5555555555555556,
              "#d8576b"
             ],
             [
              0.6666666666666666,
              "#ed7953"
             ],
             [
              0.7777777777777778,
              "#fb9f3a"
             ],
             [
              0.8888888888888888,
              "#fdca26"
             ],
             [
              1,
              "#f0f921"
             ]
            ],
            "type": "histogram2d"
           }
          ],
          "histogram2dcontour": [
           {
            "colorbar": {
             "outlinewidth": 0,
             "ticks": ""
            },
            "colorscale": [
             [
              0,
              "#0d0887"
             ],
             [
              0.1111111111111111,
              "#46039f"
             ],
             [
              0.2222222222222222,
              "#7201a8"
             ],
             [
              0.3333333333333333,
              "#9c179e"
             ],
             [
              0.4444444444444444,
              "#bd3786"
             ],
             [
              0.5555555555555556,
              "#d8576b"
             ],
             [
              0.6666666666666666,
              "#ed7953"
             ],
             [
              0.7777777777777778,
              "#fb9f3a"
             ],
             [
              0.8888888888888888,
              "#fdca26"
             ],
             [
              1,
              "#f0f921"
             ]
            ],
            "type": "histogram2dcontour"
           }
          ],
          "mesh3d": [
           {
            "colorbar": {
             "outlinewidth": 0,
             "ticks": ""
            },
            "type": "mesh3d"
           }
          ],
          "parcoords": [
           {
            "line": {
             "colorbar": {
              "outlinewidth": 0,
              "ticks": ""
             }
            },
            "type": "parcoords"
           }
          ],
          "pie": [
           {
            "automargin": true,
            "type": "pie"
           }
          ],
          "scatter": [
           {
            "fillpattern": {
             "fillmode": "overlay",
             "size": 10,
             "solidity": 0.2
            },
            "type": "scatter"
           }
          ],
          "scatter3d": [
           {
            "line": {
             "colorbar": {
              "outlinewidth": 0,
              "ticks": ""
             }
            },
            "marker": {
             "colorbar": {
              "outlinewidth": 0,
              "ticks": ""
             }
            },
            "type": "scatter3d"
           }
          ],
          "scattercarpet": [
           {
            "marker": {
             "colorbar": {
              "outlinewidth": 0,
              "ticks": ""
             }
            },
            "type": "scattercarpet"
           }
          ],
          "scattergeo": [
           {
            "marker": {
             "colorbar": {
              "outlinewidth": 0,
              "ticks": ""
             }
            },
            "type": "scattergeo"
           }
          ],
          "scattergl": [
           {
            "marker": {
             "colorbar": {
              "outlinewidth": 0,
              "ticks": ""
             }
            },
            "type": "scattergl"
           }
          ],
          "scattermapbox": [
           {
            "marker": {
             "colorbar": {
              "outlinewidth": 0,
              "ticks": ""
             }
            },
            "type": "scattermapbox"
           }
          ],
          "scatterpolar": [
           {
            "marker": {
             "colorbar": {
              "outlinewidth": 0,
              "ticks": ""
             }
            },
            "type": "scatterpolar"
           }
          ],
          "scatterpolargl": [
           {
            "marker": {
             "colorbar": {
              "outlinewidth": 0,
              "ticks": ""
             }
            },
            "type": "scatterpolargl"
           }
          ],
          "scatterternary": [
           {
            "marker": {
             "colorbar": {
              "outlinewidth": 0,
              "ticks": ""
             }
            },
            "type": "scatterternary"
           }
          ],
          "surface": [
           {
            "colorbar": {
             "outlinewidth": 0,
             "ticks": ""
            },
            "colorscale": [
             [
              0,
              "#0d0887"
             ],
             [
              0.1111111111111111,
              "#46039f"
             ],
             [
              0.2222222222222222,
              "#7201a8"
             ],
             [
              0.3333333333333333,
              "#9c179e"
             ],
             [
              0.4444444444444444,
              "#bd3786"
             ],
             [
              0.5555555555555556,
              "#d8576b"
             ],
             [
              0.6666666666666666,
              "#ed7953"
             ],
             [
              0.7777777777777778,
              "#fb9f3a"
             ],
             [
              0.8888888888888888,
              "#fdca26"
             ],
             [
              1,
              "#f0f921"
             ]
            ],
            "type": "surface"
           }
          ],
          "table": [
           {
            "cells": {
             "fill": {
              "color": "#EBF0F8"
             },
             "line": {
              "color": "white"
             }
            },
            "header": {
             "fill": {
              "color": "#C8D4E3"
             },
             "line": {
              "color": "white"
             }
            },
            "type": "table"
           }
          ]
         },
         "layout": {
          "annotationdefaults": {
           "arrowcolor": "#2a3f5f",
           "arrowhead": 0,
           "arrowwidth": 1
          },
          "autotypenumbers": "strict",
          "coloraxis": {
           "colorbar": {
            "outlinewidth": 0,
            "ticks": ""
           }
          },
          "colorscale": {
           "diverging": [
            [
             0,
             "#8e0152"
            ],
            [
             0.1,
             "#c51b7d"
            ],
            [
             0.2,
             "#de77ae"
            ],
            [
             0.3,
             "#f1b6da"
            ],
            [
             0.4,
             "#fde0ef"
            ],
            [
             0.5,
             "#f7f7f7"
            ],
            [
             0.6,
             "#e6f5d0"
            ],
            [
             0.7,
             "#b8e186"
            ],
            [
             0.8,
             "#7fbc41"
            ],
            [
             0.9,
             "#4d9221"
            ],
            [
             1,
             "#276419"
            ]
           ],
           "sequential": [
            [
             0,
             "#0d0887"
            ],
            [
             0.1111111111111111,
             "#46039f"
            ],
            [
             0.2222222222222222,
             "#7201a8"
            ],
            [
             0.3333333333333333,
             "#9c179e"
            ],
            [
             0.4444444444444444,
             "#bd3786"
            ],
            [
             0.5555555555555556,
             "#d8576b"
            ],
            [
             0.6666666666666666,
             "#ed7953"
            ],
            [
             0.7777777777777778,
             "#fb9f3a"
            ],
            [
             0.8888888888888888,
             "#fdca26"
            ],
            [
             1,
             "#f0f921"
            ]
           ],
           "sequentialminus": [
            [
             0,
             "#0d0887"
            ],
            [
             0.1111111111111111,
             "#46039f"
            ],
            [
             0.2222222222222222,
             "#7201a8"
            ],
            [
             0.3333333333333333,
             "#9c179e"
            ],
            [
             0.4444444444444444,
             "#bd3786"
            ],
            [
             0.5555555555555556,
             "#d8576b"
            ],
            [
             0.6666666666666666,
             "#ed7953"
            ],
            [
             0.7777777777777778,
             "#fb9f3a"
            ],
            [
             0.8888888888888888,
             "#fdca26"
            ],
            [
             1,
             "#f0f921"
            ]
           ]
          },
          "colorway": [
           "#636efa",
           "#EF553B",
           "#00cc96",
           "#ab63fa",
           "#FFA15A",
           "#19d3f3",
           "#FF6692",
           "#B6E880",
           "#FF97FF",
           "#FECB52"
          ],
          "font": {
           "color": "#2a3f5f"
          },
          "geo": {
           "bgcolor": "white",
           "lakecolor": "white",
           "landcolor": "#E5ECF6",
           "showlakes": true,
           "showland": true,
           "subunitcolor": "white"
          },
          "hoverlabel": {
           "align": "left"
          },
          "hovermode": "closest",
          "mapbox": {
           "style": "light"
          },
          "paper_bgcolor": "white",
          "plot_bgcolor": "#E5ECF6",
          "polar": {
           "angularaxis": {
            "gridcolor": "white",
            "linecolor": "white",
            "ticks": ""
           },
           "bgcolor": "#E5ECF6",
           "radialaxis": {
            "gridcolor": "white",
            "linecolor": "white",
            "ticks": ""
           }
          },
          "scene": {
           "xaxis": {
            "backgroundcolor": "#E5ECF6",
            "gridcolor": "white",
            "gridwidth": 2,
            "linecolor": "white",
            "showbackground": true,
            "ticks": "",
            "zerolinecolor": "white"
           },
           "yaxis": {
            "backgroundcolor": "#E5ECF6",
            "gridcolor": "white",
            "gridwidth": 2,
            "linecolor": "white",
            "showbackground": true,
            "ticks": "",
            "zerolinecolor": "white"
           },
           "zaxis": {
            "backgroundcolor": "#E5ECF6",
            "gridcolor": "white",
            "gridwidth": 2,
            "linecolor": "white",
            "showbackground": true,
            "ticks": "",
            "zerolinecolor": "white"
           }
          },
          "shapedefaults": {
           "line": {
            "color": "#2a3f5f"
           }
          },
          "ternary": {
           "aaxis": {
            "gridcolor": "white",
            "linecolor": "white",
            "ticks": ""
           },
           "baxis": {
            "gridcolor": "white",
            "linecolor": "white",
            "ticks": ""
           },
           "bgcolor": "#E5ECF6",
           "caxis": {
            "gridcolor": "white",
            "linecolor": "white",
            "ticks": ""
           }
          },
          "title": {
           "x": 0.05
          },
          "xaxis": {
           "automargin": true,
           "gridcolor": "white",
           "linecolor": "white",
           "ticks": "",
           "title": {
            "standoff": 15
           },
           "zerolinecolor": "white",
           "zerolinewidth": 2
          },
          "yaxis": {
           "automargin": true,
           "gridcolor": "white",
           "linecolor": "white",
           "ticks": "",
           "title": {
            "standoff": 15
           },
           "zerolinecolor": "white",
           "zerolinewidth": 2
          }
         }
        },
        "title": {
         "text": "Scatter Plot of Scores by Survey"
        },
        "width": 1000,
        "xaxis": {
         "anchor": "y",
         "domain": [
          0,
          1
         ],
         "gridcolor": "lightgray",
         "showgrid": true,
         "title": {
          "text": "Metric"
         }
        },
        "yaxis": {
         "anchor": "x",
         "domain": [
          0,
          1
         ],
         "gridcolor": "lightgray",
         "showgrid": true,
         "title": {
          "text": "Score"
         }
        }
       }
      }
     },
     "metadata": {},
     "output_type": "display_data"
    }
   ],
   "source": [
    "# Reshape the DataFrame to a long format\n",
    "combined['Metric'] = combined.index\n",
    "df_long = combined.melt(id_vars='Metric', value_vars=['Value Pulse', 'Kununu', 'Great Place to Work'], \n",
    "                  var_name='Survey Name', value_name='Score')\n",
    "\n",
    "# Pick colors from the opposite ends of the Brwnyl color scale\n",
    "custom_colors = [px.colors.sequential.Brwnyl[5],px.colors.sequential.Brwnyl[0], px.colors.sequential.Brwnyl[3]]\n",
    "\n",
    "\n",
    "fig = px.scatter(df_long, x='Metric', y='Score', color='Survey Name',\n",
    "                 title='Scatter Plot of Scores by Survey',\n",
    "                 labels={'Score': 'Score', 'Metric': 'Metric'},\n",
    "                 hover_name='Metric',\n",
    "                 color_discrete_sequence=custom_colors)\n",
    "\n",
    "\n",
    "fig.update_layout(\n",
    "    plot_bgcolor='white',\n",
    "    xaxis=dict(showgrid=True, gridcolor='lightgray'),\n",
    "    yaxis=dict(showgrid=True, gridcolor='lightgray'),\n",
    "    width=1000, height=600,\n",
    "    font=dict(family='Avenir', size=16, color='black')\n",
    ")\n",
    "\n",
    "fig.update_traces(marker=dict(size=15))  \n",
    "\n",
    "fig.show()\n"
   ]
  }
 ],
 "metadata": {
  "kernelspec": {
   "display_name": "Python 3",
   "language": "python",
   "name": "python3"
  },
  "language_info": {
   "codemirror_mode": {
    "name": "ipython",
    "version": 3
   },
   "file_extension": ".py",
   "mimetype": "text/x-python",
   "name": "python",
   "nbconvert_exporter": "python",
   "pygments_lexer": "ipython3",
   "version": "3.11.10"
  }
 },
 "nbformat": 4,
 "nbformat_minor": 2
}
